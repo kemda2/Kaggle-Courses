{
 "cells": [
  {
   "cell_type": "markdown",
   "id": "c049a94d",
   "metadata": {
    "papermill": {
     "duration": 0.008995,
     "end_time": "2023-04-21T13:38:06.633721",
     "exception": false,
     "start_time": "2023-04-21T13:38:06.624726",
     "status": "completed"
    },
    "tags": []
   },
   "source": [
    "# 01 Hello, Python\n",
    "\n",
    "Bu kurs, veri bilimi için Python'u kullanmaya başlayabilmeniz için ihtiyacınız olan temel Python becerilerini kapsar. Kurs, Python'u repertuarına eklemek isteyen daha önce kodlama deneyimi olan biri için idealdir. (İlk kez kodlayıcıysanız, Python'a başlamak isteyen yeni başlayanlar için tasarlanmış [Programlamaya Giriş](https://www.kaggle.com/learn/intro-to-programming)) göz atmanız önerilir.\n",
    "\n",
    "Python sözdizimi, değişken atama ve aritmetik işleçler hakkında kısa bir genel bakışla başlayacağız."
   ]
  },
  {
   "cell_type": "markdown",
   "id": "427c15c2",
   "metadata": {
    "papermill": {
     "duration": 0.007361,
     "end_time": "2023-04-21T13:38:06.649087",
     "exception": false,
     "start_time": "2023-04-21T13:38:06.641726",
     "status": "completed"
    },
    "tags": []
   },
   "source": [
    "# Merhaba, Python!\n",
    "\n",
    "Python, adını İngiliz komedi topluluğu [Monty Python](https://en.wikipedia.org/wiki/Monty_Python) için seçildi, bu yüzden ilk Python programımızı [Spam](https://bit.ly/3MwwjSs) hakkındaki skeçlerine saygı duracağız.\n",
    "\n",
    "Sadece eğlence için, aşağıdaki kodu okumayı ve çalıştırıldığında ne yapacağını tahmin etmeyi deneyin. (Hiçbir fikriniz yoksa, sorun değil!)\n",
    "\n",
    "Ardından programımızın sonuçlarını görmek için \"çıktı\" düğmesine tıklayın."
   ]
  },
  {
   "cell_type": "code",
   "execution_count": 1,
   "id": "c67c417a",
   "metadata": {
    "_kg_hide-output": true,
    "execution": {
     "iopub.execute_input": "2023-04-21T13:38:06.666941Z",
     "iopub.status.busy": "2023-04-21T13:38:06.666098Z",
     "iopub.status.idle": "2023-04-21T13:38:06.678204Z",
     "shell.execute_reply": "2023-04-21T13:38:06.676932Z"
    },
    "papermill": {
     "duration": 0.023886,
     "end_time": "2023-04-21T13:38:06.680802",
     "exception": false,
     "start_time": "2023-04-21T13:38:06.656916",
     "status": "completed"
    },
    "tags": []
   },
   "outputs": [
    {
     "name": "stdout",
     "output_type": "stream",
     "text": [
      "0\n",
      "But I don't want ANY spam!\n",
      "Spam Spam Spam Spam \n"
     ]
    }
   ],
   "source": [
    "spam_amount = 0\n",
    "print(spam_amount)\n",
    "\n",
    "# Ordering Spam, egg, Spam, Spam, bacon and Spam (4 more servings of Spam)\n",
    "spam_amount = spam_amount + 4\n",
    "\n",
    "if spam_amount > 0:\n",
    "    print(\"But I don't want ANY spam!\")\n",
    "\n",
    "viking_song = \"Spam \" * spam_amount\n",
    "print(viking_song)"
   ]
  },
  {
   "cell_type": "markdown",
   "id": "9556bca9",
   "metadata": {
    "papermill": {
     "duration": 0.00747,
     "end_time": "2023-04-21T13:38:06.696227",
     "exception": false,
     "start_time": "2023-04-21T13:38:06.688757",
     "status": "completed"
    },
    "tags": []
   },
   "source": [
    "Burada açacak çok şey var! Bu aptalca program, Python kodunun neye benzediğinin ve nasıl çalıştığının birçok önemli yönünü gösterir. Kodu yukarıdan aşağıya gözden geçirelim."
   ]
  },
  {
   "cell_type": "code",
   "execution_count": 2,
   "id": "8a80169f",
   "metadata": {
    "collapsed": true,
    "execution": {
     "iopub.execute_input": "2023-04-21T13:38:06.714111Z",
     "iopub.status.busy": "2023-04-21T13:38:06.713689Z",
     "iopub.status.idle": "2023-04-21T13:38:06.718579Z",
     "shell.execute_reply": "2023-04-21T13:38:06.717369Z"
    },
    "jupyter": {
     "outputs_hidden": true
    },
    "papermill": {
     "duration": 0.016613,
     "end_time": "2023-04-21T13:38:06.720976",
     "exception": false,
     "start_time": "2023-04-21T13:38:06.704363",
     "status": "completed"
    },
    "tags": []
   },
   "outputs": [],
   "source": [
    "spam_amount = 0"
   ]
  },
  {
   "cell_type": "markdown",
   "id": "3ae62598",
   "metadata": {
    "papermill": {
     "duration": 0.00748,
     "end_time": "2023-04-21T13:38:06.736312",
     "exception": false,
     "start_time": "2023-04-21T13:38:06.728832",
     "status": "completed"
    },
    "tags": []
   },
   "source": [
    "**Değişken atama:** Burada `spam_amount` adlı bir değişken oluşturuyoruz ve atama operatörü olarak adlandırılan `=` kullanarak 0 değerini atıyoruz.\n",
    "\n",
    "> **Not**: Diğer bazı dillerde (Java veya C++ gibi) programladıysanız, Python'un burada yapmamızı *gerektirmediği* bazı şeyleri fark ediyor olabilirsiniz:\n",
    "\n",
    "- atamadan önce `spam_amount`u \"bildirmemize\" gerek yok\n",
    "\n",
    "- Python'a `spam_amount`un ne tür bir değere atıfta bulunacağını söylememize gerek yok. Aslında, bir dize veya boole gibi farklı bir şeye atıfta bulunmak için `spam_amount` yeniden atamaya bile devam edebiliriz."
   ]
  },
  {
   "cell_type": "code",
   "execution_count": 3,
   "id": "67a838a3",
   "metadata": {
    "_kg_hide-output": false,
    "collapsed": true,
    "execution": {
     "iopub.execute_input": "2023-04-21T13:38:06.754017Z",
     "iopub.status.busy": "2023-04-21T13:38:06.753525Z",
     "iopub.status.idle": "2023-04-21T13:38:06.759381Z",
     "shell.execute_reply": "2023-04-21T13:38:06.757944Z"
    },
    "jupyter": {
     "outputs_hidden": true
    },
    "papermill": {
     "duration": 0.017816,
     "end_time": "2023-04-21T13:38:06.762012",
     "exception": false,
     "start_time": "2023-04-21T13:38:06.744196",
     "status": "completed"
    },
    "tags": []
   },
   "outputs": [
    {
     "name": "stdout",
     "output_type": "stream",
     "text": [
      "0\n"
     ]
    }
   ],
   "source": [
    "print(spam_amount)"
   ]
  },
  {
   "cell_type": "markdown",
   "id": "60e8305d",
   "metadata": {
    "papermill": {
     "duration": 0.007488,
     "end_time": "2023-04-21T13:38:06.778413",
     "exception": false,
     "start_time": "2023-04-21T13:38:06.770925",
     "status": "completed"
    },
    "tags": []
   },
   "source": [
    "**İşlev çağrıları:**. `print`, ekranda kendisine iletilen değeri görüntüleyen bir Python işlevidir. Fonksiyonları isimlerinin arkasına parantez koyarak, girdileri (veya *argümanları*) o parantezler içinde fonksiyona koyarak çağırırız."
   ]
  },
  {
   "cell_type": "code",
   "execution_count": 4,
   "id": "5bc8d8f1",
   "metadata": {
    "_kg_hide-output": false,
    "collapsed": true,
    "execution": {
     "iopub.execute_input": "2023-04-21T13:38:06.796355Z",
     "iopub.status.busy": "2023-04-21T13:38:06.795533Z",
     "iopub.status.idle": "2023-04-21T13:38:06.801262Z",
     "shell.execute_reply": "2023-04-21T13:38:06.799969Z"
    },
    "jupyter": {
     "outputs_hidden": true
    },
    "papermill": {
     "duration": 0.017717,
     "end_time": "2023-04-21T13:38:06.803984",
     "exception": false,
     "start_time": "2023-04-21T13:38:06.786267",
     "status": "completed"
    },
    "tags": []
   },
   "outputs": [],
   "source": [
    "# Ordering Spam, egg, Spam, Spam, bacon and Spam (4 more servings of Spam)\n",
    "spam_amount = spam_amount + 4"
   ]
  },
  {
   "cell_type": "markdown",
   "id": "cb175914",
   "metadata": {
    "papermill": {
     "duration": 0.007675,
     "end_time": "2023-04-21T13:38:06.820122",
     "exception": false,
     "start_time": "2023-04-21T13:38:06.812447",
     "status": "completed"
    },
    "tags": []
   },
   "source": [
    "Yukarıdaki ilk satır bir **yorum**. Python'da yorumlar `#` sembolü ile başlar.\n",
    "\n",
    "Ardından bir yeniden atama örneği görüyoruz. Mevcut bir değişkenin değerini yeniden atamak, bir değişken oluşturmakla aynı görünüyor - yine de `=` atama operatörünü kullanır.\n",
    "\n",
    "Bu durumda, `spam_amount`a atadığımız değer, önceki değeri üzerinde bazı basit aritmetikler içerir. Python, bu satırla karşılaştığında, `=` (0 + 4 = 4)'in sağ tarafındaki ifadeyi değerlendirir ve ardından bu değeri sol taraftaki değişkene atar."
   ]
  },
  {
   "cell_type": "code",
   "execution_count": 5,
   "id": "f61f9874",
   "metadata": {
    "_kg_hide-output": false,
    "collapsed": true,
    "execution": {
     "iopub.execute_input": "2023-04-21T13:38:06.838190Z",
     "iopub.status.busy": "2023-04-21T13:38:06.837522Z",
     "iopub.status.idle": "2023-04-21T13:38:06.844341Z",
     "shell.execute_reply": "2023-04-21T13:38:06.842913Z"
    },
    "jupyter": {
     "outputs_hidden": true
    },
    "papermill": {
     "duration": 0.018656,
     "end_time": "2023-04-21T13:38:06.846797",
     "exception": false,
     "start_time": "2023-04-21T13:38:06.828141",
     "status": "completed"
    },
    "tags": []
   },
   "outputs": [
    {
     "name": "stdout",
     "output_type": "stream",
     "text": [
      "But I don't want ANY spam!\n",
      "Spam Spam Spam\n"
     ]
    }
   ],
   "source": [
    "if spam_amount > 0:\n",
    "    print(\"But I don't want ANY spam!\")\n",
    "\n",
    "viking_song = \"Spam Spam Spam\"\n",
    "print(viking_song)"
   ]
  },
  {
   "cell_type": "markdown",
   "id": "3f1deab9",
   "metadata": {
    "papermill": {
     "duration": 0.00811,
     "end_time": "2023-04-21T13:38:06.863977",
     "exception": false,
     "start_time": "2023-04-21T13:38:06.855867",
     "status": "completed"
    },
    "tags": []
   },
   "source": [
    "Sonraki bölümlere kadar \"conditionals\" hakkında fazla konuşmayacağız, ancak daha önce hiç kodlamamış olsanız bile, muhtemelen bunun ne yaptığını tahmin edebilirsiniz. Python, okunabilirliği ve basitliği ile ödüllendirilir.\n",
    "\n",
    "Hangi kodun `if`e ait olduğunu nasıl belirttiğimize dikkat edin. `\"But I don't want ANY spam!\" ` sadece `spam_amount` pozitifse yazdırılması gerekir. Ancak daha sonraki kod (`print(viking_song)` gibi) ne olursa olsun yürütülmelidir. Biz (ve Python) bunu nasıl biliyoruz?\n",
    "\n",
    "`if` satırının sonundaki iki nokta üst üste (`:`) yeni bir **kod bloğu** başladığını gösterir. Sonraki girintili satırlar bu kod bloğunun bir parçasıdır.\n",
    "\n",
    "> **Not**: Daha önce kodladıysanız, diğer bazı dillerin kod bloklarının başlangıcını ve sonunu işaretlemek için `{`curly braces`}` kullandığını biliyor olabilirsiniz. Python'un anlamlı boşluk kullanması, diğer dillere alışkın olan programcılar için şaşırtıcı olabilir, ancak pratikte kod bloklarının girintisini zorlamayan dillerden daha tutarlı ve okunabilir koda yol açabilir.\n",
    "\n",
    "`viking_song` ile ilgili sonraki satırlar fazladan 4 boşlukla girintili değildir, bu nedenle `if`in kod bloğunun bir parçası değildirler. İşlevleri tanımladığımızda ve döngüleri kullandığımızda daha sonra girintili kod bloklarının daha fazla örneğini göreceğiz.\n",
    "\n",
    "Bu kod parçacığı aynı zamanda Python'da bir **string**i ilk görüşümüzdür:\n",
    "\n",
    "```python\n",
    "\n",
    "\"But I don't want ANY spam!\"\n",
    "\n",
    "```\n",
    "\n",
    "Dizeler çift veya tek tırnak işaretleri ile işaretlenebilir. (Ancak bu özel dize tek tırnak karakteri *içerdiğinden*, dikkatli olmadığımız sürece Python'u tek tırnaklarla çevrelemeye çalışarak karıştırabiliriz.)"
   ]
  },
  {
   "cell_type": "code",
   "execution_count": 6,
   "id": "1d2b9c32",
   "metadata": {
    "_kg_hide-output": false,
    "collapsed": true,
    "execution": {
     "iopub.execute_input": "2023-04-21T13:38:06.882892Z",
     "iopub.status.busy": "2023-04-21T13:38:06.882399Z",
     "iopub.status.idle": "2023-04-21T13:38:06.888879Z",
     "shell.execute_reply": "2023-04-21T13:38:06.887428Z"
    },
    "jupyter": {
     "outputs_hidden": true
    },
    "papermill": {
     "duration": 0.018509,
     "end_time": "2023-04-21T13:38:06.891145",
     "exception": false,
     "start_time": "2023-04-21T13:38:06.872636",
     "status": "completed"
    },
    "tags": []
   },
   "outputs": [
    {
     "name": "stdout",
     "output_type": "stream",
     "text": [
      "Spam Spam Spam Spam \n"
     ]
    }
   ],
   "source": [
    "viking_song = \"Spam \" * spam_amount\n",
    "print(viking_song)"
   ]
  },
  {
   "cell_type": "markdown",
   "id": "d862f4aa",
   "metadata": {
    "papermill": {
     "duration": 0.007764,
     "end_time": "2023-04-21T13:38:06.907168",
     "exception": false,
     "start_time": "2023-04-21T13:38:06.899404",
     "status": "completed"
    },
    "tags": []
   },
   "source": [
    "`*` operatörü iki sayıyı çarpmak için kullanılabilir (`3 * 3` 9 ile değerlendirilir), ancak birçok kez tekrarlanan bir sürüm elde etmek için bir dizeyi bir sayı ile de çarpabiliriz. Python, `*` ve `+` gibi operatörlerin ne tür bir şeye uygulandıklarına bağlı olarak farklı bir anlama sahip olduğu bunun gibi bir dizi arsız küçük zaman kazandıran numara sunar. (Bunun için teknik terim [operatör aşırı yükleme](https://en.wikipedia.org/wiki/Operator_overloading)'dir.)"
   ]
  },
  {
   "cell_type": "markdown",
   "id": "84628a4e",
   "metadata": {
    "papermill": {
     "duration": 0.007837,
     "end_time": "2023-04-21T13:38:06.923098",
     "exception": false,
     "start_time": "2023-04-21T13:38:06.915261",
     "status": "completed"
    },
    "tags": []
   },
   "source": [
    "## Python'da sayılar ve aritmetik\n",
    "\n",
    "Yukarıda bir sayı içeren bir değişken örneğini zaten gördük:"
   ]
  },
  {
   "cell_type": "code",
   "execution_count": 7,
   "id": "00adcaf6",
   "metadata": {
    "collapsed": true,
    "execution": {
     "iopub.execute_input": "2023-04-21T13:38:06.941609Z",
     "iopub.status.busy": "2023-04-21T13:38:06.941176Z",
     "iopub.status.idle": "2023-04-21T13:38:06.945753Z",
     "shell.execute_reply": "2023-04-21T13:38:06.944593Z"
    },
    "jupyter": {
     "outputs_hidden": true
    },
    "papermill": {
     "duration": 0.017003,
     "end_time": "2023-04-21T13:38:06.948170",
     "exception": false,
     "start_time": "2023-04-21T13:38:06.931167",
     "status": "completed"
    },
    "tags": []
   },
   "outputs": [],
   "source": [
    "spam_amount = 0"
   ]
  },
  {
   "cell_type": "markdown",
   "id": "cecc8587",
   "metadata": {
    "papermill": {
     "duration": 0.007951,
     "end_time": "2023-04-21T13:38:06.964328",
     "exception": false,
     "start_time": "2023-04-21T13:38:06.956377",
     "status": "completed"
    },
    "tags": []
   },
   "source": [
    "\"Number\", bu tür şeyler için güzel bir gayri resmi isimdir, ancak daha teknik olmak istiyorsak, Python'a `spam_amount` olan şeyin türünü nasıl tanımlayacağını sorabiliriz:"
   ]
  },
  {
   "cell_type": "code",
   "execution_count": 8,
   "id": "86c8c503",
   "metadata": {
    "execution": {
     "iopub.execute_input": "2023-04-21T13:38:06.982871Z",
     "iopub.status.busy": "2023-04-21T13:38:06.982133Z",
     "iopub.status.idle": "2023-04-21T13:38:06.990523Z",
     "shell.execute_reply": "2023-04-21T13:38:06.989286Z"
    },
    "papermill": {
     "duration": 0.020797,
     "end_time": "2023-04-21T13:38:06.993276",
     "exception": false,
     "start_time": "2023-04-21T13:38:06.972479",
     "status": "completed"
    },
    "tags": []
   },
   "outputs": [
    {
     "data": {
      "text/plain": [
       "int"
      ]
     },
     "execution_count": 8,
     "metadata": {},
     "output_type": "execute_result"
    }
   ],
   "source": [
    "type(spam_amount)"
   ]
  },
  {
   "cell_type": "markdown",
   "id": "e1138473",
   "metadata": {
    "papermill": {
     "duration": 0.008243,
     "end_time": "2023-04-21T13:38:07.010141",
     "exception": false,
     "start_time": "2023-04-21T13:38:07.001898",
     "status": "completed"
    },
    "tags": []
   },
   "source": [
    "Bu bir `int` - tamsayının kısaltması. Python'da yaygın olarak karşılaştığımız başka bir tür sayı var:"
   ]
  },
  {
   "cell_type": "code",
   "execution_count": 9,
   "id": "ab1d89a1",
   "metadata": {
    "collapsed": true,
    "execution": {
     "iopub.execute_input": "2023-04-21T13:38:07.029847Z",
     "iopub.status.busy": "2023-04-21T13:38:07.029390Z",
     "iopub.status.idle": "2023-04-21T13:38:07.036975Z",
     "shell.execute_reply": "2023-04-21T13:38:07.035753Z"
    },
    "jupyter": {
     "outputs_hidden": true
    },
    "papermill": {
     "duration": 0.020547,
     "end_time": "2023-04-21T13:38:07.039626",
     "exception": false,
     "start_time": "2023-04-21T13:38:07.019079",
     "status": "completed"
    },
    "tags": []
   },
   "outputs": [
    {
     "data": {
      "text/plain": [
       "float"
      ]
     },
     "execution_count": 9,
     "metadata": {},
     "output_type": "execute_result"
    }
   ],
   "source": [
    "type(19.95)"
   ]
  },
  {
   "cell_type": "markdown",
   "id": "2863e9e4",
   "metadata": {
    "papermill": {
     "duration": 0.008492,
     "end_time": "2023-04-21T13:38:07.056730",
     "exception": false,
     "start_time": "2023-04-21T13:38:07.048238",
     "status": "completed"
    },
    "tags": []
   },
   "source": [
    "`Float`, ağırlıklar veya oranlar gibi şeyleri temsil etmek için çok yararlı olan ondalık - olan bir sayıdır.\n",
    "\n",
    "`type()`, gördüğümüz ikinci yerleşik işlevdir (`print()`den sonra) ve hatırlanması gereken başka bir iyi işlevdir. Python'a \"bu nasıl bir şey?\" diye sorabilmek çok faydalı."
   ]
  },
  {
   "cell_type": "markdown",
   "id": "a43de165",
   "metadata": {
    "papermill": {
     "duration": 0.008475,
     "end_time": "2023-04-21T13:38:07.073892",
     "exception": false,
     "start_time": "2023-04-21T13:38:07.065417",
     "status": "completed"
    },
    "tags": []
   },
   "source": [
    "Sayılarla yapmak istediğiniz doğal bir şey, aritmetik yapmaktır. Toplama için `+` operatörünü ve çarpma için `*` operatörünü gördük. Python, hesap makinenizdeki diğer temel düğmeleri de kapsıyor:\n",
    "\n",
    "| Operator     | Name           | Description                                            |\n",
    "|--------------|----------------|--------------------------------------------------------|\n",
    "| ``a + b``    | Addition       | Sum of ``a`` and ``b``                                 |\n",
    "| ``a - b``    | Subtraction    | Difference of ``a`` and ``b``                          |\n",
    "| ``a * b``    | Multiplication | Product of ``a`` and ``b``                             |\n",
    "| ``a / b``    | True division  | Quotient of ``a`` and ``b``                            |\n",
    "| ``a // b``   | Floor division | Quotient of ``a`` and ``b``, removing fractional parts |\n",
    "| ``a % b``    | Modulus        | Integer remainder after division of ``a`` by ``b``     |\n",
    "| ``a ** b``   | Exponentiation | ``a`` raised to the power of ``b``                     |\n",
    "| ``-a``       | Negation       | The negative of ``a``                                  |\n",
    "\n",
    "<span style=\"display:none\"></span>\n",
    "\n",
    "Buradaki ilginç bir gözlem, hesap makinenizin muhtemelen bölme için sadece bir düğmeye sahip olmasına karşın, Python iki tür yapabilir. \"Gerçek bölünme\" temel olarak hesap makinenizin yaptığı şeydir:"
   ]
  },
  {
   "cell_type": "code",
   "execution_count": 10,
   "id": "df82c4cd",
   "metadata": {
    "collapsed": true,
    "execution": {
     "iopub.execute_input": "2023-04-21T13:38:07.094115Z",
     "iopub.status.busy": "2023-04-21T13:38:07.092919Z",
     "iopub.status.idle": "2023-04-21T13:38:07.099737Z",
     "shell.execute_reply": "2023-04-21T13:38:07.098075Z"
    },
    "jupyter": {
     "outputs_hidden": true
    },
    "papermill": {
     "duration": 0.019601,
     "end_time": "2023-04-21T13:38:07.102519",
     "exception": false,
     "start_time": "2023-04-21T13:38:07.082918",
     "status": "completed"
    },
    "tags": []
   },
   "outputs": [
    {
     "name": "stdout",
     "output_type": "stream",
     "text": [
      "2.5\n",
      "3.0\n"
     ]
    }
   ],
   "source": [
    "print(5 / 2)\n",
    "print(6 / 2)"
   ]
  },
  {
   "cell_type": "markdown",
   "id": "c90396cd",
   "metadata": {
    "papermill": {
     "duration": 0.009409,
     "end_time": "2023-04-21T13:38:07.120657",
     "exception": false,
     "start_time": "2023-04-21T13:38:07.111248",
     "status": "completed"
    },
    "tags": []
   },
   "source": [
    "Bize her zaman bir “float” verir.\n",
    "\n",
    "`//` operatörü bize bir sonraki tamsayıya yuvarlanmış bir sonuç verir."
   ]
  },
  {
   "cell_type": "code",
   "execution_count": 11,
   "id": "9a8165c6",
   "metadata": {
    "execution": {
     "iopub.execute_input": "2023-04-21T13:38:07.140157Z",
     "iopub.status.busy": "2023-04-21T13:38:07.139741Z",
     "iopub.status.idle": "2023-04-21T13:38:07.146250Z",
     "shell.execute_reply": "2023-04-21T13:38:07.144874Z"
    },
    "papermill": {
     "duration": 0.019877,
     "end_time": "2023-04-21T13:38:07.149255",
     "exception": false,
     "start_time": "2023-04-21T13:38:07.129378",
     "status": "completed"
    },
    "tags": []
   },
   "outputs": [
    {
     "name": "stdout",
     "output_type": "stream",
     "text": [
      "2\n",
      "3\n"
     ]
    }
   ],
   "source": [
    "print(5 // 2)\n",
    "print(6 // 2)"
   ]
  },
  {
   "cell_type": "markdown",
   "id": "3e881ba8",
   "metadata": {
    "papermill": {
     "duration": 0.009729,
     "end_time": "2023-04-21T13:38:07.169472",
     "exception": false,
     "start_time": "2023-04-21T13:38:07.159743",
     "status": "completed"
    },
    "tags": []
   },
   "source": [
    "Bunun nerede yararlı olacağını düşünebiliyor musunuz? Yakında kodlama zorluklarında bir örnek göreceksiniz."
   ]
  },
  {
   "cell_type": "markdown",
   "id": "f74828d2",
   "metadata": {
    "papermill": {
     "duration": 0.009127,
     "end_time": "2023-04-21T13:38:07.187706",
     "exception": false,
     "start_time": "2023-04-21T13:38:07.178579",
     "status": "completed"
    },
    "tags": []
   },
   "source": [
    "### Operasyon sırası\n",
    "\n",
    "Bizim ilkokulda öğrendiğimiz aritmetik, işlemlerin hangi sırada değerlendirildiğine dair sözleşmelere sahiptir. Bazıları bunları **PEMDAS** - **P**arentheses, **E**xponts, **M**ultiplication/**D**ivision, **A**ddition/**S**ubtraction gibi bir anımsatıcı ile hatırlar.\n",
    "\n",
    "Python, önce hangi hesaplamaların yapılacağı konusunda benzer kuralları takip eder. Çoğunlukla oldukça sezgiseldirler."
   ]
  },
  {
   "cell_type": "code",
   "execution_count": 12,
   "id": "baa873b5",
   "metadata": {
    "collapsed": true,
    "execution": {
     "iopub.execute_input": "2023-04-21T13:38:07.207341Z",
     "iopub.status.busy": "2023-04-21T13:38:07.206888Z",
     "iopub.status.idle": "2023-04-21T13:38:07.215147Z",
     "shell.execute_reply": "2023-04-21T13:38:07.213477Z"
    },
    "jupyter": {
     "outputs_hidden": true
    },
    "papermill": {
     "duration": 0.02152,
     "end_time": "2023-04-21T13:38:07.218224",
     "exception": false,
     "start_time": "2023-04-21T13:38:07.196704",
     "status": "completed"
    },
    "tags": []
   },
   "outputs": [
    {
     "data": {
      "text/plain": [
       "7"
      ]
     },
     "execution_count": 12,
     "metadata": {},
     "output_type": "execute_result"
    }
   ],
   "source": [
    "8 - 3 + 2"
   ]
  },
  {
   "cell_type": "code",
   "execution_count": 13,
   "id": "7d2f5214",
   "metadata": {
    "collapsed": true,
    "execution": {
     "iopub.execute_input": "2023-04-21T13:38:07.240029Z",
     "iopub.status.busy": "2023-04-21T13:38:07.239260Z",
     "iopub.status.idle": "2023-04-21T13:38:07.246037Z",
     "shell.execute_reply": "2023-04-21T13:38:07.245039Z"
    },
    "jupyter": {
     "outputs_hidden": true
    },
    "papermill": {
     "duration": 0.020827,
     "end_time": "2023-04-21T13:38:07.248557",
     "exception": false,
     "start_time": "2023-04-21T13:38:07.227730",
     "status": "completed"
    },
    "tags": []
   },
   "outputs": [
    {
     "data": {
      "text/plain": [
       "5"
      ]
     },
     "execution_count": 13,
     "metadata": {},
     "output_type": "execute_result"
    }
   ],
   "source": [
    "-3 + 4 * 2"
   ]
  },
  {
   "cell_type": "markdown",
   "id": "7afff281",
   "metadata": {
    "papermill": {
     "duration": 0.009546,
     "end_time": "2023-04-21T13:38:07.267874",
     "exception": false,
     "start_time": "2023-04-21T13:38:07.258328",
     "status": "completed"
    },
    "tags": []
   },
   "source": [
    "Bazen varsayılan işlem sırası istediğimiz şey değildir:"
   ]
  },
  {
   "cell_type": "code",
   "execution_count": 14,
   "id": "54beec46",
   "metadata": {
    "collapsed": true,
    "execution": {
     "iopub.execute_input": "2023-04-21T13:38:07.288782Z",
     "iopub.status.busy": "2023-04-21T13:38:07.287984Z",
     "iopub.status.idle": "2023-04-21T13:38:07.294843Z",
     "shell.execute_reply": "2023-04-21T13:38:07.293348Z"
    },
    "jupyter": {
     "outputs_hidden": true
    },
    "papermill": {
     "duration": 0.020543,
     "end_time": "2023-04-21T13:38:07.297736",
     "exception": false,
     "start_time": "2023-04-21T13:38:07.277193",
     "status": "completed"
    },
    "tags": []
   },
   "outputs": [
    {
     "name": "stdout",
     "output_type": "stream",
     "text": [
      "Height in meters = 26.9 ?\n"
     ]
    }
   ],
   "source": [
    "hat_height_cm = 25\n",
    "my_height_cm = 190\n",
    "# How tall am I, in meters, when wearing my hat?\n",
    "total_height_meters = hat_height_cm + my_height_cm / 100\n",
    "print(\"Height in meters =\", total_height_meters, \"?\")"
   ]
  },
  {
   "cell_type": "markdown",
   "id": "be5cf28f",
   "metadata": {
    "papermill": {
     "duration": 0.009382,
     "end_time": "2023-04-21T13:38:07.317320",
     "exception": false,
     "start_time": "2023-04-21T13:38:07.307938",
     "status": "completed"
    },
    "tags": []
   },
   "source": [
    "Parantezler burada faydalıdır. Python'u alt ifadeleri istediğiniz sırayla değerlendirmeye zorlamak için bunları ekleyebilirsiniz."
   ]
  },
  {
   "cell_type": "code",
   "execution_count": 15,
   "id": "cd83073b",
   "metadata": {
    "collapsed": true,
    "execution": {
     "iopub.execute_input": "2023-04-21T13:38:07.337668Z",
     "iopub.status.busy": "2023-04-21T13:38:07.337204Z",
     "iopub.status.idle": "2023-04-21T13:38:07.344254Z",
     "shell.execute_reply": "2023-04-21T13:38:07.342415Z"
    },
    "jupyter": {
     "outputs_hidden": true
    },
    "papermill": {
     "duration": 0.020139,
     "end_time": "2023-04-21T13:38:07.346791",
     "exception": false,
     "start_time": "2023-04-21T13:38:07.326652",
     "status": "completed"
    },
    "tags": []
   },
   "outputs": [
    {
     "name": "stdout",
     "output_type": "stream",
     "text": [
      "Height in meters = 2.15\n"
     ]
    }
   ],
   "source": [
    "total_height_meters = (hat_height_cm + my_height_cm) / 100\n",
    "print(\"Height in meters =\", total_height_meters)"
   ]
  },
  {
   "cell_type": "markdown",
   "id": "9ba75c13",
   "metadata": {
    "papermill": {
     "duration": 0.009057,
     "end_time": "2023-04-21T13:38:07.365374",
     "exception": false,
     "start_time": "2023-04-21T13:38:07.356317",
     "status": "completed"
    },
    "tags": []
   },
   "source": [
    "### Sayılarla çalışmak için yerleşik işlevler\n",
    "\n",
    "`min` ve `max` sırasıyla argümanlarının minimum ve maksimumunu döndürür..."
   ]
  },
  {
   "cell_type": "code",
   "execution_count": 16,
   "id": "94c062e9",
   "metadata": {
    "collapsed": true,
    "execution": {
     "iopub.execute_input": "2023-04-21T13:38:07.387109Z",
     "iopub.status.busy": "2023-04-21T13:38:07.385760Z",
     "iopub.status.idle": "2023-04-21T13:38:07.392948Z",
     "shell.execute_reply": "2023-04-21T13:38:07.391260Z"
    },
    "jupyter": {
     "outputs_hidden": true
    },
    "papermill": {
     "duration": 0.020652,
     "end_time": "2023-04-21T13:38:07.395563",
     "exception": false,
     "start_time": "2023-04-21T13:38:07.374911",
     "status": "completed"
    },
    "tags": []
   },
   "outputs": [
    {
     "name": "stdout",
     "output_type": "stream",
     "text": [
      "1\n",
      "3\n"
     ]
    }
   ],
   "source": [
    "print(min(1, 2, 3))\n",
    "print(max(1, 2, 3))"
   ]
  },
  {
   "cell_type": "markdown",
   "id": "e1849de2",
   "metadata": {
    "papermill": {
     "duration": 0.009222,
     "end_time": "2023-04-21T13:38:07.415069",
     "exception": false,
     "start_time": "2023-04-21T13:38:07.405847",
     "status": "completed"
    },
    "tags": []
   },
   "source": [
    "`abs` bir argümanın mutlak değerini döndürür:"
   ]
  },
  {
   "cell_type": "code",
   "execution_count": 17,
   "id": "1c6b8aa3",
   "metadata": {
    "collapsed": true,
    "execution": {
     "iopub.execute_input": "2023-04-21T13:38:07.437699Z",
     "iopub.status.busy": "2023-04-21T13:38:07.437211Z",
     "iopub.status.idle": "2023-04-21T13:38:07.442949Z",
     "shell.execute_reply": "2023-04-21T13:38:07.441658Z"
    },
    "jupyter": {
     "outputs_hidden": true
    },
    "papermill": {
     "duration": 0.021556,
     "end_time": "2023-04-21T13:38:07.446658",
     "exception": false,
     "start_time": "2023-04-21T13:38:07.425102",
     "status": "completed"
    },
    "tags": []
   },
   "outputs": [
    {
     "name": "stdout",
     "output_type": "stream",
     "text": [
      "32\n",
      "32\n"
     ]
    }
   ],
   "source": [
    "print(abs(32))\n",
    "print(abs(-32))"
   ]
  },
  {
   "cell_type": "markdown",
   "id": "594c9f70",
   "metadata": {
    "papermill": {
     "duration": 0.009464,
     "end_time": "2023-04-21T13:38:07.466190",
     "exception": false,
     "start_time": "2023-04-21T13:38:07.456726",
     "status": "completed"
    },
    "tags": []
   },
   "source": [
    "Python'un iki ana sayısal türünün isimleri olmasının yanı sıra, `int` ve `float`, argümanlarını karşılık gelen türe dönüştüren işlevler olarak da çağrılabilir:"
   ]
  },
  {
   "cell_type": "code",
   "execution_count": 18,
   "id": "63a99986",
   "metadata": {
    "collapsed": true,
    "execution": {
     "iopub.execute_input": "2023-04-21T13:38:07.488158Z",
     "iopub.status.busy": "2023-04-21T13:38:07.487004Z",
     "iopub.status.idle": "2023-04-21T13:38:07.494197Z",
     "shell.execute_reply": "2023-04-21T13:38:07.492834Z"
    },
    "jupyter": {
     "outputs_hidden": true
    },
    "papermill": {
     "duration": 0.020825,
     "end_time": "2023-04-21T13:38:07.496886",
     "exception": false,
     "start_time": "2023-04-21T13:38:07.476061",
     "status": "completed"
    },
    "tags": []
   },
   "outputs": [
    {
     "name": "stdout",
     "output_type": "stream",
     "text": [
      "10.0\n",
      "3\n",
      "808\n"
     ]
    }
   ],
   "source": [
    "print(float(10))\n",
    "print(int(3.33))\n",
    "# They can even be called on strings!\n",
    "print(int('807') + 1)"
   ]
  },
  {
   "cell_type": "markdown",
   "id": "81bc803f",
   "metadata": {
    "papermill": {
     "duration": 0.009895,
     "end_time": "2023-04-21T13:38:07.517185",
     "exception": false,
     "start_time": "2023-04-21T13:38:07.507290",
     "status": "completed"
    },
    "tags": []
   },
   "source": [
    "# Senin Sıran\n",
    "\n",
    "Şimdi senin şansın. **[İlk Python programlama alıştırmanızı deneyin](https://www.kaggle.com/kernels/fork/1275163)**!\n",
    "\n",
    "---"
   ]
  },
  {
   "cell_type": "markdown",
   "id": "8a195918",
   "metadata": {
    "papermill": {
     "duration": 0.009306,
     "end_time": "2023-04-21T13:38:25.140967",
     "exception": false,
     "start_time": "2023-04-21T13:38:25.131661",
     "status": "completed"
    },
    "tags": []
   },
   "source": [
    "# 02 Functions and Getting Help\n",
    "\n",
    "`print` ve `abs` gibi işlevleri zaten gördünüz ve kullandınız. Ancak Python'un çok daha fazla işlevi vardır ve kendi işlevlerinizi tanımlamak python programlamanın büyük bir parçasıdır.\n",
    "\n",
    "Bu derste, fonksiyonları kullanma ve tanımlama hakkında daha fazla bilgi edineceksiniz."
   ]
  },
  {
   "cell_type": "markdown",
   "id": "f03ed60d",
   "metadata": {
    "papermill": {
     "duration": 0.008143,
     "end_time": "2023-04-21T13:38:25.157946",
     "exception": false,
     "start_time": "2023-04-21T13:38:25.149803",
     "status": "completed"
    },
    "tags": []
   },
   "source": [
    "## Yardım Almak\n",
    "\n",
    "Önceki eğitimde `abs` işlevini gördünüz, peki ya ne yaptığını unuttuysanız?\n",
    "\n",
    "`help()` işlevi muhtemelen öğrenebileceğiniz en önemli Python işlevidir. `help()`nin nasıl kullanılacağını hatırlayabiliyorsanız, diğer birçok işlevi anlamanın anahtarını tutarsınız.\n",
    "\n",
    "İşte bir örnek:"
   ]
  },
  {
   "cell_type": "code",
   "execution_count": 1,
   "id": "8cbc11c3",
   "metadata": {
    "execution": {
     "iopub.execute_input": "2023-04-21T13:38:25.176668Z",
     "iopub.status.busy": "2023-04-21T13:38:25.175772Z",
     "iopub.status.idle": "2023-04-21T13:38:25.190481Z",
     "shell.execute_reply": "2023-04-21T13:38:25.189024Z"
    },
    "papermill": {
     "duration": 0.028755,
     "end_time": "2023-04-21T13:38:25.194415",
     "exception": false,
     "start_time": "2023-04-21T13:38:25.165660",
     "status": "completed"
    },
    "tags": []
   },
   "outputs": [
    {
     "name": "stdout",
     "output_type": "stream",
     "text": [
      "Help on built-in function round in module builtins:\n",
      "\n",
      "round(number, ndigits=None)\n",
      "    Round a number to a given precision in decimal digits.\n",
      "    \n",
      "    The return value is an integer if ndigits is omitted or None.  Otherwise\n",
      "    the return value has the same type as the number.  ndigits may be negative.\n",
      "\n"
     ]
    }
   ],
   "source": [
    "help(round)"
   ]
  },
  {
   "cell_type": "markdown",
   "id": "ff26af7c",
   "metadata": {
    "papermill": {
     "duration": 0.008587,
     "end_time": "2023-04-21T13:38:25.210654",
     "exception": false,
     "start_time": "2023-04-21T13:38:25.202067",
     "status": "completed"
    },
    "tags": []
   },
   "source": [
    "`help()` iki şey görüntüler:\n",
    "\n",
    "1. bu fonksiyonun başlığı `round(number, ndigits=None)`. Bu durumda, bu bize `round()`nin `number` olarak tanımlayabileceğimiz bir argüman aldığını söyler. Ek olarak, isteğe bağlı olarak “rakamlar” olarak tanımlanabilecek ayrı bir argüman verebiliriz.\n",
    "\n",
    "2. İşlevin ne yaptığına dair kısa bir İngilizce açıklama."
   ]
  },
  {
   "cell_type": "markdown",
   "id": "8eb9a9ed",
   "metadata": {
    "papermill": {
     "duration": 0.007186,
     "end_time": "2023-04-21T13:38:25.226270",
     "exception": false,
     "start_time": "2023-04-21T13:38:25.219084",
     "status": "completed"
    },
    "tags": []
   },
   "source": [
    "**Yaygın tuzak:** bir işleve bakarken, bu işlevi çağırmanın sonucunu değil, işlevin adını geçmeyi unutmayın.\n",
    "\n",
    "`round()` işlevine bir *çağrı* üzerinde yardım çağırırsak ne olur? Görmek için aşağıdaki hücrenin çıktısını gösterin."
   ]
  },
  {
   "cell_type": "code",
   "execution_count": 2,
   "id": "0e94bd45",
   "metadata": {
    "_kg_hide-output": true,
    "execution": {
     "iopub.execute_input": "2023-04-21T13:38:25.245082Z",
     "iopub.status.busy": "2023-04-21T13:38:25.244575Z",
     "iopub.status.idle": "2023-04-21T13:38:25.283110Z",
     "shell.execute_reply": "2023-04-21T13:38:25.281718Z"
    },
    "papermill": {
     "duration": 0.052323,
     "end_time": "2023-04-21T13:38:25.286888",
     "exception": false,
     "start_time": "2023-04-21T13:38:25.234565",
     "status": "completed"
    },
    "tags": []
   },
   "outputs": [
    {
     "name": "stdout",
     "output_type": "stream",
     "text": [
      "Help on int object:\n",
      "\n",
      "class int(object)\n",
      " |  int([x]) -> integer\n",
      " |  int(x, base=10) -> integer\n",
      " |  \n",
      " |  Convert a number or string to an integer, or return 0 if no arguments\n",
      " |  are given.  If x is a number, return x.__int__().  For floating point\n",
      " |  numbers, this truncates towards zero.\n",
      " |  \n",
      " |  If x is not a number or if base is given, then x must be a string,\n",
      " |  bytes, or bytearray instance representing an integer literal in the\n",
      " |  given base.  The literal can be preceded by '+' or '-' and be surrounded\n",
      " |  by whitespace.  The base defaults to 10.  Valid bases are 0 and 2-36.\n",
      " |  Base 0 means to interpret the base from the string as an integer literal.\n",
      " |  >>> int('0b100', base=0)\n",
      " |  4\n",
      " |  \n",
      " |  Methods defined here:\n",
      " |  \n",
      " |  __abs__(self, /)\n",
      " |      abs(self)\n",
      " |  \n",
      " |  __add__(self, value, /)\n",
      " |      Return self+value.\n",
      " |  \n",
      " |  __and__(self, value, /)\n",
      " |      Return self&value.\n",
      " |  \n",
      " |  __bool__(self, /)\n",
      " |      self != 0\n",
      " |  \n",
      " |  __ceil__(...)\n",
      " |      Ceiling of an Integral returns itself.\n",
      " |  \n",
      " |  __divmod__(self, value, /)\n",
      " |      Return divmod(self, value).\n",
      " |  \n",
      " |  __eq__(self, value, /)\n",
      " |      Return self==value.\n",
      " |  \n",
      " |  __float__(self, /)\n",
      " |      float(self)\n",
      " |  \n",
      " |  __floor__(...)\n",
      " |      Flooring an Integral returns itself.\n",
      " |  \n",
      " |  __floordiv__(self, value, /)\n",
      " |      Return self//value.\n",
      " |  \n",
      " |  __format__(self, format_spec, /)\n",
      " |      Default object formatter.\n",
      " |  \n",
      " |  __ge__(self, value, /)\n",
      " |      Return self>=value.\n",
      " |  \n",
      " |  __getattribute__(self, name, /)\n",
      " |      Return getattr(self, name).\n",
      " |  \n",
      " |  __getnewargs__(self, /)\n",
      " |  \n",
      " |  __gt__(self, value, /)\n",
      " |      Return self>value.\n",
      " |  \n",
      " |  __hash__(self, /)\n",
      " |      Return hash(self).\n",
      " |  \n",
      " |  __index__(self, /)\n",
      " |      Return self converted to an integer, if self is suitable for use as an index into a list.\n",
      " |  \n",
      " |  __int__(self, /)\n",
      " |      int(self)\n",
      " |  \n",
      " |  __invert__(self, /)\n",
      " |      ~self\n",
      " |  \n",
      " |  __le__(self, value, /)\n",
      " |      Return self<=value.\n",
      " |  \n",
      " |  __lshift__(self, value, /)\n",
      " |      Return self<<value.\n",
      " |  \n",
      " |  __lt__(self, value, /)\n",
      " |      Return self<value.\n",
      " |  \n",
      " |  __mod__(self, value, /)\n",
      " |      Return self%value.\n",
      " |  \n",
      " |  __mul__(self, value, /)\n",
      " |      Return self*value.\n",
      " |  \n",
      " |  __ne__(self, value, /)\n",
      " |      Return self!=value.\n",
      " |  \n",
      " |  __neg__(self, /)\n",
      " |      -self\n",
      " |  \n",
      " |  __or__(self, value, /)\n",
      " |      Return self|value.\n",
      " |  \n",
      " |  __pos__(self, /)\n",
      " |      +self\n",
      " |  \n",
      " |  __pow__(self, value, mod=None, /)\n",
      " |      Return pow(self, value, mod).\n",
      " |  \n",
      " |  __radd__(self, value, /)\n",
      " |      Return value+self.\n",
      " |  \n",
      " |  __rand__(self, value, /)\n",
      " |      Return value&self.\n",
      " |  \n",
      " |  __rdivmod__(self, value, /)\n",
      " |      Return divmod(value, self).\n",
      " |  \n",
      " |  __repr__(self, /)\n",
      " |      Return repr(self).\n",
      " |  \n",
      " |  __rfloordiv__(self, value, /)\n",
      " |      Return value//self.\n",
      " |  \n",
      " |  __rlshift__(self, value, /)\n",
      " |      Return value<<self.\n",
      " |  \n",
      " |  __rmod__(self, value, /)\n",
      " |      Return value%self.\n",
      " |  \n",
      " |  __rmul__(self, value, /)\n",
      " |      Return value*self.\n",
      " |  \n",
      " |  __ror__(self, value, /)\n",
      " |      Return value|self.\n",
      " |  \n",
      " |  __round__(...)\n",
      " |      Rounding an Integral returns itself.\n",
      " |      Rounding with an ndigits argument also returns an integer.\n",
      " |  \n",
      " |  __rpow__(self, value, mod=None, /)\n",
      " |      Return pow(value, self, mod).\n",
      " |  \n",
      " |  __rrshift__(self, value, /)\n",
      " |      Return value>>self.\n",
      " |  \n",
      " |  __rshift__(self, value, /)\n",
      " |      Return self>>value.\n",
      " |  \n",
      " |  __rsub__(self, value, /)\n",
      " |      Return value-self.\n",
      " |  \n",
      " |  __rtruediv__(self, value, /)\n",
      " |      Return value/self.\n",
      " |  \n",
      " |  __rxor__(self, value, /)\n",
      " |      Return value^self.\n",
      " |  \n",
      " |  __sizeof__(self, /)\n",
      " |      Returns size in memory, in bytes.\n",
      " |  \n",
      " |  __str__(self, /)\n",
      " |      Return str(self).\n",
      " |  \n",
      " |  __sub__(self, value, /)\n",
      " |      Return self-value.\n",
      " |  \n",
      " |  __truediv__(self, value, /)\n",
      " |      Return self/value.\n",
      " |  \n",
      " |  __trunc__(...)\n",
      " |      Truncating an Integral returns itself.\n",
      " |  \n",
      " |  __xor__(self, value, /)\n",
      " |      Return self^value.\n",
      " |  \n",
      " |  bit_length(self, /)\n",
      " |      Number of bits necessary to represent self in binary.\n",
      " |      \n",
      " |      >>> bin(37)\n",
      " |      '0b100101'\n",
      " |      >>> (37).bit_length()\n",
      " |      6\n",
      " |  \n",
      " |  conjugate(...)\n",
      " |      Returns self, the complex conjugate of any int.\n",
      " |  \n",
      " |  to_bytes(self, /, length, byteorder, *, signed=False)\n",
      " |      Return an array of bytes representing an integer.\n",
      " |      \n",
      " |      length\n",
      " |        Length of bytes object to use.  An OverflowError is raised if the\n",
      " |        integer is not representable with the given number of bytes.\n",
      " |      byteorder\n",
      " |        The byte order used to represent the integer.  If byteorder is 'big',\n",
      " |        the most significant byte is at the beginning of the byte array.  If\n",
      " |        byteorder is 'little', the most significant byte is at the end of the\n",
      " |        byte array.  To request the native byte order of the host system, use\n",
      " |        `sys.byteorder' as the byte order value.\n",
      " |      signed\n",
      " |        Determines whether two's complement is used to represent the integer.\n",
      " |        If signed is False and a negative integer is given, an OverflowError\n",
      " |        is raised.\n",
      " |  \n",
      " |  ----------------------------------------------------------------------\n",
      " |  Class methods defined here:\n",
      " |  \n",
      " |  from_bytes(bytes, byteorder, *, signed=False) from builtins.type\n",
      " |      Return the integer represented by the given array of bytes.\n",
      " |      \n",
      " |      bytes\n",
      " |        Holds the array of bytes to convert.  The argument must either\n",
      " |        support the buffer protocol or be an iterable object producing bytes.\n",
      " |        Bytes and bytearray are examples of built-in objects that support the\n",
      " |        buffer protocol.\n",
      " |      byteorder\n",
      " |        The byte order used to represent the integer.  If byteorder is 'big',\n",
      " |        the most significant byte is at the beginning of the byte array.  If\n",
      " |        byteorder is 'little', the most significant byte is at the end of the\n",
      " |        byte array.  To request the native byte order of the host system, use\n",
      " |        `sys.byteorder' as the byte order value.\n",
      " |      signed\n",
      " |        Indicates whether two's complement is used to represent the integer.\n",
      " |  \n",
      " |  ----------------------------------------------------------------------\n",
      " |  Static methods defined here:\n",
      " |  \n",
      " |  __new__(*args, **kwargs) from builtins.type\n",
      " |      Create and return a new object.  See help(type) for accurate signature.\n",
      " |  \n",
      " |  ----------------------------------------------------------------------\n",
      " |  Data descriptors defined here:\n",
      " |  \n",
      " |  denominator\n",
      " |      the denominator of a rational number in lowest terms\n",
      " |  \n",
      " |  imag\n",
      " |      the imaginary part of a complex number\n",
      " |  \n",
      " |  numerator\n",
      " |      the numerator of a rational number in lowest terms\n",
      " |  \n",
      " |  real\n",
      " |      the real part of a complex number\n",
      "\n"
     ]
    }
   ],
   "source": [
    "help(round(-2.01))"
   ]
  },
  {
   "cell_type": "markdown",
   "id": "75f076a8",
   "metadata": {
    "papermill": {
     "duration": 0.008542,
     "end_time": "2023-04-21T13:38:25.304034",
     "exception": false,
     "start_time": "2023-04-21T13:38:25.295492",
     "status": "completed"
    },
    "tags": []
   },
   "source": [
    "Python, böyle bir ifadeyi içten dışa değerlendirir. Önce `round(-2.01)` değerini hesaplar, ardından o ifadenin çıktısı üzerinde yardım sağlar.\n",
    "\n",
    "<small>(Ve tamsayılar hakkında söyleyecek çok şeyi olduğu ortaya çıktı! Python'daki nesneler, yöntemler ve nitelikler hakkında daha sonra konuştuktan sonra, yukarıdaki yardım çıktısı daha mantıklı olacaktır.)</small>\n",
    "\n",
    "`yuvarlak`, kısa bir docstring'e sahip çok basit bir işlevdir. `help`, `print` gibi daha karmaşık, yapılandırılabilir işlevlerle uğraşırken daha da parlar. Aşağıdaki çıktı anlaşılmaz görünüyorsa endişelenmeyin... şimdilik, bu yardımdan yeni bir şey seçip seçemeyeceğinize bakın."
   ]
  },
  {
   "cell_type": "code",
   "execution_count": 3,
   "id": "03e465bf",
   "metadata": {
    "collapsed": true,
    "execution": {
     "iopub.execute_input": "2023-04-21T13:38:25.324954Z",
     "iopub.status.busy": "2023-04-21T13:38:25.324011Z",
     "iopub.status.idle": "2023-04-21T13:38:25.331805Z",
     "shell.execute_reply": "2023-04-21T13:38:25.329973Z"
    },
    "jupyter": {
     "outputs_hidden": true
    },
    "papermill": {
     "duration": 0.0227,
     "end_time": "2023-04-21T13:38:25.335157",
     "exception": false,
     "start_time": "2023-04-21T13:38:25.312457",
     "status": "completed"
    },
    "tags": []
   },
   "outputs": [
    {
     "name": "stdout",
     "output_type": "stream",
     "text": [
      "Help on built-in function print in module builtins:\n",
      "\n",
      "print(...)\n",
      "    print(value, ..., sep=' ', end='\\n', file=sys.stdout, flush=False)\n",
      "    \n",
      "    Prints the values to a stream, or to sys.stdout by default.\n",
      "    Optional keyword arguments:\n",
      "    file:  a file-like object (stream); defaults to the current sys.stdout.\n",
      "    sep:   string inserted between values, default a space.\n",
      "    end:   string appended after the last value, default a newline.\n",
      "    flush: whether to forcibly flush the stream.\n",
      "\n"
     ]
    }
   ],
   "source": [
    "help(print)"
   ]
  },
  {
   "cell_type": "markdown",
   "id": "086e7f9c",
   "metadata": {
    "papermill": {
     "duration": 0.008012,
     "end_time": "2023-04-21T13:38:25.352012",
     "exception": false,
     "start_time": "2023-04-21T13:38:25.344000",
     "status": "completed"
    },
    "tags": []
   },
   "source": [
    "Arıyor olsaydınız, baskının `sep` adlı bir argüman alabileceğini ve bunun, yazdırdığımızda diğer tüm argümanlar arasına ne koyduğumuzu açıkladığını öğrenebilirsiniz."
   ]
  },
  {
   "cell_type": "markdown",
   "id": "813c752f",
   "metadata": {
    "papermill": {
     "duration": 0.008132,
     "end_time": "2023-04-21T13:38:25.368850",
     "exception": false,
     "start_time": "2023-04-21T13:38:25.360718",
     "status": "completed"
    },
    "tags": []
   },
   "source": [
    "## Fonksiyonları tanımlama\n",
    "\n",
    "Yerleşik işlevler harikadır, ancak kendi işlevlerimizi tanımlamaya başlamadan önce onlarla ancak bu kadar ileri gidebiliriz. Aşağıda basit bir örnek verilmiştir."
   ]
  },
  {
   "cell_type": "code",
   "execution_count": 4,
   "id": "733e2448",
   "metadata": {
    "collapsed": true,
    "execution": {
     "iopub.execute_input": "2023-04-21T13:38:25.388810Z",
     "iopub.status.busy": "2023-04-21T13:38:25.387983Z",
     "iopub.status.idle": "2023-04-21T13:38:25.395152Z",
     "shell.execute_reply": "2023-04-21T13:38:25.393590Z"
    },
    "jupyter": {
     "outputs_hidden": true
    },
    "papermill": {
     "duration": 0.022163,
     "end_time": "2023-04-21T13:38:25.399059",
     "exception": false,
     "start_time": "2023-04-21T13:38:25.376896",
     "status": "completed"
    },
    "tags": []
   },
   "outputs": [],
   "source": [
    "def least_difference(a, b, c):\n",
    "    diff1 = abs(a - b)\n",
    "    diff2 = abs(b - c)\n",
    "    diff3 = abs(a - c)\n",
    "    return min(diff1, diff2, diff3)"
   ]
  },
  {
   "cell_type": "markdown",
   "id": "f82e3e31",
   "metadata": {
    "papermill": {
     "duration": 0.008821,
     "end_time": "2023-04-21T13:38:25.416818",
     "exception": false,
     "start_time": "2023-04-21T13:38:25.407997",
     "status": "completed"
    },
    "tags": []
   },
   "source": [
    "Bu, `a`, `b` ve `c` olmak üzere üç argüman alan `least_difference` adlı bir işlev oluşturur.\n",
    "\n",
    "İşlevler, `def` anahtar sözcüğünün tanıttığı bir başlıkla başlar. `:` işlemini takip eden girintili kod bloğu, işlev çağrıldığında çalıştırılır.\n",
    "\n",
    "`return`, işlevlerle benzersiz bir şekilde ilişkili başka bir anahtar kelimedir. Python bir `return` ifadesiyle karşılaştığında, işlevden hemen çıkar ve sağ taraftaki değeri çağrı bağlamına geçirir.\n",
    "\n",
    "`least_difference()`'nin kaynak koddan ne yaptığı açık mı? Emin değilsek, her zaman birkaç örnekte deneyebiliriz:"
   ]
  },
  {
   "cell_type": "code",
   "execution_count": 5,
   "id": "a30f8f32",
   "metadata": {
    "collapsed": true,
    "execution": {
     "iopub.execute_input": "2023-04-21T13:38:25.436830Z",
     "iopub.status.busy": "2023-04-21T13:38:25.435968Z",
     "iopub.status.idle": "2023-04-21T13:38:25.443538Z",
     "shell.execute_reply": "2023-04-21T13:38:25.442016Z"
    },
    "jupyter": {
     "outputs_hidden": true
    },
    "papermill": {
     "duration": 0.021796,
     "end_time": "2023-04-21T13:38:25.447260",
     "exception": false,
     "start_time": "2023-04-21T13:38:25.425464",
     "status": "completed"
    },
    "tags": []
   },
   "outputs": [
    {
     "name": "stdout",
     "output_type": "stream",
     "text": [
      "9 0 1\n"
     ]
    }
   ],
   "source": [
    "print(\n",
    "    least_difference(1, 10, 100),\n",
    "    least_difference(1, 10, 10),\n",
    "    least_difference(5, 6, 7), # Python allows trailing commas in argument lists. How nice is that?\n",
    ")"
   ]
  },
  {
   "cell_type": "markdown",
   "id": "a20918fc",
   "metadata": {
    "papermill": {
     "duration": 0.008114,
     "end_time": "2023-04-21T13:38:25.463933",
     "exception": false,
     "start_time": "2023-04-21T13:38:25.455819",
     "status": "completed"
    },
    "tags": []
   },
   "source": [
    "Ya da belki `help()` işlevi bize bunun hakkında bir şeyler söyleyebilir."
   ]
  },
  {
   "cell_type": "code",
   "execution_count": 6,
   "id": "f9f2832e",
   "metadata": {
    "execution": {
     "iopub.execute_input": "2023-04-21T13:38:25.483135Z",
     "iopub.status.busy": "2023-04-21T13:38:25.482651Z",
     "iopub.status.idle": "2023-04-21T13:38:25.490876Z",
     "shell.execute_reply": "2023-04-21T13:38:25.488524Z"
    },
    "papermill": {
     "duration": 0.021805,
     "end_time": "2023-04-21T13:38:25.493966",
     "exception": false,
     "start_time": "2023-04-21T13:38:25.472161",
     "status": "completed"
    },
    "tags": []
   },
   "outputs": [
    {
     "name": "stdout",
     "output_type": "stream",
     "text": [
      "Help on function least_difference in module __main__:\n",
      "\n",
      "least_difference(a, b, c)\n",
      "\n"
     ]
    }
   ],
   "source": [
    "help(least_difference)"
   ]
  },
  {
   "cell_type": "markdown",
   "id": "4fe0bc86",
   "metadata": {
    "papermill": {
     "duration": 0.008041,
     "end_time": "2023-04-21T13:38:25.510740",
     "exception": false,
     "start_time": "2023-04-21T13:38:25.502699",
     "status": "completed"
    },
    "tags": []
   },
   "source": [
    "Python, kodumu okuyup güzel bir İngilizce açıklamaya dönüştürecek kadar akıllı değil. Ancak, bir işlev yazdığımda, **docstring** olarak adlandırılan bir açıklama sağlayabilirim.\n",
    "\n",
    "### Docstrings"
   ]
  },
  {
   "cell_type": "code",
   "execution_count": 7,
   "id": "4a0df5cf",
   "metadata": {
    "collapsed": true,
    "execution": {
     "iopub.execute_input": "2023-04-21T13:38:25.529798Z",
     "iopub.status.busy": "2023-04-21T13:38:25.529299Z",
     "iopub.status.idle": "2023-04-21T13:38:25.536951Z",
     "shell.execute_reply": "2023-04-21T13:38:25.535501Z"
    },
    "jupyter": {
     "outputs_hidden": true
    },
    "papermill": {
     "duration": 0.020821,
     "end_time": "2023-04-21T13:38:25.539804",
     "exception": false,
     "start_time": "2023-04-21T13:38:25.518983",
     "status": "completed"
    },
    "tags": []
   },
   "outputs": [],
   "source": [
    "def least_difference(a, b, c):\n",
    "    \"\"\"Return the smallest difference between any two numbers\n",
    "    among a, b and c.\n",
    "    \n",
    "    >>> least_difference(1, 5, -5)\n",
    "    4\n",
    "    \"\"\"\n",
    "    diff1 = abs(a - b)\n",
    "    diff2 = abs(b - c)\n",
    "    diff3 = abs(a - c)\n",
    "    return min(diff1, diff2, diff3)"
   ]
  },
  {
   "cell_type": "markdown",
   "id": "4c9791e8",
   "metadata": {
    "papermill": {
     "duration": 0.008313,
     "end_time": "2023-04-21T13:38:25.556704",
     "exception": false,
     "start_time": "2023-04-21T13:38:25.548391",
     "status": "completed"
    },
    "tags": []
   },
   "source": [
    "Docstring, bir işlevin başlığından hemen sonra gelen üçlü tırnaklı bir dizedir (birden çok satırı kapsayabilir). Bir fonksiyonda `help()` çağırdığımızda, docstring'i gösterir."
   ]
  },
  {
   "cell_type": "code",
   "execution_count": 8,
   "id": "5fd64ddb",
   "metadata": {
    "collapsed": true,
    "execution": {
     "iopub.execute_input": "2023-04-21T13:38:25.576966Z",
     "iopub.status.busy": "2023-04-21T13:38:25.576506Z",
     "iopub.status.idle": "2023-04-21T13:38:25.582206Z",
     "shell.execute_reply": "2023-04-21T13:38:25.581186Z"
    },
    "jupyter": {
     "outputs_hidden": true
    },
    "papermill": {
     "duration": 0.020073,
     "end_time": "2023-04-21T13:38:25.585772",
     "exception": false,
     "start_time": "2023-04-21T13:38:25.565699",
     "status": "completed"
    },
    "tags": []
   },
   "outputs": [
    {
     "name": "stdout",
     "output_type": "stream",
     "text": [
      "Help on function least_difference in module __main__:\n",
      "\n",
      "least_difference(a, b, c)\n",
      "    Return the smallest difference between any two numbers\n",
      "    among a, b and c.\n",
      "    \n",
      "    >>> least_difference(1, 5, -5)\n",
      "    4\n",
      "\n"
     ]
    }
   ],
   "source": [
    "help(least_difference)"
   ]
  },
  {
   "cell_type": "markdown",
   "id": "c3836dad",
   "metadata": {
    "papermill": {
     "duration": 0.008199,
     "end_time": "2023-04-21T13:38:25.604026",
     "exception": false,
     "start_time": "2023-04-21T13:38:25.595827",
     "status": "completed"
    },
    "tags": []
   },
   "source": [
    "> **Aside:**\n",
    "> The last two lines of the docstring are an example function call and result. (The `>>>` is a reference to the command prompt used in Python interactive shells.) Python doesn't run the example call - it's just there for the benefit of the reader. The convention of including 1 or more example calls in a function's docstring is far from universally observed, but it can be very effective at helping someone understand your function. For a real-world example, see [this docstring for the numpy function `np.eye`](https://github.com/numpy/numpy/blob/v1.14.2/numpy/lib/twodim_base.py#L140-L194)."
   ]
  },
  {
   "cell_type": "markdown",
   "id": "9b695620",
   "metadata": {
    "papermill": {
     "duration": 0.008263,
     "end_time": "2023-04-21T13:38:25.622020",
     "exception": false,
     "start_time": "2023-04-21T13:38:25.613757",
     "status": "completed"
    },
    "tags": []
   },
   "source": [
    "İyi programcılar, kodu kullanıldıktan kısa bir süre sonra atmayı beklemedikleri sürece docstrings kullanırlar (ki bu nadirdir). Yani, sen de docstrings yazmaya başlamalısın!"
   ]
  },
  {
   "cell_type": "markdown",
   "id": "21347c7f",
   "metadata": {
    "papermill": {
     "duration": 0.007955,
     "end_time": "2023-04-21T13:38:25.638816",
     "exception": false,
     "start_time": "2023-04-21T13:38:25.630861",
     "status": "completed"
    },
    "tags": []
   },
   "source": [
    "## Return'suz işlevler\n",
    "\n",
    "Fonksiyonumuza `return` anahtar kelimesini dahil etmeseydik ne olurdu?"
   ]
  },
  {
   "cell_type": "code",
   "execution_count": 9,
   "id": "2d00e038",
   "metadata": {
    "collapsed": true,
    "execution": {
     "iopub.execute_input": "2023-04-21T13:38:25.657551Z",
     "iopub.status.busy": "2023-04-21T13:38:25.657044Z",
     "iopub.status.idle": "2023-04-21T13:38:25.665538Z",
     "shell.execute_reply": "2023-04-21T13:38:25.663946Z"
    },
    "jupyter": {
     "outputs_hidden": true
    },
    "papermill": {
     "duration": 0.021371,
     "end_time": "2023-04-21T13:38:25.668624",
     "exception": false,
     "start_time": "2023-04-21T13:38:25.647253",
     "status": "completed"
    },
    "tags": []
   },
   "outputs": [
    {
     "name": "stdout",
     "output_type": "stream",
     "text": [
      "None None None\n"
     ]
    }
   ],
   "source": [
    "def least_difference(a, b, c):\n",
    "    \"\"\"Return the smallest difference between any two numbers\n",
    "    among a, b and c.\n",
    "    \"\"\"\n",
    "    diff1 = abs(a - b)\n",
    "    diff2 = abs(b - c)\n",
    "    diff3 = abs(a - c)\n",
    "    min(diff1, diff2, diff3)\n",
    "    \n",
    "print(\n",
    "    least_difference(1, 10, 100),\n",
    "    least_difference(1, 10, 10),\n",
    "    least_difference(5, 6, 7),\n",
    ")"
   ]
  },
  {
   "cell_type": "markdown",
   "id": "aa761171",
   "metadata": {
    "papermill": {
     "duration": 0.00817,
     "end_time": "2023-04-21T13:38:25.685413",
     "exception": false,
     "start_time": "2023-04-21T13:38:25.677243",
     "status": "completed"
    },
    "tags": []
   },
   "source": [
    "Python, bu tür işlevleri tanımlamamıza izin verir. Onları çağırmanın sonucu `Yok` özel değeridir. (Bu, diğer dillerdeki \"null\" kavramına benzer.)\n",
    "\n",
    "Bir `return` ifadesi olmadan, `least_difference` tamamen anlamsızdır, ancak yan etkileri olan bir işlev hiçbir şey döndürmeden yararlı bir şey yapabilir. Bunun iki örneğini zaten gördük: `print()` ve `help()` hiçbir şey döndürmez. Onları sadece yan etkileri için çağırırız (ekrana biraz metin koymak). Yararlı yan etkilerin diğer örnekleri arasında bir dosyaya yazmak veya bir girdiyi değiştirmek yer alır."
   ]
  },
  {
   "cell_type": "code",
   "execution_count": 10,
   "id": "b3a61ce4",
   "metadata": {
    "execution": {
     "iopub.execute_input": "2023-04-21T13:38:25.704258Z",
     "iopub.status.busy": "2023-04-21T13:38:25.703742Z",
     "iopub.status.idle": "2023-04-21T13:38:25.710361Z",
     "shell.execute_reply": "2023-04-21T13:38:25.709023Z"
    },
    "papermill": {
     "duration": 0.019955,
     "end_time": "2023-04-21T13:38:25.713785",
     "exception": false,
     "start_time": "2023-04-21T13:38:25.693830",
     "status": "completed"
    },
    "tags": []
   },
   "outputs": [
    {
     "name": "stdout",
     "output_type": "stream",
     "text": [
      "\n",
      "None\n"
     ]
    }
   ],
   "source": [
    "mystery = print()\n",
    "print(mystery)"
   ]
  },
  {
   "cell_type": "markdown",
   "id": "5a996623",
   "metadata": {
    "papermill": {
     "duration": 0.008874,
     "end_time": "2023-04-21T13:38:25.731623",
     "exception": false,
     "start_time": "2023-04-21T13:38:25.722749",
     "status": "completed"
    },
    "tags": []
   },
   "source": [
    "## Varsayılan argümanlar\n",
    "\n",
    "`help(print)`i çağırdığımızda, `print` işlevinin birkaç isteğe bağlı argümanı olduğunu gördük. Örneğin, basılı argümanlarımızın arasına özel bir dize koymak için `sep` için bir değer belirtebiliriz:"
   ]
  },
  {
   "cell_type": "code",
   "execution_count": 11,
   "id": "9a19679c",
   "metadata": {
    "collapsed": true,
    "execution": {
     "iopub.execute_input": "2023-04-21T13:38:25.751058Z",
     "iopub.status.busy": "2023-04-21T13:38:25.750303Z",
     "iopub.status.idle": "2023-04-21T13:38:25.757039Z",
     "shell.execute_reply": "2023-04-21T13:38:25.755698Z"
    },
    "jupyter": {
     "outputs_hidden": true
    },
    "papermill": {
     "duration": 0.019742,
     "end_time": "2023-04-21T13:38:25.759865",
     "exception": false,
     "start_time": "2023-04-21T13:38:25.740123",
     "status": "completed"
    },
    "tags": []
   },
   "outputs": [
    {
     "name": "stdout",
     "output_type": "stream",
     "text": [
      "1 < 2 < 3\n"
     ]
    }
   ],
   "source": [
    "print(1, 2, 3, sep=' < ')"
   ]
  },
  {
   "cell_type": "markdown",
   "id": "45a08179",
   "metadata": {
    "papermill": {
     "duration": 0.008779,
     "end_time": "2023-04-21T13:38:25.777722",
     "exception": false,
     "start_time": "2023-04-21T13:38:25.768943",
     "status": "completed"
    },
    "tags": []
   },
   "source": [
    "Ancak bir değer belirtmezsek, `sep` varsayılan değeri `' '` (tek bir boşluk) olarak kabul edilir."
   ]
  },
  {
   "cell_type": "code",
   "execution_count": 12,
   "id": "22339a43",
   "metadata": {
    "collapsed": true,
    "execution": {
     "iopub.execute_input": "2023-04-21T13:38:25.798712Z",
     "iopub.status.busy": "2023-04-21T13:38:25.798257Z",
     "iopub.status.idle": "2023-04-21T13:38:25.805640Z",
     "shell.execute_reply": "2023-04-21T13:38:25.803896Z"
    },
    "jupyter": {
     "outputs_hidden": true
    },
    "papermill": {
     "duration": 0.021199,
     "end_time": "2023-04-21T13:38:25.808538",
     "exception": false,
     "start_time": "2023-04-21T13:38:25.787339",
     "status": "completed"
    },
    "tags": []
   },
   "outputs": [
    {
     "name": "stdout",
     "output_type": "stream",
     "text": [
      "1 2 3\n"
     ]
    }
   ],
   "source": [
    "print(1, 2, 3)"
   ]
  },
  {
   "cell_type": "markdown",
   "id": "d90a625f",
   "metadata": {
    "papermill": {
     "duration": 0.00881,
     "end_time": "2023-04-21T13:38:25.827116",
     "exception": false,
     "start_time": "2023-04-21T13:38:25.818306",
     "status": "completed"
    },
    "tags": []
   },
   "source": [
    "Tanımladığımız işlevlere varsayılan değerlere sahip isteğe bağlı argümanlar eklemek oldukça kolay:"
   ]
  },
  {
   "cell_type": "code",
   "execution_count": 13,
   "id": "f0775277",
   "metadata": {
    "execution": {
     "iopub.execute_input": "2023-04-21T13:38:25.848458Z",
     "iopub.status.busy": "2023-04-21T13:38:25.847937Z",
     "iopub.status.idle": "2023-04-21T13:38:25.856367Z",
     "shell.execute_reply": "2023-04-21T13:38:25.854954Z"
    },
    "papermill": {
     "duration": 0.022574,
     "end_time": "2023-04-21T13:38:25.858888",
     "exception": false,
     "start_time": "2023-04-21T13:38:25.836314",
     "status": "completed"
    },
    "tags": []
   },
   "outputs": [
    {
     "name": "stdout",
     "output_type": "stream",
     "text": [
      "Hello, Colin\n",
      "Hello, Kaggle\n",
      "Hello, world\n"
     ]
    }
   ],
   "source": [
    "def greet(who=\"Colin\"):\n",
    "    print(\"Hello,\", who)\n",
    "    \n",
    "greet()\n",
    "greet(who=\"Kaggle\")\n",
    "# (In this case, we don't need to specify the name of the argument, because it's unambiguous.)\n",
    "greet(\"world\")"
   ]
  },
  {
   "cell_type": "markdown",
   "id": "20cc096a",
   "metadata": {
    "papermill": {
     "duration": 0.00932,
     "end_time": "2023-04-21T13:38:25.877950",
     "exception": false,
     "start_time": "2023-04-21T13:38:25.868630",
     "status": "completed"
    },
    "tags": []
   },
   "source": [
    "## Fonksiyonlara Uygulanan Fonksiyonlar\n",
    "\n",
    "İşte güçlü bir şey, ancak ilk başta çok soyut hissettirebilir. İşlevleri diğer işlevlere argüman olarak sağlayabilirsiniz. Bazı örnekler bunu daha net hale getirebilir:"
   ]
  },
  {
   "cell_type": "code",
   "execution_count": 14,
   "id": "d9b0d078",
   "metadata": {
    "execution": {
     "iopub.execute_input": "2023-04-21T13:38:25.898150Z",
     "iopub.status.busy": "2023-04-21T13:38:25.897640Z",
     "iopub.status.idle": "2023-04-21T13:38:25.906084Z",
     "shell.execute_reply": "2023-04-21T13:38:25.904634Z"
    },
    "papermill": {
     "duration": 0.021616,
     "end_time": "2023-04-21T13:38:25.908614",
     "exception": false,
     "start_time": "2023-04-21T13:38:25.886998",
     "status": "completed"
    },
    "tags": []
   },
   "outputs": [
    {
     "name": "stdout",
     "output_type": "stream",
     "text": [
      "5\n",
      "25\n"
     ]
    }
   ],
   "source": [
    "def mult_by_five(x):\n",
    "    return 5 * x\n",
    "\n",
    "def call(fn, arg):\n",
    "    \"\"\"Call fn on arg\"\"\"\n",
    "    return fn(arg)\n",
    "\n",
    "def squared_call(fn, arg):\n",
    "    \"\"\"Call fn on the result of calling fn on arg\"\"\"\n",
    "    return fn(fn(arg))\n",
    "\n",
    "print(\n",
    "    call(mult_by_five, 1),\n",
    "    squared_call(mult_by_five, 1), \n",
    "    sep='\\n', # '\\n' is the newline character - it starts a new line\n",
    ")"
   ]
  },
  {
   "cell_type": "markdown",
   "id": "2ea5653d",
   "metadata": {
    "papermill": {
     "duration": 0.00879,
     "end_time": "2023-04-21T13:38:25.926504",
     "exception": false,
     "start_time": "2023-04-21T13:38:25.917714",
     "status": "completed"
    },
    "tags": []
   },
   "source": [
    "Diğer işlevler üzerinde çalışan işlevlere \"yüksek dereceli işlevler\" denir. Muhtemelen bir süre kendi yazınızı yazmayacaksınız. Ancak Python'da yerleşik olarak yerleşik, çağırmayı yararlı bulabileceğiniz üst düzey işlevler vardır.\n",
    "\n",
    "İşte `max` işlevini kullanan ilginç bir örnek.\n",
    "\n",
    "Varsayılan olarak, `max` argümanlarının en büyüğünü döndürür. Ancak isteğe bağlı `key` argümanını kullanarak bir işlev iletirsek, `key(x)` (diğer adıyla 'argmax') en üst düzeye çıkaran `x` argümanını döndürür."
   ]
  },
  {
   "cell_type": "code",
   "execution_count": 15,
   "id": "d0b2d2e3",
   "metadata": {
    "execution": {
     "iopub.execute_input": "2023-04-21T13:38:25.947919Z",
     "iopub.status.busy": "2023-04-21T13:38:25.947045Z",
     "iopub.status.idle": "2023-04-21T13:38:25.954937Z",
     "shell.execute_reply": "2023-04-21T13:38:25.953497Z"
    },
    "papermill": {
     "duration": 0.021022,
     "end_time": "2023-04-21T13:38:25.957485",
     "exception": false,
     "start_time": "2023-04-21T13:38:25.936463",
     "status": "completed"
    },
    "tags": []
   },
   "outputs": [
    {
     "name": "stdout",
     "output_type": "stream",
     "text": [
      "Which number is biggest?\n",
      "100\n",
      "Which number is the biggest modulo 5?\n",
      "14\n"
     ]
    }
   ],
   "source": [
    "def mod_5(x):\n",
    "    \"\"\"Return the remainder of x after dividing by 5\"\"\"\n",
    "    return x % 5\n",
    "\n",
    "print(\n",
    "    'Which number is biggest?',\n",
    "    max(100, 51, 14),\n",
    "    'Which number is the biggest modulo 5?',\n",
    "    max(100, 51, 14, key=mod_5),\n",
    "    sep='\\n',\n",
    ")"
   ]
  },
  {
   "cell_type": "markdown",
   "id": "2957f0e9",
   "metadata": {
    "papermill": {
     "duration": 0.008856,
     "end_time": "2023-04-21T13:38:25.975509",
     "exception": false,
     "start_time": "2023-04-21T13:38:25.966653",
     "status": "completed"
    },
    "tags": []
   },
   "source": [
    "# Senin Sıran\n",
    "\n",
    "İşlevler, Python programlamada yepyeni bir dünya açar. **[Onları kendiniz kullanmayı deneyin](https://www.kaggle.com/kernels/fork/1275158)**."
   ]
  },
  {
   "cell_type": "markdown",
   "id": "b0508526",
   "metadata": {
    "papermill": {
     "duration": 0.008749,
     "end_time": "2023-04-21T13:38:25.993318",
     "exception": false,
     "start_time": "2023-04-21T13:38:25.984569",
     "status": "completed"
    },
    "tags": []
   },
   "source": [
    "---\n",
    "\n",
    "\n",
    "\n",
    "\n",
    "*Have questions or comments? Visit the [course discussion forum](https://www.kaggle.com/learn/python/discussion) to chat with other learners.*"
   ]
  },
  {
   "cell_type": "markdown",
   "id": "1e8b2f1a",
   "metadata": {
    "papermill": {
     "duration": 0.007328,
     "end_time": "2023-04-21T13:38:29.516338",
     "exception": false,
     "start_time": "2023-04-21T13:38:29.509010",
     "status": "completed"
    },
    "tags": []
   },
   "source": [
    "# 03 Booleans and Conditionals\n",
    "\n",
    "## Boolean\n",
    "\n",
    "Python'un `bool` adlı bir değişken türü vardır. İki olası değeri vardır: `True` ve `False`."
   ]
  },
  {
   "cell_type": "code",
   "execution_count": 1,
   "id": "e768c13d",
   "metadata": {
    "collapsed": true,
    "execution": {
     "iopub.execute_input": "2023-04-21T13:38:29.530925Z",
     "iopub.status.busy": "2023-04-21T13:38:29.530343Z",
     "iopub.status.idle": "2023-04-21T13:38:29.544456Z",
     "shell.execute_reply": "2023-04-21T13:38:29.543186Z"
    },
    "jupyter": {
     "outputs_hidden": true
    },
    "papermill": {
     "duration": 0.024363,
     "end_time": "2023-04-21T13:38:29.547171",
     "exception": false,
     "start_time": "2023-04-21T13:38:29.522808",
     "status": "completed"
    },
    "tags": []
   },
   "outputs": [
    {
     "name": "stdout",
     "output_type": "stream",
     "text": [
      "True\n",
      "<class 'bool'>\n"
     ]
    }
   ],
   "source": [
    "x = True\n",
    "print(x)\n",
    "print(type(x))"
   ]
  },
  {
   "cell_type": "markdown",
   "id": "d9f64c87",
   "metadata": {
    "papermill": {
     "duration": 0.005367,
     "end_time": "2023-04-21T13:38:29.558316",
     "exception": false,
     "start_time": "2023-04-21T13:38:29.552949",
     "status": "completed"
    },
    "tags": []
   },
   "source": [
    "Doğrudan kodumuza `True` veya `False` koymak yerine, genellikle **boole operatörlerinden** boolean değerleri alırız. Bunlar evet/hayır sorularını yanıtlayan operatörlerdir. Aşağıdaki bu operatörlerden bazılarını gözden geçireceğiz."
   ]
  },
  {
   "cell_type": "markdown",
   "id": "b47489b0",
   "metadata": {
    "papermill": {
     "duration": 0.005284,
     "end_time": "2023-04-21T13:38:29.569200",
     "exception": false,
     "start_time": "2023-04-21T13:38:29.563916",
     "status": "completed"
    },
    "tags": []
   },
   "source": [
    "## Comparison Operations\n",
    "\n",
    "|Operation|Description|\n",
    "|---|---|\n",
    "|``a == b``|``a`` equal to ``b``| \n",
    "|``a != b``|``a`` not equal to ``b``|\n",
    "|``a < b``|``a`` less than ``b``| \n",
    "|``a > b``|``a`` greater than ``b``|\n",
    "|``a <= b``|``a`` less than or equal t``b``| \n",
    "|``a >= b``|``a`` greater than or equal to ``b``|\n"
   ]
  },
  {
   "cell_type": "code",
   "execution_count": 2,
   "id": "3b6b0b7e",
   "metadata": {
    "execution": {
     "iopub.execute_input": "2023-04-21T13:38:29.582537Z",
     "iopub.status.busy": "2023-04-21T13:38:29.582094Z",
     "iopub.status.idle": "2023-04-21T13:38:29.589073Z",
     "shell.execute_reply": "2023-04-21T13:38:29.587929Z"
    },
    "papermill": {
     "duration": 0.016587,
     "end_time": "2023-04-21T13:38:29.591524",
     "exception": false,
     "start_time": "2023-04-21T13:38:29.574937",
     "status": "completed"
    },
    "tags": []
   },
   "outputs": [
    {
     "name": "stdout",
     "output_type": "stream",
     "text": [
      "Can a 19-year-old run for president? False\n",
      "Can a 45-year-old run for president? True\n"
     ]
    }
   ],
   "source": [
    "def can_run_for_president(age):\n",
    "    \"\"\"Can someone of the given age run for president in the US?\"\"\"\n",
    "    # The US Constitution says you must be at least 35 years old\n",
    "    return age >= 35\n",
    "\n",
    "print(\"Can a 19-year-old run for president?\", can_run_for_president(19))\n",
    "print(\"Can a 45-year-old run for president?\", can_run_for_president(45))"
   ]
  },
  {
   "cell_type": "markdown",
   "id": "aa8045a1",
   "metadata": {
    "papermill": {
     "duration": 0.005274,
     "end_time": "2023-04-21T13:38:29.602562",
     "exception": false,
     "start_time": "2023-04-21T13:38:29.597288",
     "status": "completed"
    },
    "tags": []
   },
   "source": [
    "Karşılaştırmalar sık sık umduğunuz gibi çalışır"
   ]
  },
  {
   "cell_type": "code",
   "execution_count": 3,
   "id": "b2154de5",
   "metadata": {
    "collapsed": true,
    "execution": {
     "iopub.execute_input": "2023-04-21T13:38:29.615584Z",
     "iopub.status.busy": "2023-04-21T13:38:29.615134Z",
     "iopub.status.idle": "2023-04-21T13:38:29.623659Z",
     "shell.execute_reply": "2023-04-21T13:38:29.622445Z"
    },
    "jupyter": {
     "outputs_hidden": true
    },
    "papermill": {
     "duration": 0.017864,
     "end_time": "2023-04-21T13:38:29.625912",
     "exception": false,
     "start_time": "2023-04-21T13:38:29.608048",
     "status": "completed"
    },
    "tags": []
   },
   "outputs": [
    {
     "data": {
      "text/plain": [
       "True"
      ]
     },
     "execution_count": 3,
     "metadata": {},
     "output_type": "execute_result"
    }
   ],
   "source": [
    "3.0 == 3"
   ]
  },
  {
   "cell_type": "markdown",
   "id": "900e29b0",
   "metadata": {
    "papermill": {
     "duration": 0.005442,
     "end_time": "2023-04-21T13:38:29.637169",
     "exception": false,
     "start_time": "2023-04-21T13:38:29.631727",
     "status": "completed"
    },
    "tags": []
   },
   "source": [
    "Ama bazen zor olabilirler"
   ]
  },
  {
   "cell_type": "code",
   "execution_count": 4,
   "id": "c952e75f",
   "metadata": {
    "collapsed": true,
    "execution": {
     "iopub.execute_input": "2023-04-21T13:38:29.650625Z",
     "iopub.status.busy": "2023-04-21T13:38:29.650188Z",
     "iopub.status.idle": "2023-04-21T13:38:29.656859Z",
     "shell.execute_reply": "2023-04-21T13:38:29.655781Z"
    },
    "jupyter": {
     "outputs_hidden": true
    },
    "papermill": {
     "duration": 0.015986,
     "end_time": "2023-04-21T13:38:29.658957",
     "exception": false,
     "start_time": "2023-04-21T13:38:29.642971",
     "status": "completed"
    },
    "tags": []
   },
   "outputs": [
    {
     "data": {
      "text/plain": [
       "False"
      ]
     },
     "execution_count": 4,
     "metadata": {},
     "output_type": "execute_result"
    }
   ],
   "source": [
    "'3' == 3"
   ]
  },
  {
   "cell_type": "markdown",
   "id": "a22d1760",
   "metadata": {
    "papermill": {
     "duration": 0.005704,
     "end_time": "2023-04-21T13:38:29.670576",
     "exception": false,
     "start_time": "2023-04-21T13:38:29.664872",
     "status": "completed"
    },
    "tags": []
   },
   "source": [
    "Karşılaştırma operatörleri, neredeyse sınırsız sayıda matematiksel testi ifade etmek için daha önce gördüğümüz aritmetik operatörlerle birleştirilebilir. Örneğin, 2'li modülün 1: döndürüp döndürmediğini kontrol ederek bir sayının tek olup olmadığını kontrol edebiliriz."
   ]
  },
  {
   "cell_type": "code",
   "execution_count": 5,
   "id": "07132943",
   "metadata": {
    "execution": {
     "iopub.execute_input": "2023-04-21T13:38:29.684024Z",
     "iopub.status.busy": "2023-04-21T13:38:29.683593Z",
     "iopub.status.idle": "2023-04-21T13:38:29.689694Z",
     "shell.execute_reply": "2023-04-21T13:38:29.688828Z"
    },
    "papermill": {
     "duration": 0.01578,
     "end_time": "2023-04-21T13:38:29.692212",
     "exception": false,
     "start_time": "2023-04-21T13:38:29.676432",
     "status": "completed"
    },
    "tags": []
   },
   "outputs": [
    {
     "name": "stdout",
     "output_type": "stream",
     "text": [
      "Is 100 odd? False\n",
      "Is -1 odd? True\n"
     ]
    }
   ],
   "source": [
    "def is_odd(n):\n",
    "    return (n % 2) == 1\n",
    "\n",
    "print(\"Is 100 odd?\", is_odd(100))\n",
    "print(\"Is -1 odd?\", is_odd(-1))"
   ]
  },
  {
   "cell_type": "markdown",
   "id": "95921dff",
   "metadata": {
    "papermill": {
     "duration": 0.005688,
     "end_time": "2023-04-21T13:38:29.705001",
     "exception": false,
     "start_time": "2023-04-21T13:38:29.699313",
     "status": "completed"
    },
    "tags": []
   },
   "source": [
    "Karşılaştırma yaparken `=` yerine `==` kullanmayı unutmayın. `n == 2` yazarsanız, n'nin değerini soruyorsunuz. `n = 2` yazdığınızda n değerini değiştiriyorsunuz."
   ]
  },
  {
   "cell_type": "markdown",
   "id": "a7437d5e",
   "metadata": {
    "papermill": {
     "duration": 0.005967,
     "end_time": "2023-04-21T13:38:29.717047",
     "exception": false,
     "start_time": "2023-04-21T13:38:29.711080",
     "status": "completed"
    },
    "tags": []
   },
   "source": [
    "## Boole Değerlerini Birleştirme\n",
    "\n",
    "\"and\", \"or\" ve \"not\" standart kavramlarını kullanarak boole değerlerini birleştirebilirsiniz. Aslında, bunu yapacak kelimeler şunlardır: ``and``, ``or``, ve ```not```.\n",
    "\n",
    "Bunlarla `can_run_for_president` fonksiyonumuzu daha doğru hale getirebiliriz."
   ]
  },
  {
   "cell_type": "code",
   "execution_count": 6,
   "id": "50360320",
   "metadata": {
    "execution": {
     "iopub.execute_input": "2023-04-21T13:38:29.731582Z",
     "iopub.status.busy": "2023-04-21T13:38:29.730781Z",
     "iopub.status.idle": "2023-04-21T13:38:29.738209Z",
     "shell.execute_reply": "2023-04-21T13:38:29.736921Z"
    },
    "papermill": {
     "duration": 0.017422,
     "end_time": "2023-04-21T13:38:29.740593",
     "exception": false,
     "start_time": "2023-04-21T13:38:29.723171",
     "status": "completed"
    },
    "tags": []
   },
   "outputs": [
    {
     "name": "stdout",
     "output_type": "stream",
     "text": [
      "False\n",
      "False\n",
      "True\n"
     ]
    }
   ],
   "source": [
    "def can_run_for_president(age, is_natural_born_citizen):\n",
    "    \"\"\"Can someone of the given age and citizenship status run for president in the US?\"\"\"\n",
    "    # The US Constitution says you must be a natural born citizen *and* at least 35 years old\n",
    "    return is_natural_born_citizen and (age >= 35)\n",
    "\n",
    "print(can_run_for_president(19, True))\n",
    "print(can_run_for_president(55, False))\n",
    "print(can_run_for_president(55, True))"
   ]
  },
  {
   "cell_type": "markdown",
   "id": "967b5738",
   "metadata": {
    "papermill": {
     "duration": 0.005965,
     "end_time": "2023-04-21T13:38:29.752721",
     "exception": false,
     "start_time": "2023-04-21T13:38:29.746756",
     "status": "completed"
    },
    "tags": []
   },
   "source": [
    "Çabuk, bu ifadenin değerini tahmin edebilir misin?"
   ]
  },
  {
   "cell_type": "code",
   "execution_count": 7,
   "id": "52519a2c",
   "metadata": {
    "_kg_hide-output": true,
    "execution": {
     "iopub.execute_input": "2023-04-21T13:38:29.767404Z",
     "iopub.status.busy": "2023-04-21T13:38:29.766582Z",
     "iopub.status.idle": "2023-04-21T13:38:29.772678Z",
     "shell.execute_reply": "2023-04-21T13:38:29.771813Z"
    },
    "papermill": {
     "duration": 0.016191,
     "end_time": "2023-04-21T13:38:29.775056",
     "exception": false,
     "start_time": "2023-04-21T13:38:29.758865",
     "status": "completed"
    },
    "tags": []
   },
   "outputs": [
    {
     "data": {
      "text/plain": [
       "True"
      ]
     },
     "execution_count": 7,
     "metadata": {},
     "output_type": "execute_result"
    }
   ],
   "source": [
    "True or True and False"
   ]
  },
  {
   "cell_type": "markdown",
   "id": "e8dc0dfc",
   "metadata": {
    "papermill": {
     "duration": 0.006032,
     "end_time": "2023-04-21T13:38:29.787736",
     "exception": false,
     "start_time": "2023-04-21T13:38:29.781704",
     "status": "completed"
    },
    "tags": []
   },
   "source": [
    "(Cevabı görmek için \"çıktı\" düğmesine tıklayın)\n",
    "\n",
    "Buna cevap vermek için operasyonların sırasını bulmanız gerekir.\n",
    "\n",
    "Örneğin, `ve`, `veya`dan önce değerlendirilir. Bu nedenle yukarıdaki ilk ifade `True`dur. Onu soldan sağa değerlendirseydik, önce `Doğru veya Doğru`yu hesaplardık (ki bu `Doğru`) ve ardından bu sonucun `ve`sini `Yanlış` nihai değeri vererek `Yanlış` ile alırdık.\n",
    "\n",
    "[Öncelik sırasını ezberlemeyi](https://docs.python.org/3/reference/expressions.html#operator-precedence) deneyebilirsiniz , ancak daha güvenli bir bahis sadece liberal parantez kullanmaktır. Bu sadece hataları önlemeye yardımcı olmakla kalmaz, aynı zamanda kodunuzu okuyan herkes için niyetlerinizi daha net hale getirir.\n",
    "\n",
    "Örneğin, aşağıdaki ifadeyi düşünün:\n",
    "\n",
    "```python\n",
    "prepared_for_weather = have_umbrella or rain_level < 5 and have_hood or not rain_level > 0 and is_workday\n",
    "```\n",
    "\n",
    "Bugünün havasından güvende olduğumu söylemeye çalışıyorum....\n",
    "\n",
    "- şemsiyem varsa...\n",
    "\n",
    "- ya da yağmur çok şiddetli değilse ve bir montum varsa...\n",
    "\n",
    "- aksi takdirde, yağmur yağmadığı sürece hala iyiyim *ve* iş günü\n",
    "\n",
    "Ama sadece Python kodumu okumak zor değil, aynı zamanda bir hatası var. Bazı parantezler ekleyerek her iki sorunu da çözebiliriz:\n",
    "\n",
    "```python\n",
    "prepared_for_weather = have_umbrella or (rain_level < 5 and have_hood) or not (rain_level > 0 and is_workday)\n",
    "```\n",
    "\n",
    "Okunabilirliğe yardımcı olduğunu düşünüyorsanız daha da fazla parantez ekleyebilirsiniz:\n",
    "\n",
    "```python\n",
    "prepared_for_weather = have_umbrella or ((rain_level < 5) and have_hood) or (not (rain_level > 0 and is_workday))\n",
    "```\n",
    "\n",
    "Yukarıda açıklanan 3 parçalı yapıyı vurgulamak için onu birden fazla satıra da bölebiliriz:\n",
    "\n",
    "```python\n",
    "prepared_for_weather = (\n",
    "    have_umbrella \n",
    "    or ((rain_level < 5) and have_hood) \n",
    "    or (not (rain_level > 0 and is_workday))\n",
    ")\n",
    "```"
   ]
  },
  {
   "cell_type": "markdown",
   "id": "f7e420b5",
   "metadata": {
    "papermill": {
     "duration": 0.005994,
     "end_time": "2023-04-21T13:38:29.800200",
     "exception": false,
     "start_time": "2023-04-21T13:38:29.794206",
     "status": "completed"
    },
    "tags": []
   },
   "source": [
    "# Conditionals\n",
    "\n",
    "Booleanlar, ``if``, ``elif`` ve ``else`` anahtar kelimelerini kullanarak *koşullu ifadeler* ile birleştirildiğinde en kullanışlıdır.\n",
    "\n",
    "Genellikle *if-then* ifadeleri olarak adlandırılan koşullu ifadeler, bazı Boole koşullarının değerine göre hangi kod parçalarının çalıştırıldığını kontrol etmenizi sağlar.\n",
    "\n",
    "İşte bir örnek:"
   ]
  },
  {
   "cell_type": "code",
   "execution_count": 8,
   "id": "afe80d76",
   "metadata": {
    "execution": {
     "iopub.execute_input": "2023-04-21T13:38:29.815584Z",
     "iopub.status.busy": "2023-04-21T13:38:29.814335Z",
     "iopub.status.idle": "2023-04-21T13:38:29.822868Z",
     "shell.execute_reply": "2023-04-21T13:38:29.821485Z"
    },
    "papermill": {
     "duration": 0.018648,
     "end_time": "2023-04-21T13:38:29.825144",
     "exception": false,
     "start_time": "2023-04-21T13:38:29.806496",
     "status": "completed"
    },
    "tags": []
   },
   "outputs": [
    {
     "name": "stdout",
     "output_type": "stream",
     "text": [
      "0 is zero\n",
      "-15 is negative\n"
     ]
    }
   ],
   "source": [
    "def inspect(x):\n",
    "    if x == 0:\n",
    "        print(x, \"is zero\")\n",
    "    elif x > 0:\n",
    "        print(x, \"is positive\")\n",
    "    elif x < 0:\n",
    "        print(x, \"is negative\")\n",
    "    else:\n",
    "        print(x, \"is unlike anything I've ever seen...\")\n",
    "\n",
    "inspect(0)\n",
    "inspect(-15)"
   ]
  },
  {
   "cell_type": "markdown",
   "id": "48f3bb03",
   "metadata": {
    "papermill": {
     "duration": 0.006153,
     "end_time": "2023-04-21T13:38:29.837802",
     "exception": false,
     "start_time": "2023-04-21T13:38:29.831649",
     "status": "completed"
    },
    "tags": []
   },
   "source": [
    "``if`` ve ```else``` anahtar kelimeleri genellikle diğer dillerde kullanılır; daha benzersiz anahtar kelimesi ``elif``, \"else if\"in bir daralmasıdır.\n",
    "\n",
    "Bu koşullu cümlelerde, ``elif`` ve ``else`` blokları isteğe bağlıdır; ayrıca istediğiniz kadar ``elif`` ifadesi ekleyebilirsiniz.\n",
    "\n",
    "Ayrı kod bloklarını belirtmek için özellikle iki nokta üst üste (``:``) ve boşluk kullanımına dikkat edin. Bu, bir işlev tanımladığımızda olana benzer - işlev başlığı `:` ile biter ve aşağıdaki satır 4 boşlukla girintilidir. Sonraki tüm girintili satırlar, işlev tanımını sona erdiren girintisiz bir satırla karşılaşana kadar işlevin gövdesine aittir."
   ]
  },
  {
   "cell_type": "code",
   "execution_count": 9,
   "id": "049b46c9",
   "metadata": {
    "collapsed": true,
    "execution": {
     "iopub.execute_input": "2023-04-21T13:38:29.853636Z",
     "iopub.status.busy": "2023-04-21T13:38:29.852844Z",
     "iopub.status.idle": "2023-04-21T13:38:29.860262Z",
     "shell.execute_reply": "2023-04-21T13:38:29.858836Z"
    },
    "jupyter": {
     "outputs_hidden": true
    },
    "papermill": {
     "duration": 0.017945,
     "end_time": "2023-04-21T13:38:29.862680",
     "exception": false,
     "start_time": "2023-04-21T13:38:29.844735",
     "status": "completed"
    },
    "tags": []
   },
   "outputs": [
    {
     "name": "stdout",
     "output_type": "stream",
     "text": [
      "Only printed when x is positive; x = 1\n",
      "Also only printed when x is positive; x = 1\n",
      "Always printed, regardless of x's value; x = 1\n",
      "Always printed, regardless of x's value; x = 0\n"
     ]
    }
   ],
   "source": [
    "def f(x):\n",
    "    if x > 0:\n",
    "        print(\"Only printed when x is positive; x =\", x)\n",
    "        print(\"Also only printed when x is positive; x =\", x)\n",
    "    print(\"Always printed, regardless of x's value; x =\", x)\n",
    "\n",
    "f(1)\n",
    "f(0)"
   ]
  },
  {
   "cell_type": "markdown",
   "id": "77ae8102",
   "metadata": {
    "papermill": {
     "duration": 0.006234,
     "end_time": "2023-04-21T13:38:29.875492",
     "exception": false,
     "start_time": "2023-04-21T13:38:29.869258",
     "status": "completed"
    },
    "tags": []
   },
   "source": [
    "## Boole dönüşümü\n",
    "\n",
    "Şeyleri int'e dönüştüren `int()` ve şeyleri floats'a dönüştüren `float()` gördük, bu nedenle Python'un şeyleri bools'a dönüştüren bir `bool()` işlevine sahip olduğunu duymak sizi şaşırtmayabilir."
   ]
  },
  {
   "cell_type": "code",
   "execution_count": 10,
   "id": "7be226fd",
   "metadata": {
    "collapsed": true,
    "execution": {
     "iopub.execute_input": "2023-04-21T13:38:29.890872Z",
     "iopub.status.busy": "2023-04-21T13:38:29.890123Z",
     "iopub.status.idle": "2023-04-21T13:38:29.896410Z",
     "shell.execute_reply": "2023-04-21T13:38:29.895131Z"
    },
    "jupyter": {
     "outputs_hidden": true
    },
    "papermill": {
     "duration": 0.016737,
     "end_time": "2023-04-21T13:38:29.898755",
     "exception": false,
     "start_time": "2023-04-21T13:38:29.882018",
     "status": "completed"
    },
    "tags": []
   },
   "outputs": [
    {
     "name": "stdout",
     "output_type": "stream",
     "text": [
      "True\n",
      "False\n",
      "True\n",
      "False\n"
     ]
    }
   ],
   "source": [
    "print(bool(1)) # all numbers are treated as true, except 0\n",
    "print(bool(0))\n",
    "print(bool(\"asf\")) # all strings are treated as true, except the empty string \"\"\n",
    "print(bool(\"\"))\n",
    "# Generally empty sequences (strings, lists, and other types we've yet to see like lists and tuples)\n",
    "# are \"falsey\" and the rest are \"truthy\""
   ]
  },
  {
   "cell_type": "markdown",
   "id": "66cb29bb",
   "metadata": {
    "papermill": {
     "duration": 0.006408,
     "end_time": "2023-04-21T13:38:29.912149",
     "exception": false,
     "start_time": "2023-04-21T13:38:29.905741",
     "status": "completed"
    },
    "tags": []
   },
   "source": [
    "Boole olmayan nesneleri `if` koşullarında ve bir boolean'ın bekleneceği diğer yerlerde kullanabiliriz. Python, onları dolaylı olarak karşılık gelen boole değerleri olarak ele alacaktır:"
   ]
  },
  {
   "cell_type": "code",
   "execution_count": 11,
   "id": "0887c35a",
   "metadata": {
    "collapsed": true,
    "execution": {
     "iopub.execute_input": "2023-04-21T13:38:29.928188Z",
     "iopub.status.busy": "2023-04-21T13:38:29.927100Z",
     "iopub.status.idle": "2023-04-21T13:38:29.933992Z",
     "shell.execute_reply": "2023-04-21T13:38:29.932665Z"
    },
    "jupyter": {
     "outputs_hidden": true
    },
    "papermill": {
     "duration": 0.017929,
     "end_time": "2023-04-21T13:38:29.936693",
     "exception": false,
     "start_time": "2023-04-21T13:38:29.918764",
     "status": "completed"
    },
    "tags": []
   },
   "outputs": [
    {
     "name": "stdout",
     "output_type": "stream",
     "text": [
      "spam\n"
     ]
    }
   ],
   "source": [
    "if 0:\n",
    "    print(0)\n",
    "elif \"spam\":\n",
    "    print(\"spam\")"
   ]
  },
  {
   "cell_type": "markdown",
   "id": "b875825a",
   "metadata": {
    "papermill": {
     "duration": 0.006804,
     "end_time": "2023-04-21T13:38:29.950402",
     "exception": false,
     "start_time": "2023-04-21T13:38:29.943598",
     "status": "completed"
    },
    "tags": []
   },
   "source": [
    "# Senin Sıran\n",
    "\n",
    "Muhtemelen şimdiye kadar ne kadar çok şey öğrendiğinin farkında değilsin. **[hands-on kodlama problemlerini](https://www.kaggle.com/kernels/fork/1275165)** deneyin ve ne kadar yapabileceğinize hoş bir şekilde şaşıracaksınız."
   ]
  },
  {
   "cell_type": "markdown",
   "id": "af6f36e3",
   "metadata": {
    "papermill": {
     "duration": 0.006493,
     "end_time": "2023-04-21T13:38:29.963754",
     "exception": false,
     "start_time": "2023-04-21T13:38:29.957261",
     "status": "completed"
    },
    "tags": []
   },
   "source": [
    "---"
   ]
  },
  {
   "cell_type": "markdown",
   "id": "37c97d16",
   "metadata": {
    "papermill": {
     "duration": 0.013785,
     "end_time": "2023-04-21T13:38:31.904863",
     "exception": false,
     "start_time": "2023-04-21T13:38:31.891078",
     "status": "completed"
    },
    "tags": []
   },
   "source": [
    "# 04 Listeler\n",
    "\n",
    "Python'daki listeler, sıralı değer dizilerini temsil eder. İşte bunların nasıl oluşturulacağına dair bir örnek:"
   ]
  },
  {
   "cell_type": "code",
   "execution_count": 1,
   "id": "ecdfd8c3",
   "metadata": {
    "collapsed": true,
    "execution": {
     "iopub.execute_input": "2023-04-21T13:38:31.937537Z",
     "iopub.status.busy": "2023-04-21T13:38:31.936276Z",
     "iopub.status.idle": "2023-04-21T13:38:31.949287Z",
     "shell.execute_reply": "2023-04-21T13:38:31.948303Z"
    },
    "jupyter": {
     "outputs_hidden": true
    },
    "papermill": {
     "duration": 0.032163,
     "end_time": "2023-04-21T13:38:31.951893",
     "exception": false,
     "start_time": "2023-04-21T13:38:31.919730",
     "status": "completed"
    },
    "tags": []
   },
   "outputs": [],
   "source": [
    "primes = [2, 3, 5, 7]"
   ]
  },
  {
   "cell_type": "markdown",
   "id": "afd43617",
   "metadata": {
    "papermill": {
     "duration": 0.013247,
     "end_time": "2023-04-21T13:38:31.983439",
     "exception": false,
     "start_time": "2023-04-21T13:38:31.970192",
     "status": "completed"
    },
    "tags": []
   },
   "source": [
    "Listelere başka tür şeyler koyabiliriz:"
   ]
  },
  {
   "cell_type": "code",
   "execution_count": 2,
   "id": "a0f6cccb",
   "metadata": {
    "collapsed": true,
    "execution": {
     "iopub.execute_input": "2023-04-21T13:38:32.020621Z",
     "iopub.status.busy": "2023-04-21T13:38:32.019824Z",
     "iopub.status.idle": "2023-04-21T13:38:32.025106Z",
     "shell.execute_reply": "2023-04-21T13:38:32.024285Z"
    },
    "jupyter": {
     "outputs_hidden": true
    },
    "papermill": {
     "duration": 0.025064,
     "end_time": "2023-04-21T13:38:32.027757",
     "exception": false,
     "start_time": "2023-04-21T13:38:32.002693",
     "status": "completed"
    },
    "tags": []
   },
   "outputs": [],
   "source": [
    "planets = ['Mercury', 'Venus', 'Earth', 'Mars', 'Jupiter', 'Saturn', 'Uranus', 'Neptune']"
   ]
  },
  {
   "cell_type": "markdown",
   "id": "9f6171f6",
   "metadata": {
    "papermill": {
     "duration": 0.012362,
     "end_time": "2023-04-21T13:38:32.052869",
     "exception": false,
     "start_time": "2023-04-21T13:38:32.040507",
     "status": "completed"
    },
    "tags": []
   },
   "source": [
    "Hatta bir liste listesi bile yapabiliriz:"
   ]
  },
  {
   "cell_type": "code",
   "execution_count": 3,
   "id": "e4b44f25",
   "metadata": {
    "collapsed": true,
    "execution": {
     "iopub.execute_input": "2023-04-21T13:38:32.080863Z",
     "iopub.status.busy": "2023-04-21T13:38:32.080212Z",
     "iopub.status.idle": "2023-04-21T13:38:32.086196Z",
     "shell.execute_reply": "2023-04-21T13:38:32.085374Z"
    },
    "jupyter": {
     "outputs_hidden": true
    },
    "papermill": {
     "duration": 0.022808,
     "end_time": "2023-04-21T13:38:32.088459",
     "exception": false,
     "start_time": "2023-04-21T13:38:32.065651",
     "status": "completed"
    },
    "tags": []
   },
   "outputs": [],
   "source": [
    "hands = [\n",
    "    ['J', 'Q', 'K'],\n",
    "    ['2', '2', '2'],\n",
    "    ['6', 'A', 'K'], # (Comma after the last element is optional)\n",
    "]\n",
    "# (I could also have written this on one line, but it can get hard to read)\n",
    "hands = [['J', 'Q', 'K'], ['2', '2', '2'], ['6', 'A', 'K']]"
   ]
  },
  {
   "cell_type": "markdown",
   "id": "8a59edfb",
   "metadata": {
    "papermill": {
     "duration": 0.013038,
     "end_time": "2023-04-21T13:38:32.114165",
     "exception": false,
     "start_time": "2023-04-21T13:38:32.101127",
     "status": "completed"
    },
    "tags": []
   },
   "source": [
    "Bir liste, farklı değişken türlerinin bir karışımını içerebilir:"
   ]
  },
  {
   "cell_type": "code",
   "execution_count": 4,
   "id": "babc2376",
   "metadata": {
    "collapsed": true,
    "execution": {
     "iopub.execute_input": "2023-04-21T13:38:32.141848Z",
     "iopub.status.busy": "2023-04-21T13:38:32.141182Z",
     "iopub.status.idle": "2023-04-21T13:38:32.146281Z",
     "shell.execute_reply": "2023-04-21T13:38:32.145415Z"
    },
    "jupyter": {
     "outputs_hidden": true
    },
    "papermill": {
     "duration": 0.021715,
     "end_time": "2023-04-21T13:38:32.148576",
     "exception": false,
     "start_time": "2023-04-21T13:38:32.126861",
     "status": "completed"
    },
    "tags": []
   },
   "outputs": [],
   "source": [
    "my_favourite_things = [32, 'raindrops on roses', help]\n",
    "# (Yes, Python's help function is *definitely* one of my favourite things)"
   ]
  },
  {
   "cell_type": "markdown",
   "id": "cc10595f",
   "metadata": {
    "papermill": {
     "duration": 0.012763,
     "end_time": "2023-04-21T13:38:32.174260",
     "exception": false,
     "start_time": "2023-04-21T13:38:32.161497",
     "status": "completed"
    },
    "tags": []
   },
   "source": [
    "## İndeksleme\n",
    "\n",
    "Tek tek liste öğelerine köşeli ayraçlarla erişebilirsiniz.\n",
    "\n",
    "Hangi gezegen güneşe en yakın? Python *zero-based* indeksleme kullanır, bu nedenle ilk öğenin indeksi 0'dır."
   ]
  },
  {
   "cell_type": "code",
   "execution_count": 5,
   "id": "4a38be67",
   "metadata": {
    "execution": {
     "iopub.execute_input": "2023-04-21T13:38:32.202310Z",
     "iopub.status.busy": "2023-04-21T13:38:32.201572Z",
     "iopub.status.idle": "2023-04-21T13:38:32.209738Z",
     "shell.execute_reply": "2023-04-21T13:38:32.208515Z"
    },
    "papermill": {
     "duration": 0.025648,
     "end_time": "2023-04-21T13:38:32.212543",
     "exception": false,
     "start_time": "2023-04-21T13:38:32.186895",
     "status": "completed"
    },
    "tags": []
   },
   "outputs": [
    {
     "data": {
      "text/plain": [
       "'Mercury'"
      ]
     },
     "execution_count": 5,
     "metadata": {},
     "output_type": "execute_result"
    }
   ],
   "source": [
    "planets[0]"
   ]
  },
  {
   "cell_type": "markdown",
   "id": "48149b76",
   "metadata": {
    "papermill": {
     "duration": 0.012493,
     "end_time": "2023-04-21T13:38:32.237999",
     "exception": false,
     "start_time": "2023-04-21T13:38:32.225506",
     "status": "completed"
    },
    "tags": []
   },
   "source": [
    "Bir sonraki en yakın gezegen hangisi?"
   ]
  },
  {
   "cell_type": "code",
   "execution_count": 6,
   "id": "b30876a5",
   "metadata": {
    "execution": {
     "iopub.execute_input": "2023-04-21T13:38:32.265868Z",
     "iopub.status.busy": "2023-04-21T13:38:32.265207Z",
     "iopub.status.idle": "2023-04-21T13:38:32.272024Z",
     "shell.execute_reply": "2023-04-21T13:38:32.270979Z"
    },
    "papermill": {
     "duration": 0.023358,
     "end_time": "2023-04-21T13:38:32.274329",
     "exception": false,
     "start_time": "2023-04-21T13:38:32.250971",
     "status": "completed"
    },
    "tags": []
   },
   "outputs": [
    {
     "data": {
      "text/plain": [
       "'Venus'"
      ]
     },
     "execution_count": 6,
     "metadata": {},
     "output_type": "execute_result"
    }
   ],
   "source": [
    "planets[1]"
   ]
  },
  {
   "cell_type": "markdown",
   "id": "ab981c88",
   "metadata": {
    "papermill": {
     "duration": 0.012609,
     "end_time": "2023-04-21T13:38:32.299895",
     "exception": false,
     "start_time": "2023-04-21T13:38:32.287286",
     "status": "completed"
    },
    "tags": []
   },
   "source": [
    "Güneşten *en uzak* gezegen hangisidir?\n",
    "\n",
    "Listenin sonundaki öğelere -1'den başlayarak negatif sayılarla erişilebilir:"
   ]
  },
  {
   "cell_type": "code",
   "execution_count": 7,
   "id": "d19168fb",
   "metadata": {
    "execution": {
     "iopub.execute_input": "2023-04-21T13:38:32.328171Z",
     "iopub.status.busy": "2023-04-21T13:38:32.327509Z",
     "iopub.status.idle": "2023-04-21T13:38:32.334426Z",
     "shell.execute_reply": "2023-04-21T13:38:32.333326Z"
    },
    "papermill": {
     "duration": 0.023721,
     "end_time": "2023-04-21T13:38:32.336670",
     "exception": false,
     "start_time": "2023-04-21T13:38:32.312949",
     "status": "completed"
    },
    "tags": []
   },
   "outputs": [
    {
     "data": {
      "text/plain": [
       "'Neptune'"
      ]
     },
     "execution_count": 7,
     "metadata": {},
     "output_type": "execute_result"
    }
   ],
   "source": [
    "planets[-1]"
   ]
  },
  {
   "cell_type": "code",
   "execution_count": 8,
   "id": "c523fca7",
   "metadata": {
    "execution": {
     "iopub.execute_input": "2023-04-21T13:38:32.365018Z",
     "iopub.status.busy": "2023-04-21T13:38:32.364368Z",
     "iopub.status.idle": "2023-04-21T13:38:32.371375Z",
     "shell.execute_reply": "2023-04-21T13:38:32.370188Z"
    },
    "papermill": {
     "duration": 0.023915,
     "end_time": "2023-04-21T13:38:32.373627",
     "exception": false,
     "start_time": "2023-04-21T13:38:32.349712",
     "status": "completed"
    },
    "tags": []
   },
   "outputs": [
    {
     "data": {
      "text/plain": [
       "'Uranus'"
      ]
     },
     "execution_count": 8,
     "metadata": {},
     "output_type": "execute_result"
    }
   ],
   "source": [
    "planets[-2]"
   ]
  },
  {
   "cell_type": "markdown",
   "id": "afb51c0e",
   "metadata": {
    "papermill": {
     "duration": 0.012888,
     "end_time": "2023-04-21T13:38:32.399883",
     "exception": false,
     "start_time": "2023-04-21T13:38:32.386995",
     "status": "completed"
    },
    "tags": []
   },
   "source": [
    "## Dilimleme\n",
    "\n",
    "İlk üç gezegen nedir? Bu soruyu *dilimleme* kullanarak cevaplayabiliriz:"
   ]
  },
  {
   "cell_type": "code",
   "execution_count": 9,
   "id": "b0481d7c",
   "metadata": {
    "execution": {
     "iopub.execute_input": "2023-04-21T13:38:32.428683Z",
     "iopub.status.busy": "2023-04-21T13:38:32.428000Z",
     "iopub.status.idle": "2023-04-21T13:38:32.435007Z",
     "shell.execute_reply": "2023-04-21T13:38:32.433956Z"
    },
    "papermill": {
     "duration": 0.024087,
     "end_time": "2023-04-21T13:38:32.437288",
     "exception": false,
     "start_time": "2023-04-21T13:38:32.413201",
     "status": "completed"
    },
    "tags": []
   },
   "outputs": [
    {
     "data": {
      "text/plain": [
       "['Mercury', 'Venus', 'Earth']"
      ]
     },
     "execution_count": 9,
     "metadata": {},
     "output_type": "execute_result"
    }
   ],
   "source": [
    "planets[0:3]"
   ]
  },
  {
   "cell_type": "markdown",
   "id": "6d135f04",
   "metadata": {
    "papermill": {
     "duration": 0.013244,
     "end_time": "2023-04-21T13:38:32.463898",
     "exception": false,
     "start_time": "2023-04-21T13:38:32.450654",
     "status": "completed"
    },
    "tags": []
   },
   "source": [
    "`planets[0:3]`, indeks 0'dan başlayıp *ancak dahil olmayan* dizin 3'e kadar devam eden `gezegenler` öğelerini isteme şeklimizdir.\n",
    "\n",
    "Başlangıç ve bitiş endekslerinin her ikisi de isteğe bağlıdır. Başlangıç endeksini dışarıda bırakırsam, 0 olduğu varsayılır. Böylece yukarıdaki ifadeyi şu şekilde yeniden yazabilirim:"
   ]
  },
  {
   "cell_type": "code",
   "execution_count": 10,
   "id": "f9444939",
   "metadata": {
    "execution": {
     "iopub.execute_input": "2023-04-21T13:38:32.493112Z",
     "iopub.status.busy": "2023-04-21T13:38:32.492436Z",
     "iopub.status.idle": "2023-04-21T13:38:32.499513Z",
     "shell.execute_reply": "2023-04-21T13:38:32.498323Z"
    },
    "papermill": {
     "duration": 0.024435,
     "end_time": "2023-04-21T13:38:32.501868",
     "exception": false,
     "start_time": "2023-04-21T13:38:32.477433",
     "status": "completed"
    },
    "tags": []
   },
   "outputs": [
    {
     "data": {
      "text/plain": [
       "['Mercury', 'Venus', 'Earth']"
      ]
     },
     "execution_count": 10,
     "metadata": {},
     "output_type": "execute_result"
    }
   ],
   "source": [
    "planets[:3]"
   ]
  },
  {
   "cell_type": "markdown",
   "id": "07ddcaf5",
   "metadata": {
    "papermill": {
     "duration": 0.013294,
     "end_time": "2023-04-21T13:38:32.528811",
     "exception": false,
     "start_time": "2023-04-21T13:38:32.515517",
     "status": "completed"
    },
    "tags": []
   },
   "source": [
    "Bitiş endeksini dışarıda bırakırsam, bunun listenin uzunluğu olduğu varsayılır."
   ]
  },
  {
   "cell_type": "code",
   "execution_count": 11,
   "id": "dee0e7b6",
   "metadata": {
    "execution": {
     "iopub.execute_input": "2023-04-21T13:38:32.558291Z",
     "iopub.status.busy": "2023-04-21T13:38:32.557505Z",
     "iopub.status.idle": "2023-04-21T13:38:32.564753Z",
     "shell.execute_reply": "2023-04-21T13:38:32.563706Z"
    },
    "papermill": {
     "duration": 0.024614,
     "end_time": "2023-04-21T13:38:32.567021",
     "exception": false,
     "start_time": "2023-04-21T13:38:32.542407",
     "status": "completed"
    },
    "tags": []
   },
   "outputs": [
    {
     "data": {
      "text/plain": [
       "['Mars', 'Jupiter', 'Saturn', 'Uranus', 'Neptune']"
      ]
     },
     "execution_count": 11,
     "metadata": {},
     "output_type": "execute_result"
    }
   ],
   "source": [
    "planets[3:]"
   ]
  },
  {
   "cell_type": "markdown",
   "id": "9c1a18b7",
   "metadata": {
    "papermill": {
     "duration": 0.01359,
     "end_time": "2023-04-21T13:38:32.594286",
     "exception": false,
     "start_time": "2023-04-21T13:38:32.580696",
     "status": "completed"
    },
    "tags": []
   },
   "source": [
    "Yani yukarıdaki ifade \"bana dizin 3'ten itibaren tüm gezegenleri ver\" anlamına gelir.\n",
    "\n",
    "Dilimleme yaparken negatif endeksler de kullanabiliriz:"
   ]
  },
  {
   "cell_type": "code",
   "execution_count": 12,
   "id": "f6e4319c",
   "metadata": {
    "execution": {
     "iopub.execute_input": "2023-04-21T13:38:32.624154Z",
     "iopub.status.busy": "2023-04-21T13:38:32.623478Z",
     "iopub.status.idle": "2023-04-21T13:38:32.630491Z",
     "shell.execute_reply": "2023-04-21T13:38:32.629461Z"
    },
    "papermill": {
     "duration": 0.024457,
     "end_time": "2023-04-21T13:38:32.632678",
     "exception": false,
     "start_time": "2023-04-21T13:38:32.608221",
     "status": "completed"
    },
    "tags": []
   },
   "outputs": [
    {
     "data": {
      "text/plain": [
       "['Venus', 'Earth', 'Mars', 'Jupiter', 'Saturn', 'Uranus']"
      ]
     },
     "execution_count": 12,
     "metadata": {},
     "output_type": "execute_result"
    }
   ],
   "source": [
    "# All the planets except the first and last\n",
    "planets[1:-1]"
   ]
  },
  {
   "cell_type": "code",
   "execution_count": 13,
   "id": "97518a79",
   "metadata": {
    "execution": {
     "iopub.execute_input": "2023-04-21T13:38:32.662383Z",
     "iopub.status.busy": "2023-04-21T13:38:32.661947Z",
     "iopub.status.idle": "2023-04-21T13:38:32.668863Z",
     "shell.execute_reply": "2023-04-21T13:38:32.667831Z"
    },
    "papermill": {
     "duration": 0.02463,
     "end_time": "2023-04-21T13:38:32.671181",
     "exception": false,
     "start_time": "2023-04-21T13:38:32.646551",
     "status": "completed"
    },
    "tags": []
   },
   "outputs": [
    {
     "data": {
      "text/plain": [
       "['Saturn', 'Uranus', 'Neptune']"
      ]
     },
     "execution_count": 13,
     "metadata": {},
     "output_type": "execute_result"
    }
   ],
   "source": [
    "# The last 3 planets\n",
    "planets[-3:]"
   ]
  },
  {
   "cell_type": "markdown",
   "id": "8d9f8e61",
   "metadata": {
    "papermill": {
     "duration": 0.013678,
     "end_time": "2023-04-21T13:38:32.698797",
     "exception": false,
     "start_time": "2023-04-21T13:38:32.685119",
     "status": "completed"
    },
    "tags": []
   },
   "source": [
    "## Listeleri değiştirme\n",
    "\n",
    "Listeler \"değiştirilebilir\", yani \"yerinde\" değiştirilebilirler.\n",
    "\n",
    "Bir listeyi değiştirmenin bir yolu, bir dizin veya dilim ifadesine atamaktır.\n",
    "\n",
    "Örneğin, Mars'ı yeniden adlandırmak istediğimizi varsayalım:"
   ]
  },
  {
   "cell_type": "code",
   "execution_count": 14,
   "id": "59476606",
   "metadata": {
    "execution": {
     "iopub.execute_input": "2023-04-21T13:38:32.729283Z",
     "iopub.status.busy": "2023-04-21T13:38:32.728593Z",
     "iopub.status.idle": "2023-04-21T13:38:32.735737Z",
     "shell.execute_reply": "2023-04-21T13:38:32.734608Z"
    },
    "papermill": {
     "duration": 0.024987,
     "end_time": "2023-04-21T13:38:32.737999",
     "exception": false,
     "start_time": "2023-04-21T13:38:32.713012",
     "status": "completed"
    },
    "tags": []
   },
   "outputs": [
    {
     "data": {
      "text/plain": [
       "['Mercury',\n",
       " 'Venus',\n",
       " 'Earth',\n",
       " 'Malacandra',\n",
       " 'Jupiter',\n",
       " 'Saturn',\n",
       " 'Uranus',\n",
       " 'Neptune']"
      ]
     },
     "execution_count": 14,
     "metadata": {},
     "output_type": "execute_result"
    }
   ],
   "source": [
    "planets[3] = 'Malacandra'\n",
    "planets"
   ]
  },
  {
   "cell_type": "markdown",
   "id": "8957cf6f",
   "metadata": {
    "papermill": {
     "duration": 0.013905,
     "end_time": "2023-04-21T13:38:32.766177",
     "exception": false,
     "start_time": "2023-04-21T13:38:32.752272",
     "status": "completed"
    },
    "tags": []
   },
   "source": [
    "Hm, bu oldukça ağız dolusu. İlk 3 gezegenin isimlerini kısaltarak telafi edelim."
   ]
  },
  {
   "cell_type": "code",
   "execution_count": 15,
   "id": "26a39a48",
   "metadata": {
    "execution": {
     "iopub.execute_input": "2023-04-21T13:38:32.796783Z",
     "iopub.status.busy": "2023-04-21T13:38:32.796112Z",
     "iopub.status.idle": "2023-04-21T13:38:32.803257Z",
     "shell.execute_reply": "2023-04-21T13:38:32.801857Z"
    },
    "papermill": {
     "duration": 0.025269,
     "end_time": "2023-04-21T13:38:32.805538",
     "exception": false,
     "start_time": "2023-04-21T13:38:32.780269",
     "status": "completed"
    },
    "tags": []
   },
   "outputs": [
    {
     "name": "stdout",
     "output_type": "stream",
     "text": [
      "['Mur', 'Vee', 'Ur', 'Malacandra', 'Jupiter', 'Saturn', 'Uranus', 'Neptune']\n"
     ]
    }
   ],
   "source": [
    "planets[:3] = ['Mur', 'Vee', 'Ur']\n",
    "print(planets)\n",
    "# That was silly. Let's give them back their old names\n",
    "planets[:4] = ['Mercury', 'Venus', 'Earth', 'Mars',]"
   ]
  },
  {
   "cell_type": "markdown",
   "id": "ec81eb9a",
   "metadata": {
    "papermill": {
     "duration": 0.014083,
     "end_time": "2023-04-21T13:38:32.834013",
     "exception": false,
     "start_time": "2023-04-21T13:38:32.819930",
     "status": "completed"
    },
    "tags": []
   },
   "source": [
    "## Fonksiyonları listele\n",
    "\n",
    "Python, listelerle çalışmak için birkaç yararlı işleve sahiptir.\n",
    "\n",
    "`len` bir listenin uzunluğunu verir:"
   ]
  },
  {
   "cell_type": "code",
   "execution_count": 16,
   "id": "7c0b2462",
   "metadata": {
    "execution": {
     "iopub.execute_input": "2023-04-21T13:38:32.865061Z",
     "iopub.status.busy": "2023-04-21T13:38:32.864337Z",
     "iopub.status.idle": "2023-04-21T13:38:32.871251Z",
     "shell.execute_reply": "2023-04-21T13:38:32.870009Z"
    },
    "papermill": {
     "duration": 0.025028,
     "end_time": "2023-04-21T13:38:32.873612",
     "exception": false,
     "start_time": "2023-04-21T13:38:32.848584",
     "status": "completed"
    },
    "tags": []
   },
   "outputs": [
    {
     "data": {
      "text/plain": [
       "8"
      ]
     },
     "execution_count": 16,
     "metadata": {},
     "output_type": "execute_result"
    }
   ],
   "source": [
    "# How many planets are there?\n",
    "len(planets)"
   ]
  },
  {
   "cell_type": "markdown",
   "id": "f2edeef1",
   "metadata": {
    "papermill": {
     "duration": 0.014636,
     "end_time": "2023-04-21T13:38:32.902857",
     "exception": false,
     "start_time": "2023-04-21T13:38:32.888221",
     "status": "completed"
    },
    "tags": []
   },
   "source": [
    "`sorted` Bir listenin sıralanmış bir sürümünü döndürür:"
   ]
  },
  {
   "cell_type": "code",
   "execution_count": 17,
   "id": "73cb8c6a",
   "metadata": {
    "execution": {
     "iopub.execute_input": "2023-04-21T13:38:32.933906Z",
     "iopub.status.busy": "2023-04-21T13:38:32.933471Z",
     "iopub.status.idle": "2023-04-21T13:38:32.940173Z",
     "shell.execute_reply": "2023-04-21T13:38:32.939056Z"
    },
    "papermill": {
     "duration": 0.02535,
     "end_time": "2023-04-21T13:38:32.942919",
     "exception": false,
     "start_time": "2023-04-21T13:38:32.917569",
     "status": "completed"
    },
    "tags": []
   },
   "outputs": [
    {
     "data": {
      "text/plain": [
       "['Earth', 'Jupiter', 'Mars', 'Mercury', 'Neptune', 'Saturn', 'Uranus', 'Venus']"
      ]
     },
     "execution_count": 17,
     "metadata": {},
     "output_type": "execute_result"
    }
   ],
   "source": [
    "# The planets sorted in alphabetical order\n",
    "sorted(planets)"
   ]
  },
  {
   "cell_type": "markdown",
   "id": "c3daa98d",
   "metadata": {
    "papermill": {
     "duration": 0.01463,
     "end_time": "2023-04-21T13:38:32.972874",
     "exception": false,
     "start_time": "2023-04-21T13:38:32.958244",
     "status": "completed"
    },
    "tags": []
   },
   "source": [
    "`sum` beklediğinizi yapar:"
   ]
  },
  {
   "cell_type": "code",
   "execution_count": 18,
   "id": "26b2e4d3",
   "metadata": {
    "execution": {
     "iopub.execute_input": "2023-04-21T13:38:33.005135Z",
     "iopub.status.busy": "2023-04-21T13:38:33.004476Z",
     "iopub.status.idle": "2023-04-21T13:38:33.011581Z",
     "shell.execute_reply": "2023-04-21T13:38:33.010541Z"
    },
    "papermill": {
     "duration": 0.026121,
     "end_time": "2023-04-21T13:38:33.013796",
     "exception": false,
     "start_time": "2023-04-21T13:38:32.987675",
     "status": "completed"
    },
    "tags": []
   },
   "outputs": [
    {
     "data": {
      "text/plain": [
       "17"
      ]
     },
     "execution_count": 18,
     "metadata": {},
     "output_type": "execute_result"
    }
   ],
   "source": [
    "primes = [2, 3, 5, 7]\n",
    "sum(primes)"
   ]
  },
  {
   "cell_type": "markdown",
   "id": "2eeb0d4b",
   "metadata": {
    "papermill": {
     "duration": 0.014853,
     "end_time": "2023-04-21T13:38:33.043541",
     "exception": false,
     "start_time": "2023-04-21T13:38:33.028688",
     "status": "completed"
    },
    "tags": []
   },
   "source": [
    "Birkaç argümanın minimum veya maksimumunu almak için daha önce `min` ve `max` kullandık. Ancak tek bir liste argümanını da geçirebiliriz."
   ]
  },
  {
   "cell_type": "code",
   "execution_count": 19,
   "id": "950fb1b4",
   "metadata": {
    "execution": {
     "iopub.execute_input": "2023-04-21T13:38:33.075680Z",
     "iopub.status.busy": "2023-04-21T13:38:33.074552Z",
     "iopub.status.idle": "2023-04-21T13:38:33.081065Z",
     "shell.execute_reply": "2023-04-21T13:38:33.080064Z"
    },
    "papermill": {
     "duration": 0.024904,
     "end_time": "2023-04-21T13:38:33.083330",
     "exception": false,
     "start_time": "2023-04-21T13:38:33.058426",
     "status": "completed"
    },
    "tags": []
   },
   "outputs": [
    {
     "data": {
      "text/plain": [
       "7"
      ]
     },
     "execution_count": 19,
     "metadata": {},
     "output_type": "execute_result"
    }
   ],
   "source": [
    "max(primes)"
   ]
  },
  {
   "cell_type": "markdown",
   "id": "0fe0f5e7",
   "metadata": {
    "papermill": {
     "duration": 0.015613,
     "end_time": "2023-04-21T13:38:33.114285",
     "exception": false,
     "start_time": "2023-04-21T13:38:33.098672",
     "status": "completed"
    },
    "tags": []
   },
   "source": [
    "## Ara \\: nesneler\n",
    "\n",
    "Şimdiye kadar “nesne” terimini çok kullandım - Python'daki *her şeyin* bir nesne olduğunu bile okumuş olabilirsiniz. Bu ne anlama geliyor?\n",
    "\n",
    "Kısacası, nesneler bazı şeyleri yanlarında taşır. Python'un nokta sözdizimini kullanarak bu şeylere erişirsiniz.\n",
    "\n",
    "Örneğin, Python'daki sayılar, hayali kısımlarını temsil eden `imag` adlı ilişkili bir değişkeni taşır. (Çok garip bir matematik yapmadığınız sürece muhtemelen bunu asla kullanmanıza gerek kalmayacak.)"
   ]
  },
  {
   "cell_type": "code",
   "execution_count": 20,
   "id": "3cc3a0aa",
   "metadata": {
    "execution": {
     "iopub.execute_input": "2023-04-21T13:38:33.147384Z",
     "iopub.status.busy": "2023-04-21T13:38:33.146683Z",
     "iopub.status.idle": "2023-04-21T13:38:33.152613Z",
     "shell.execute_reply": "2023-04-21T13:38:33.151549Z"
    },
    "papermill": {
     "duration": 0.024891,
     "end_time": "2023-04-21T13:38:33.154963",
     "exception": false,
     "start_time": "2023-04-21T13:38:33.130072",
     "status": "completed"
    },
    "tags": []
   },
   "outputs": [
    {
     "name": "stdout",
     "output_type": "stream",
     "text": [
      "0\n",
      "3.0\n"
     ]
    }
   ],
   "source": [
    "x = 12\n",
    "# x is a real number, so its imaginary part is 0.\n",
    "print(x.imag)\n",
    "# Here's how to make a complex number, in case you've ever been curious:\n",
    "c = 12 + 3j\n",
    "print(c.imag)"
   ]
  },
  {
   "cell_type": "markdown",
   "id": "ed808a75",
   "metadata": {
    "papermill": {
     "duration": 0.01507,
     "end_time": "2023-04-21T13:38:33.185750",
     "exception": false,
     "start_time": "2023-04-21T13:38:33.170680",
     "status": "completed"
    },
    "tags": []
   },
   "source": [
    "Bir nesnenin taşıdığı şeyler de işlevleri içerebilir. Bir nesneye eklenen bir işleve **method** denir. (`imag` gibi bir nesneye eklenen işlevsiz şeylere *attiribute* denir).\n",
    "\n",
    "Örneğin, sayıların `bit_length` adlı bir yöntemi vardır. Yine, nokta sözdizimi kullanarak erişiyoruz:"
   ]
  },
  {
   "cell_type": "code",
   "execution_count": 21,
   "id": "34fb9f10",
   "metadata": {
    "execution": {
     "iopub.execute_input": "2023-04-21T13:38:33.219496Z",
     "iopub.status.busy": "2023-04-21T13:38:33.218705Z",
     "iopub.status.idle": "2023-04-21T13:38:33.226461Z",
     "shell.execute_reply": "2023-04-21T13:38:33.224939Z"
    },
    "papermill": {
     "duration": 0.02805,
     "end_time": "2023-04-21T13:38:33.229386",
     "exception": false,
     "start_time": "2023-04-21T13:38:33.201336",
     "status": "completed"
    },
    "tags": []
   },
   "outputs": [
    {
     "data": {
      "text/plain": [
       "<function int.bit_length()>"
      ]
     },
     "execution_count": 21,
     "metadata": {},
     "output_type": "execute_result"
    }
   ],
   "source": [
    "x.bit_length"
   ]
  },
  {
   "cell_type": "markdown",
   "id": "ba80082e",
   "metadata": {
    "papermill": {
     "duration": 0.015051,
     "end_time": "2023-04-21T13:38:33.260017",
     "exception": false,
     "start_time": "2023-04-21T13:38:33.244966",
     "status": "completed"
    },
    "tags": []
   },
   "source": [
    "Aslında adlandırmak için parantez ekliyoruz:"
   ]
  },
  {
   "cell_type": "code",
   "execution_count": 22,
   "id": "716938a9",
   "metadata": {
    "execution": {
     "iopub.execute_input": "2023-04-21T13:38:33.294353Z",
     "iopub.status.busy": "2023-04-21T13:38:33.293225Z",
     "iopub.status.idle": "2023-04-21T13:38:33.300043Z",
     "shell.execute_reply": "2023-04-21T13:38:33.298859Z"
    },
    "papermill": {
     "duration": 0.026168,
     "end_time": "2023-04-21T13:38:33.302479",
     "exception": false,
     "start_time": "2023-04-21T13:38:33.276311",
     "status": "completed"
    },
    "tags": []
   },
   "outputs": [
    {
     "data": {
      "text/plain": [
       "4"
      ]
     },
     "execution_count": 22,
     "metadata": {},
     "output_type": "execute_result"
    }
   ],
   "source": [
    "x.bit_length()"
   ]
  },
  {
   "cell_type": "markdown",
   "id": "0ded3f75",
   "metadata": {
    "papermill": {
     "duration": 0.015414,
     "end_time": "2023-04-21T13:38:33.333480",
     "exception": false,
     "start_time": "2023-04-21T13:38:33.318066",
     "status": "completed"
    },
    "tags": []
   },
   "source": [
    "> **Aside:** Egzersizleri yapıyorsanız, aslında yöntemleri zaten çağırıyorsunuz. `q1`, `q2`, `q3` vb. alıştırma not defterlerinde, `check`, `hint` ve `solution` adı verilen yöntemleri olan tüm nesnelerdir.\n",
    "\n",
    "İşlevleri `help` işlevine (örn. `help(max)`) aktarabilmemiz gibi, yöntemleri de aktarabiliriz:"
   ]
  },
  {
   "cell_type": "code",
   "execution_count": 23,
   "id": "29411929",
   "metadata": {
    "execution": {
     "iopub.execute_input": "2023-04-21T13:38:33.367260Z",
     "iopub.status.busy": "2023-04-21T13:38:33.366754Z",
     "iopub.status.idle": "2023-04-21T13:38:33.373833Z",
     "shell.execute_reply": "2023-04-21T13:38:33.372563Z"
    },
    "papermill": {
     "duration": 0.027308,
     "end_time": "2023-04-21T13:38:33.376373",
     "exception": false,
     "start_time": "2023-04-21T13:38:33.349065",
     "status": "completed"
    },
    "tags": []
   },
   "outputs": [
    {
     "name": "stdout",
     "output_type": "stream",
     "text": [
      "Help on built-in function bit_length:\n",
      "\n",
      "bit_length() method of builtins.int instance\n",
      "    Number of bits necessary to represent self in binary.\n",
      "    \n",
      "    >>> bin(37)\n",
      "    '0b100101'\n",
      "    >>> (37).bit_length()\n",
      "    6\n",
      "\n"
     ]
    }
   ],
   "source": [
    "help(x.bit_length)"
   ]
  },
  {
   "cell_type": "markdown",
   "id": "67427e2a",
   "metadata": {
    "papermill": {
     "duration": 0.015389,
     "end_time": "2023-04-21T13:38:33.407337",
     "exception": false,
     "start_time": "2023-04-21T13:38:33.391948",
     "status": "completed"
    },
    "tags": []
   },
   "source": [
    "<!-- TODO:\n",
    "dir?\n",
    "A useful builtin method for interacting with objects is `dir`. `dir` asks: what are the names of all the things (methods, and attributes) that this object is carrying around?\n",
    "help(x)?\n",
    "-->\n",
    "\n",
    "Yukarıdaki örnekler tamamen belirsizdi. Şimdiye kadar baktığımız nesne türlerinin hiçbirinde (sayılar, işlevler, booleanlar) muhtemelen kullanabileceğiniz nitelikler veya yöntemler yoktur.\n",
    "\n",
    "Ancak listelerin her zaman kullanacağınız birkaç yöntemi olduğu ortaya çıktı."
   ]
  },
  {
   "cell_type": "markdown",
   "id": "fa864eda",
   "metadata": {
    "papermill": {
     "duration": 0.015726,
     "end_time": "2023-04-21T13:38:33.438691",
     "exception": false,
     "start_time": "2023-04-21T13:38:33.422965",
     "status": "completed"
    },
    "tags": []
   },
   "source": [
    "## Yöntemleri listele"
   ]
  },
  {
   "cell_type": "markdown",
   "id": "ffdfba73",
   "metadata": {
    "papermill": {
     "duration": 0.015294,
     "end_time": "2023-04-21T13:38:33.469700",
     "exception": false,
     "start_time": "2023-04-21T13:38:33.454406",
     "status": "completed"
    },
    "tags": []
   },
   "source": [
    "`list.append` modifies a list by adding an item to the end:"
   ]
  },
  {
   "cell_type": "code",
   "execution_count": 24,
   "id": "07da9a00",
   "metadata": {
    "collapsed": true,
    "execution": {
     "iopub.execute_input": "2023-04-21T13:38:33.502712Z",
     "iopub.status.busy": "2023-04-21T13:38:33.502313Z",
     "iopub.status.idle": "2023-04-21T13:38:33.507400Z",
     "shell.execute_reply": "2023-04-21T13:38:33.506149Z"
    },
    "jupyter": {
     "outputs_hidden": true
    },
    "papermill": {
     "duration": 0.024537,
     "end_time": "2023-04-21T13:38:33.509870",
     "exception": false,
     "start_time": "2023-04-21T13:38:33.485333",
     "status": "completed"
    },
    "tags": []
   },
   "outputs": [],
   "source": [
    "# Pluto is a planet darn it!\n",
    "planets.append('Pluto')"
   ]
  },
  {
   "cell_type": "markdown",
   "id": "d177465c",
   "metadata": {
    "papermill": {
     "duration": 0.015394,
     "end_time": "2023-04-21T13:38:33.541229",
     "exception": false,
     "start_time": "2023-04-21T13:38:33.525835",
     "status": "completed"
    },
    "tags": []
   },
   "source": [
    "Neden yukarıdaki hücrenin çıktısı yok? `help(planets.append)` çağırarak belgeleri kontrol edelim.\n",
    "\n",
    "> **Aside:** `append`, sadece `planets` değil, *all* objects of type list tarafından taşınan bir yöntemdir, bu nedenle `help(list.append)` olarak da çağırabilirdik. Ancak, `help(append)`ı çağırmaya çalışırsak, Python \"append\" adında hiçbir değişkenin bulunmadığından şikayet edecektir. \"Ek\" adı yalnızca listelerde bulunur - `max` veya `len` gibi yerleşik işlevler gibi bağımsız bir ad olarak mevcut değildir."
   ]
  },
  {
   "cell_type": "code",
   "execution_count": 25,
   "id": "b10e09d7",
   "metadata": {
    "execution": {
     "iopub.execute_input": "2023-04-21T13:38:33.574911Z",
     "iopub.status.busy": "2023-04-21T13:38:33.574261Z",
     "iopub.status.idle": "2023-04-21T13:38:33.580675Z",
     "shell.execute_reply": "2023-04-21T13:38:33.579653Z"
    },
    "papermill": {
     "duration": 0.026666,
     "end_time": "2023-04-21T13:38:33.583789",
     "exception": false,
     "start_time": "2023-04-21T13:38:33.557123",
     "status": "completed"
    },
    "tags": []
   },
   "outputs": [
    {
     "name": "stdout",
     "output_type": "stream",
     "text": [
      "Help on built-in function append:\n",
      "\n",
      "append(object, /) method of builtins.list instance\n",
      "    Append object to the end of the list.\n",
      "\n"
     ]
    }
   ],
   "source": [
    "help(planets.append)"
   ]
  },
  {
   "cell_type": "markdown",
   "id": "ef868d57",
   "metadata": {
    "papermill": {
     "duration": 0.015731,
     "end_time": "2023-04-21T13:38:33.616087",
     "exception": false,
     "start_time": "2023-04-21T13:38:33.600356",
     "status": "completed"
    },
    "tags": []
   },
   "source": [
    "`-> None` kısmı bize `list.append`in hiçbir şey döndürmediğini söylüyor. Ancak `gezegenler`in değerini kontrol edersek, yöntem çağrısının `gezegenler`in değerini değiştirdiğini görebiliriz:"
   ]
  },
  {
   "cell_type": "code",
   "execution_count": 26,
   "id": "24e688da",
   "metadata": {
    "execution": {
     "iopub.execute_input": "2023-04-21T13:38:33.650540Z",
     "iopub.status.busy": "2023-04-21T13:38:33.649369Z",
     "iopub.status.idle": "2023-04-21T13:38:33.657025Z",
     "shell.execute_reply": "2023-04-21T13:38:33.655987Z"
    },
    "papermill": {
     "duration": 0.027284,
     "end_time": "2023-04-21T13:38:33.659316",
     "exception": false,
     "start_time": "2023-04-21T13:38:33.632032",
     "status": "completed"
    },
    "tags": []
   },
   "outputs": [
    {
     "data": {
      "text/plain": [
       "['Mercury',\n",
       " 'Venus',\n",
       " 'Earth',\n",
       " 'Mars',\n",
       " 'Jupiter',\n",
       " 'Saturn',\n",
       " 'Uranus',\n",
       " 'Neptune',\n",
       " 'Pluto']"
      ]
     },
     "execution_count": 26,
     "metadata": {},
     "output_type": "execute_result"
    }
   ],
   "source": [
    "planets"
   ]
  },
  {
   "cell_type": "markdown",
   "id": "402710e3",
   "metadata": {
    "papermill": {
     "duration": 0.01555,
     "end_time": "2023-04-21T13:38:33.690816",
     "exception": false,
     "start_time": "2023-04-21T13:38:33.675266",
     "status": "completed"
    },
    "tags": []
   },
   "source": [
    "`list.pop` bir listenin son öğesini kaldırır ve döndürür:"
   ]
  },
  {
   "cell_type": "code",
   "execution_count": 27,
   "id": "5d977ed9",
   "metadata": {
    "execution": {
     "iopub.execute_input": "2023-04-21T13:38:33.724531Z",
     "iopub.status.busy": "2023-04-21T13:38:33.724155Z",
     "iopub.status.idle": "2023-04-21T13:38:33.730924Z",
     "shell.execute_reply": "2023-04-21T13:38:33.729731Z"
    },
    "papermill": {
     "duration": 0.026461,
     "end_time": "2023-04-21T13:38:33.733134",
     "exception": false,
     "start_time": "2023-04-21T13:38:33.706673",
     "status": "completed"
    },
    "tags": []
   },
   "outputs": [
    {
     "data": {
      "text/plain": [
       "'Pluto'"
      ]
     },
     "execution_count": 27,
     "metadata": {},
     "output_type": "execute_result"
    }
   ],
   "source": [
    "planets.pop()"
   ]
  },
  {
   "cell_type": "code",
   "execution_count": 28,
   "id": "1399d786",
   "metadata": {
    "execution": {
     "iopub.execute_input": "2023-04-21T13:38:33.767154Z",
     "iopub.status.busy": "2023-04-21T13:38:33.766399Z",
     "iopub.status.idle": "2023-04-21T13:38:33.773310Z",
     "shell.execute_reply": "2023-04-21T13:38:33.772247Z"
    },
    "papermill": {
     "duration": 0.026589,
     "end_time": "2023-04-21T13:38:33.775804",
     "exception": false,
     "start_time": "2023-04-21T13:38:33.749215",
     "status": "completed"
    },
    "tags": []
   },
   "outputs": [
    {
     "data": {
      "text/plain": [
       "['Mercury', 'Venus', 'Earth', 'Mars', 'Jupiter', 'Saturn', 'Uranus', 'Neptune']"
      ]
     },
     "execution_count": 28,
     "metadata": {},
     "output_type": "execute_result"
    }
   ],
   "source": [
    "planets"
   ]
  },
  {
   "cell_type": "markdown",
   "id": "5a6d21bc",
   "metadata": {
    "papermill": {
     "duration": 0.01609,
     "end_time": "2023-04-21T13:38:33.808251",
     "exception": false,
     "start_time": "2023-04-21T13:38:33.792161",
     "status": "completed"
    },
    "tags": []
   },
   "source": [
    "### Listeleri aranıyor\n",
    "\n",
    "Dünya gezegenler sırasına göre nereye düşüyor? `list.index` yöntemini kullanarak indeksini alabiliriz."
   ]
  },
  {
   "cell_type": "code",
   "execution_count": 29,
   "id": "7c5322e2",
   "metadata": {
    "execution": {
     "iopub.execute_input": "2023-04-21T13:38:33.842942Z",
     "iopub.status.busy": "2023-04-21T13:38:33.842543Z",
     "iopub.status.idle": "2023-04-21T13:38:33.849368Z",
     "shell.execute_reply": "2023-04-21T13:38:33.848300Z"
    },
    "papermill": {
     "duration": 0.027323,
     "end_time": "2023-04-21T13:38:33.851871",
     "exception": false,
     "start_time": "2023-04-21T13:38:33.824548",
     "status": "completed"
    },
    "tags": []
   },
   "outputs": [
    {
     "data": {
      "text/plain": [
       "2"
      ]
     },
     "execution_count": 29,
     "metadata": {},
     "output_type": "execute_result"
    }
   ],
   "source": [
    "planets.index('Earth')"
   ]
  },
  {
   "cell_type": "markdown",
   "id": "3c1ed7fc",
   "metadata": {
    "papermill": {
     "duration": 0.016193,
     "end_time": "2023-04-21T13:38:33.884724",
     "exception": false,
     "start_time": "2023-04-21T13:38:33.868531",
     "status": "completed"
    },
    "tags": []
   },
   "source": [
    "Üçüncü gelir (yani indeks 2 - 0 indekslemede!).\n",
    "\n",
    "Plüton hangi endekste oluşur?"
   ]
  },
  {
   "cell_type": "code",
   "execution_count": 30,
   "id": "1b6614f6",
   "metadata": {
    "execution": {
     "iopub.execute_input": "2023-04-21T13:38:33.919968Z",
     "iopub.status.busy": "2023-04-21T13:38:33.919582Z",
     "iopub.status.idle": "2023-04-21T13:38:33.984668Z",
     "shell.execute_reply": "2023-04-21T13:38:33.983531Z"
    },
    "papermill": {
     "duration": 0.086155,
     "end_time": "2023-04-21T13:38:33.987375",
     "exception": false,
     "start_time": "2023-04-21T13:38:33.901220",
     "status": "completed"
    },
    "tags": [
     "raises-exception"
    ]
   },
   "outputs": [
    {
     "ename": "ValueError",
     "evalue": "'Pluto' is not in list",
     "output_type": "error",
     "traceback": [
      "\u001b[0;31m---------------------------------------------------------------------------\u001b[0m",
      "\u001b[0;31mValueError\u001b[0m                                Traceback (most recent call last)",
      "\u001b[0;32m/tmp/ipykernel_19/2263615293.py\u001b[0m in \u001b[0;36m<module>\u001b[0;34m\u001b[0m\n\u001b[0;32m----> 1\u001b[0;31m \u001b[0mplanets\u001b[0m\u001b[0;34m.\u001b[0m\u001b[0mindex\u001b[0m\u001b[0;34m(\u001b[0m\u001b[0;34m'Pluto'\u001b[0m\u001b[0;34m)\u001b[0m\u001b[0;34m\u001b[0m\u001b[0;34m\u001b[0m\u001b[0m\n\u001b[0m",
      "\u001b[0;31mValueError\u001b[0m: 'Pluto' is not in list"
     ]
    }
   ],
   "source": [
    "planets.index('Pluto')"
   ]
  },
  {
   "cell_type": "markdown",
   "id": "be1bcf9a",
   "metadata": {
    "papermill": {
     "duration": 0.016218,
     "end_time": "2023-04-21T13:38:34.020514",
     "exception": false,
     "start_time": "2023-04-21T13:38:34.004296",
     "status": "completed"
    },
    "tags": []
   },
   "source": [
    "Ah, bu doğru...\n",
    "\n",
    "Bunun gibi hoş olmayan sürprizlerden kaçınmak için, bir listenin belirli bir değer içerip içermediğini belirlemek için `in` operatörünü kullanabiliriz:"
   ]
  },
  {
   "cell_type": "code",
   "execution_count": 31,
   "id": "c4e98d12",
   "metadata": {
    "collapsed": true,
    "execution": {
     "iopub.execute_input": "2023-04-21T13:38:34.055851Z",
     "iopub.status.busy": "2023-04-21T13:38:34.055383Z",
     "iopub.status.idle": "2023-04-21T13:38:34.062671Z",
     "shell.execute_reply": "2023-04-21T13:38:34.061473Z"
    },
    "jupyter": {
     "outputs_hidden": true
    },
    "papermill": {
     "duration": 0.02828,
     "end_time": "2023-04-21T13:38:34.065454",
     "exception": false,
     "start_time": "2023-04-21T13:38:34.037174",
     "status": "completed"
    },
    "tags": []
   },
   "outputs": [
    {
     "data": {
      "text/plain": [
       "True"
      ]
     },
     "execution_count": 31,
     "metadata": {},
     "output_type": "execute_result"
    }
   ],
   "source": [
    "# Is Earth a planet?\n",
    "\"Earth\" in planets"
   ]
  },
  {
   "cell_type": "code",
   "execution_count": 32,
   "id": "421a8191",
   "metadata": {
    "collapsed": true,
    "execution": {
     "iopub.execute_input": "2023-04-21T13:38:34.101525Z",
     "iopub.status.busy": "2023-04-21T13:38:34.100981Z",
     "iopub.status.idle": "2023-04-21T13:38:34.108647Z",
     "shell.execute_reply": "2023-04-21T13:38:34.107313Z"
    },
    "jupyter": {
     "outputs_hidden": true
    },
    "papermill": {
     "duration": 0.029164,
     "end_time": "2023-04-21T13:38:34.111507",
     "exception": false,
     "start_time": "2023-04-21T13:38:34.082343",
     "status": "completed"
    },
    "tags": []
   },
   "outputs": [
    {
     "data": {
      "text/plain": [
       "False"
      ]
     },
     "execution_count": 32,
     "metadata": {},
     "output_type": "execute_result"
    }
   ],
   "source": [
    "# Is Calbefraques a planet?\n",
    "\"Calbefraques\" in planets"
   ]
  },
  {
   "cell_type": "markdown",
   "id": "9bb498fa",
   "metadata": {
    "papermill": {
     "duration": 0.016898,
     "end_time": "2023-04-21T13:38:34.145581",
     "exception": false,
     "start_time": "2023-04-21T13:38:34.128683",
     "status": "completed"
    },
    "tags": []
   },
   "source": [
    "Ele almadığımız birkaç ilginç liste yöntemi daha var. Belirli bir nesneye ekli tüm yöntemler ve nitelikler hakkında bilgi edinmek istiyorsanız, nesnenin kendisinde `help()` çağırabiliriz. Örneğin, `help(planets)` bize *tüm* liste yöntemlerini anlatacaktır:"
   ]
  },
  {
   "cell_type": "code",
   "execution_count": 33,
   "id": "4153332d",
   "metadata": {
    "_kg_hide-output": true,
    "execution": {
     "iopub.execute_input": "2023-04-21T13:38:34.182005Z",
     "iopub.status.busy": "2023-04-21T13:38:34.181591Z",
     "iopub.status.idle": "2023-04-21T13:38:34.207243Z",
     "shell.execute_reply": "2023-04-21T13:38:34.205740Z"
    },
    "papermill": {
     "duration": 0.047352,
     "end_time": "2023-04-21T13:38:34.209811",
     "exception": false,
     "start_time": "2023-04-21T13:38:34.162459",
     "status": "completed"
    },
    "tags": []
   },
   "outputs": [
    {
     "name": "stdout",
     "output_type": "stream",
     "text": [
      "Help on list object:\n",
      "\n",
      "class list(object)\n",
      " |  list(iterable=(), /)\n",
      " |  \n",
      " |  Built-in mutable sequence.\n",
      " |  \n",
      " |  If no argument is given, the constructor creates a new empty list.\n",
      " |  The argument must be an iterable if specified.\n",
      " |  \n",
      " |  Methods defined here:\n",
      " |  \n",
      " |  __add__(self, value, /)\n",
      " |      Return self+value.\n",
      " |  \n",
      " |  __contains__(self, key, /)\n",
      " |      Return key in self.\n",
      " |  \n",
      " |  __delitem__(self, key, /)\n",
      " |      Delete self[key].\n",
      " |  \n",
      " |  __eq__(self, value, /)\n",
      " |      Return self==value.\n",
      " |  \n",
      " |  __ge__(self, value, /)\n",
      " |      Return self>=value.\n",
      " |  \n",
      " |  __getattribute__(self, name, /)\n",
      " |      Return getattr(self, name).\n",
      " |  \n",
      " |  __getitem__(...)\n",
      " |      x.__getitem__(y) <==> x[y]\n",
      " |  \n",
      " |  __gt__(self, value, /)\n",
      " |      Return self>value.\n",
      " |  \n",
      " |  __iadd__(self, value, /)\n",
      " |      Implement self+=value.\n",
      " |  \n",
      " |  __imul__(self, value, /)\n",
      " |      Implement self*=value.\n",
      " |  \n",
      " |  __init__(self, /, *args, **kwargs)\n",
      " |      Initialize self.  See help(type(self)) for accurate signature.\n",
      " |  \n",
      " |  __iter__(self, /)\n",
      " |      Implement iter(self).\n",
      " |  \n",
      " |  __le__(self, value, /)\n",
      " |      Return self<=value.\n",
      " |  \n",
      " |  __len__(self, /)\n",
      " |      Return len(self).\n",
      " |  \n",
      " |  __lt__(self, value, /)\n",
      " |      Return self<value.\n",
      " |  \n",
      " |  __mul__(self, value, /)\n",
      " |      Return self*value.\n",
      " |  \n",
      " |  __ne__(self, value, /)\n",
      " |      Return self!=value.\n",
      " |  \n",
      " |  __repr__(self, /)\n",
      " |      Return repr(self).\n",
      " |  \n",
      " |  __reversed__(self, /)\n",
      " |      Return a reverse iterator over the list.\n",
      " |  \n",
      " |  __rmul__(self, value, /)\n",
      " |      Return value*self.\n",
      " |  \n",
      " |  __setitem__(self, key, value, /)\n",
      " |      Set self[key] to value.\n",
      " |  \n",
      " |  __sizeof__(self, /)\n",
      " |      Return the size of the list in memory, in bytes.\n",
      " |  \n",
      " |  append(self, object, /)\n",
      " |      Append object to the end of the list.\n",
      " |  \n",
      " |  clear(self, /)\n",
      " |      Remove all items from list.\n",
      " |  \n",
      " |  copy(self, /)\n",
      " |      Return a shallow copy of the list.\n",
      " |  \n",
      " |  count(self, value, /)\n",
      " |      Return number of occurrences of value.\n",
      " |  \n",
      " |  extend(self, iterable, /)\n",
      " |      Extend list by appending elements from the iterable.\n",
      " |  \n",
      " |  index(self, value, start=0, stop=9223372036854775807, /)\n",
      " |      Return first index of value.\n",
      " |      \n",
      " |      Raises ValueError if the value is not present.\n",
      " |  \n",
      " |  insert(self, index, object, /)\n",
      " |      Insert object before index.\n",
      " |  \n",
      " |  pop(self, index=-1, /)\n",
      " |      Remove and return item at index (default last).\n",
      " |      \n",
      " |      Raises IndexError if list is empty or index is out of range.\n",
      " |  \n",
      " |  remove(self, value, /)\n",
      " |      Remove first occurrence of value.\n",
      " |      \n",
      " |      Raises ValueError if the value is not present.\n",
      " |  \n",
      " |  reverse(self, /)\n",
      " |      Reverse *IN PLACE*.\n",
      " |  \n",
      " |  sort(self, /, *, key=None, reverse=False)\n",
      " |      Stable sort *IN PLACE*.\n",
      " |  \n",
      " |  ----------------------------------------------------------------------\n",
      " |  Static methods defined here:\n",
      " |  \n",
      " |  __new__(*args, **kwargs) from builtins.type\n",
      " |      Create and return a new object.  See help(type) for accurate signature.\n",
      " |  \n",
      " |  ----------------------------------------------------------------------\n",
      " |  Data and other attributes defined here:\n",
      " |  \n",
      " |  __hash__ = None\n",
      "\n"
     ]
    }
   ],
   "source": [
    "help(planets)"
   ]
  },
  {
   "cell_type": "markdown",
   "id": "45db9581",
   "metadata": {
    "papermill": {
     "duration": 0.016904,
     "end_time": "2023-04-21T13:38:34.244326",
     "exception": false,
     "start_time": "2023-04-21T13:38:34.227422",
     "status": "completed"
    },
    "tags": []
   },
   "source": [
    "Yardım sayfasının tamamını görmek için \"çıktı\" düğmesine tıklayın. Listeler, `__eq__` ve `__iadd__` gibi garip görünümlü isimlere sahip birçok yönteme sahiptir. Şimdilik bunlar için çok fazla endişelenme. (Muhtemelen bu tür yöntemleri asla doğrudan aramayacaksınız. Ancak indeksleme veya karşılaştırma operatörleri gibi sözdizimi kullandığımızda perde arkasında çağrılırlar.) En ilginç yöntemler listenin en altındadır (`ek`, `temizle`, `kopyala`, vb.)."
   ]
  },
  {
   "cell_type": "markdown",
   "id": "ae17bf53",
   "metadata": {
    "papermill": {
     "duration": 0.016696,
     "end_time": "2023-04-21T13:38:34.277973",
     "exception": false,
     "start_time": "2023-04-21T13:38:34.261277",
     "status": "completed"
    },
    "tags": []
   },
   "source": [
    "## Demetler\n",
    "\n",
    "Tuples, listelerle neredeyse tamamen aynıdır. Sadece iki şekilde farklılık gösterirler.\n",
    "\n",
    "**1:** Bunları oluşturmak için sözdizimi köşeli ayraç yerine parantez kullanır"
   ]
  },
  {
   "cell_type": "code",
   "execution_count": 34,
   "id": "44b32c93",
   "metadata": {
    "execution": {
     "iopub.execute_input": "2023-04-21T13:38:34.314789Z",
     "iopub.status.busy": "2023-04-21T13:38:34.314383Z",
     "iopub.status.idle": "2023-04-21T13:38:34.319879Z",
     "shell.execute_reply": "2023-04-21T13:38:34.318555Z"
    },
    "papermill": {
     "duration": 0.027342,
     "end_time": "2023-04-21T13:38:34.322497",
     "exception": false,
     "start_time": "2023-04-21T13:38:34.295155",
     "status": "completed"
    },
    "tags": []
   },
   "outputs": [],
   "source": [
    "t = (1, 2, 3)"
   ]
  },
  {
   "cell_type": "code",
   "execution_count": 35,
   "id": "2bbee343",
   "metadata": {
    "execution": {
     "iopub.execute_input": "2023-04-21T13:38:34.360263Z",
     "iopub.status.busy": "2023-04-21T13:38:34.358961Z",
     "iopub.status.idle": "2023-04-21T13:38:34.366997Z",
     "shell.execute_reply": "2023-04-21T13:38:34.365657Z"
    },
    "papermill": {
     "duration": 0.029209,
     "end_time": "2023-04-21T13:38:34.369420",
     "exception": false,
     "start_time": "2023-04-21T13:38:34.340211",
     "status": "completed"
    },
    "tags": []
   },
   "outputs": [
    {
     "data": {
      "text/plain": [
       "(1, 2, 3)"
      ]
     },
     "execution_count": 35,
     "metadata": {},
     "output_type": "execute_result"
    }
   ],
   "source": [
    "t = 1, 2, 3 # equivalent to above\n",
    "t"
   ]
  },
  {
   "cell_type": "markdown",
   "id": "6faaf538",
   "metadata": {
    "papermill": {
     "duration": 0.017774,
     "end_time": "2023-04-21T13:38:34.405450",
     "exception": false,
     "start_time": "2023-04-21T13:38:34.387676",
     "status": "completed"
    },
    "tags": []
   },
   "source": [
    "**2:** Değiştirilemezler (*değişmezler*)."
   ]
  },
  {
   "cell_type": "code",
   "execution_count": 36,
   "id": "dfa02288",
   "metadata": {
    "execution": {
     "iopub.execute_input": "2023-04-21T13:38:34.442407Z",
     "iopub.status.busy": "2023-04-21T13:38:34.441967Z",
     "iopub.status.idle": "2023-04-21T13:38:34.457288Z",
     "shell.execute_reply": "2023-04-21T13:38:34.455897Z"
    },
    "papermill": {
     "duration": 0.037147,
     "end_time": "2023-04-21T13:38:34.460284",
     "exception": false,
     "start_time": "2023-04-21T13:38:34.423137",
     "status": "completed"
    },
    "tags": [
     "raises-exception"
    ]
   },
   "outputs": [
    {
     "ename": "TypeError",
     "evalue": "'tuple' object does not support item assignment",
     "output_type": "error",
     "traceback": [
      "\u001b[0;31m---------------------------------------------------------------------------\u001b[0m",
      "\u001b[0;31mTypeError\u001b[0m                                 Traceback (most recent call last)",
      "\u001b[0;32m/tmp/ipykernel_19/816329950.py\u001b[0m in \u001b[0;36m<module>\u001b[0;34m\u001b[0m\n\u001b[0;32m----> 1\u001b[0;31m \u001b[0mt\u001b[0m\u001b[0;34m[\u001b[0m\u001b[0;36m0\u001b[0m\u001b[0;34m]\u001b[0m \u001b[0;34m=\u001b[0m \u001b[0;36m100\u001b[0m\u001b[0;34m\u001b[0m\u001b[0;34m\u001b[0m\u001b[0m\n\u001b[0m",
      "\u001b[0;31mTypeError\u001b[0m: 'tuple' object does not support item assignment"
     ]
    }
   ],
   "source": [
    "t[0] = 100"
   ]
  },
  {
   "cell_type": "markdown",
   "id": "30616f6f",
   "metadata": {
    "papermill": {
     "duration": 0.01967,
     "end_time": "2023-04-21T13:38:34.498789",
     "exception": false,
     "start_time": "2023-04-21T13:38:34.479119",
     "status": "completed"
    },
    "tags": []
   },
   "source": [
    "Tuples genellikle birden fazla dönüş değerine sahip işlevler için kullanılır.\n",
    "\n",
    "Örneğin, float nesnelerinin ``as_integer_ratio()`` yöntemi, bir demet şeklinde bir pay ve bir payda döndürür:"
   ]
  },
  {
   "cell_type": "code",
   "execution_count": 37,
   "id": "7e7444c2",
   "metadata": {
    "execution": {
     "iopub.execute_input": "2023-04-21T13:38:34.536795Z",
     "iopub.status.busy": "2023-04-21T13:38:34.536386Z",
     "iopub.status.idle": "2023-04-21T13:38:34.543827Z",
     "shell.execute_reply": "2023-04-21T13:38:34.542592Z"
    },
    "papermill": {
     "duration": 0.029317,
     "end_time": "2023-04-21T13:38:34.546337",
     "exception": false,
     "start_time": "2023-04-21T13:38:34.517020",
     "status": "completed"
    },
    "tags": []
   },
   "outputs": [
    {
     "data": {
      "text/plain": [
       "(1, 8)"
      ]
     },
     "execution_count": 37,
     "metadata": {},
     "output_type": "execute_result"
    }
   ],
   "source": [
    "x = 0.125\n",
    "x.as_integer_ratio()"
   ]
  },
  {
   "cell_type": "markdown",
   "id": "0df3f88f",
   "metadata": {
    "papermill": {
     "duration": 0.017352,
     "end_time": "2023-04-21T13:38:34.581613",
     "exception": false,
     "start_time": "2023-04-21T13:38:34.564261",
     "status": "completed"
    },
    "tags": []
   },
   "source": [
    "Bu çoklu dönüş değerleri ayrı ayrı aşağıdaki gibi atanabilir:"
   ]
  },
  {
   "cell_type": "code",
   "execution_count": 38,
   "id": "fb267973",
   "metadata": {
    "execution": {
     "iopub.execute_input": "2023-04-21T13:38:34.619225Z",
     "iopub.status.busy": "2023-04-21T13:38:34.618798Z",
     "iopub.status.idle": "2023-04-21T13:38:34.624292Z",
     "shell.execute_reply": "2023-04-21T13:38:34.623149Z"
    },
    "papermill": {
     "duration": 0.027875,
     "end_time": "2023-04-21T13:38:34.627322",
     "exception": false,
     "start_time": "2023-04-21T13:38:34.599447",
     "status": "completed"
    },
    "tags": []
   },
   "outputs": [
    {
     "name": "stdout",
     "output_type": "stream",
     "text": [
      "0.125\n"
     ]
    }
   ],
   "source": [
    "numerator, denominator = x.as_integer_ratio()\n",
    "print(numerator / denominator)"
   ]
  },
  {
   "cell_type": "markdown",
   "id": "c113cd8c",
   "metadata": {
    "papermill": {
     "duration": 0.018384,
     "end_time": "2023-04-21T13:38:34.663626",
     "exception": false,
     "start_time": "2023-04-21T13:38:34.645242",
     "status": "completed"
    },
    "tags": []
   },
   "source": [
    "Son olarak, iki değişkeni değiştirmek için klasik Stupid Python Trick™ hakkında biraz fikir sahibiyiz!"
   ]
  },
  {
   "cell_type": "code",
   "execution_count": 39,
   "id": "e6dd3d72",
   "metadata": {
    "execution": {
     "iopub.execute_input": "2023-04-21T13:38:34.703815Z",
     "iopub.status.busy": "2023-04-21T13:38:34.703369Z",
     "iopub.status.idle": "2023-04-21T13:38:34.710338Z",
     "shell.execute_reply": "2023-04-21T13:38:34.709008Z"
    },
    "papermill": {
     "duration": 0.029147,
     "end_time": "2023-04-21T13:38:34.712599",
     "exception": false,
     "start_time": "2023-04-21T13:38:34.683452",
     "status": "completed"
    },
    "tags": []
   },
   "outputs": [
    {
     "name": "stdout",
     "output_type": "stream",
     "text": [
      "0 1\n"
     ]
    }
   ],
   "source": [
    "a = 1\n",
    "b = 0\n",
    "a, b = b, a\n",
    "print(a, b)"
   ]
  },
  {
   "cell_type": "markdown",
   "id": "b0b7e859",
   "metadata": {
    "papermill": {
     "duration": 0.01819,
     "end_time": "2023-04-21T13:38:34.749470",
     "exception": false,
     "start_time": "2023-04-21T13:38:34.731280",
     "status": "completed"
    },
    "tags": []
   },
   "source": [
    "# Senin Sıran\n",
    "\n",
    "En iyi kod yazarak öğrenirsiniz, sadece okuyarak değil. Öyleyse şimdi deneyin **[kodlama mücadelesi](https://www.kaggle.com/kernels/fork/1275173)**."
   ]
  },
  {
   "cell_type": "markdown",
   "id": "cf7c29e0",
   "metadata": {
    "papermill": {
     "duration": 0.018051,
     "end_time": "2023-04-21T13:38:34.785678",
     "exception": false,
     "start_time": "2023-04-21T13:38:34.767627",
     "status": "completed"
    },
    "tags": []
   },
   "source": [
    "---"
   ]
  },
  {
   "cell_type": "markdown",
   "id": "c12a21de",
   "metadata": {
    "papermill": {
     "duration": 0.007468,
     "end_time": "2023-04-21T13:38:20.036493",
     "exception": false,
     "start_time": "2023-04-21T13:38:20.029025",
     "status": "completed"
    },
    "tags": []
   },
   "source": [
    "# Loops and List Comprehensions\n",
    "\n",
    "## Döngüler\n",
    "\n",
    "Döngüler, bazı kodları tekrar tekrar yürütmenin bir yoludur. İşte bir örnek:"
   ]
  },
  {
   "cell_type": "code",
   "execution_count": 1,
   "id": "ae076e95",
   "metadata": {
    "execution": {
     "iopub.execute_input": "2023-04-21T13:38:20.051430Z",
     "iopub.status.busy": "2023-04-21T13:38:20.050854Z",
     "iopub.status.idle": "2023-04-21T13:38:20.066394Z",
     "shell.execute_reply": "2023-04-21T13:38:20.065301Z"
    },
    "papermill": {
     "duration": 0.025629,
     "end_time": "2023-04-21T13:38:20.068822",
     "exception": false,
     "start_time": "2023-04-21T13:38:20.043193",
     "status": "completed"
    },
    "tags": []
   },
   "outputs": [
    {
     "name": "stdout",
     "output_type": "stream",
     "text": [
      "Mercury Venus Earth Mars Jupiter Saturn Uranus Neptune "
     ]
    }
   ],
   "source": [
    "planets = ['Mercury', 'Venus', 'Earth', 'Mars', 'Jupiter', 'Saturn', 'Uranus', 'Neptune']\n",
    "for planet in planets:\n",
    "    print(planet, end=' ') # print all on same line"
   ]
  },
  {
   "cell_type": "markdown",
   "id": "89c1b54d",
   "metadata": {
    "papermill": {
     "duration": 0.006056,
     "end_time": "2023-04-21T13:38:20.081325",
     "exception": false,
     "start_time": "2023-04-21T13:38:20.075269",
     "status": "completed"
    },
    "tags": []
   },
   "source": [
    "``for`` döngüsü belirtir\n",
    "\n",
    "- kullanılacak değişken adı (bu durumda, `gezegen`)\n",
    "\n",
    "- döngü için değerler kümesi (bu durumda, `gezegenler`)\n",
    "\n",
    "Onları birbirine bağlamak için \"``in``\" kelimesini kullanırsınız.\n",
    "\n",
    "\"``in``\" sağındaki nesne, yinelemeyi destekleyen herhangi bir nesne olabilir. Temel olarak, bir grup şey olarak düşünülebilirse, muhtemelen üzerinde döngü yapabilirsiniz. Listelere ek olarak, bir demetin öğeleri üzerinde yineleme yapabiliriz:"
   ]
  },
  {
   "cell_type": "code",
   "execution_count": 2,
   "id": "a307842b",
   "metadata": {
    "execution": {
     "iopub.execute_input": "2023-04-21T13:38:20.097247Z",
     "iopub.status.busy": "2023-04-21T13:38:20.096130Z",
     "iopub.status.idle": "2023-04-21T13:38:20.104735Z",
     "shell.execute_reply": "2023-04-21T13:38:20.103771Z"
    },
    "papermill": {
     "duration": 0.018366,
     "end_time": "2023-04-21T13:38:20.106944",
     "exception": false,
     "start_time": "2023-04-21T13:38:20.088578",
     "status": "completed"
    },
    "tags": []
   },
   "outputs": [
    {
     "data": {
      "text/plain": [
       "360"
      ]
     },
     "execution_count": 2,
     "metadata": {},
     "output_type": "execute_result"
    }
   ],
   "source": [
    "multiplicands = (2, 2, 2, 3, 3, 5)\n",
    "product = 1\n",
    "for mult in multiplicands:\n",
    "    product = product * mult\n",
    "product"
   ]
  },
  {
   "cell_type": "markdown",
   "id": "c2d8ab62",
   "metadata": {
    "papermill": {
     "duration": 0.006092,
     "end_time": "2023-04-21T13:38:20.119619",
     "exception": false,
     "start_time": "2023-04-21T13:38:20.113527",
     "status": "completed"
    },
    "tags": []
   },
   "source": [
    "Hatta bir dizedeki her karakter arasında döngü yapabilirsiniz:"
   ]
  },
  {
   "cell_type": "code",
   "execution_count": 3,
   "id": "9cdd65b6",
   "metadata": {
    "execution": {
     "iopub.execute_input": "2023-04-21T13:38:20.135173Z",
     "iopub.status.busy": "2023-04-21T13:38:20.133900Z",
     "iopub.status.idle": "2023-04-21T13:38:20.140967Z",
     "shell.execute_reply": "2023-04-21T13:38:20.139602Z"
    },
    "papermill": {
     "duration": 0.017415,
     "end_time": "2023-04-21T13:38:20.143416",
     "exception": false,
     "start_time": "2023-04-21T13:38:20.126001",
     "status": "completed"
    },
    "tags": []
   },
   "outputs": [
    {
     "name": "stdout",
     "output_type": "stream",
     "text": [
      "HELLO"
     ]
    }
   ],
   "source": [
    "s = 'steganograpHy is the practicE of conceaLing a file, message, image, or video within another fiLe, message, image, Or video.'\n",
    "msg = ''\n",
    "# print all the uppercase letters in s, one at a time\n",
    "for char in s:\n",
    "    if char.isupper():\n",
    "        print(char, end='')        "
   ]
  },
  {
   "cell_type": "markdown",
   "id": "e3601bc4",
   "metadata": {
    "papermill": {
     "duration": 0.006196,
     "end_time": "2023-04-21T13:38:20.156194",
     "exception": false,
     "start_time": "2023-04-21T13:38:20.149998",
     "status": "completed"
    },
    "tags": []
   },
   "source": [
    "### range()\n",
    "\n",
    "`range()` bir dizi sayı döndüren bir işlevdir. Döngü yazmak için çok faydalı olduğu ortaya çıktı.\n",
    "\n",
    "Örneğin, bazı eylemleri 5 kez tekrarlamak istiyorsak:"
   ]
  },
  {
   "cell_type": "code",
   "execution_count": 4,
   "id": "0e03d5c0",
   "metadata": {
    "execution": {
     "iopub.execute_input": "2023-04-21T13:38:20.171210Z",
     "iopub.status.busy": "2023-04-21T13:38:20.170546Z",
     "iopub.status.idle": "2023-04-21T13:38:20.176610Z",
     "shell.execute_reply": "2023-04-21T13:38:20.175194Z"
    },
    "papermill": {
     "duration": 0.016378,
     "end_time": "2023-04-21T13:38:20.179099",
     "exception": false,
     "start_time": "2023-04-21T13:38:20.162721",
     "status": "completed"
    },
    "tags": []
   },
   "outputs": [
    {
     "name": "stdout",
     "output_type": "stream",
     "text": [
      "Doing important work. i = 0\n",
      "Doing important work. i = 1\n",
      "Doing important work. i = 2\n",
      "Doing important work. i = 3\n",
      "Doing important work. i = 4\n"
     ]
    }
   ],
   "source": [
    "for i in range(5):\n",
    "    print(\"Doing important work. i =\", i)"
   ]
  },
  {
   "cell_type": "markdown",
   "id": "aa4753e3",
   "metadata": {
    "papermill": {
     "duration": 0.006429,
     "end_time": "2023-04-21T13:38:20.192185",
     "exception": false,
     "start_time": "2023-04-21T13:38:20.185756",
     "status": "completed"
    },
    "tags": []
   },
   "source": [
    "## ``while`` loops\n",
    "Python'daki diğer döngü türü, bir koşul karşılanana kadar yinelenen bir ``while`` döngüsüdür:"
   ]
  },
  {
   "cell_type": "code",
   "execution_count": 5,
   "id": "b4a5a663",
   "metadata": {
    "execution": {
     "iopub.execute_input": "2023-04-21T13:38:20.207418Z",
     "iopub.status.busy": "2023-04-21T13:38:20.206985Z",
     "iopub.status.idle": "2023-04-21T13:38:20.213127Z",
     "shell.execute_reply": "2023-04-21T13:38:20.211922Z"
    },
    "papermill": {
     "duration": 0.016774,
     "end_time": "2023-04-21T13:38:20.215591",
     "exception": false,
     "start_time": "2023-04-21T13:38:20.198817",
     "status": "completed"
    },
    "tags": []
   },
   "outputs": [
    {
     "name": "stdout",
     "output_type": "stream",
     "text": [
      "0 1 2 3 4 5 6 7 8 9 "
     ]
    }
   ],
   "source": [
    "i = 0\n",
    "while i < 10:\n",
    "    print(i, end=' ')\n",
    "    i += 1 # increase the value of i by 1"
   ]
  },
  {
   "cell_type": "markdown",
   "id": "e8c14ea1",
   "metadata": {
    "papermill": {
     "duration": 0.006512,
     "end_time": "2023-04-21T13:38:20.230170",
     "exception": false,
     "start_time": "2023-04-21T13:38:20.223658",
     "status": "completed"
    },
    "tags": []
   },
   "source": [
    "``while`` döngüsünün argümanı bir boole ifadesi olarak değerlendirilir ve döngü, ifade False olarak değerlendirilene kadar yürütülür."
   ]
  },
  {
   "cell_type": "markdown",
   "id": "eb3b6e84",
   "metadata": {
    "papermill": {
     "duration": 0.006399,
     "end_time": "2023-04-21T13:38:20.243280",
     "exception": false,
     "start_time": "2023-04-21T13:38:20.236881",
     "status": "completed"
    },
    "tags": []
   },
   "source": [
    "# List comprehensions\n",
    "\n",
    "Liste karşılaştırma, Python'un en sevilen ve benzersiz özelliklerinden biridir. Onları anlamanın en kolay yolu muhtemelen sadece birkaç örneğe bakmaktır:"
   ]
  },
  {
   "cell_type": "code",
   "execution_count": 6,
   "id": "868b05e8",
   "metadata": {
    "execution": {
     "iopub.execute_input": "2023-04-21T13:38:20.259243Z",
     "iopub.status.busy": "2023-04-21T13:38:20.258169Z",
     "iopub.status.idle": "2023-04-21T13:38:20.265317Z",
     "shell.execute_reply": "2023-04-21T13:38:20.264442Z"
    },
    "papermill": {
     "duration": 0.017482,
     "end_time": "2023-04-21T13:38:20.267583",
     "exception": false,
     "start_time": "2023-04-21T13:38:20.250101",
     "status": "completed"
    },
    "tags": []
   },
   "outputs": [
    {
     "data": {
      "text/plain": [
       "[0, 1, 4, 9, 16, 25, 36, 49, 64, 81]"
      ]
     },
     "execution_count": 6,
     "metadata": {},
     "output_type": "execute_result"
    }
   ],
   "source": [
    "squares = [n**2 for n in range(10)]\n",
    "squares"
   ]
  },
  {
   "cell_type": "markdown",
   "id": "101443ed",
   "metadata": {
    "papermill": {
     "duration": 0.006633,
     "end_time": "2023-04-21T13:38:20.281814",
     "exception": false,
     "start_time": "2023-04-21T13:38:20.275181",
     "status": "completed"
    },
    "tags": []
   },
   "source": [
    "Listeyi anlamadan aynı şeyi şu şekilde yapardık:"
   ]
  },
  {
   "cell_type": "code",
   "execution_count": 7,
   "id": "5e7ee154",
   "metadata": {
    "execution": {
     "iopub.execute_input": "2023-04-21T13:38:20.298003Z",
     "iopub.status.busy": "2023-04-21T13:38:20.297086Z",
     "iopub.status.idle": "2023-04-21T13:38:20.305149Z",
     "shell.execute_reply": "2023-04-21T13:38:20.304214Z"
    },
    "papermill": {
     "duration": 0.018783,
     "end_time": "2023-04-21T13:38:20.307575",
     "exception": false,
     "start_time": "2023-04-21T13:38:20.288792",
     "status": "completed"
    },
    "tags": []
   },
   "outputs": [
    {
     "data": {
      "text/plain": [
       "[0, 1, 4, 9, 16, 25, 36, 49, 64, 81]"
      ]
     },
     "execution_count": 7,
     "metadata": {},
     "output_type": "execute_result"
    }
   ],
   "source": [
    "squares = []\n",
    "for n in range(10):\n",
    "    squares.append(n**2)\n",
    "squares"
   ]
  },
  {
   "cell_type": "markdown",
   "id": "8d8fa142",
   "metadata": {
    "papermill": {
     "duration": 0.006835,
     "end_time": "2023-04-21T13:38:20.321626",
     "exception": false,
     "start_time": "2023-04-21T13:38:20.314791",
     "status": "completed"
    },
    "tags": []
   },
   "source": [
    "Ayrıca bir `if` koşulu da ekleyebiliriz:"
   ]
  },
  {
   "cell_type": "code",
   "execution_count": 8,
   "id": "fd1a5474",
   "metadata": {
    "execution": {
     "iopub.execute_input": "2023-04-21T13:38:20.337814Z",
     "iopub.status.busy": "2023-04-21T13:38:20.337411Z",
     "iopub.status.idle": "2023-04-21T13:38:20.345384Z",
     "shell.execute_reply": "2023-04-21T13:38:20.344077Z"
    },
    "papermill": {
     "duration": 0.019176,
     "end_time": "2023-04-21T13:38:20.347951",
     "exception": false,
     "start_time": "2023-04-21T13:38:20.328775",
     "status": "completed"
    },
    "tags": []
   },
   "outputs": [
    {
     "data": {
      "text/plain": [
       "['Venus', 'Earth', 'Mars']"
      ]
     },
     "execution_count": 8,
     "metadata": {},
     "output_type": "execute_result"
    }
   ],
   "source": [
    "short_planets = [planet for planet in planets if len(planet) < 6]\n",
    "short_planets"
   ]
  },
  {
   "cell_type": "markdown",
   "id": "571648fb",
   "metadata": {
    "papermill": {
     "duration": 0.007067,
     "end_time": "2023-04-21T13:38:20.362491",
     "exception": false,
     "start_time": "2023-04-21T13:38:20.355424",
     "status": "completed"
    },
    "tags": []
   },
   "source": [
    "(SQL'e aşinaysanız, bunu bir \"WHERE\" yan tümcesi gibi düşünebilirsiniz)\n",
    "\n",
    "İşte bir `if` koşuluyla *ve* döngü değişkenine bir miktar dönüşüm uygulayan filtreleme örneği:"
   ]
  },
  {
   "cell_type": "code",
   "execution_count": 9,
   "id": "ee9e3e63",
   "metadata": {
    "execution": {
     "iopub.execute_input": "2023-04-21T13:38:20.379638Z",
     "iopub.status.busy": "2023-04-21T13:38:20.378763Z",
     "iopub.status.idle": "2023-04-21T13:38:20.386774Z",
     "shell.execute_reply": "2023-04-21T13:38:20.385441Z"
    },
    "papermill": {
     "duration": 0.019257,
     "end_time": "2023-04-21T13:38:20.389212",
     "exception": false,
     "start_time": "2023-04-21T13:38:20.369955",
     "status": "completed"
    },
    "tags": []
   },
   "outputs": [
    {
     "data": {
      "text/plain": [
       "['VENUS!', 'EARTH!', 'MARS!']"
      ]
     },
     "execution_count": 9,
     "metadata": {},
     "output_type": "execute_result"
    }
   ],
   "source": [
    "# str.upper() returns an all-caps version of a string\n",
    "loud_short_planets = [planet.upper() + '!' for planet in planets if len(planet) < 6]\n",
    "loud_short_planets"
   ]
  },
  {
   "cell_type": "markdown",
   "id": "2405f1b2",
   "metadata": {
    "papermill": {
     "duration": 0.007029,
     "end_time": "2023-04-21T13:38:20.403800",
     "exception": false,
     "start_time": "2023-04-21T13:38:20.396771",
     "status": "completed"
    },
    "tags": []
   },
   "source": [
    "İnsanlar genellikle bunları tek bir satıra yazar, ancak 3 satıra bölündüğünde yapıyı daha net bulabilirsiniz:"
   ]
  },
  {
   "cell_type": "code",
   "execution_count": 10,
   "id": "5bc00919",
   "metadata": {
    "execution": {
     "iopub.execute_input": "2023-04-21T13:38:20.420318Z",
     "iopub.status.busy": "2023-04-21T13:38:20.419893Z",
     "iopub.status.idle": "2023-04-21T13:38:20.427003Z",
     "shell.execute_reply": "2023-04-21T13:38:20.426114Z"
    },
    "papermill": {
     "duration": 0.018227,
     "end_time": "2023-04-21T13:38:20.429381",
     "exception": false,
     "start_time": "2023-04-21T13:38:20.411154",
     "status": "completed"
    },
    "tags": []
   },
   "outputs": [
    {
     "data": {
      "text/plain": [
       "['VENUS!', 'EARTH!', 'MARS!']"
      ]
     },
     "execution_count": 10,
     "metadata": {},
     "output_type": "execute_result"
    }
   ],
   "source": [
    "[\n",
    "    planet.upper() + '!' \n",
    "    for planet in planets \n",
    "    if len(planet) < 6\n",
    "]"
   ]
  },
  {
   "cell_type": "markdown",
   "id": "94901b4a",
   "metadata": {
    "papermill": {
     "duration": 0.007462,
     "end_time": "2023-04-21T13:38:20.444366",
     "exception": false,
     "start_time": "2023-04-21T13:38:20.436904",
     "status": "completed"
    },
    "tags": []
   },
   "source": [
    "(SQL analojisine devam ederek, bu üç satırı SELECT, FROM ve WHERE olarak düşünebilirsiniz)\n",
    "\n",
    "Soldaki ifadenin teknik olarak döngü değişkenini içermesi gerekmez (ancak olmaması oldukça sıra dışı olacaktır). Aşağıdaki ifadenin neyi değerlendireceğini düşünüyorsunuz? Kontrol etmek için 'çıkış' düğmesine basın."
   ]
  },
  {
   "cell_type": "code",
   "execution_count": 11,
   "id": "8824ec46",
   "metadata": {
    "_kg_hide-output": true,
    "execution": {
     "iopub.execute_input": "2023-04-21T13:38:20.461291Z",
     "iopub.status.busy": "2023-04-21T13:38:20.460836Z",
     "iopub.status.idle": "2023-04-21T13:38:20.467918Z",
     "shell.execute_reply": "2023-04-21T13:38:20.466819Z"
    },
    "papermill": {
     "duration": 0.01847,
     "end_time": "2023-04-21T13:38:20.470389",
     "exception": false,
     "start_time": "2023-04-21T13:38:20.451919",
     "status": "completed"
    },
    "tags": []
   },
   "outputs": [
    {
     "data": {
      "text/plain": [
       "[32, 32, 32, 32, 32, 32, 32, 32]"
      ]
     },
     "execution_count": 11,
     "metadata": {},
     "output_type": "execute_result"
    }
   ],
   "source": [
    "[32 for planet in planets]"
   ]
  },
  {
   "cell_type": "markdown",
   "id": "040c6d8b",
   "metadata": {
    "papermill": {
     "duration": 0.007517,
     "end_time": "2023-04-21T13:38:20.485847",
     "exception": false,
     "start_time": "2023-04-21T13:38:20.478330",
     "status": "completed"
    },
    "tags": []
   },
   "source": [
    "`min`, `max` ve `sum` gibi işlevlerle birleştirilen liste anlamaları, aksi takdirde birkaç satır kod gerektirecek sorunlar için etkileyici tek satırlık çözümlere yol açabilir.\n",
    "\n",
    "Örneğin, aynı şeyi yapan aşağıdaki iki kod hücresini karşılaştırın.\n"
   ]
  },
  {
   "cell_type": "code",
   "execution_count": 12,
   "id": "e3ef27d5",
   "metadata": {
    "collapsed": true,
    "execution": {
     "iopub.execute_input": "2023-04-21T13:38:20.503650Z",
     "iopub.status.busy": "2023-04-21T13:38:20.502701Z",
     "iopub.status.idle": "2023-04-21T13:38:20.508722Z",
     "shell.execute_reply": "2023-04-21T13:38:20.507702Z"
    },
    "jupyter": {
     "outputs_hidden": true
    },
    "papermill": {
     "duration": 0.017423,
     "end_time": "2023-04-21T13:38:20.511067",
     "exception": false,
     "start_time": "2023-04-21T13:38:20.493644",
     "status": "completed"
    },
    "tags": []
   },
   "outputs": [],
   "source": [
    "def count_negatives(nums):\n",
    "    \"\"\"Return the number of negative numbers in the given list.\n",
    "    \n",
    "    >>> count_negatives([5, -1, -2, 0, 3])\n",
    "    2\n",
    "    \"\"\"\n",
    "    n_negative = 0\n",
    "    for num in nums:\n",
    "        if num < 0:\n",
    "            n_negative = n_negative + 1\n",
    "    return n_negative"
   ]
  },
  {
   "cell_type": "markdown",
   "id": "50ccb27a",
   "metadata": {
    "papermill": {
     "duration": 0.007839,
     "end_time": "2023-04-21T13:38:20.527152",
     "exception": false,
     "start_time": "2023-04-21T13:38:20.519313",
     "status": "completed"
    },
    "tags": []
   },
   "source": [
    "İşte liste anlama kullanan bir çözüm:"
   ]
  },
  {
   "cell_type": "code",
   "execution_count": 13,
   "id": "1e411003",
   "metadata": {
    "collapsed": true,
    "execution": {
     "iopub.execute_input": "2023-04-21T13:38:20.545075Z",
     "iopub.status.busy": "2023-04-21T13:38:20.544269Z",
     "iopub.status.idle": "2023-04-21T13:38:20.550280Z",
     "shell.execute_reply": "2023-04-21T13:38:20.549035Z"
    },
    "jupyter": {
     "outputs_hidden": true
    },
    "papermill": {
     "duration": 0.01778,
     "end_time": "2023-04-21T13:38:20.552724",
     "exception": false,
     "start_time": "2023-04-21T13:38:20.534944",
     "status": "completed"
    },
    "tags": []
   },
   "outputs": [],
   "source": [
    "def count_negatives(nums):\n",
    "    return len([num for num in nums if num < 0])"
   ]
  },
  {
   "cell_type": "markdown",
   "id": "cd4c612f",
   "metadata": {
    "papermill": {
     "duration": 0.007479,
     "end_time": "2023-04-21T13:38:20.568076",
     "exception": false,
     "start_time": "2023-04-21T13:38:20.560597",
     "status": "completed"
    },
    "tags": []
   },
   "source": [
    "Çok daha iyi, değil mi?\n",
    "\n",
    "Umursadığımız tek şey kodumuzun uzunluğunu en aza indirmekse, bu üçüncü çözüm daha da iyidir!"
   ]
  },
  {
   "cell_type": "code",
   "execution_count": 14,
   "id": "2967c28b",
   "metadata": {
    "collapsed": true,
    "execution": {
     "iopub.execute_input": "2023-04-21T13:38:20.585630Z",
     "iopub.status.busy": "2023-04-21T13:38:20.585197Z",
     "iopub.status.idle": "2023-04-21T13:38:20.590482Z",
     "shell.execute_reply": "2023-04-21T13:38:20.589298Z"
    },
    "jupyter": {
     "outputs_hidden": true
    },
    "papermill": {
     "duration": 0.017027,
     "end_time": "2023-04-21T13:38:20.592936",
     "exception": false,
     "start_time": "2023-04-21T13:38:20.575909",
     "status": "completed"
    },
    "tags": []
   },
   "outputs": [],
   "source": [
    "def count_negatives(nums):\n",
    "    # Reminder: in the \"booleans and conditionals\" exercises, we learned about a quirk of \n",
    "    # Python where it calculates something like True + True + False + True to be equal to 3.\n",
    "    return sum([num < 0 for num in nums])"
   ]
  },
  {
   "cell_type": "markdown",
   "id": "60e19971",
   "metadata": {
    "papermill": {
     "duration": 0.007712,
     "end_time": "2023-04-21T13:38:20.608579",
     "exception": false,
     "start_time": "2023-04-21T13:38:20.600867",
     "status": "completed"
    },
    "tags": []
   },
   "source": [
    "Bu çözümlerden hangisi \"en iyi\" tamamen özneldir. Bir sorunu daha az kodla çözmek her zaman güzeldir, ancak [The Zen of Python](https://en.wikipedia.org/wiki/Zen_of_Python) aşağıdaki satırları akılda tutmaya değer:\n",
    "\n",
    "> Okunabilirlik önemlidir.\n",
    "\n",
    "> Açık, örtük olmaktan iyidir.\n",
    "\n",
    "Bu nedenle, kompakt okunabilir programlar yapmak için bu araçları kullanın. Ancak seçmeniz gerektiğinde, başkalarının anlaması kolay olan kodu tercih edin."
   ]
  },
  {
   "cell_type": "markdown",
   "id": "d53f26b5",
   "metadata": {
    "papermill": {
     "duration": 0.007512,
     "end_time": "2023-04-21T13:38:20.623954",
     "exception": false,
     "start_time": "2023-04-21T13:38:20.616442",
     "status": "completed"
    },
    "tags": []
   },
   "source": [
    "# Sıran\n",
    "\n",
    "Sırada ne olduğunu biliyorsunuz -- sizin için bazı **[eğlenceli kodlama zorlukları](https://www.kaggle.com/kernels/fork/1275177)** var! Bir sonraki kodlama problemleri seti daha kısadır, bu yüzden şimdi deneyin."
   ]
  },
  {
   "cell_type": "markdown",
   "id": "a4280236",
   "metadata": {
    "papermill": {
     "duration": 0.007488,
     "end_time": "2023-04-21T13:38:20.639386",
     "exception": false,
     "start_time": "2023-04-21T13:38:20.631898",
     "status": "completed"
    },
    "tags": []
   },
   "source": [
    "---"
   ]
  },
  {
   "cell_type": "markdown",
   "id": "878d5ad2",
   "metadata": {
    "papermill": {
     "duration": 0.012358,
     "end_time": "2023-04-21T13:38:06.729906",
     "exception": false,
     "start_time": "2023-04-21T13:38:06.717548",
     "status": "completed"
    },
    "tags": []
   },
   "source": [
    "# 06 Strings and Dictionaries\n",
    "\n",
    "Bu ders iki temel Python türünü kapsayacaktır: **strings** ve **dictionaries**.\n",
    "\n",
    "## Strings"
   ]
  },
  {
   "cell_type": "markdown",
   "id": "70bbb790",
   "metadata": {
    "papermill": {
     "duration": 0.012488,
     "end_time": "2023-04-21T13:38:06.757846",
     "exception": false,
     "start_time": "2023-04-21T13:38:06.745358",
     "status": "completed"
    },
    "tags": []
   },
   "source": [
    "Python dilinin gerçekten parladığı bir yer, dizelerin manipüle edilmesidir.\n",
    "\n",
    "Bu bölüm, Python'un bazı yerleşik dize yöntemlerini ve biçimlendirme işlemlerini kapsayacaktır.\n",
    "\n",
    "Bu tür dize manipülasyon kalıpları, veri bilimi çalışması bağlamında sıklıkla ortaya çıkar.\n",
    "\n",
    "## String syntax\n",
    "\n",
    "Önceki dersler sırasında örneklerde çok sayıda dize gördünüz, ancak sadece özetlemek için, Python'daki dizeler tek veya çift alıntılar kullanılarak tanımlanabilir. İşlevsel olarak eşdeğerdirler."
   ]
  },
  {
   "cell_type": "code",
   "execution_count": 1,
   "id": "f403dbbc",
   "metadata": {
    "execution": {
     "iopub.execute_input": "2023-04-21T13:38:06.797727Z",
     "iopub.status.busy": "2023-04-21T13:38:06.797138Z",
     "iopub.status.idle": "2023-04-21T13:38:06.814537Z",
     "shell.execute_reply": "2023-04-21T13:38:06.813246Z"
    },
    "papermill": {
     "duration": 0.040443,
     "end_time": "2023-04-21T13:38:06.817310",
     "exception": false,
     "start_time": "2023-04-21T13:38:06.776867",
     "status": "completed"
    },
    "tags": []
   },
   "outputs": [
    {
     "data": {
      "text/plain": [
       "True"
      ]
     },
     "execution_count": 1,
     "metadata": {},
     "output_type": "execute_result"
    }
   ],
   "source": [
    "x = 'Pluto is a planet'\n",
    "y = \"Pluto is a planet\"\n",
    "x == y"
   ]
  },
  {
   "cell_type": "markdown",
   "id": "87fc2e1b",
   "metadata": {
    "papermill": {
     "duration": 0.011975,
     "end_time": "2023-04-21T13:38:06.841743",
     "exception": false,
     "start_time": "2023-04-21T13:38:06.829768",
     "status": "completed"
    },
    "tags": []
   },
   "source": [
    "Dizeniz tek bir tırnak karakteri içeriyorsa (örneğin kesme işaretini temsil ediyorsa) çift tırnak işareti uygundur.\n",
    "\n",
    "Benzer şekilde, tek tırnaklara sararsanız, double-quotes içeren bir dize oluşturmak kolaydır:"
   ]
  },
  {
   "cell_type": "code",
   "execution_count": 2,
   "id": "0b903411",
   "metadata": {
    "execution": {
     "iopub.execute_input": "2023-04-21T13:38:06.870780Z",
     "iopub.status.busy": "2023-04-21T13:38:06.870237Z",
     "iopub.status.idle": "2023-04-21T13:38:06.877099Z",
     "shell.execute_reply": "2023-04-21T13:38:06.875928Z"
    },
    "papermill": {
     "duration": 0.025487,
     "end_time": "2023-04-21T13:38:06.879493",
     "exception": false,
     "start_time": "2023-04-21T13:38:06.854006",
     "status": "completed"
    },
    "tags": []
   },
   "outputs": [
    {
     "name": "stdout",
     "output_type": "stream",
     "text": [
      "Pluto's a planet!\n",
      "My dog is named \"Pluto\"\n"
     ]
    }
   ],
   "source": [
    "print(\"Pluto's a planet!\")\n",
    "print('My dog is named \"Pluto\"')"
   ]
  },
  {
   "cell_type": "markdown",
   "id": "87aa222c",
   "metadata": {
    "papermill": {
     "duration": 0.01271,
     "end_time": "2023-04-21T13:38:06.904386",
     "exception": false,
     "start_time": "2023-04-21T13:38:06.891676",
     "status": "completed"
    },
    "tags": []
   },
   "source": [
    "Tek tırnaklı bir dizeye tek bir tırnak karakteri koymaya çalışırsak, Python'un kafası karışır:"
   ]
  },
  {
   "cell_type": "code",
   "execution_count": 3,
   "id": "4783cee4",
   "metadata": {
    "execution": {
     "iopub.execute_input": "2023-04-21T13:38:06.933087Z",
     "iopub.status.busy": "2023-04-21T13:38:06.932124Z",
     "iopub.status.idle": "2023-04-21T13:38:06.939557Z",
     "shell.execute_reply": "2023-04-21T13:38:06.938551Z"
    },
    "papermill": {
     "duration": 0.024853,
     "end_time": "2023-04-21T13:38:06.942104",
     "exception": false,
     "start_time": "2023-04-21T13:38:06.917251",
     "status": "completed"
    },
    "tags": [
     "raises-exception"
    ]
   },
   "outputs": [
    {
     "ename": "SyntaxError",
     "evalue": "invalid syntax (1561186517.py, line 1)",
     "output_type": "error",
     "traceback": [
      "\u001b[0;36m  File \u001b[0;32m\"/tmp/ipykernel_19/1561186517.py\"\u001b[0;36m, line \u001b[0;32m1\u001b[0m\n\u001b[0;31m    'Pluto's a planet!'\u001b[0m\n\u001b[0m           ^\u001b[0m\n\u001b[0;31mSyntaxError\u001b[0m\u001b[0;31m:\u001b[0m invalid syntax\n"
     ]
    }
   ],
   "source": [
    "'Pluto's a planet!'"
   ]
  },
  {
   "cell_type": "markdown",
   "id": "7630def2",
   "metadata": {
    "papermill": {
     "duration": 0.012546,
     "end_time": "2023-04-21T13:38:06.967312",
     "exception": false,
     "start_time": "2023-04-21T13:38:06.954766",
     "status": "completed"
    },
    "tags": []
   },
   "source": [
    "Bunu tek bir alıntıdan ters eğik çizgi ile \"kaçarak\" düzeltebiliriz."
   ]
  },
  {
   "cell_type": "code",
   "execution_count": 4,
   "id": "096644be",
   "metadata": {
    "execution": {
     "iopub.execute_input": "2023-04-21T13:38:06.995729Z",
     "iopub.status.busy": "2023-04-21T13:38:06.994287Z",
     "iopub.status.idle": "2023-04-21T13:38:07.004330Z",
     "shell.execute_reply": "2023-04-21T13:38:07.003124Z"
    },
    "papermill": {
     "duration": 0.027892,
     "end_time": "2023-04-21T13:38:07.007915",
     "exception": false,
     "start_time": "2023-04-21T13:38:06.980023",
     "status": "completed"
    },
    "tags": []
   },
   "outputs": [
    {
     "data": {
      "text/plain": [
       "\"Pluto's a planet!\""
      ]
     },
     "execution_count": 4,
     "metadata": {},
     "output_type": "execute_result"
    }
   ],
   "source": [
    "'Pluto\\'s a planet!'"
   ]
  },
  {
   "cell_type": "markdown",
   "id": "a876deea",
   "metadata": {
    "papermill": {
     "duration": 0.012455,
     "end_time": "2023-04-21T13:38:07.040745",
     "exception": false,
     "start_time": "2023-04-21T13:38:07.028290",
     "status": "completed"
    },
    "tags": []
   },
   "source": [
    "Aşağıdaki tablo ters eğik çizgi karakterinin bazı önemli kullanımlarını özetlemektedir.\n",
    "\n",
    "| What you type... | What you get | example  | `print(example)` |\n",
    "|---|---|---|---|\n",
    "| `\\'` | `'` | `'What\\'s up?'` | `What's up?` |  \n",
    "| `\\\"` | `\"` | `\"That's \\\"cool\\\"\"` | `That's \"cool\"` |  \n",
    "| `\\\\` | `\\` |  `\"Look, a mountain: /\\\\\"` |  `Look, a mountain: /\\` |\n",
    "| `\\n` | `<br>` | `\"1\\n2 3\"` | `1`<br/>`2 3` |"
   ]
  },
  {
   "cell_type": "markdown",
   "id": "8f94fb0f",
   "metadata": {
    "papermill": {
     "duration": 0.012208,
     "end_time": "2023-04-21T13:38:07.065466",
     "exception": false,
     "start_time": "2023-04-21T13:38:07.053258",
     "status": "completed"
    },
    "tags": []
   },
   "source": [
    "Son sıra, `\\n`, *yeni satır karakterini* temsil eder. Python'un yeni bir satır başlatmasına neden olur."
   ]
  },
  {
   "cell_type": "code",
   "execution_count": 5,
   "id": "a7365b79",
   "metadata": {
    "execution": {
     "iopub.execute_input": "2023-04-21T13:38:07.092821Z",
     "iopub.status.busy": "2023-04-21T13:38:07.092324Z",
     "iopub.status.idle": "2023-04-21T13:38:07.099068Z",
     "shell.execute_reply": "2023-04-21T13:38:07.097543Z"
    },
    "papermill": {
     "duration": 0.023213,
     "end_time": "2023-04-21T13:38:07.101524",
     "exception": false,
     "start_time": "2023-04-21T13:38:07.078311",
     "status": "completed"
    },
    "tags": []
   },
   "outputs": [
    {
     "name": "stdout",
     "output_type": "stream",
     "text": [
      "hello\n",
      "world\n"
     ]
    }
   ],
   "source": [
    "hello = \"hello\\nworld\"\n",
    "print(hello)"
   ]
  },
  {
   "cell_type": "markdown",
   "id": "1fad4e62",
   "metadata": {
    "papermill": {
     "duration": 0.013592,
     "end_time": "2023-04-21T13:38:07.127875",
     "exception": false,
     "start_time": "2023-04-21T13:38:07.114283",
     "status": "completed"
    },
    "tags": []
   },
   "source": [
    "Ek olarak, Python'un dizeler için üçlü alıntı sözdizimi, yeni satırları tam anlamıyla dahil etmemizi sağlar (yani, özel “\\n” dizisini kullanmak yerine klavyemizde sadece “Enter” tuşuna basarak). Bunu, işlevlerimizi belgelemek için kullandığımız docstrings'de zaten gördük, ancak bunları bir dize tanımlamak istediğimiz her yerde kullanabiliriz."
   ]
  },
  {
   "cell_type": "code",
   "execution_count": 6,
   "id": "b9272225",
   "metadata": {
    "execution": {
     "iopub.execute_input": "2023-04-21T13:38:07.158977Z",
     "iopub.status.busy": "2023-04-21T13:38:07.157907Z",
     "iopub.status.idle": "2023-04-21T13:38:07.170841Z",
     "shell.execute_reply": "2023-04-21T13:38:07.168949Z"
    },
    "papermill": {
     "duration": 0.031972,
     "end_time": "2023-04-21T13:38:07.174048",
     "exception": false,
     "start_time": "2023-04-21T13:38:07.142076",
     "status": "completed"
    },
    "tags": []
   },
   "outputs": [
    {
     "name": "stdout",
     "output_type": "stream",
     "text": [
      "hello\n",
      "world\n"
     ]
    },
    {
     "data": {
      "text/plain": [
       "True"
      ]
     },
     "execution_count": 6,
     "metadata": {},
     "output_type": "execute_result"
    }
   ],
   "source": [
    "triplequoted_hello = \"\"\"hello\n",
    "world\"\"\"\n",
    "print(triplequoted_hello)\n",
    "triplequoted_hello == hello"
   ]
  },
  {
   "cell_type": "markdown",
   "id": "8087f1f9",
   "metadata": {
    "papermill": {
     "duration": 0.020711,
     "end_time": "2023-04-21T13:38:07.214277",
     "exception": false,
     "start_time": "2023-04-21T13:38:07.193566",
     "status": "completed"
    },
    "tags": []
   },
   "source": [
    "`print()` işlevi, `end` anahtar kelimesi argümanı için `'\\n`` varsayılan değeri dışında bir değer belirtmediğimiz sürece otomatik olarak yeni satır karakteri ekler:"
   ]
  },
  {
   "cell_type": "code",
   "execution_count": 7,
   "id": "dca5f6e6",
   "metadata": {
    "execution": {
     "iopub.execute_input": "2023-04-21T13:38:07.242750Z",
     "iopub.status.busy": "2023-04-21T13:38:07.241463Z",
     "iopub.status.idle": "2023-04-21T13:38:07.249298Z",
     "shell.execute_reply": "2023-04-21T13:38:07.248036Z"
    },
    "papermill": {
     "duration": 0.024321,
     "end_time": "2023-04-21T13:38:07.251659",
     "exception": false,
     "start_time": "2023-04-21T13:38:07.227338",
     "status": "completed"
    },
    "tags": []
   },
   "outputs": [
    {
     "name": "stdout",
     "output_type": "stream",
     "text": [
      "hello\n",
      "world\n",
      "hellopluto"
     ]
    }
   ],
   "source": [
    "print(\"hello\")\n",
    "print(\"world\")\n",
    "print(\"hello\", end='')\n",
    "print(\"pluto\", end='')"
   ]
  },
  {
   "cell_type": "markdown",
   "id": "57126e96",
   "metadata": {
    "papermill": {
     "duration": 0.012576,
     "end_time": "2023-04-21T13:38:07.277506",
     "exception": false,
     "start_time": "2023-04-21T13:38:07.264930",
     "status": "completed"
    },
    "tags": []
   },
   "source": [
    "## Strings are sequences\n",
    "\n",
    "Dizeler, karakter dizileri olarak düşünülebilir. Bir listeye yapabileceğimizi gördüğümüz hemen hemen her şeyi, bir dizeye de yapabiliriz."
   ]
  },
  {
   "cell_type": "code",
   "execution_count": 8,
   "id": "a6502d4e",
   "metadata": {
    "execution": {
     "iopub.execute_input": "2023-04-21T13:38:07.305783Z",
     "iopub.status.busy": "2023-04-21T13:38:07.305252Z",
     "iopub.status.idle": "2023-04-21T13:38:07.313396Z",
     "shell.execute_reply": "2023-04-21T13:38:07.312056Z"
    },
    "papermill": {
     "duration": 0.025697,
     "end_time": "2023-04-21T13:38:07.316166",
     "exception": false,
     "start_time": "2023-04-21T13:38:07.290469",
     "status": "completed"
    },
    "tags": []
   },
   "outputs": [
    {
     "data": {
      "text/plain": [
       "'P'"
      ]
     },
     "execution_count": 8,
     "metadata": {},
     "output_type": "execute_result"
    }
   ],
   "source": [
    "# Indexing\n",
    "planet = 'Pluto'\n",
    "planet[0]"
   ]
  },
  {
   "cell_type": "code",
   "execution_count": 9,
   "id": "70d51a2d",
   "metadata": {
    "execution": {
     "iopub.execute_input": "2023-04-21T13:38:07.345404Z",
     "iopub.status.busy": "2023-04-21T13:38:07.344129Z",
     "iopub.status.idle": "2023-04-21T13:38:07.352791Z",
     "shell.execute_reply": "2023-04-21T13:38:07.351521Z"
    },
    "papermill": {
     "duration": 0.025813,
     "end_time": "2023-04-21T13:38:07.355296",
     "exception": false,
     "start_time": "2023-04-21T13:38:07.329483",
     "status": "completed"
    },
    "tags": []
   },
   "outputs": [
    {
     "data": {
      "text/plain": [
       "'uto'"
      ]
     },
     "execution_count": 9,
     "metadata": {},
     "output_type": "execute_result"
    }
   ],
   "source": [
    "# Slicing\n",
    "planet[-3:]"
   ]
  },
  {
   "cell_type": "code",
   "execution_count": 10,
   "id": "b731ebf7",
   "metadata": {
    "execution": {
     "iopub.execute_input": "2023-04-21T13:38:07.384288Z",
     "iopub.status.busy": "2023-04-21T13:38:07.383394Z",
     "iopub.status.idle": "2023-04-21T13:38:07.391754Z",
     "shell.execute_reply": "2023-04-21T13:38:07.390455Z"
    },
    "papermill": {
     "duration": 0.025153,
     "end_time": "2023-04-21T13:38:07.394081",
     "exception": false,
     "start_time": "2023-04-21T13:38:07.368928",
     "status": "completed"
    },
    "tags": []
   },
   "outputs": [
    {
     "data": {
      "text/plain": [
       "5"
      ]
     },
     "execution_count": 10,
     "metadata": {},
     "output_type": "execute_result"
    }
   ],
   "source": [
    "# How long is this string?\n",
    "len(planet)"
   ]
  },
  {
   "cell_type": "code",
   "execution_count": 11,
   "id": "3c6fd7f0",
   "metadata": {
    "execution": {
     "iopub.execute_input": "2023-04-21T13:38:07.423278Z",
     "iopub.status.busy": "2023-04-21T13:38:07.421920Z",
     "iopub.status.idle": "2023-04-21T13:38:07.430907Z",
     "shell.execute_reply": "2023-04-21T13:38:07.429549Z"
    },
    "papermill": {
     "duration": 0.026145,
     "end_time": "2023-04-21T13:38:07.433468",
     "exception": false,
     "start_time": "2023-04-21T13:38:07.407323",
     "status": "completed"
    },
    "tags": []
   },
   "outputs": [
    {
     "data": {
      "text/plain": [
       "['P! ', 'l! ', 'u! ', 't! ', 'o! ']"
      ]
     },
     "execution_count": 11,
     "metadata": {},
     "output_type": "execute_result"
    }
   ],
   "source": [
    "# Yes, we can even loop over them\n",
    "[char+'! ' for char in planet]"
   ]
  },
  {
   "cell_type": "markdown",
   "id": "f5a98b29",
   "metadata": {
    "papermill": {
     "duration": 0.013241,
     "end_time": "2023-04-21T13:38:07.460749",
     "exception": false,
     "start_time": "2023-04-21T13:38:07.447508",
     "status": "completed"
    },
    "tags": []
   },
   "source": [
    "Ancak listelerden farklı olmalarının önemli bir yolu, *değişmez* olmalarıdır. Onları değiştiremeyiz."
   ]
  },
  {
   "cell_type": "code",
   "execution_count": 12,
   "id": "968de854",
   "metadata": {
    "execution": {
     "iopub.execute_input": "2023-04-21T13:38:07.490711Z",
     "iopub.status.busy": "2023-04-21T13:38:07.490163Z",
     "iopub.status.idle": "2023-04-21T13:38:07.557864Z",
     "shell.execute_reply": "2023-04-21T13:38:07.556503Z"
    },
    "papermill": {
     "duration": 0.086305,
     "end_time": "2023-04-21T13:38:07.560591",
     "exception": false,
     "start_time": "2023-04-21T13:38:07.474286",
     "status": "completed"
    },
    "tags": [
     "raises-exception"
    ]
   },
   "outputs": [
    {
     "ename": "TypeError",
     "evalue": "'str' object does not support item assignment",
     "output_type": "error",
     "traceback": [
      "\u001b[0;31m---------------------------------------------------------------------------\u001b[0m",
      "\u001b[0;31mTypeError\u001b[0m                                 Traceback (most recent call last)",
      "\u001b[0;32m/tmp/ipykernel_19/2683731249.py\u001b[0m in \u001b[0;36m<module>\u001b[0;34m\u001b[0m\n\u001b[0;32m----> 1\u001b[0;31m \u001b[0mplanet\u001b[0m\u001b[0;34m[\u001b[0m\u001b[0;36m0\u001b[0m\u001b[0;34m]\u001b[0m \u001b[0;34m=\u001b[0m \u001b[0;34m'B'\u001b[0m\u001b[0;34m\u001b[0m\u001b[0;34m\u001b[0m\u001b[0m\n\u001b[0m\u001b[1;32m      2\u001b[0m \u001b[0;31m# planet.append doesn't work either\u001b[0m\u001b[0;34m\u001b[0m\u001b[0;34m\u001b[0m\u001b[0;34m\u001b[0m\u001b[0m\n",
      "\u001b[0;31mTypeError\u001b[0m: 'str' object does not support item assignment"
     ]
    }
   ],
   "source": [
    "planet[0] = 'B'\n",
    "# planet.append doesn't work either"
   ]
  },
  {
   "cell_type": "markdown",
   "id": "c7b63f2d",
   "metadata": {
    "papermill": {
     "duration": 0.013265,
     "end_time": "2023-04-21T13:38:07.587538",
     "exception": false,
     "start_time": "2023-04-21T13:38:07.574273",
     "status": "completed"
    },
    "tags": []
   },
   "source": [
    "## String methods\n",
    "\n",
    "`list` gibi, `str` türü de birçok kullanışlı yönteme sahiptir. Burada sadece birkaç örnek göstereceğim."
   ]
  },
  {
   "cell_type": "code",
   "execution_count": 13,
   "id": "9fe3dcdd",
   "metadata": {
    "execution": {
     "iopub.execute_input": "2023-04-21T13:38:07.617432Z",
     "iopub.status.busy": "2023-04-21T13:38:07.616686Z",
     "iopub.status.idle": "2023-04-21T13:38:07.624736Z",
     "shell.execute_reply": "2023-04-21T13:38:07.623405Z"
    },
    "papermill": {
     "duration": 0.025651,
     "end_time": "2023-04-21T13:38:07.627334",
     "exception": false,
     "start_time": "2023-04-21T13:38:07.601683",
     "status": "completed"
    },
    "tags": []
   },
   "outputs": [
    {
     "data": {
      "text/plain": [
       "'PLUTO IS A PLANET!'"
      ]
     },
     "execution_count": 13,
     "metadata": {},
     "output_type": "execute_result"
    }
   ],
   "source": [
    "# ALL CAPS\n",
    "claim = \"Pluto is a planet!\"\n",
    "claim.upper()"
   ]
  },
  {
   "cell_type": "code",
   "execution_count": 14,
   "id": "1488e08f",
   "metadata": {
    "execution": {
     "iopub.execute_input": "2023-04-21T13:38:07.656885Z",
     "iopub.status.busy": "2023-04-21T13:38:07.656297Z",
     "iopub.status.idle": "2023-04-21T13:38:07.663457Z",
     "shell.execute_reply": "2023-04-21T13:38:07.662343Z"
    },
    "papermill": {
     "duration": 0.024863,
     "end_time": "2023-04-21T13:38:07.666009",
     "exception": false,
     "start_time": "2023-04-21T13:38:07.641146",
     "status": "completed"
    },
    "tags": []
   },
   "outputs": [
    {
     "data": {
      "text/plain": [
       "'pluto is a planet!'"
      ]
     },
     "execution_count": 14,
     "metadata": {},
     "output_type": "execute_result"
    }
   ],
   "source": [
    "# all lowercase\n",
    "claim.lower()"
   ]
  },
  {
   "cell_type": "code",
   "execution_count": 15,
   "id": "94346194",
   "metadata": {
    "execution": {
     "iopub.execute_input": "2023-04-21T13:38:07.696529Z",
     "iopub.status.busy": "2023-04-21T13:38:07.696007Z",
     "iopub.status.idle": "2023-04-21T13:38:07.704490Z",
     "shell.execute_reply": "2023-04-21T13:38:07.703176Z"
    },
    "papermill": {
     "duration": 0.027107,
     "end_time": "2023-04-21T13:38:07.707244",
     "exception": false,
     "start_time": "2023-04-21T13:38:07.680137",
     "status": "completed"
    },
    "tags": []
   },
   "outputs": [
    {
     "data": {
      "text/plain": [
       "11"
      ]
     },
     "execution_count": 15,
     "metadata": {},
     "output_type": "execute_result"
    }
   ],
   "source": [
    "# Searching for the first index of a substring\n",
    "claim.index('plan')"
   ]
  },
  {
   "cell_type": "code",
   "execution_count": 16,
   "id": "ef33a0ce",
   "metadata": {
    "execution": {
     "iopub.execute_input": "2023-04-21T13:38:07.741782Z",
     "iopub.status.busy": "2023-04-21T13:38:07.740749Z",
     "iopub.status.idle": "2023-04-21T13:38:07.747185Z",
     "shell.execute_reply": "2023-04-21T13:38:07.746333Z"
    },
    "papermill": {
     "duration": 0.024361,
     "end_time": "2023-04-21T13:38:07.749432",
     "exception": false,
     "start_time": "2023-04-21T13:38:07.725071",
     "status": "completed"
    },
    "tags": []
   },
   "outputs": [
    {
     "data": {
      "text/plain": [
       "True"
      ]
     },
     "execution_count": 16,
     "metadata": {},
     "output_type": "execute_result"
    }
   ],
   "source": [
    "claim.startswith(planet)"
   ]
  },
  {
   "cell_type": "code",
   "execution_count": 17,
   "id": "28560f85",
   "metadata": {
    "execution": {
     "iopub.execute_input": "2023-04-21T13:38:07.781215Z",
     "iopub.status.busy": "2023-04-21T13:38:07.780213Z",
     "iopub.status.idle": "2023-04-21T13:38:07.787155Z",
     "shell.execute_reply": "2023-04-21T13:38:07.785965Z"
    },
    "papermill": {
     "duration": 0.025134,
     "end_time": "2023-04-21T13:38:07.789516",
     "exception": false,
     "start_time": "2023-04-21T13:38:07.764382",
     "status": "completed"
    },
    "tags": []
   },
   "outputs": [
    {
     "data": {
      "text/plain": [
       "False"
      ]
     },
     "execution_count": 17,
     "metadata": {},
     "output_type": "execute_result"
    }
   ],
   "source": [
    "# false because of missing exclamation mark\n",
    "claim.endswith('planet')"
   ]
  },
  {
   "cell_type": "markdown",
   "id": "73420430",
   "metadata": {
    "papermill": {
     "duration": 0.014422,
     "end_time": "2023-04-21T13:38:07.818533",
     "exception": false,
     "start_time": "2023-04-21T13:38:07.804111",
     "status": "completed"
    },
    "tags": []
   },
   "source": [
    "### Going between strings and lists: `.split()` and `.join()`\n",
    "\n",
    "`str.split()` bir dizeyi varsayılan olarak boşlukta kırarak daha küçük dizelerden oluşan bir listeye dönüştürür. Bu, sizi büyük bir dizeden bir kelime listesine götürmek için çok kullanışlıdır."
   ]
  },
  {
   "cell_type": "code",
   "execution_count": 18,
   "id": "01265e34",
   "metadata": {
    "execution": {
     "iopub.execute_input": "2023-04-21T13:38:07.850302Z",
     "iopub.status.busy": "2023-04-21T13:38:07.849862Z",
     "iopub.status.idle": "2023-04-21T13:38:07.856320Z",
     "shell.execute_reply": "2023-04-21T13:38:07.855470Z"
    },
    "papermill": {
     "duration": 0.024734,
     "end_time": "2023-04-21T13:38:07.858514",
     "exception": false,
     "start_time": "2023-04-21T13:38:07.833780",
     "status": "completed"
    },
    "tags": []
   },
   "outputs": [
    {
     "data": {
      "text/plain": [
       "['Pluto', 'is', 'a', 'planet!']"
      ]
     },
     "execution_count": 18,
     "metadata": {},
     "output_type": "execute_result"
    }
   ],
   "source": [
    "words = claim.split()\n",
    "words"
   ]
  },
  {
   "cell_type": "markdown",
   "id": "353efa29",
   "metadata": {
    "papermill": {
     "duration": 0.014408,
     "end_time": "2023-04-21T13:38:07.888094",
     "exception": false,
     "start_time": "2023-04-21T13:38:07.873686",
     "status": "completed"
    },
    "tags": []
   },
   "source": [
    "Bazen boşluktan başka bir şeye bölmek isteyeceksiniz:"
   ]
  },
  {
   "cell_type": "code",
   "execution_count": 19,
   "id": "a2027344",
   "metadata": {
    "execution": {
     "iopub.execute_input": "2023-04-21T13:38:07.920025Z",
     "iopub.status.busy": "2023-04-21T13:38:07.919267Z",
     "iopub.status.idle": "2023-04-21T13:38:07.924371Z",
     "shell.execute_reply": "2023-04-21T13:38:07.923111Z"
    },
    "papermill": {
     "duration": 0.024343,
     "end_time": "2023-04-21T13:38:07.927240",
     "exception": false,
     "start_time": "2023-04-21T13:38:07.902897",
     "status": "completed"
    },
    "tags": []
   },
   "outputs": [],
   "source": [
    "datestr = '1956-01-31'\n",
    "year, month, day = datestr.split('-')"
   ]
  },
  {
   "cell_type": "markdown",
   "id": "f357bd83",
   "metadata": {
    "papermill": {
     "duration": 0.015167,
     "end_time": "2023-04-21T13:38:07.957302",
     "exception": false,
     "start_time": "2023-04-21T13:38:07.942135",
     "status": "completed"
    },
    "tags": []
   },
   "source": [
    "`str.join()` bizi diğer yöne götürür, bir dize listesini uzun bir dizeye diker, ayırıcı olarak çağrıldığı dizeyi kullanır."
   ]
  },
  {
   "cell_type": "code",
   "execution_count": 20,
   "id": "036086df",
   "metadata": {
    "execution": {
     "iopub.execute_input": "2023-04-21T13:38:07.989402Z",
     "iopub.status.busy": "2023-04-21T13:38:07.988624Z",
     "iopub.status.idle": "2023-04-21T13:38:07.996128Z",
     "shell.execute_reply": "2023-04-21T13:38:07.994832Z"
    },
    "papermill": {
     "duration": 0.026513,
     "end_time": "2023-04-21T13:38:07.998560",
     "exception": false,
     "start_time": "2023-04-21T13:38:07.972047",
     "status": "completed"
    },
    "tags": []
   },
   "outputs": [
    {
     "data": {
      "text/plain": [
       "'01/31/1956'"
      ]
     },
     "execution_count": 20,
     "metadata": {},
     "output_type": "execute_result"
    }
   ],
   "source": [
    "'/'.join([month, day, year])"
   ]
  },
  {
   "cell_type": "code",
   "execution_count": 21,
   "id": "fb0df3f0",
   "metadata": {
    "execution": {
     "iopub.execute_input": "2023-04-21T13:38:08.030153Z",
     "iopub.status.busy": "2023-04-21T13:38:08.029641Z",
     "iopub.status.idle": "2023-04-21T13:38:08.037452Z",
     "shell.execute_reply": "2023-04-21T13:38:08.036202Z"
    },
    "papermill": {
     "duration": 0.026467,
     "end_time": "2023-04-21T13:38:08.039799",
     "exception": false,
     "start_time": "2023-04-21T13:38:08.013332",
     "status": "completed"
    },
    "tags": []
   },
   "outputs": [
    {
     "data": {
      "text/plain": [
       "'PLUTO 👏 IS 👏 A 👏 PLANET!'"
      ]
     },
     "execution_count": 21,
     "metadata": {},
     "output_type": "execute_result"
    }
   ],
   "source": [
    "# Yes, we can put unicode characters right in our string literals :)\n",
    "' 👏 '.join([word.upper() for word in words])"
   ]
  },
  {
   "cell_type": "markdown",
   "id": "4beeb634",
   "metadata": {
    "papermill": {
     "duration": 0.014597,
     "end_time": "2023-04-21T13:38:08.069458",
     "exception": false,
     "start_time": "2023-04-21T13:38:08.054861",
     "status": "completed"
    },
    "tags": []
   },
   "source": [
    "### Building strings with `.format()`\n",
    "\n",
    "Python, `+` operatörü ile dizeleri birleştirmek için izin verir."
   ]
  },
  {
   "cell_type": "code",
   "execution_count": 22,
   "id": "d041e5ef",
   "metadata": {
    "execution": {
     "iopub.execute_input": "2023-04-21T13:38:08.102159Z",
     "iopub.status.busy": "2023-04-21T13:38:08.100866Z",
     "iopub.status.idle": "2023-04-21T13:38:08.107285Z",
     "shell.execute_reply": "2023-04-21T13:38:08.106447Z"
    },
    "papermill": {
     "duration": 0.02524,
     "end_time": "2023-04-21T13:38:08.109667",
     "exception": false,
     "start_time": "2023-04-21T13:38:08.084427",
     "status": "completed"
    },
    "tags": []
   },
   "outputs": [
    {
     "data": {
      "text/plain": [
       "'Pluto, we miss you.'"
      ]
     },
     "execution_count": 22,
     "metadata": {},
     "output_type": "execute_result"
    }
   ],
   "source": [
    "planet + ', we miss you.'"
   ]
  },
  {
   "cell_type": "markdown",
   "id": "28a53631",
   "metadata": {
    "papermill": {
     "duration": 0.015093,
     "end_time": "2023-04-21T13:38:08.140049",
     "exception": false,
     "start_time": "2023-04-21T13:38:08.124956",
     "status": "completed"
    },
    "tags": []
   },
   "source": [
    "Herhangi bir -string olmayan nesneyi atmak istiyorsak, önce üzerlerinde `str()` çağırmaya dikkat etmeliyiz."
   ]
  },
  {
   "cell_type": "code",
   "execution_count": 23,
   "id": "90a89802",
   "metadata": {
    "execution": {
     "iopub.execute_input": "2023-04-21T13:38:08.173104Z",
     "iopub.status.busy": "2023-04-21T13:38:08.172653Z",
     "iopub.status.idle": "2023-04-21T13:38:08.188286Z",
     "shell.execute_reply": "2023-04-21T13:38:08.187416Z"
    },
    "papermill": {
     "duration": 0.035268,
     "end_time": "2023-04-21T13:38:08.190712",
     "exception": false,
     "start_time": "2023-04-21T13:38:08.155444",
     "status": "completed"
    },
    "tags": [
     "raises-exception"
    ]
   },
   "outputs": [
    {
     "ename": "TypeError",
     "evalue": "can only concatenate str (not \"int\") to str",
     "output_type": "error",
     "traceback": [
      "\u001b[0;31m---------------------------------------------------------------------------\u001b[0m",
      "\u001b[0;31mTypeError\u001b[0m                                 Traceback (most recent call last)",
      "\u001b[0;32m/tmp/ipykernel_19/1802981568.py\u001b[0m in \u001b[0;36m<module>\u001b[0;34m\u001b[0m\n\u001b[1;32m      1\u001b[0m \u001b[0mposition\u001b[0m \u001b[0;34m=\u001b[0m \u001b[0;36m9\u001b[0m\u001b[0;34m\u001b[0m\u001b[0;34m\u001b[0m\u001b[0m\n\u001b[0;32m----> 2\u001b[0;31m \u001b[0mplanet\u001b[0m \u001b[0;34m+\u001b[0m \u001b[0;34m\", you'll always be the \"\u001b[0m \u001b[0;34m+\u001b[0m \u001b[0mposition\u001b[0m \u001b[0;34m+\u001b[0m \u001b[0;34m\"th planet to me.\"\u001b[0m\u001b[0;34m\u001b[0m\u001b[0;34m\u001b[0m\u001b[0m\n\u001b[0m",
      "\u001b[0;31mTypeError\u001b[0m: can only concatenate str (not \"int\") to str"
     ]
    }
   ],
   "source": [
    "position = 9\n",
    "planet + \", you'll always be the \" + position + \"th planet to me.\""
   ]
  },
  {
   "cell_type": "code",
   "execution_count": 24,
   "id": "360f41bc",
   "metadata": {
    "execution": {
     "iopub.execute_input": "2023-04-21T13:38:08.224687Z",
     "iopub.status.busy": "2023-04-21T13:38:08.223678Z",
     "iopub.status.idle": "2023-04-21T13:38:08.230845Z",
     "shell.execute_reply": "2023-04-21T13:38:08.229810Z"
    },
    "papermill": {
     "duration": 0.026825,
     "end_time": "2023-04-21T13:38:08.233092",
     "exception": false,
     "start_time": "2023-04-21T13:38:08.206267",
     "status": "completed"
    },
    "tags": []
   },
   "outputs": [
    {
     "data": {
      "text/plain": [
       "\"Pluto, you'll always be the 9th planet to me.\""
      ]
     },
     "execution_count": 24,
     "metadata": {},
     "output_type": "execute_result"
    }
   ],
   "source": [
    "planet + \", you'll always be the \" + str(position) + \"th planet to me.\""
   ]
  },
  {
   "cell_type": "markdown",
   "id": "80a81650",
   "metadata": {
    "papermill": {
     "duration": 0.015109,
     "end_time": "2023-04-21T13:38:08.264024",
     "exception": false,
     "start_time": "2023-04-21T13:38:08.248915",
     "status": "completed"
    },
    "tags": []
   },
   "source": [
    "Bunu okumak zorlaşıyor ve yazmak can sıkıcı oluyor. Kurtarmaya `str.format()`."
   ]
  },
  {
   "cell_type": "code",
   "execution_count": 25,
   "id": "64735ea3",
   "metadata": {
    "execution": {
     "iopub.execute_input": "2023-04-21T13:38:08.297448Z",
     "iopub.status.busy": "2023-04-21T13:38:08.296381Z",
     "iopub.status.idle": "2023-04-21T13:38:08.303115Z",
     "shell.execute_reply": "2023-04-21T13:38:08.301926Z"
    },
    "papermill": {
     "duration": 0.025884,
     "end_time": "2023-04-21T13:38:08.305593",
     "exception": false,
     "start_time": "2023-04-21T13:38:08.279709",
     "status": "completed"
    },
    "tags": []
   },
   "outputs": [
    {
     "data": {
      "text/plain": [
       "\"Pluto, you'll always be the 9th planet to me.\""
      ]
     },
     "execution_count": 25,
     "metadata": {},
     "output_type": "execute_result"
    }
   ],
   "source": [
    "\"{}, you'll always be the {}th planet to me.\".format(planet, position)"
   ]
  },
  {
   "cell_type": "markdown",
   "id": "5144d940",
   "metadata": {
    "papermill": {
     "duration": 0.015141,
     "end_time": "2023-04-21T13:38:08.336363",
     "exception": false,
     "start_time": "2023-04-21T13:38:08.321222",
     "status": "completed"
    },
    "tags": []
   },
   "source": [
    "Çok daha temiz! Eklemek istediğimiz Python değerlerinin `{}` yer tutucularla temsil edildiği bir \"biçim dizesi\" üzerinde `.format()` olarak adlandırıyoruz.\n",
    "\n",
    "Bir int'den `position`ı dönüştürmek için `str()` çağırmamıza bile gerek olmadığına dikkat edin. `format()` bizim için bunu halleder.\n",
    "\n",
    "`format()``nin yaptığı tek şey buysa, yine de inanılmaz derecede yararlı olurdu. Ama ortaya çıktığı gibi, *çok* daha fazlasını yapabilir. İşte sadece bir tat:"
   ]
  },
  {
   "cell_type": "code",
   "execution_count": 26,
   "id": "1d1d2467",
   "metadata": {
    "execution": {
     "iopub.execute_input": "2023-04-21T13:38:08.369937Z",
     "iopub.status.busy": "2023-04-21T13:38:08.368826Z",
     "iopub.status.idle": "2023-04-21T13:38:08.376663Z",
     "shell.execute_reply": "2023-04-21T13:38:08.375835Z"
    },
    "papermill": {
     "duration": 0.026994,
     "end_time": "2023-04-21T13:38:08.378839",
     "exception": false,
     "start_time": "2023-04-21T13:38:08.351845",
     "status": "completed"
    },
    "tags": []
   },
   "outputs": [
    {
     "data": {
      "text/plain": [
       "\"Pluto weighs about 1.3e+22 kilograms (0.218% of Earth's mass). It is home to 52,910,390 Plutonians.\""
      ]
     },
     "execution_count": 26,
     "metadata": {},
     "output_type": "execute_result"
    }
   ],
   "source": [
    "pluto_mass = 1.303 * 10**22\n",
    "earth_mass = 5.9722 * 10**24\n",
    "population = 52910390\n",
    "#         2 decimal points   3 decimal points, format as percent     separate with commas\n",
    "\"{} weighs about {:.2} kilograms ({:.3%} of Earth's mass). It is home to {:,} Plutonians.\".format(\n",
    "    planet, pluto_mass, pluto_mass / earth_mass, population,\n",
    ")"
   ]
  },
  {
   "cell_type": "code",
   "execution_count": 27,
   "id": "d6e459b9",
   "metadata": {
    "execution": {
     "iopub.execute_input": "2023-04-21T13:38:08.412768Z",
     "iopub.status.busy": "2023-04-21T13:38:08.411971Z",
     "iopub.status.idle": "2023-04-21T13:38:08.418112Z",
     "shell.execute_reply": "2023-04-21T13:38:08.416924Z"
    },
    "papermill": {
     "duration": 0.02575,
     "end_time": "2023-04-21T13:38:08.420513",
     "exception": false,
     "start_time": "2023-04-21T13:38:08.394763",
     "status": "completed"
    },
    "tags": []
   },
   "outputs": [
    {
     "name": "stdout",
     "output_type": "stream",
     "text": [
      "Pluto's a planet.\n",
      "No, it's a dwarf planet.\n",
      "planet!\n",
      "dwarf planet!\n"
     ]
    }
   ],
   "source": [
    "# Referring to format() arguments by index, starting from 0\n",
    "s = \"\"\"Pluto's a {0}.\n",
    "No, it's a {1}.\n",
    "{0}!\n",
    "{1}!\"\"\".format('planet', 'dwarf planet')\n",
    "print(s)"
   ]
  },
  {
   "cell_type": "markdown",
   "id": "a73578a8",
   "metadata": {
    "papermill": {
     "duration": 0.015377,
     "end_time": "2023-04-21T13:38:08.451884",
     "exception": false,
     "start_time": "2023-04-21T13:38:08.436507",
     "status": "completed"
    },
    "tags": []
   },
   "source": [
    "Muhtemelen sadece `str.format` üzerine kısa bir kitap yazabilirsiniz, bu yüzden burada duracağım ve daha fazla okuma için sizi [pyformat.info](https://pyformat.info/) ve [resmi belgeler](https://docs.python.org/3/library/string.html#formatstrings) yönlendireceğim."
   ]
  },
  {
   "cell_type": "markdown",
   "id": "a608e937",
   "metadata": {
    "papermill": {
     "duration": 0.017304,
     "end_time": "2023-04-21T13:38:08.485642",
     "exception": false,
     "start_time": "2023-04-21T13:38:08.468338",
     "status": "completed"
    },
    "tags": []
   },
   "source": [
    "# Dictionaries\n",
    "\n",
    "Sözlükler, anahtarları değerlere eşlemek için yerleşik bir Python veri yapısıdır."
   ]
  },
  {
   "cell_type": "code",
   "execution_count": 28,
   "id": "cbfe9c8c",
   "metadata": {
    "collapsed": true,
    "execution": {
     "iopub.execute_input": "2023-04-21T13:38:08.520331Z",
     "iopub.status.busy": "2023-04-21T13:38:08.519524Z",
     "iopub.status.idle": "2023-04-21T13:38:08.524248Z",
     "shell.execute_reply": "2023-04-21T13:38:08.523297Z"
    },
    "jupyter": {
     "outputs_hidden": true
    },
    "papermill": {
     "duration": 0.024689,
     "end_time": "2023-04-21T13:38:08.526587",
     "exception": false,
     "start_time": "2023-04-21T13:38:08.501898",
     "status": "completed"
    },
    "tags": []
   },
   "outputs": [],
   "source": [
    "numbers = {'one':1, 'two':2, 'three':3}"
   ]
  },
  {
   "cell_type": "markdown",
   "id": "8a41d6ad",
   "metadata": {
    "papermill": {
     "duration": 0.015596,
     "end_time": "2023-04-21T13:38:08.558141",
     "exception": false,
     "start_time": "2023-04-21T13:38:08.542545",
     "status": "completed"
    },
    "tags": []
   },
   "source": [
    "Bu durumda `'one'`, `'two'`, ve ``three'` **keys**, 1, 2 ve 3 karşılık gelen değerlerdir.\n",
    "\n",
    "Değerlere, listelere ve dizelere dizinlemeye benzer köşeli ayraç sözdizimi aracılığıyla erişilir."
   ]
  },
  {
   "cell_type": "code",
   "execution_count": 29,
   "id": "6c3d4753",
   "metadata": {
    "execution": {
     "iopub.execute_input": "2023-04-21T13:38:08.593955Z",
     "iopub.status.busy": "2023-04-21T13:38:08.592703Z",
     "iopub.status.idle": "2023-04-21T13:38:08.599535Z",
     "shell.execute_reply": "2023-04-21T13:38:08.598688Z"
    },
    "papermill": {
     "duration": 0.027101,
     "end_time": "2023-04-21T13:38:08.601869",
     "exception": false,
     "start_time": "2023-04-21T13:38:08.574768",
     "status": "completed"
    },
    "tags": []
   },
   "outputs": [
    {
     "data": {
      "text/plain": [
       "1"
      ]
     },
     "execution_count": 29,
     "metadata": {},
     "output_type": "execute_result"
    }
   ],
   "source": [
    "numbers['one']"
   ]
  },
  {
   "cell_type": "markdown",
   "id": "8be40504",
   "metadata": {
    "papermill": {
     "duration": 0.015936,
     "end_time": "2023-04-21T13:38:08.633900",
     "exception": false,
     "start_time": "2023-04-21T13:38:08.617964",
     "status": "completed"
    },
    "tags": []
   },
   "source": [
    "Başka bir anahtar, değer çifti eklemek için aynı sözdizimini kullanabiliriz."
   ]
  },
  {
   "cell_type": "code",
   "execution_count": 30,
   "id": "56a37db7",
   "metadata": {
    "execution": {
     "iopub.execute_input": "2023-04-21T13:38:08.668884Z",
     "iopub.status.busy": "2023-04-21T13:38:08.667705Z",
     "iopub.status.idle": "2023-04-21T13:38:08.675370Z",
     "shell.execute_reply": "2023-04-21T13:38:08.674205Z"
    },
    "papermill": {
     "duration": 0.027713,
     "end_time": "2023-04-21T13:38:08.677815",
     "exception": false,
     "start_time": "2023-04-21T13:38:08.650102",
     "status": "completed"
    },
    "tags": []
   },
   "outputs": [
    {
     "data": {
      "text/plain": [
       "{'one': 1, 'two': 2, 'three': 3, 'eleven': 11}"
      ]
     },
     "execution_count": 30,
     "metadata": {},
     "output_type": "execute_result"
    }
   ],
   "source": [
    "numbers['eleven'] = 11\n",
    "numbers"
   ]
  },
  {
   "cell_type": "markdown",
   "id": "0b1d9b0f",
   "metadata": {
    "papermill": {
     "duration": 0.016469,
     "end_time": "2023-04-21T13:38:08.710841",
     "exception": false,
     "start_time": "2023-04-21T13:38:08.694372",
     "status": "completed"
    },
    "tags": []
   },
   "source": [
    "Veya mevcut bir anahtarla ilişkili değeri değiştirmek için"
   ]
  },
  {
   "cell_type": "code",
   "execution_count": 31,
   "id": "d079e0fc",
   "metadata": {
    "execution": {
     "iopub.execute_input": "2023-04-21T13:38:08.745207Z",
     "iopub.status.busy": "2023-04-21T13:38:08.744776Z",
     "iopub.status.idle": "2023-04-21T13:38:08.752042Z",
     "shell.execute_reply": "2023-04-21T13:38:08.751105Z"
    },
    "papermill": {
     "duration": 0.027356,
     "end_time": "2023-04-21T13:38:08.754522",
     "exception": false,
     "start_time": "2023-04-21T13:38:08.727166",
     "status": "completed"
    },
    "tags": []
   },
   "outputs": [
    {
     "data": {
      "text/plain": [
       "{'one': 'Pluto', 'two': 2, 'three': 3, 'eleven': 11}"
      ]
     },
     "execution_count": 31,
     "metadata": {},
     "output_type": "execute_result"
    }
   ],
   "source": [
    "numbers['one'] = 'Pluto'\n",
    "numbers"
   ]
  },
  {
   "cell_type": "markdown",
   "id": "ca33b02b",
   "metadata": {
    "papermill": {
     "duration": 0.016135,
     "end_time": "2023-04-21T13:38:08.788220",
     "exception": false,
     "start_time": "2023-04-21T13:38:08.772085",
     "status": "completed"
    },
    "tags": []
   },
   "source": [
    "Python, önceki eğitimde gördüğümüz liste anlamalarına benzer bir sözdizimine sahip *sözlük anlamalara* sahiptir."
   ]
  },
  {
   "cell_type": "code",
   "execution_count": 32,
   "id": "18b00077",
   "metadata": {
    "execution": {
     "iopub.execute_input": "2023-04-21T13:38:08.822913Z",
     "iopub.status.busy": "2023-04-21T13:38:08.822196Z",
     "iopub.status.idle": "2023-04-21T13:38:08.829330Z",
     "shell.execute_reply": "2023-04-21T13:38:08.828418Z"
    },
    "papermill": {
     "duration": 0.02724,
     "end_time": "2023-04-21T13:38:08.831624",
     "exception": false,
     "start_time": "2023-04-21T13:38:08.804384",
     "status": "completed"
    },
    "tags": []
   },
   "outputs": [
    {
     "data": {
      "text/plain": [
       "{'Mercury': 'M',\n",
       " 'Venus': 'V',\n",
       " 'Earth': 'E',\n",
       " 'Mars': 'M',\n",
       " 'Jupiter': 'J',\n",
       " 'Saturn': 'S',\n",
       " 'Uranus': 'U',\n",
       " 'Neptune': 'N'}"
      ]
     },
     "execution_count": 32,
     "metadata": {},
     "output_type": "execute_result"
    }
   ],
   "source": [
    "planets = ['Mercury', 'Venus', 'Earth', 'Mars', 'Jupiter', 'Saturn', 'Uranus', 'Neptune']\n",
    "planet_to_initial = {planet: planet[0] for planet in planets}\n",
    "planet_to_initial"
   ]
  },
  {
   "cell_type": "markdown",
   "id": "fc205858",
   "metadata": {
    "papermill": {
     "duration": 0.016063,
     "end_time": "2023-04-21T13:38:08.864244",
     "exception": false,
     "start_time": "2023-04-21T13:38:08.848181",
     "status": "completed"
    },
    "tags": []
   },
   "source": [
    "`in` operatörü bize bir şeyin sözlükte anahtar olup olmadığını söyler"
   ]
  },
  {
   "cell_type": "code",
   "execution_count": 33,
   "id": "db386788",
   "metadata": {
    "execution": {
     "iopub.execute_input": "2023-04-21T13:38:08.899447Z",
     "iopub.status.busy": "2023-04-21T13:38:08.898703Z",
     "iopub.status.idle": "2023-04-21T13:38:08.904637Z",
     "shell.execute_reply": "2023-04-21T13:38:08.903764Z"
    },
    "papermill": {
     "duration": 0.026272,
     "end_time": "2023-04-21T13:38:08.906851",
     "exception": false,
     "start_time": "2023-04-21T13:38:08.880579",
     "status": "completed"
    },
    "tags": []
   },
   "outputs": [
    {
     "data": {
      "text/plain": [
       "True"
      ]
     },
     "execution_count": 33,
     "metadata": {},
     "output_type": "execute_result"
    }
   ],
   "source": [
    "'Saturn' in planet_to_initial"
   ]
  },
  {
   "cell_type": "code",
   "execution_count": 34,
   "id": "938be6cd",
   "metadata": {
    "execution": {
     "iopub.execute_input": "2023-04-21T13:38:08.942950Z",
     "iopub.status.busy": "2023-04-21T13:38:08.942516Z",
     "iopub.status.idle": "2023-04-21T13:38:08.949619Z",
     "shell.execute_reply": "2023-04-21T13:38:08.948230Z"
    },
    "papermill": {
     "duration": 0.028541,
     "end_time": "2023-04-21T13:38:08.952435",
     "exception": false,
     "start_time": "2023-04-21T13:38:08.923894",
     "status": "completed"
    },
    "tags": []
   },
   "outputs": [
    {
     "data": {
      "text/plain": [
       "False"
      ]
     },
     "execution_count": 34,
     "metadata": {},
     "output_type": "execute_result"
    }
   ],
   "source": [
    "'Betelgeuse' in planet_to_initial"
   ]
  },
  {
   "cell_type": "markdown",
   "id": "cfd31888",
   "metadata": {
    "papermill": {
     "duration": 0.016858,
     "end_time": "2023-04-21T13:38:08.986692",
     "exception": false,
     "start_time": "2023-04-21T13:38:08.969834",
     "status": "completed"
    },
    "tags": []
   },
   "source": [
    "Bir sözlük üzerindeki bir for döngüsü, anahtarları üzerinde döngü yapacaktır"
   ]
  },
  {
   "cell_type": "code",
   "execution_count": 35,
   "id": "6c850eaf",
   "metadata": {
    "execution": {
     "iopub.execute_input": "2023-04-21T13:38:09.023368Z",
     "iopub.status.busy": "2023-04-21T13:38:09.022918Z",
     "iopub.status.idle": "2023-04-21T13:38:09.028558Z",
     "shell.execute_reply": "2023-04-21T13:38:09.027686Z"
    },
    "papermill": {
     "duration": 0.026799,
     "end_time": "2023-04-21T13:38:09.030757",
     "exception": false,
     "start_time": "2023-04-21T13:38:09.003958",
     "status": "completed"
    },
    "tags": []
   },
   "outputs": [
    {
     "name": "stdout",
     "output_type": "stream",
     "text": [
      "one = Pluto\n",
      "two = 2\n",
      "three = 3\n",
      "eleven = 11\n"
     ]
    }
   ],
   "source": [
    "for k in numbers:\n",
    "    print(\"{} = {}\".format(k, numbers[k]))"
   ]
  },
  {
   "cell_type": "markdown",
   "id": "39722a35",
   "metadata": {
    "papermill": {
     "duration": 0.016921,
     "end_time": "2023-04-21T13:38:09.065463",
     "exception": false,
     "start_time": "2023-04-21T13:38:09.048542",
     "status": "completed"
    },
    "tags": []
   },
   "source": [
    "Sırasıyla `dict.keys()` ve `dict.values()` ile tüm anahtarların veya tüm değerlerin bir koleksiyonuna erişebiliriz."
   ]
  },
  {
   "cell_type": "code",
   "execution_count": 36,
   "id": "c40739fc",
   "metadata": {
    "execution": {
     "iopub.execute_input": "2023-04-21T13:38:09.102361Z",
     "iopub.status.busy": "2023-04-21T13:38:09.101129Z",
     "iopub.status.idle": "2023-04-21T13:38:09.109751Z",
     "shell.execute_reply": "2023-04-21T13:38:09.108510Z"
    },
    "papermill": {
     "duration": 0.029851,
     "end_time": "2023-04-21T13:38:09.112241",
     "exception": false,
     "start_time": "2023-04-21T13:38:09.082390",
     "status": "completed"
    },
    "tags": []
   },
   "outputs": [
    {
     "data": {
      "text/plain": [
       "'E J M M N S U V'"
      ]
     },
     "execution_count": 36,
     "metadata": {},
     "output_type": "execute_result"
    }
   ],
   "source": [
    "# Get all the initials, sort them alphabetically, and put them in a space-separated string.\n",
    "' '.join(sorted(planet_to_initial.values()))"
   ]
  },
  {
   "cell_type": "markdown",
   "id": "491eef7d",
   "metadata": {
    "papermill": {
     "duration": 0.016672,
     "end_time": "2023-04-21T13:38:09.146132",
     "exception": false,
     "start_time": "2023-04-21T13:38:09.129460",
     "status": "completed"
    },
    "tags": []
   },
   "source": [
    "Çok kullanışlı `dict.items()` yöntemi, bir sözlüğün anahtarları ve değerleri üzerinde aynı anda yineleme yapmamızı sağlar. ( Python jargonunda, bir **öğe** bir anahtar, değer çiftini ifade eder)"
   ]
  },
  {
   "cell_type": "code",
   "execution_count": 37,
   "id": "37489dd4",
   "metadata": {
    "execution": {
     "iopub.execute_input": "2023-04-21T13:38:09.182861Z",
     "iopub.status.busy": "2023-04-21T13:38:09.182396Z",
     "iopub.status.idle": "2023-04-21T13:38:09.189317Z",
     "shell.execute_reply": "2023-04-21T13:38:09.187781Z"
    },
    "papermill": {
     "duration": 0.027702,
     "end_time": "2023-04-21T13:38:09.191567",
     "exception": false,
     "start_time": "2023-04-21T13:38:09.163865",
     "status": "completed"
    },
    "tags": []
   },
   "outputs": [
    {
     "name": "stdout",
     "output_type": "stream",
     "text": [
      "   Mercury begins with \"M\"\n",
      "     Venus begins with \"V\"\n",
      "     Earth begins with \"E\"\n",
      "      Mars begins with \"M\"\n",
      "   Jupiter begins with \"J\"\n",
      "    Saturn begins with \"S\"\n",
      "    Uranus begins with \"U\"\n",
      "   Neptune begins with \"N\"\n"
     ]
    }
   ],
   "source": [
    "for planet, initial in planet_to_initial.items():\n",
    "    print(\"{} begins with \\\"{}\\\"\".format(planet.rjust(10), initial))"
   ]
  },
  {
   "cell_type": "markdown",
   "id": "909ea0f7",
   "metadata": {
    "papermill": {
     "duration": 0.016869,
     "end_time": "2023-04-21T13:38:09.225825",
     "exception": false,
     "start_time": "2023-04-21T13:38:09.208956",
     "status": "completed"
    },
    "tags": []
   },
   "source": [
    "Sözlüklerin yöntemlerinin tam bir envanterini okumak için, tam yardım sayfasını okumak için aşağıdaki \"çıktı\" düğmesini tıklayın veya [resmi çevrimiçi belgelere](https://docs.python.org/3/library/stdtypes.html#dict) göz atın."
   ]
  },
  {
   "cell_type": "code",
   "execution_count": 38,
   "id": "c5d8de66",
   "metadata": {
    "_kg_hide-output": true,
    "collapsed": true,
    "execution": {
     "iopub.execute_input": "2023-04-21T13:38:09.262317Z",
     "iopub.status.busy": "2023-04-21T13:38:09.261875Z",
     "iopub.status.idle": "2023-04-21T13:38:09.280094Z",
     "shell.execute_reply": "2023-04-21T13:38:09.278393Z"
    },
    "jupyter": {
     "outputs_hidden": true
    },
    "papermill": {
     "duration": 0.039241,
     "end_time": "2023-04-21T13:38:09.282423",
     "exception": false,
     "start_time": "2023-04-21T13:38:09.243182",
     "status": "completed"
    },
    "tags": []
   },
   "outputs": [
    {
     "name": "stdout",
     "output_type": "stream",
     "text": [
      "Help on class dict in module builtins:\n",
      "\n",
      "class dict(object)\n",
      " |  dict() -> new empty dictionary\n",
      " |  dict(mapping) -> new dictionary initialized from a mapping object's\n",
      " |      (key, value) pairs\n",
      " |  dict(iterable) -> new dictionary initialized as if via:\n",
      " |      d = {}\n",
      " |      for k, v in iterable:\n",
      " |          d[k] = v\n",
      " |  dict(**kwargs) -> new dictionary initialized with the name=value pairs\n",
      " |      in the keyword argument list.  For example:  dict(one=1, two=2)\n",
      " |  \n",
      " |  Methods defined here:\n",
      " |  \n",
      " |  __contains__(self, key, /)\n",
      " |      True if the dictionary has the specified key, else False.\n",
      " |  \n",
      " |  __delitem__(self, key, /)\n",
      " |      Delete self[key].\n",
      " |  \n",
      " |  __eq__(self, value, /)\n",
      " |      Return self==value.\n",
      " |  \n",
      " |  __ge__(self, value, /)\n",
      " |      Return self>=value.\n",
      " |  \n",
      " |  __getattribute__(self, name, /)\n",
      " |      Return getattr(self, name).\n",
      " |  \n",
      " |  __getitem__(...)\n",
      " |      x.__getitem__(y) <==> x[y]\n",
      " |  \n",
      " |  __gt__(self, value, /)\n",
      " |      Return self>value.\n",
      " |  \n",
      " |  __init__(self, /, *args, **kwargs)\n",
      " |      Initialize self.  See help(type(self)) for accurate signature.\n",
      " |  \n",
      " |  __iter__(self, /)\n",
      " |      Implement iter(self).\n",
      " |  \n",
      " |  __le__(self, value, /)\n",
      " |      Return self<=value.\n",
      " |  \n",
      " |  __len__(self, /)\n",
      " |      Return len(self).\n",
      " |  \n",
      " |  __lt__(self, value, /)\n",
      " |      Return self<value.\n",
      " |  \n",
      " |  __ne__(self, value, /)\n",
      " |      Return self!=value.\n",
      " |  \n",
      " |  __repr__(self, /)\n",
      " |      Return repr(self).\n",
      " |  \n",
      " |  __setitem__(self, key, value, /)\n",
      " |      Set self[key] to value.\n",
      " |  \n",
      " |  __sizeof__(...)\n",
      " |      D.__sizeof__() -> size of D in memory, in bytes\n",
      " |  \n",
      " |  clear(...)\n",
      " |      D.clear() -> None.  Remove all items from D.\n",
      " |  \n",
      " |  copy(...)\n",
      " |      D.copy() -> a shallow copy of D\n",
      " |  \n",
      " |  get(self, key, default=None, /)\n",
      " |      Return the value for key if key is in the dictionary, else default.\n",
      " |  \n",
      " |  items(...)\n",
      " |      D.items() -> a set-like object providing a view on D's items\n",
      " |  \n",
      " |  keys(...)\n",
      " |      D.keys() -> a set-like object providing a view on D's keys\n",
      " |  \n",
      " |  pop(...)\n",
      " |      D.pop(k[,d]) -> v, remove specified key and return the corresponding value.\n",
      " |      If key is not found, d is returned if given, otherwise KeyError is raised\n",
      " |  \n",
      " |  popitem(...)\n",
      " |      D.popitem() -> (k, v), remove and return some (key, value) pair as a\n",
      " |      2-tuple; but raise KeyError if D is empty.\n",
      " |  \n",
      " |  setdefault(self, key, default=None, /)\n",
      " |      Insert key with a value of default if key is not in the dictionary.\n",
      " |      \n",
      " |      Return the value for key if key is in the dictionary, else default.\n",
      " |  \n",
      " |  update(...)\n",
      " |      D.update([E, ]**F) -> None.  Update D from dict/iterable E and F.\n",
      " |      If E is present and has a .keys() method, then does:  for k in E: D[k] = E[k]\n",
      " |      If E is present and lacks a .keys() method, then does:  for k, v in E: D[k] = v\n",
      " |      In either case, this is followed by: for k in F:  D[k] = F[k]\n",
      " |  \n",
      " |  values(...)\n",
      " |      D.values() -> an object providing a view on D's values\n",
      " |  \n",
      " |  ----------------------------------------------------------------------\n",
      " |  Class methods defined here:\n",
      " |  \n",
      " |  fromkeys(iterable, value=None, /) from builtins.type\n",
      " |      Create a new dictionary with keys from iterable and values set to value.\n",
      " |  \n",
      " |  ----------------------------------------------------------------------\n",
      " |  Static methods defined here:\n",
      " |  \n",
      " |  __new__(*args, **kwargs) from builtins.type\n",
      " |      Create and return a new object.  See help(type) for accurate signature.\n",
      " |  \n",
      " |  ----------------------------------------------------------------------\n",
      " |  Data and other attributes defined here:\n",
      " |  \n",
      " |  __hash__ = None\n",
      "\n"
     ]
    }
   ],
   "source": [
    "help(dict)"
   ]
  },
  {
   "cell_type": "markdown",
   "id": "4f8e464b",
   "metadata": {
    "papermill": {
     "duration": 0.017093,
     "end_time": "2023-04-21T13:38:09.317034",
     "exception": false,
     "start_time": "2023-04-21T13:38:09.299941",
     "status": "completed"
    },
    "tags": []
   },
   "source": [
    "# Senin Sıran\n",
    "\n",
    "Çok fazla Python öğrendiniz... Gidin ve bazı gerçekçi programlama uygulamalarıyla **[yeni becerilerinizi gösterin](https://www.kaggle.com/kernels/fork/1275185)**."
   ]
  },
  {
   "cell_type": "markdown",
   "id": "b4f942ac",
   "metadata": {
    "papermill": {
     "duration": 0.017148,
     "end_time": "2023-04-21T13:38:09.351943",
     "exception": false,
     "start_time": "2023-04-21T13:38:09.334795",
     "status": "completed"
    },
    "tags": []
   },
   "source": [
    "---"
   ]
  },
  {
   "cell_type": "markdown",
   "id": "5ec25e97",
   "metadata": {
    "papermill": {
     "duration": 0.009519,
     "end_time": "2023-04-21T13:38:18.231220",
     "exception": false,
     "start_time": "2023-04-21T13:38:18.221701",
     "status": "completed"
    },
    "tags": []
   },
   "source": [
    "# 07 Working with External Libraries\n",
    "\n",
    "Bu eğitimde, Python'da **import** hakkında bilgi edinecek, yabancı kitaplıklarla (ve döndürdükleri nesnelerle) çalışmak için bazı ipuçları alacak ve **operator overloading** hakkında bilgi edineceksiniz.\n",
    "\n",
    "## import\n",
    "\n",
    "Şimdiye kadar dilde yerleşik olan türler ve işlevler hakkında konuştuk.\n",
    "\n",
    "Ancak Python ile ilgili en iyi şeylerden biri (özellikle bir veri bilimcisiyseniz), bunun için yazılmış çok sayıda yüksek kaliteli özel kitaplıktır.\n",
    "\n",
    "Bu kitaplıklardan bazıları \"standart kitaplıkta\"dır, yani Python'u çalıştırdığınız her yerde bulabilirsiniz. Her zaman Python ile gönderilmeseler bile diğer kitaplıklar kolayca eklenebilir.\n",
    "\n",
    "Her iki durumda da, bu koda **import** ile erişeceğiz.\n",
    "\n",
    "Örneğimize standart kütüphaneden `math` aktararak başlayacağız."
   ]
  },
  {
   "cell_type": "code",
   "execution_count": 1,
   "id": "4cb91071",
   "metadata": {
    "execution": {
     "iopub.execute_input": "2023-04-21T13:38:18.254299Z",
     "iopub.status.busy": "2023-04-21T13:38:18.253691Z",
     "iopub.status.idle": "2023-04-21T13:38:18.269762Z",
     "shell.execute_reply": "2023-04-21T13:38:18.268144Z"
    },
    "papermill": {
     "duration": 0.031107,
     "end_time": "2023-04-21T13:38:18.273111",
     "exception": false,
     "start_time": "2023-04-21T13:38:18.242004",
     "status": "completed"
    },
    "tags": []
   },
   "outputs": [
    {
     "name": "stdout",
     "output_type": "stream",
     "text": [
      "It's math! It has type <class 'module'>\n"
     ]
    }
   ],
   "source": [
    "import math\n",
    "\n",
    "print(\"It's math! It has type {}\".format(type(math)))"
   ]
  },
  {
   "cell_type": "markdown",
   "id": "f1ba1eaa",
   "metadata": {
    "papermill": {
     "duration": 0.011737,
     "end_time": "2023-04-21T13:38:18.295028",
     "exception": false,
     "start_time": "2023-04-21T13:38:18.283291",
     "status": "completed"
    },
    "tags": []
   },
   "source": [
    "`math` bir modüldür. Bir modül, başka biri tarafından tanımlanan değişkenlerin (isterseniz bir *ad alanı*) bir koleksiyonudur. Yerleşik `dir()` işlevini kullanarak `math` içindeki tüm isimleri görebiliriz.."
   ]
  },
  {
   "cell_type": "code",
   "execution_count": 2,
   "id": "faff708f",
   "metadata": {
    "execution": {
     "iopub.execute_input": "2023-04-21T13:38:18.316552Z",
     "iopub.status.busy": "2023-04-21T13:38:18.316147Z",
     "iopub.status.idle": "2023-04-21T13:38:18.322354Z",
     "shell.execute_reply": "2023-04-21T13:38:18.320866Z"
    },
    "papermill": {
     "duration": 0.020796,
     "end_time": "2023-04-21T13:38:18.325514",
     "exception": false,
     "start_time": "2023-04-21T13:38:18.304718",
     "status": "completed"
    },
    "tags": []
   },
   "outputs": [
    {
     "name": "stdout",
     "output_type": "stream",
     "text": [
      "['__doc__', '__file__', '__loader__', '__name__', '__package__', '__spec__', 'acos', 'acosh', 'asin', 'asinh', 'atan', 'atan2', 'atanh', 'ceil', 'copysign', 'cos', 'cosh', 'degrees', 'e', 'erf', 'erfc', 'exp', 'expm1', 'fabs', 'factorial', 'floor', 'fmod', 'frexp', 'fsum', 'gamma', 'gcd', 'hypot', 'inf', 'isclose', 'isfinite', 'isinf', 'isnan', 'ldexp', 'lgamma', 'log', 'log10', 'log1p', 'log2', 'modf', 'nan', 'pi', 'pow', 'radians', 'remainder', 'sin', 'sinh', 'sqrt', 'tan', 'tanh', 'tau', 'trunc']\n"
     ]
    }
   ],
   "source": [
    "print(dir(math))"
   ]
  },
  {
   "cell_type": "markdown",
   "id": "f064ee5a",
   "metadata": {
    "papermill": {
     "duration": 0.009984,
     "end_time": "2023-04-21T13:38:18.345370",
     "exception": false,
     "start_time": "2023-04-21T13:38:18.335386",
     "status": "completed"
    },
    "tags": []
   },
   "source": [
    "Bu değişkenlere nokta sözdizimi kullanarak erişebiliriz. Bazıları `math.pi` gibi basit değerlere atıfta bulunur:"
   ]
  },
  {
   "cell_type": "code",
   "execution_count": 3,
   "id": "6aa4be45",
   "metadata": {
    "execution": {
     "iopub.execute_input": "2023-04-21T13:38:18.368292Z",
     "iopub.status.busy": "2023-04-21T13:38:18.366808Z",
     "iopub.status.idle": "2023-04-21T13:38:18.373370Z",
     "shell.execute_reply": "2023-04-21T13:38:18.372392Z"
    },
    "papermill": {
     "duration": 0.020649,
     "end_time": "2023-04-21T13:38:18.375893",
     "exception": false,
     "start_time": "2023-04-21T13:38:18.355244",
     "status": "completed"
    },
    "tags": []
   },
   "outputs": [
    {
     "name": "stdout",
     "output_type": "stream",
     "text": [
      "pi to 4 significant digits = 3.142\n"
     ]
    }
   ],
   "source": [
    "print(\"pi to 4 significant digits = {:.4}\".format(math.pi))"
   ]
  },
  {
   "cell_type": "markdown",
   "id": "c6b088b8",
   "metadata": {
    "papermill": {
     "duration": 0.009646,
     "end_time": "2023-04-21T13:38:18.395431",
     "exception": false,
     "start_time": "2023-04-21T13:38:18.385785",
     "status": "completed"
    },
    "tags": []
   },
   "source": [
    "Ancak modülde bulacağımız şeylerin çoğu `math.log` gibi işlevlerdir:"
   ]
  },
  {
   "cell_type": "code",
   "execution_count": 4,
   "id": "58d7e398",
   "metadata": {
    "execution": {
     "iopub.execute_input": "2023-04-21T13:38:18.418875Z",
     "iopub.status.busy": "2023-04-21T13:38:18.417988Z",
     "iopub.status.idle": "2023-04-21T13:38:18.426722Z",
     "shell.execute_reply": "2023-04-21T13:38:18.425214Z"
    },
    "papermill": {
     "duration": 0.023264,
     "end_time": "2023-04-21T13:38:18.429209",
     "exception": false,
     "start_time": "2023-04-21T13:38:18.405945",
     "status": "completed"
    },
    "tags": []
   },
   "outputs": [
    {
     "data": {
      "text/plain": [
       "5.0"
      ]
     },
     "execution_count": 4,
     "metadata": {},
     "output_type": "execute_result"
    }
   ],
   "source": [
    "math.log(32, 2)"
   ]
  },
  {
   "cell_type": "markdown",
   "id": "0c522b2f",
   "metadata": {
    "papermill": {
     "duration": 0.009775,
     "end_time": "2023-04-21T13:38:18.449031",
     "exception": false,
     "start_time": "2023-04-21T13:38:18.439256",
     "status": "completed"
    },
    "tags": []
   },
   "source": [
    "Tabii ki, eğer `math.log`un ne yaptığını bilmiyorsak, üzerinde `help()` diyebiliriz:"
   ]
  },
  {
   "cell_type": "code",
   "execution_count": 5,
   "id": "e587e522",
   "metadata": {
    "execution": {
     "iopub.execute_input": "2023-04-21T13:38:18.472146Z",
     "iopub.status.busy": "2023-04-21T13:38:18.471628Z",
     "iopub.status.idle": "2023-04-21T13:38:18.479216Z",
     "shell.execute_reply": "2023-04-21T13:38:18.477606Z"
    },
    "papermill": {
     "duration": 0.022314,
     "end_time": "2023-04-21T13:38:18.481807",
     "exception": false,
     "start_time": "2023-04-21T13:38:18.459493",
     "status": "completed"
    },
    "tags": []
   },
   "outputs": [
    {
     "name": "stdout",
     "output_type": "stream",
     "text": [
      "Help on built-in function log in module math:\n",
      "\n",
      "log(...)\n",
      "    log(x, [base=math.e])\n",
      "    Return the logarithm of x to the given base.\n",
      "    \n",
      "    If the base not specified, returns the natural logarithm (base e) of x.\n",
      "\n"
     ]
    }
   ],
   "source": [
    "help(math.log)"
   ]
  },
  {
   "cell_type": "markdown",
   "id": "2646e645",
   "metadata": {
    "papermill": {
     "duration": 0.009832,
     "end_time": "2023-04-21T13:38:18.501998",
     "exception": false,
     "start_time": "2023-04-21T13:38:18.492166",
     "status": "completed"
    },
    "tags": []
   },
   "source": [
    "Modülün kendisinde `help()` de çağırabiliriz. Bu bize modüldeki *tüm* işlevler ve değerler için birleşik belgeleri verecektir (ve modülün üst düzey bir açıklaması). Tüm `matematik` yardım sayfasını görmek için \"çıktı\" düğmesine tıklayın."
   ]
  },
  {
   "cell_type": "code",
   "execution_count": 6,
   "id": "f44c0185",
   "metadata": {
    "_kg_hide-output": true,
    "execution": {
     "iopub.execute_input": "2023-04-21T13:38:18.525329Z",
     "iopub.status.busy": "2023-04-21T13:38:18.524748Z",
     "iopub.status.idle": "2023-04-21T13:38:18.556023Z",
     "shell.execute_reply": "2023-04-21T13:38:18.554403Z"
    },
    "papermill": {
     "duration": 0.047224,
     "end_time": "2023-04-21T13:38:18.559442",
     "exception": false,
     "start_time": "2023-04-21T13:38:18.512218",
     "status": "completed"
    },
    "tags": []
   },
   "outputs": [
    {
     "name": "stdout",
     "output_type": "stream",
     "text": [
      "Help on module math:\n",
      "\n",
      "NAME\n",
      "    math\n",
      "\n",
      "MODULE REFERENCE\n",
      "    https://docs.python.org/3.7/library/math\n",
      "    \n",
      "    The following documentation is automatically generated from the Python\n",
      "    source files.  It may be incomplete, incorrect or include features that\n",
      "    are considered implementation detail and may vary between Python\n",
      "    implementations.  When in doubt, consult the module reference at the\n",
      "    location listed above.\n",
      "\n",
      "DESCRIPTION\n",
      "    This module provides access to the mathematical functions\n",
      "    defined by the C standard.\n",
      "\n",
      "FUNCTIONS\n",
      "    acos(x, /)\n",
      "        Return the arc cosine (measured in radians) of x.\n",
      "    \n",
      "    acosh(x, /)\n",
      "        Return the inverse hyperbolic cosine of x.\n",
      "    \n",
      "    asin(x, /)\n",
      "        Return the arc sine (measured in radians) of x.\n",
      "    \n",
      "    asinh(x, /)\n",
      "        Return the inverse hyperbolic sine of x.\n",
      "    \n",
      "    atan(x, /)\n",
      "        Return the arc tangent (measured in radians) of x.\n",
      "    \n",
      "    atan2(y, x, /)\n",
      "        Return the arc tangent (measured in radians) of y/x.\n",
      "        \n",
      "        Unlike atan(y/x), the signs of both x and y are considered.\n",
      "    \n",
      "    atanh(x, /)\n",
      "        Return the inverse hyperbolic tangent of x.\n",
      "    \n",
      "    ceil(x, /)\n",
      "        Return the ceiling of x as an Integral.\n",
      "        \n",
      "        This is the smallest integer >= x.\n",
      "    \n",
      "    copysign(x, y, /)\n",
      "        Return a float with the magnitude (absolute value) of x but the sign of y.\n",
      "        \n",
      "        On platforms that support signed zeros, copysign(1.0, -0.0)\n",
      "        returns -1.0.\n",
      "    \n",
      "    cos(x, /)\n",
      "        Return the cosine of x (measured in radians).\n",
      "    \n",
      "    cosh(x, /)\n",
      "        Return the hyperbolic cosine of x.\n",
      "    \n",
      "    degrees(x, /)\n",
      "        Convert angle x from radians to degrees.\n",
      "    \n",
      "    erf(x, /)\n",
      "        Error function at x.\n",
      "    \n",
      "    erfc(x, /)\n",
      "        Complementary error function at x.\n",
      "    \n",
      "    exp(x, /)\n",
      "        Return e raised to the power of x.\n",
      "    \n",
      "    expm1(x, /)\n",
      "        Return exp(x)-1.\n",
      "        \n",
      "        This function avoids the loss of precision involved in the direct evaluation of exp(x)-1 for small x.\n",
      "    \n",
      "    fabs(x, /)\n",
      "        Return the absolute value of the float x.\n",
      "    \n",
      "    factorial(x, /)\n",
      "        Find x!.\n",
      "        \n",
      "        Raise a ValueError if x is negative or non-integral.\n",
      "    \n",
      "    floor(x, /)\n",
      "        Return the floor of x as an Integral.\n",
      "        \n",
      "        This is the largest integer <= x.\n",
      "    \n",
      "    fmod(x, y, /)\n",
      "        Return fmod(x, y), according to platform C.\n",
      "        \n",
      "        x % y may differ.\n",
      "    \n",
      "    frexp(x, /)\n",
      "        Return the mantissa and exponent of x, as pair (m, e).\n",
      "        \n",
      "        m is a float and e is an int, such that x = m * 2.**e.\n",
      "        If x is 0, m and e are both 0.  Else 0.5 <= abs(m) < 1.0.\n",
      "    \n",
      "    fsum(seq, /)\n",
      "        Return an accurate floating point sum of values in the iterable seq.\n",
      "        \n",
      "        Assumes IEEE-754 floating point arithmetic.\n",
      "    \n",
      "    gamma(x, /)\n",
      "        Gamma function at x.\n",
      "    \n",
      "    gcd(x, y, /)\n",
      "        greatest common divisor of x and y\n",
      "    \n",
      "    hypot(x, y, /)\n",
      "        Return the Euclidean distance, sqrt(x*x + y*y).\n",
      "    \n",
      "    isclose(a, b, *, rel_tol=1e-09, abs_tol=0.0)\n",
      "        Determine whether two floating point numbers are close in value.\n",
      "        \n",
      "          rel_tol\n",
      "            maximum difference for being considered \"close\", relative to the\n",
      "            magnitude of the input values\n",
      "          abs_tol\n",
      "            maximum difference for being considered \"close\", regardless of the\n",
      "            magnitude of the input values\n",
      "        \n",
      "        Return True if a is close in value to b, and False otherwise.\n",
      "        \n",
      "        For the values to be considered close, the difference between them\n",
      "        must be smaller than at least one of the tolerances.\n",
      "        \n",
      "        -inf, inf and NaN behave similarly to the IEEE 754 Standard.  That\n",
      "        is, NaN is not close to anything, even itself.  inf and -inf are\n",
      "        only close to themselves.\n",
      "    \n",
      "    isfinite(x, /)\n",
      "        Return True if x is neither an infinity nor a NaN, and False otherwise.\n",
      "    \n",
      "    isinf(x, /)\n",
      "        Return True if x is a positive or negative infinity, and False otherwise.\n",
      "    \n",
      "    isnan(x, /)\n",
      "        Return True if x is a NaN (not a number), and False otherwise.\n",
      "    \n",
      "    ldexp(x, i, /)\n",
      "        Return x * (2**i).\n",
      "        \n",
      "        This is essentially the inverse of frexp().\n",
      "    \n",
      "    lgamma(x, /)\n",
      "        Natural logarithm of absolute value of Gamma function at x.\n",
      "    \n",
      "    log(...)\n",
      "        log(x, [base=math.e])\n",
      "        Return the logarithm of x to the given base.\n",
      "        \n",
      "        If the base not specified, returns the natural logarithm (base e) of x.\n",
      "    \n",
      "    log10(x, /)\n",
      "        Return the base 10 logarithm of x.\n",
      "    \n",
      "    log1p(x, /)\n",
      "        Return the natural logarithm of 1+x (base e).\n",
      "        \n",
      "        The result is computed in a way which is accurate for x near zero.\n",
      "    \n",
      "    log2(x, /)\n",
      "        Return the base 2 logarithm of x.\n",
      "    \n",
      "    modf(x, /)\n",
      "        Return the fractional and integer parts of x.\n",
      "        \n",
      "        Both results carry the sign of x and are floats.\n",
      "    \n",
      "    pow(x, y, /)\n",
      "        Return x**y (x to the power of y).\n",
      "    \n",
      "    radians(x, /)\n",
      "        Convert angle x from degrees to radians.\n",
      "    \n",
      "    remainder(x, y, /)\n",
      "        Difference between x and the closest integer multiple of y.\n",
      "        \n",
      "        Return x - n*y where n*y is the closest integer multiple of y.\n",
      "        In the case where x is exactly halfway between two multiples of\n",
      "        y, the nearest even value of n is used. The result is always exact.\n",
      "    \n",
      "    sin(x, /)\n",
      "        Return the sine of x (measured in radians).\n",
      "    \n",
      "    sinh(x, /)\n",
      "        Return the hyperbolic sine of x.\n",
      "    \n",
      "    sqrt(x, /)\n",
      "        Return the square root of x.\n",
      "    \n",
      "    tan(x, /)\n",
      "        Return the tangent of x (measured in radians).\n",
      "    \n",
      "    tanh(x, /)\n",
      "        Return the hyperbolic tangent of x.\n",
      "    \n",
      "    trunc(x, /)\n",
      "        Truncates the Real x to the nearest Integral toward 0.\n",
      "        \n",
      "        Uses the __trunc__ magic method.\n",
      "\n",
      "DATA\n",
      "    e = 2.718281828459045\n",
      "    inf = inf\n",
      "    nan = nan\n",
      "    pi = 3.141592653589793\n",
      "    tau = 6.283185307179586\n",
      "\n",
      "FILE\n",
      "    /opt/conda/lib/python3.7/lib-dynload/math.cpython-37m-x86_64-linux-gnu.so\n",
      "\n",
      "\n"
     ]
    }
   ],
   "source": [
    "help(math)"
   ]
  },
  {
   "cell_type": "markdown",
   "id": "2e90f3b5",
   "metadata": {
    "papermill": {
     "duration": 0.010553,
     "end_time": "2023-04-21T13:38:18.580762",
     "exception": false,
     "start_time": "2023-04-21T13:38:18.570209",
     "status": "completed"
    },
    "tags": []
   },
   "source": [
    "### Diğer içe aktarma sözdizimi\n",
    "\n",
    "`Math`deki işlevleri sık sık kullanacağımızı biliyorsak, bazı yazımları kaydetmek için daha kısa bir takma ad altında içe aktarabiliriz (bu durumda \"matematik\" zaten oldukça kısa olsa da)."
   ]
  },
  {
   "cell_type": "code",
   "execution_count": 7,
   "id": "01c6ba1b",
   "metadata": {
    "execution": {
     "iopub.execute_input": "2023-04-21T13:38:18.604198Z",
     "iopub.status.busy": "2023-04-21T13:38:18.603699Z",
     "iopub.status.idle": "2023-04-21T13:38:18.612399Z",
     "shell.execute_reply": "2023-04-21T13:38:18.610896Z"
    },
    "papermill": {
     "duration": 0.023903,
     "end_time": "2023-04-21T13:38:18.615182",
     "exception": false,
     "start_time": "2023-04-21T13:38:18.591279",
     "status": "completed"
    },
    "tags": []
   },
   "outputs": [
    {
     "data": {
      "text/plain": [
       "3.141592653589793"
      ]
     },
     "execution_count": 7,
     "metadata": {},
     "output_type": "execute_result"
    }
   ],
   "source": [
    "import math as mt\n",
    "mt.pi"
   ]
  },
  {
   "cell_type": "markdown",
   "id": "30e7c877",
   "metadata": {
    "papermill": {
     "duration": 0.010557,
     "end_time": "2023-04-21T13:38:18.636625",
     "exception": false,
     "start_time": "2023-04-21T13:38:18.626068",
     "status": "completed"
    },
    "tags": []
   },
   "source": [
    "> Bunu Pandas, Numpy, Tensorflow veya Matplotlib gibi belirli popüler kütüphanelerde yapan bir kod görmüş olabilirsiniz. Örneğin, `import numpy as np` ve `import pandas as pd` için yaygın bir kuraldır."
   ]
  },
  {
   "cell_type": "markdown",
   "id": "21e3bb75",
   "metadata": {
    "papermill": {
     "duration": 0.010376,
     "end_time": "2023-04-21T13:38:18.657837",
     "exception": false,
     "start_time": "2023-04-21T13:38:18.647461",
     "status": "completed"
    },
    "tags": []
   },
   "source": [
    "`as` basitçe içe aktarılan modülü yeniden adlandırır. Bu, şöyle bir şey yapmaya eşdeğerdir:"
   ]
  },
  {
   "cell_type": "code",
   "execution_count": 8,
   "id": "1735aa51",
   "metadata": {
    "collapsed": true,
    "execution": {
     "iopub.execute_input": "2023-04-21T13:38:18.681595Z",
     "iopub.status.busy": "2023-04-21T13:38:18.681117Z",
     "iopub.status.idle": "2023-04-21T13:38:18.687611Z",
     "shell.execute_reply": "2023-04-21T13:38:18.685897Z"
    },
    "jupyter": {
     "outputs_hidden": true
    },
    "papermill": {
     "duration": 0.021824,
     "end_time": "2023-04-21T13:38:18.690348",
     "exception": false,
     "start_time": "2023-04-21T13:38:18.668524",
     "status": "completed"
    },
    "tags": []
   },
   "outputs": [],
   "source": [
    "import math\n",
    "mt = math"
   ]
  },
  {
   "cell_type": "markdown",
   "id": "989cc132",
   "metadata": {
    "papermill": {
     "duration": 0.010639,
     "end_time": "2023-04-21T13:38:18.712968",
     "exception": false,
     "start_time": "2023-04-21T13:38:18.702329",
     "status": "completed"
    },
    "tags": []
   },
   "source": [
    "`math` modülündeki tüm değişkenlere kendi başlarına başvurabilsek harika olmaz mıydı? Yani, `math.pi` veya `mt.pi` yerine sadece `pi`ye başvurabilseydik? İyi haber: bunu yapabiliriz."
   ]
  },
  {
   "cell_type": "code",
   "execution_count": 9,
   "id": "7d194e20",
   "metadata": {
    "execution": {
     "iopub.execute_input": "2023-04-21T13:38:18.737269Z",
     "iopub.status.busy": "2023-04-21T13:38:18.736758Z",
     "iopub.status.idle": "2023-04-21T13:38:18.744167Z",
     "shell.execute_reply": "2023-04-21T13:38:18.742416Z"
    },
    "papermill": {
     "duration": 0.023044,
     "end_time": "2023-04-21T13:38:18.747052",
     "exception": false,
     "start_time": "2023-04-21T13:38:18.724008",
     "status": "completed"
    },
    "tags": []
   },
   "outputs": [
    {
     "name": "stdout",
     "output_type": "stream",
     "text": [
      "3.141592653589793 5.0\n"
     ]
    }
   ],
   "source": [
    "from math import *\n",
    "print(pi, log(32, 2))"
   ]
  },
  {
   "cell_type": "markdown",
   "id": "ef0449ea",
   "metadata": {
    "papermill": {
     "duration": 0.010684,
     "end_time": "2023-04-21T13:38:18.768799",
     "exception": false,
     "start_time": "2023-04-21T13:38:18.758115",
     "status": "completed"
    },
    "tags": []
   },
   "source": [
    "`import *`, modülün tüm değişkenlerini doğrudan sizin için erişilebilir hale getirir (herhangi bir noktalı önek olmadan).\n",
    "\n",
    "Kötü haber: Bazı saflar bunu yaptığınız için size homurdanabilir.\n",
    "\n",
    "Daha da kötüsü: bir anlamları var."
   ]
  },
  {
   "cell_type": "code",
   "execution_count": 10,
   "id": "b9a70268",
   "metadata": {
    "execution": {
     "iopub.execute_input": "2023-04-21T13:38:18.793629Z",
     "iopub.status.busy": "2023-04-21T13:38:18.792411Z",
     "iopub.status.idle": "2023-04-21T13:38:18.865470Z",
     "shell.execute_reply": "2023-04-21T13:38:18.863732Z"
    },
    "papermill": {
     "duration": 0.089229,
     "end_time": "2023-04-21T13:38:18.868962",
     "exception": false,
     "start_time": "2023-04-21T13:38:18.779733",
     "status": "completed"
    },
    "tags": [
     "raises-exception"
    ]
   },
   "outputs": [
    {
     "ename": "TypeError",
     "evalue": "return arrays must be of ArrayType",
     "output_type": "error",
     "traceback": [
      "\u001b[0;31m---------------------------------------------------------------------------\u001b[0m",
      "\u001b[0;31mTypeError\u001b[0m                                 Traceback (most recent call last)",
      "\u001b[0;32m/tmp/ipykernel_19/3018510453.py\u001b[0m in \u001b[0;36m<module>\u001b[0;34m\u001b[0m\n\u001b[1;32m      1\u001b[0m \u001b[0;32mfrom\u001b[0m \u001b[0mmath\u001b[0m \u001b[0;32mimport\u001b[0m \u001b[0;34m*\u001b[0m\u001b[0;34m\u001b[0m\u001b[0;34m\u001b[0m\u001b[0m\n\u001b[1;32m      2\u001b[0m \u001b[0;32mfrom\u001b[0m \u001b[0mnumpy\u001b[0m \u001b[0;32mimport\u001b[0m \u001b[0;34m*\u001b[0m\u001b[0;34m\u001b[0m\u001b[0;34m\u001b[0m\u001b[0m\n\u001b[0;32m----> 3\u001b[0;31m \u001b[0mprint\u001b[0m\u001b[0;34m(\u001b[0m\u001b[0mpi\u001b[0m\u001b[0;34m,\u001b[0m \u001b[0mlog\u001b[0m\u001b[0;34m(\u001b[0m\u001b[0;36m32\u001b[0m\u001b[0;34m,\u001b[0m \u001b[0;36m2\u001b[0m\u001b[0;34m)\u001b[0m\u001b[0;34m)\u001b[0m\u001b[0;34m\u001b[0m\u001b[0;34m\u001b[0m\u001b[0m\n\u001b[0m",
      "\u001b[0;31mTypeError\u001b[0m: return arrays must be of ArrayType"
     ]
    }
   ],
   "source": [
    "from math import *\n",
    "from numpy import *\n",
    "print(pi, log(32, 2))"
   ]
  },
  {
   "cell_type": "markdown",
   "id": "79b45114",
   "metadata": {
    "papermill": {
     "duration": 0.010909,
     "end_time": "2023-04-21T13:38:18.891480",
     "exception": false,
     "start_time": "2023-04-21T13:38:18.880571",
     "status": "completed"
    },
    "tags": []
   },
   "source": [
    "Ne oldu? Daha önce çalıştı!\n",
    "\n",
    "Bu tür \"yıldız ithalatı\" zaman zaman garip, hata ayıklaması zor durumlara yol açabilir.\n",
    "\n",
    "Bu durumda sorun, `math` ve `numpy` modüllerinin her ikisinin de `log` adı verilen işlevlere sahip olması, ancak farklı semantikleri olmasıdır. `numpy` saniyesinden içe aktardığımız için, `log`, `math`dan içe aktardığımız `log` değişkeninin üzerine yazar (veya \"gölgeler\").\n",
    "\n",
    "İyi bir uzlaşma, her modülden yalnızca ihtiyaç duyacağımız belirli şeyleri içe aktarmaktır:"
   ]
  },
  {
   "cell_type": "code",
   "execution_count": 11,
   "id": "9c3e0ac6",
   "metadata": {
    "collapsed": true,
    "execution": {
     "iopub.execute_input": "2023-04-21T13:38:18.916450Z",
     "iopub.status.busy": "2023-04-21T13:38:18.915980Z",
     "iopub.status.idle": "2023-04-21T13:38:18.921973Z",
     "shell.execute_reply": "2023-04-21T13:38:18.920422Z"
    },
    "jupyter": {
     "outputs_hidden": true
    },
    "papermill": {
     "duration": 0.021619,
     "end_time": "2023-04-21T13:38:18.924497",
     "exception": false,
     "start_time": "2023-04-21T13:38:18.902878",
     "status": "completed"
    },
    "tags": []
   },
   "outputs": [],
   "source": [
    "from math import log, pi\n",
    "from numpy import asarray"
   ]
  },
  {
   "cell_type": "markdown",
   "id": "e6c2656c",
   "metadata": {
    "papermill": {
     "duration": 0.011158,
     "end_time": "2023-04-21T13:38:18.947199",
     "exception": false,
     "start_time": "2023-04-21T13:38:18.936041",
     "status": "completed"
    },
    "tags": []
   },
   "source": [
    "### Alt Modüller\n",
    "\n",
    "Modüllerin işlevlere veya değerlere atıfta bulunabilecek değişkenler içerdiğini gördük. Dikkat edilmesi gereken bir şey, *diğer modüllere* atıfta bulunan değişkenlere de sahip olabilecekleridir."
   ]
  },
  {
   "cell_type": "code",
   "execution_count": 12,
   "id": "92092c75",
   "metadata": {
    "execution": {
     "iopub.execute_input": "2023-04-21T13:38:18.972283Z",
     "iopub.status.busy": "2023-04-21T13:38:18.971823Z",
     "iopub.status.idle": "2023-04-21T13:38:18.979370Z",
     "shell.execute_reply": "2023-04-21T13:38:18.977527Z"
    },
    "papermill": {
     "duration": 0.023654,
     "end_time": "2023-04-21T13:38:18.982180",
     "exception": false,
     "start_time": "2023-04-21T13:38:18.958526",
     "status": "completed"
    },
    "tags": []
   },
   "outputs": [
    {
     "name": "stdout",
     "output_type": "stream",
     "text": [
      "numpy.random is a <class 'module'>\n",
      "it contains names such as... ['seed', 'set_state', 'shuffle', 'standard_cauchy', 'standard_exponential', 'standard_gamma', 'standard_normal', 'standard_t', 'test', 'triangular', 'uniform', 'vonmises', 'wald', 'weibull', 'zipf']\n"
     ]
    }
   ],
   "source": [
    "import numpy\n",
    "print(\"numpy.random is a\", type(numpy.random))\n",
    "print(\"it contains names such as...\",\n",
    "      dir(numpy.random)[-15:]\n",
    "     )"
   ]
  },
  {
   "cell_type": "markdown",
   "id": "839802ce",
   "metadata": {
    "papermill": {
     "duration": 0.010898,
     "end_time": "2023-04-21T13:38:19.004449",
     "exception": false,
     "start_time": "2023-04-21T13:38:18.993551",
     "status": "completed"
    },
    "tags": []
   },
   "source": [
    "Bu nedenle, `numpy`yi yukarıdaki gibi içe aktarırsak, `random` \"alt modül\" içinde bir işlevi çağırmak *iki* nokta gerektirecektir."
   ]
  },
  {
   "cell_type": "code",
   "execution_count": 13,
   "id": "223c6167",
   "metadata": {
    "execution": {
     "iopub.execute_input": "2023-04-21T13:38:19.030068Z",
     "iopub.status.busy": "2023-04-21T13:38:19.029553Z",
     "iopub.status.idle": "2023-04-21T13:38:19.041098Z",
     "shell.execute_reply": "2023-04-21T13:38:19.039900Z"
    },
    "papermill": {
     "duration": 0.028574,
     "end_time": "2023-04-21T13:38:19.044188",
     "exception": false,
     "start_time": "2023-04-21T13:38:19.015614",
     "status": "completed"
    },
    "tags": []
   },
   "outputs": [
    {
     "data": {
      "text/plain": [
       "array([3, 4, 3, 4, 5, 5, 2, 1, 3, 3])"
      ]
     },
     "execution_count": 13,
     "metadata": {},
     "output_type": "execute_result"
    }
   ],
   "source": [
    "# Roll 10 dice\n",
    "rolls = numpy.random.randint(low=1, high=6, size=10)\n",
    "rolls"
   ]
  },
  {
   "cell_type": "markdown",
   "id": "8ddd6e32",
   "metadata": {
    "papermill": {
     "duration": 0.01136,
     "end_time": "2023-04-21T13:38:19.067329",
     "exception": false,
     "start_time": "2023-04-21T13:38:19.055969",
     "status": "completed"
    },
    "tags": []
   },
   "source": [
    "## Ah gideceğin yerler, ah göreceğin nesneler\n",
    "\n",
    "Yani 6 dersten sonra, ints, float'lar, bool'lar, listeler, dizeler ve dict'ler olan bir profesyonelsiniz (doğru mu?).\n",
    "\n",
    "Bu doğru olsa bile, burada bitmiyor. Özel görevler için çeşitli kütüphanelerle çalışırken, birlikte çalışmayı öğrenmeniz gereken kendi türlerini tanımladıklarını göreceksiniz. Örneğin, `matplotlib` grafik kitaplığı ile çalışıyorsanız, Alt Grafikleri, Şekilleri, Tick Marks'ı ve Açıklamaları temsil eden tanımladığı nesnelerle temasa geçeceksiniz. `pandas` işlevleri size DataFrames ve Series verecektir.\n",
    "\n",
    "Bu bölümde, garip tiplerle çalışmak için hızlı bir hayatta kalma rehberini sizinle paylaşmak istiyorum.\n",
    "\n",
    "## Garip nesneleri anlamak için üç araç\n",
    "\n",
    "Yukarıdaki hücrede, bir `numpy` işlevini çağırmanın bize bir \"dizi\" verdiğini gördük. Daha önce hiç böyle bir şey görmedik (zaten bu kursta değil). Ama panik yapmayın: burada bize yardımcı olacak üç tanıdık yerleşik işlevimiz var.\n",
    "\n",
    "**1: `type()`** (bu şey nedir?)"
   ]
  },
  {
   "cell_type": "code",
   "execution_count": 14,
   "id": "81924e4c",
   "metadata": {
    "execution": {
     "iopub.execute_input": "2023-04-21T13:38:19.094068Z",
     "iopub.status.busy": "2023-04-21T13:38:19.093546Z",
     "iopub.status.idle": "2023-04-21T13:38:19.101909Z",
     "shell.execute_reply": "2023-04-21T13:38:19.100572Z"
    },
    "papermill": {
     "duration": 0.025075,
     "end_time": "2023-04-21T13:38:19.104390",
     "exception": false,
     "start_time": "2023-04-21T13:38:19.079315",
     "status": "completed"
    },
    "tags": []
   },
   "outputs": [
    {
     "data": {
      "text/plain": [
       "numpy.ndarray"
      ]
     },
     "execution_count": 14,
     "metadata": {},
     "output_type": "execute_result"
    }
   ],
   "source": [
    "type(rolls)"
   ]
  },
  {
   "cell_type": "markdown",
   "id": "86cc573b",
   "metadata": {
    "papermill": {
     "duration": 0.011217,
     "end_time": "2023-04-21T13:38:19.127336",
     "exception": false,
     "start_time": "2023-04-21T13:38:19.116119",
     "status": "completed"
    },
    "tags": []
   },
   "source": [
    "**2: `dir()`** (Bununla ne yapabilirim?)"
   ]
  },
  {
   "cell_type": "code",
   "execution_count": 15,
   "id": "d71671f4",
   "metadata": {
    "execution": {
     "iopub.execute_input": "2023-04-21T13:38:19.152899Z",
     "iopub.status.busy": "2023-04-21T13:38:19.152402Z",
     "iopub.status.idle": "2023-04-21T13:38:19.159053Z",
     "shell.execute_reply": "2023-04-21T13:38:19.157485Z"
    },
    "papermill": {
     "duration": 0.022695,
     "end_time": "2023-04-21T13:38:19.161629",
     "exception": false,
     "start_time": "2023-04-21T13:38:19.138934",
     "status": "completed"
    },
    "tags": []
   },
   "outputs": [
    {
     "name": "stdout",
     "output_type": "stream",
     "text": [
      "['T', '__abs__', '__add__', '__and__', '__array__', '__array_finalize__', '__array_function__', '__array_interface__', '__array_prepare__', '__array_priority__', '__array_struct__', '__array_ufunc__', '__array_wrap__', '__bool__', '__class__', '__complex__', '__contains__', '__copy__', '__deepcopy__', '__delattr__', '__delitem__', '__dir__', '__divmod__', '__doc__', '__eq__', '__float__', '__floordiv__', '__format__', '__ge__', '__getattribute__', '__getitem__', '__gt__', '__hash__', '__iadd__', '__iand__', '__ifloordiv__', '__ilshift__', '__imatmul__', '__imod__', '__imul__', '__index__', '__init__', '__init_subclass__', '__int__', '__invert__', '__ior__', '__ipow__', '__irshift__', '__isub__', '__iter__', '__itruediv__', '__ixor__', '__le__', '__len__', '__lshift__', '__lt__', '__matmul__', '__mod__', '__mul__', '__ne__', '__neg__', '__new__', '__or__', '__pos__', '__pow__', '__radd__', '__rand__', '__rdivmod__', '__reduce__', '__reduce_ex__', '__repr__', '__rfloordiv__', '__rlshift__', '__rmatmul__', '__rmod__', '__rmul__', '__ror__', '__rpow__', '__rrshift__', '__rshift__', '__rsub__', '__rtruediv__', '__rxor__', '__setattr__', '__setitem__', '__setstate__', '__sizeof__', '__str__', '__sub__', '__subclasshook__', '__truediv__', '__xor__', 'all', 'any', 'argmax', 'argmin', 'argpartition', 'argsort', 'astype', 'base', 'byteswap', 'choose', 'clip', 'compress', 'conj', 'conjugate', 'copy', 'ctypes', 'cumprod', 'cumsum', 'data', 'diagonal', 'dot', 'dtype', 'dump', 'dumps', 'fill', 'flags', 'flat', 'flatten', 'getfield', 'imag', 'item', 'itemset', 'itemsize', 'max', 'mean', 'min', 'nbytes', 'ndim', 'newbyteorder', 'nonzero', 'partition', 'prod', 'ptp', 'put', 'ravel', 'real', 'repeat', 'reshape', 'resize', 'round', 'searchsorted', 'setfield', 'setflags', 'shape', 'size', 'sort', 'squeeze', 'std', 'strides', 'sum', 'swapaxes', 'take', 'tobytes', 'tofile', 'tolist', 'tostring', 'trace', 'transpose', 'var', 'view']\n"
     ]
    }
   ],
   "source": [
    "print(dir(rolls))"
   ]
  },
  {
   "cell_type": "code",
   "execution_count": 16,
   "id": "f47affc1",
   "metadata": {
    "execution": {
     "iopub.execute_input": "2023-04-21T13:38:19.188061Z",
     "iopub.status.busy": "2023-04-21T13:38:19.187515Z",
     "iopub.status.idle": "2023-04-21T13:38:19.196312Z",
     "shell.execute_reply": "2023-04-21T13:38:19.195081Z"
    },
    "papermill": {
     "duration": 0.024663,
     "end_time": "2023-04-21T13:38:19.198669",
     "exception": false,
     "start_time": "2023-04-21T13:38:19.174006",
     "status": "completed"
    },
    "tags": []
   },
   "outputs": [
    {
     "data": {
      "text/plain": [
       "3.3"
      ]
     },
     "execution_count": 16,
     "metadata": {},
     "output_type": "execute_result"
    }
   ],
   "source": [
    "# If I want the average roll, the \"mean\" method looks promising...\n",
    "rolls.mean()"
   ]
  },
  {
   "cell_type": "code",
   "execution_count": 17,
   "id": "d969491f",
   "metadata": {
    "execution": {
     "iopub.execute_input": "2023-04-21T13:38:19.224458Z",
     "iopub.status.busy": "2023-04-21T13:38:19.224050Z",
     "iopub.status.idle": "2023-04-21T13:38:19.232389Z",
     "shell.execute_reply": "2023-04-21T13:38:19.230819Z"
    },
    "papermill": {
     "duration": 0.024431,
     "end_time": "2023-04-21T13:38:19.235121",
     "exception": false,
     "start_time": "2023-04-21T13:38:19.210690",
     "status": "completed"
    },
    "tags": []
   },
   "outputs": [
    {
     "data": {
      "text/plain": [
       "[3, 4, 3, 4, 5, 5, 2, 1, 3, 3]"
      ]
     },
     "execution_count": 17,
     "metadata": {},
     "output_type": "execute_result"
    }
   ],
   "source": [
    "# Or maybe I just want to turn the array into a list, in which case I can use \"tolist\"\n",
    "rolls.tolist()"
   ]
  },
  {
   "cell_type": "markdown",
   "id": "853e8e43",
   "metadata": {
    "papermill": {
     "duration": 0.012207,
     "end_time": "2023-04-21T13:38:19.259354",
     "exception": false,
     "start_time": "2023-04-21T13:38:19.247147",
     "status": "completed"
    },
    "tags": []
   },
   "source": [
    "**3: `help()`** (Bana daha fazlasını söyle)"
   ]
  },
  {
   "cell_type": "code",
   "execution_count": 18,
   "id": "b4037b61",
   "metadata": {
    "execution": {
     "iopub.execute_input": "2023-04-21T13:38:19.286735Z",
     "iopub.status.busy": "2023-04-21T13:38:19.285780Z",
     "iopub.status.idle": "2023-04-21T13:38:19.292449Z",
     "shell.execute_reply": "2023-04-21T13:38:19.291100Z"
    },
    "papermill": {
     "duration": 0.023555,
     "end_time": "2023-04-21T13:38:19.295029",
     "exception": false,
     "start_time": "2023-04-21T13:38:19.271474",
     "status": "completed"
    },
    "tags": []
   },
   "outputs": [
    {
     "name": "stdout",
     "output_type": "stream",
     "text": [
      "Help on built-in function ravel:\n",
      "\n",
      "ravel(...) method of numpy.ndarray instance\n",
      "    a.ravel([order])\n",
      "    \n",
      "    Return a flattened array.\n",
      "    \n",
      "    Refer to `numpy.ravel` for full documentation.\n",
      "    \n",
      "    See Also\n",
      "    --------\n",
      "    numpy.ravel : equivalent function\n",
      "    \n",
      "    ndarray.flat : a flat iterator on the array.\n",
      "\n"
     ]
    }
   ],
   "source": [
    "# That \"ravel\" attribute sounds interesting. I'm a big classical music fan.\n",
    "help(rolls.ravel)"
   ]
  },
  {
   "cell_type": "code",
   "execution_count": 19,
   "id": "8548dd37",
   "metadata": {
    "_kg_hide-output": true,
    "execution": {
     "iopub.execute_input": "2023-04-21T13:38:19.322591Z",
     "iopub.status.busy": "2023-04-21T13:38:19.322066Z",
     "iopub.status.idle": "2023-04-21T13:38:19.378050Z",
     "shell.execute_reply": "2023-04-21T13:38:19.376746Z"
    },
    "papermill": {
     "duration": 0.07793,
     "end_time": "2023-04-21T13:38:19.385716",
     "exception": false,
     "start_time": "2023-04-21T13:38:19.307786",
     "status": "completed"
    },
    "tags": []
   },
   "outputs": [
    {
     "name": "stdout",
     "output_type": "stream",
     "text": [
      "Help on ndarray object:\n",
      "\n",
      "class ndarray(builtins.object)\n",
      " |  ndarray(shape, dtype=float, buffer=None, offset=0,\n",
      " |          strides=None, order=None)\n",
      " |  \n",
      " |  An array object represents a multidimensional, homogeneous array\n",
      " |  of fixed-size items.  An associated data-type object describes the\n",
      " |  format of each element in the array (its byte-order, how many bytes it\n",
      " |  occupies in memory, whether it is an integer, a floating point number,\n",
      " |  or something else, etc.)\n",
      " |  \n",
      " |  Arrays should be constructed using `array`, `zeros` or `empty` (refer\n",
      " |  to the See Also section below).  The parameters given here refer to\n",
      " |  a low-level method (`ndarray(...)`) for instantiating an array.\n",
      " |  \n",
      " |  For more information, refer to the `numpy` module and examine the\n",
      " |  methods and attributes of an array.\n",
      " |  \n",
      " |  Parameters\n",
      " |  ----------\n",
      " |  (for the __new__ method; see Notes below)\n",
      " |  \n",
      " |  shape : tuple of ints\n",
      " |      Shape of created array.\n",
      " |  dtype : data-type, optional\n",
      " |      Any object that can be interpreted as a numpy data type.\n",
      " |  buffer : object exposing buffer interface, optional\n",
      " |      Used to fill the array with data.\n",
      " |  offset : int, optional\n",
      " |      Offset of array data in buffer.\n",
      " |  strides : tuple of ints, optional\n",
      " |      Strides of data in memory.\n",
      " |  order : {'C', 'F'}, optional\n",
      " |      Row-major (C-style) or column-major (Fortran-style) order.\n",
      " |  \n",
      " |  Attributes\n",
      " |  ----------\n",
      " |  T : ndarray\n",
      " |      Transpose of the array.\n",
      " |  data : buffer\n",
      " |      The array's elements, in memory.\n",
      " |  dtype : dtype object\n",
      " |      Describes the format of the elements in the array.\n",
      " |  flags : dict\n",
      " |      Dictionary containing information related to memory use, e.g.,\n",
      " |      'C_CONTIGUOUS', 'OWNDATA', 'WRITEABLE', etc.\n",
      " |  flat : numpy.flatiter object\n",
      " |      Flattened version of the array as an iterator.  The iterator\n",
      " |      allows assignments, e.g., ``x.flat = 3`` (See `ndarray.flat` for\n",
      " |      assignment examples; TODO).\n",
      " |  imag : ndarray\n",
      " |      Imaginary part of the array.\n",
      " |  real : ndarray\n",
      " |      Real part of the array.\n",
      " |  size : int\n",
      " |      Number of elements in the array.\n",
      " |  itemsize : int\n",
      " |      The memory use of each array element in bytes.\n",
      " |  nbytes : int\n",
      " |      The total number of bytes required to store the array data,\n",
      " |      i.e., ``itemsize * size``.\n",
      " |  ndim : int\n",
      " |      The array's number of dimensions.\n",
      " |  shape : tuple of ints\n",
      " |      Shape of the array.\n",
      " |  strides : tuple of ints\n",
      " |      The step-size required to move from one element to the next in\n",
      " |      memory. For example, a contiguous ``(3, 4)`` array of type\n",
      " |      ``int16`` in C-order has strides ``(8, 2)``.  This implies that\n",
      " |      to move from element to element in memory requires jumps of 2 bytes.\n",
      " |      To move from row-to-row, one needs to jump 8 bytes at a time\n",
      " |      (``2 * 4``).\n",
      " |  ctypes : ctypes object\n",
      " |      Class containing properties of the array needed for interaction\n",
      " |      with ctypes.\n",
      " |  base : ndarray\n",
      " |      If the array is a view into another array, that array is its `base`\n",
      " |      (unless that array is also a view).  The `base` array is where the\n",
      " |      array data is actually stored.\n",
      " |  \n",
      " |  See Also\n",
      " |  --------\n",
      " |  array : Construct an array.\n",
      " |  zeros : Create an array, each element of which is zero.\n",
      " |  empty : Create an array, but leave its allocated memory unchanged (i.e.,\n",
      " |          it contains \"garbage\").\n",
      " |  dtype : Create a data-type.\n",
      " |  numpy.typing.NDArray : A :term:`generic <generic type>` version\n",
      " |                         of ndarray.\n",
      " |  \n",
      " |  Notes\n",
      " |  -----\n",
      " |  There are two modes of creating an array using ``__new__``:\n",
      " |  \n",
      " |  1. If `buffer` is None, then only `shape`, `dtype`, and `order`\n",
      " |     are used.\n",
      " |  2. If `buffer` is an object exposing the buffer interface, then\n",
      " |     all keywords are interpreted.\n",
      " |  \n",
      " |  No ``__init__`` method is needed because the array is fully initialized\n",
      " |  after the ``__new__`` method.\n",
      " |  \n",
      " |  Examples\n",
      " |  --------\n",
      " |  These examples illustrate the low-level `ndarray` constructor.  Refer\n",
      " |  to the `See Also` section above for easier ways of constructing an\n",
      " |  ndarray.\n",
      " |  \n",
      " |  First mode, `buffer` is None:\n",
      " |  \n",
      " |  >>> np.ndarray(shape=(2,2), dtype=float, order='F')\n",
      " |  array([[0.0e+000, 0.0e+000], # random\n",
      " |         [     nan, 2.5e-323]])\n",
      " |  \n",
      " |  Second mode:\n",
      " |  \n",
      " |  >>> np.ndarray((2,), buffer=np.array([1,2,3]),\n",
      " |  ...            offset=np.int_().itemsize,\n",
      " |  ...            dtype=int) # offset = 1*itemsize, i.e. skip first element\n",
      " |  array([2, 3])\n",
      " |  \n",
      " |  Methods defined here:\n",
      " |  \n",
      " |  __abs__(self, /)\n",
      " |      abs(self)\n",
      " |  \n",
      " |  __add__(self, value, /)\n",
      " |      Return self+value.\n",
      " |  \n",
      " |  __and__(self, value, /)\n",
      " |      Return self&value.\n",
      " |  \n",
      " |  __array__(...)\n",
      " |      a.__array__([dtype], /) -> reference if type unchanged, copy otherwise.\n",
      " |      \n",
      " |      Returns either a new reference to self if dtype is not given or a new array\n",
      " |      of provided data type if dtype is different from the current dtype of the\n",
      " |      array.\n",
      " |  \n",
      " |  __array_function__(...)\n",
      " |  \n",
      " |  __array_prepare__(...)\n",
      " |      a.__array_prepare__(obj) -> Object of same type as ndarray object obj.\n",
      " |  \n",
      " |  __array_ufunc__(...)\n",
      " |  \n",
      " |  __array_wrap__(...)\n",
      " |      a.__array_wrap__(obj) -> Object of same type as ndarray object a.\n",
      " |  \n",
      " |  __bool__(self, /)\n",
      " |      self != 0\n",
      " |  \n",
      " |  __complex__(...)\n",
      " |  \n",
      " |  __contains__(self, key, /)\n",
      " |      Return key in self.\n",
      " |  \n",
      " |  __copy__(...)\n",
      " |      a.__copy__()\n",
      " |      \n",
      " |      Used if :func:`copy.copy` is called on an array. Returns a copy of the array.\n",
      " |      \n",
      " |      Equivalent to ``a.copy(order='K')``.\n",
      " |  \n",
      " |  __deepcopy__(...)\n",
      " |      a.__deepcopy__(memo, /) -> Deep copy of array.\n",
      " |      \n",
      " |      Used if :func:`copy.deepcopy` is called on an array.\n",
      " |  \n",
      " |  __delitem__(self, key, /)\n",
      " |      Delete self[key].\n",
      " |  \n",
      " |  __divmod__(self, value, /)\n",
      " |      Return divmod(self, value).\n",
      " |  \n",
      " |  __eq__(self, value, /)\n",
      " |      Return self==value.\n",
      " |  \n",
      " |  __float__(self, /)\n",
      " |      float(self)\n",
      " |  \n",
      " |  __floordiv__(self, value, /)\n",
      " |      Return self//value.\n",
      " |  \n",
      " |  __format__(...)\n",
      " |      Default object formatter.\n",
      " |  \n",
      " |  __ge__(self, value, /)\n",
      " |      Return self>=value.\n",
      " |  \n",
      " |  __getitem__(self, key, /)\n",
      " |      Return self[key].\n",
      " |  \n",
      " |  __gt__(self, value, /)\n",
      " |      Return self>value.\n",
      " |  \n",
      " |  __iadd__(self, value, /)\n",
      " |      Return self+=value.\n",
      " |  \n",
      " |  __iand__(self, value, /)\n",
      " |      Return self&=value.\n",
      " |  \n",
      " |  __ifloordiv__(self, value, /)\n",
      " |      Return self//=value.\n",
      " |  \n",
      " |  __ilshift__(self, value, /)\n",
      " |      Return self<<=value.\n",
      " |  \n",
      " |  __imatmul__(self, value, /)\n",
      " |      Return self@=value.\n",
      " |  \n",
      " |  __imod__(self, value, /)\n",
      " |      Return self%=value.\n",
      " |  \n",
      " |  __imul__(self, value, /)\n",
      " |      Return self*=value.\n",
      " |  \n",
      " |  __index__(self, /)\n",
      " |      Return self converted to an integer, if self is suitable for use as an index into a list.\n",
      " |  \n",
      " |  __int__(self, /)\n",
      " |      int(self)\n",
      " |  \n",
      " |  __invert__(self, /)\n",
      " |      ~self\n",
      " |  \n",
      " |  __ior__(self, value, /)\n",
      " |      Return self|=value.\n",
      " |  \n",
      " |  __ipow__(self, value, /)\n",
      " |      Return self**=value.\n",
      " |  \n",
      " |  __irshift__(self, value, /)\n",
      " |      Return self>>=value.\n",
      " |  \n",
      " |  __isub__(self, value, /)\n",
      " |      Return self-=value.\n",
      " |  \n",
      " |  __iter__(self, /)\n",
      " |      Implement iter(self).\n",
      " |  \n",
      " |  __itruediv__(self, value, /)\n",
      " |      Return self/=value.\n",
      " |  \n",
      " |  __ixor__(self, value, /)\n",
      " |      Return self^=value.\n",
      " |  \n",
      " |  __le__(self, value, /)\n",
      " |      Return self<=value.\n",
      " |  \n",
      " |  __len__(self, /)\n",
      " |      Return len(self).\n",
      " |  \n",
      " |  __lshift__(self, value, /)\n",
      " |      Return self<<value.\n",
      " |  \n",
      " |  __lt__(self, value, /)\n",
      " |      Return self<value.\n",
      " |  \n",
      " |  __matmul__(self, value, /)\n",
      " |      Return self@value.\n",
      " |  \n",
      " |  __mod__(self, value, /)\n",
      " |      Return self%value.\n",
      " |  \n",
      " |  __mul__(self, value, /)\n",
      " |      Return self*value.\n",
      " |  \n",
      " |  __ne__(self, value, /)\n",
      " |      Return self!=value.\n",
      " |  \n",
      " |  __neg__(self, /)\n",
      " |      -self\n",
      " |  \n",
      " |  __or__(self, value, /)\n",
      " |      Return self|value.\n",
      " |  \n",
      " |  __pos__(self, /)\n",
      " |      +self\n",
      " |  \n",
      " |  __pow__(self, value, mod=None, /)\n",
      " |      Return pow(self, value, mod).\n",
      " |  \n",
      " |  __radd__(self, value, /)\n",
      " |      Return value+self.\n",
      " |  \n",
      " |  __rand__(self, value, /)\n",
      " |      Return value&self.\n",
      " |  \n",
      " |  __rdivmod__(self, value, /)\n",
      " |      Return divmod(value, self).\n",
      " |  \n",
      " |  __reduce__(...)\n",
      " |      a.__reduce__()\n",
      " |      \n",
      " |      For pickling.\n",
      " |  \n",
      " |  __reduce_ex__(...)\n",
      " |      Helper for pickle.\n",
      " |  \n",
      " |  __repr__(self, /)\n",
      " |      Return repr(self).\n",
      " |  \n",
      " |  __rfloordiv__(self, value, /)\n",
      " |      Return value//self.\n",
      " |  \n",
      " |  __rlshift__(self, value, /)\n",
      " |      Return value<<self.\n",
      " |  \n",
      " |  __rmatmul__(self, value, /)\n",
      " |      Return value@self.\n",
      " |  \n",
      " |  __rmod__(self, value, /)\n",
      " |      Return value%self.\n",
      " |  \n",
      " |  __rmul__(self, value, /)\n",
      " |      Return value*self.\n",
      " |  \n",
      " |  __ror__(self, value, /)\n",
      " |      Return value|self.\n",
      " |  \n",
      " |  __rpow__(self, value, mod=None, /)\n",
      " |      Return pow(value, self, mod).\n",
      " |  \n",
      " |  __rrshift__(self, value, /)\n",
      " |      Return value>>self.\n",
      " |  \n",
      " |  __rshift__(self, value, /)\n",
      " |      Return self>>value.\n",
      " |  \n",
      " |  __rsub__(self, value, /)\n",
      " |      Return value-self.\n",
      " |  \n",
      " |  __rtruediv__(self, value, /)\n",
      " |      Return value/self.\n",
      " |  \n",
      " |  __rxor__(self, value, /)\n",
      " |      Return value^self.\n",
      " |  \n",
      " |  __setitem__(self, key, value, /)\n",
      " |      Set self[key] to value.\n",
      " |  \n",
      " |  __setstate__(...)\n",
      " |      a.__setstate__(state, /)\n",
      " |      \n",
      " |      For unpickling.\n",
      " |      \n",
      " |      The `state` argument must be a sequence that contains the following\n",
      " |      elements:\n",
      " |      \n",
      " |      Parameters\n",
      " |      ----------\n",
      " |      version : int\n",
      " |          optional pickle version. If omitted defaults to 0.\n",
      " |      shape : tuple\n",
      " |      dtype : data-type\n",
      " |      isFortran : bool\n",
      " |      rawdata : string or list\n",
      " |          a binary string with the data (or a list if 'a' is an object array)\n",
      " |  \n",
      " |  __sizeof__(...)\n",
      " |      Size of object in memory, in bytes.\n",
      " |  \n",
      " |  __str__(self, /)\n",
      " |      Return str(self).\n",
      " |  \n",
      " |  __sub__(self, value, /)\n",
      " |      Return self-value.\n",
      " |  \n",
      " |  __truediv__(self, value, /)\n",
      " |      Return self/value.\n",
      " |  \n",
      " |  __xor__(self, value, /)\n",
      " |      Return self^value.\n",
      " |  \n",
      " |  all(...)\n",
      " |      a.all(axis=None, out=None, keepdims=False, *, where=True)\n",
      " |      \n",
      " |      Returns True if all elements evaluate to True.\n",
      " |      \n",
      " |      Refer to `numpy.all` for full documentation.\n",
      " |      \n",
      " |      See Also\n",
      " |      --------\n",
      " |      numpy.all : equivalent function\n",
      " |  \n",
      " |  any(...)\n",
      " |      a.any(axis=None, out=None, keepdims=False, *, where=True)\n",
      " |      \n",
      " |      Returns True if any of the elements of `a` evaluate to True.\n",
      " |      \n",
      " |      Refer to `numpy.any` for full documentation.\n",
      " |      \n",
      " |      See Also\n",
      " |      --------\n",
      " |      numpy.any : equivalent function\n",
      " |  \n",
      " |  argmax(...)\n",
      " |      a.argmax(axis=None, out=None)\n",
      " |      \n",
      " |      Return indices of the maximum values along the given axis.\n",
      " |      \n",
      " |      Refer to `numpy.argmax` for full documentation.\n",
      " |      \n",
      " |      See Also\n",
      " |      --------\n",
      " |      numpy.argmax : equivalent function\n",
      " |  \n",
      " |  argmin(...)\n",
      " |      a.argmin(axis=None, out=None)\n",
      " |      \n",
      " |      Return indices of the minimum values along the given axis.\n",
      " |      \n",
      " |      Refer to `numpy.argmin` for detailed documentation.\n",
      " |      \n",
      " |      See Also\n",
      " |      --------\n",
      " |      numpy.argmin : equivalent function\n",
      " |  \n",
      " |  argpartition(...)\n",
      " |      a.argpartition(kth, axis=-1, kind='introselect', order=None)\n",
      " |      \n",
      " |      Returns the indices that would partition this array.\n",
      " |      \n",
      " |      Refer to `numpy.argpartition` for full documentation.\n",
      " |      \n",
      " |      .. versionadded:: 1.8.0\n",
      " |      \n",
      " |      See Also\n",
      " |      --------\n",
      " |      numpy.argpartition : equivalent function\n",
      " |  \n",
      " |  argsort(...)\n",
      " |      a.argsort(axis=-1, kind=None, order=None)\n",
      " |      \n",
      " |      Returns the indices that would sort this array.\n",
      " |      \n",
      " |      Refer to `numpy.argsort` for full documentation.\n",
      " |      \n",
      " |      See Also\n",
      " |      --------\n",
      " |      numpy.argsort : equivalent function\n",
      " |  \n",
      " |  astype(...)\n",
      " |      a.astype(dtype, order='K', casting='unsafe', subok=True, copy=True)\n",
      " |      \n",
      " |      Copy of the array, cast to a specified type.\n",
      " |      \n",
      " |      Parameters\n",
      " |      ----------\n",
      " |      dtype : str or dtype\n",
      " |          Typecode or data-type to which the array is cast.\n",
      " |      order : {'C', 'F', 'A', 'K'}, optional\n",
      " |          Controls the memory layout order of the result.\n",
      " |          'C' means C order, 'F' means Fortran order, 'A'\n",
      " |          means 'F' order if all the arrays are Fortran contiguous,\n",
      " |          'C' order otherwise, and 'K' means as close to the\n",
      " |          order the array elements appear in memory as possible.\n",
      " |          Default is 'K'.\n",
      " |      casting : {'no', 'equiv', 'safe', 'same_kind', 'unsafe'}, optional\n",
      " |          Controls what kind of data casting may occur. Defaults to 'unsafe'\n",
      " |          for backwards compatibility.\n",
      " |      \n",
      " |            * 'no' means the data types should not be cast at all.\n",
      " |            * 'equiv' means only byte-order changes are allowed.\n",
      " |            * 'safe' means only casts which can preserve values are allowed.\n",
      " |            * 'same_kind' means only safe casts or casts within a kind,\n",
      " |              like float64 to float32, are allowed.\n",
      " |            * 'unsafe' means any data conversions may be done.\n",
      " |      subok : bool, optional\n",
      " |          If True, then sub-classes will be passed-through (default), otherwise\n",
      " |          the returned array will be forced to be a base-class array.\n",
      " |      copy : bool, optional\n",
      " |          By default, astype always returns a newly allocated array. If this\n",
      " |          is set to false, and the `dtype`, `order`, and `subok`\n",
      " |          requirements are satisfied, the input array is returned instead\n",
      " |          of a copy.\n",
      " |      \n",
      " |      Returns\n",
      " |      -------\n",
      " |      arr_t : ndarray\n",
      " |          Unless `copy` is False and the other conditions for returning the input\n",
      " |          array are satisfied (see description for `copy` input parameter), `arr_t`\n",
      " |          is a new array of the same shape as the input array, with dtype, order\n",
      " |          given by `dtype`, `order`.\n",
      " |      \n",
      " |      Notes\n",
      " |      -----\n",
      " |      .. versionchanged:: 1.17.0\n",
      " |         Casting between a simple data type and a structured one is possible only\n",
      " |         for \"unsafe\" casting.  Casting to multiple fields is allowed, but\n",
      " |         casting from multiple fields is not.\n",
      " |      \n",
      " |      .. versionchanged:: 1.9.0\n",
      " |         Casting from numeric to string types in 'safe' casting mode requires\n",
      " |         that the string dtype length is long enough to store the max\n",
      " |         integer/float value converted.\n",
      " |      \n",
      " |      Raises\n",
      " |      ------\n",
      " |      ComplexWarning\n",
      " |          When casting from complex to float or int. To avoid this,\n",
      " |          one should use ``a.real.astype(t)``.\n",
      " |      \n",
      " |      Examples\n",
      " |      --------\n",
      " |      >>> x = np.array([1, 2, 2.5])\n",
      " |      >>> x\n",
      " |      array([1. ,  2. ,  2.5])\n",
      " |      \n",
      " |      >>> x.astype(int)\n",
      " |      array([1, 2, 2])\n",
      " |  \n",
      " |  byteswap(...)\n",
      " |      a.byteswap(inplace=False)\n",
      " |      \n",
      " |      Swap the bytes of the array elements\n",
      " |      \n",
      " |      Toggle between low-endian and big-endian data representation by\n",
      " |      returning a byteswapped array, optionally swapped in-place.\n",
      " |      Arrays of byte-strings are not swapped. The real and imaginary\n",
      " |      parts of a complex number are swapped individually.\n",
      " |      \n",
      " |      Parameters\n",
      " |      ----------\n",
      " |      inplace : bool, optional\n",
      " |          If ``True``, swap bytes in-place, default is ``False``.\n",
      " |      \n",
      " |      Returns\n",
      " |      -------\n",
      " |      out : ndarray\n",
      " |          The byteswapped array. If `inplace` is ``True``, this is\n",
      " |          a view to self.\n",
      " |      \n",
      " |      Examples\n",
      " |      --------\n",
      " |      >>> A = np.array([1, 256, 8755], dtype=np.int16)\n",
      " |      >>> list(map(hex, A))\n",
      " |      ['0x1', '0x100', '0x2233']\n",
      " |      >>> A.byteswap(inplace=True)\n",
      " |      array([  256,     1, 13090], dtype=int16)\n",
      " |      >>> list(map(hex, A))\n",
      " |      ['0x100', '0x1', '0x3322']\n",
      " |      \n",
      " |      Arrays of byte-strings are not swapped\n",
      " |      \n",
      " |      >>> A = np.array([b'ceg', b'fac'])\n",
      " |      >>> A.byteswap()\n",
      " |      array([b'ceg', b'fac'], dtype='|S3')\n",
      " |      \n",
      " |      ``A.newbyteorder().byteswap()`` produces an array with the same values\n",
      " |        but different representation in memory\n",
      " |      \n",
      " |      >>> A = np.array([1, 2, 3])\n",
      " |      >>> A.view(np.uint8)\n",
      " |      array([1, 0, 0, 0, 0, 0, 0, 0, 2, 0, 0, 0, 0, 0, 0, 0, 3, 0, 0, 0, 0, 0,\n",
      " |             0, 0], dtype=uint8)\n",
      " |      >>> A.newbyteorder().byteswap(inplace=True)\n",
      " |      array([1, 2, 3])\n",
      " |      >>> A.view(np.uint8)\n",
      " |      array([0, 0, 0, 0, 0, 0, 0, 1, 0, 0, 0, 0, 0, 0, 0, 2, 0, 0, 0, 0, 0, 0,\n",
      " |             0, 3], dtype=uint8)\n",
      " |  \n",
      " |  choose(...)\n",
      " |      a.choose(choices, out=None, mode='raise')\n",
      " |      \n",
      " |      Use an index array to construct a new array from a set of choices.\n",
      " |      \n",
      " |      Refer to `numpy.choose` for full documentation.\n",
      " |      \n",
      " |      See Also\n",
      " |      --------\n",
      " |      numpy.choose : equivalent function\n",
      " |  \n",
      " |  clip(...)\n",
      " |      a.clip(min=None, max=None, out=None, **kwargs)\n",
      " |      \n",
      " |      Return an array whose values are limited to ``[min, max]``.\n",
      " |      One of max or min must be given.\n",
      " |      \n",
      " |      Refer to `numpy.clip` for full documentation.\n",
      " |      \n",
      " |      See Also\n",
      " |      --------\n",
      " |      numpy.clip : equivalent function\n",
      " |  \n",
      " |  compress(...)\n",
      " |      a.compress(condition, axis=None, out=None)\n",
      " |      \n",
      " |      Return selected slices of this array along given axis.\n",
      " |      \n",
      " |      Refer to `numpy.compress` for full documentation.\n",
      " |      \n",
      " |      See Also\n",
      " |      --------\n",
      " |      numpy.compress : equivalent function\n",
      " |  \n",
      " |  conj(...)\n",
      " |      a.conj()\n",
      " |      \n",
      " |      Complex-conjugate all elements.\n",
      " |      \n",
      " |      Refer to `numpy.conjugate` for full documentation.\n",
      " |      \n",
      " |      See Also\n",
      " |      --------\n",
      " |      numpy.conjugate : equivalent function\n",
      " |  \n",
      " |  conjugate(...)\n",
      " |      a.conjugate()\n",
      " |      \n",
      " |      Return the complex conjugate, element-wise.\n",
      " |      \n",
      " |      Refer to `numpy.conjugate` for full documentation.\n",
      " |      \n",
      " |      See Also\n",
      " |      --------\n",
      " |      numpy.conjugate : equivalent function\n",
      " |  \n",
      " |  copy(...)\n",
      " |      a.copy(order='C')\n",
      " |      \n",
      " |      Return a copy of the array.\n",
      " |      \n",
      " |      Parameters\n",
      " |      ----------\n",
      " |      order : {'C', 'F', 'A', 'K'}, optional\n",
      " |          Controls the memory layout of the copy. 'C' means C-order,\n",
      " |          'F' means F-order, 'A' means 'F' if `a` is Fortran contiguous,\n",
      " |          'C' otherwise. 'K' means match the layout of `a` as closely\n",
      " |          as possible. (Note that this function and :func:`numpy.copy` are very\n",
      " |          similar but have different default values for their order=\n",
      " |          arguments, and this function always passes sub-classes through.)\n",
      " |      \n",
      " |      See also\n",
      " |      --------\n",
      " |      numpy.copy : Similar function with different default behavior\n",
      " |      numpy.copyto\n",
      " |      \n",
      " |      Notes\n",
      " |      -----\n",
      " |      This function is the preferred method for creating an array copy.  The\n",
      " |      function :func:`numpy.copy` is similar, but it defaults to using order 'K',\n",
      " |      and will not pass sub-classes through by default.\n",
      " |      \n",
      " |      Examples\n",
      " |      --------\n",
      " |      >>> x = np.array([[1,2,3],[4,5,6]], order='F')\n",
      " |      \n",
      " |      >>> y = x.copy()\n",
      " |      \n",
      " |      >>> x.fill(0)\n",
      " |      \n",
      " |      >>> x\n",
      " |      array([[0, 0, 0],\n",
      " |             [0, 0, 0]])\n",
      " |      \n",
      " |      >>> y\n",
      " |      array([[1, 2, 3],\n",
      " |             [4, 5, 6]])\n",
      " |      \n",
      " |      >>> y.flags['C_CONTIGUOUS']\n",
      " |      True\n",
      " |  \n",
      " |  cumprod(...)\n",
      " |      a.cumprod(axis=None, dtype=None, out=None)\n",
      " |      \n",
      " |      Return the cumulative product of the elements along the given axis.\n",
      " |      \n",
      " |      Refer to `numpy.cumprod` for full documentation.\n",
      " |      \n",
      " |      See Also\n",
      " |      --------\n",
      " |      numpy.cumprod : equivalent function\n",
      " |  \n",
      " |  cumsum(...)\n",
      " |      a.cumsum(axis=None, dtype=None, out=None)\n",
      " |      \n",
      " |      Return the cumulative sum of the elements along the given axis.\n",
      " |      \n",
      " |      Refer to `numpy.cumsum` for full documentation.\n",
      " |      \n",
      " |      See Also\n",
      " |      --------\n",
      " |      numpy.cumsum : equivalent function\n",
      " |  \n",
      " |  diagonal(...)\n",
      " |      a.diagonal(offset=0, axis1=0, axis2=1)\n",
      " |      \n",
      " |      Return specified diagonals. In NumPy 1.9 the returned array is a\n",
      " |      read-only view instead of a copy as in previous NumPy versions.  In\n",
      " |      a future version the read-only restriction will be removed.\n",
      " |      \n",
      " |      Refer to :func:`numpy.diagonal` for full documentation.\n",
      " |      \n",
      " |      See Also\n",
      " |      --------\n",
      " |      numpy.diagonal : equivalent function\n",
      " |  \n",
      " |  dot(...)\n",
      " |      a.dot(b, out=None)\n",
      " |      \n",
      " |      Dot product of two arrays.\n",
      " |      \n",
      " |      Refer to `numpy.dot` for full documentation.\n",
      " |      \n",
      " |      See Also\n",
      " |      --------\n",
      " |      numpy.dot : equivalent function\n",
      " |      \n",
      " |      Examples\n",
      " |      --------\n",
      " |      >>> a = np.eye(2)\n",
      " |      >>> b = np.ones((2, 2)) * 2\n",
      " |      >>> a.dot(b)\n",
      " |      array([[2.,  2.],\n",
      " |             [2.,  2.]])\n",
      " |      \n",
      " |      This array method can be conveniently chained:\n",
      " |      \n",
      " |      >>> a.dot(b).dot(b)\n",
      " |      array([[8.,  8.],\n",
      " |             [8.,  8.]])\n",
      " |  \n",
      " |  dump(...)\n",
      " |      a.dump(file)\n",
      " |      \n",
      " |      Dump a pickle of the array to the specified file.\n",
      " |      The array can be read back with pickle.load or numpy.load.\n",
      " |      \n",
      " |      Parameters\n",
      " |      ----------\n",
      " |      file : str or Path\n",
      " |          A string naming the dump file.\n",
      " |      \n",
      " |          .. versionchanged:: 1.17.0\n",
      " |              `pathlib.Path` objects are now accepted.\n",
      " |  \n",
      " |  dumps(...)\n",
      " |      a.dumps()\n",
      " |      \n",
      " |      Returns the pickle of the array as a string.\n",
      " |      pickle.loads or numpy.loads will convert the string back to an array.\n",
      " |      \n",
      " |      Parameters\n",
      " |      ----------\n",
      " |      None\n",
      " |  \n",
      " |  fill(...)\n",
      " |      a.fill(value)\n",
      " |      \n",
      " |      Fill the array with a scalar value.\n",
      " |      \n",
      " |      Parameters\n",
      " |      ----------\n",
      " |      value : scalar\n",
      " |          All elements of `a` will be assigned this value.\n",
      " |      \n",
      " |      Examples\n",
      " |      --------\n",
      " |      >>> a = np.array([1, 2])\n",
      " |      >>> a.fill(0)\n",
      " |      >>> a\n",
      " |      array([0, 0])\n",
      " |      >>> a = np.empty(2)\n",
      " |      >>> a.fill(1)\n",
      " |      >>> a\n",
      " |      array([1.,  1.])\n",
      " |  \n",
      " |  flatten(...)\n",
      " |      a.flatten(order='C')\n",
      " |      \n",
      " |      Return a copy of the array collapsed into one dimension.\n",
      " |      \n",
      " |      Parameters\n",
      " |      ----------\n",
      " |      order : {'C', 'F', 'A', 'K'}, optional\n",
      " |          'C' means to flatten in row-major (C-style) order.\n",
      " |          'F' means to flatten in column-major (Fortran-\n",
      " |          style) order. 'A' means to flatten in column-major\n",
      " |          order if `a` is Fortran *contiguous* in memory,\n",
      " |          row-major order otherwise. 'K' means to flatten\n",
      " |          `a` in the order the elements occur in memory.\n",
      " |          The default is 'C'.\n",
      " |      \n",
      " |      Returns\n",
      " |      -------\n",
      " |      y : ndarray\n",
      " |          A copy of the input array, flattened to one dimension.\n",
      " |      \n",
      " |      See Also\n",
      " |      --------\n",
      " |      ravel : Return a flattened array.\n",
      " |      flat : A 1-D flat iterator over the array.\n",
      " |      \n",
      " |      Examples\n",
      " |      --------\n",
      " |      >>> a = np.array([[1,2], [3,4]])\n",
      " |      >>> a.flatten()\n",
      " |      array([1, 2, 3, 4])\n",
      " |      >>> a.flatten('F')\n",
      " |      array([1, 3, 2, 4])\n",
      " |  \n",
      " |  getfield(...)\n",
      " |      a.getfield(dtype, offset=0)\n",
      " |      \n",
      " |      Returns a field of the given array as a certain type.\n",
      " |      \n",
      " |      A field is a view of the array data with a given data-type. The values in\n",
      " |      the view are determined by the given type and the offset into the current\n",
      " |      array in bytes. The offset needs to be such that the view dtype fits in the\n",
      " |      array dtype; for example an array of dtype complex128 has 16-byte elements.\n",
      " |      If taking a view with a 32-bit integer (4 bytes), the offset needs to be\n",
      " |      between 0 and 12 bytes.\n",
      " |      \n",
      " |      Parameters\n",
      " |      ----------\n",
      " |      dtype : str or dtype\n",
      " |          The data type of the view. The dtype size of the view can not be larger\n",
      " |          than that of the array itself.\n",
      " |      offset : int\n",
      " |          Number of bytes to skip before beginning the element view.\n",
      " |      \n",
      " |      Examples\n",
      " |      --------\n",
      " |      >>> x = np.diag([1.+1.j]*2)\n",
      " |      >>> x[1, 1] = 2 + 4.j\n",
      " |      >>> x\n",
      " |      array([[1.+1.j,  0.+0.j],\n",
      " |             [0.+0.j,  2.+4.j]])\n",
      " |      >>> x.getfield(np.float64)\n",
      " |      array([[1.,  0.],\n",
      " |             [0.,  2.]])\n",
      " |      \n",
      " |      By choosing an offset of 8 bytes we can select the complex part of the\n",
      " |      array for our view:\n",
      " |      \n",
      " |      >>> x.getfield(np.float64, offset=8)\n",
      " |      array([[1.,  0.],\n",
      " |             [0.,  4.]])\n",
      " |  \n",
      " |  item(...)\n",
      " |      a.item(*args)\n",
      " |      \n",
      " |      Copy an element of an array to a standard Python scalar and return it.\n",
      " |      \n",
      " |      Parameters\n",
      " |      ----------\n",
      " |      \\*args : Arguments (variable number and type)\n",
      " |      \n",
      " |          * none: in this case, the method only works for arrays\n",
      " |            with one element (`a.size == 1`), which element is\n",
      " |            copied into a standard Python scalar object and returned.\n",
      " |      \n",
      " |          * int_type: this argument is interpreted as a flat index into\n",
      " |            the array, specifying which element to copy and return.\n",
      " |      \n",
      " |          * tuple of int_types: functions as does a single int_type argument,\n",
      " |            except that the argument is interpreted as an nd-index into the\n",
      " |            array.\n",
      " |      \n",
      " |      Returns\n",
      " |      -------\n",
      " |      z : Standard Python scalar object\n",
      " |          A copy of the specified element of the array as a suitable\n",
      " |          Python scalar\n",
      " |      \n",
      " |      Notes\n",
      " |      -----\n",
      " |      When the data type of `a` is longdouble or clongdouble, item() returns\n",
      " |      a scalar array object because there is no available Python scalar that\n",
      " |      would not lose information. Void arrays return a buffer object for item(),\n",
      " |      unless fields are defined, in which case a tuple is returned.\n",
      " |      \n",
      " |      `item` is very similar to a[args], except, instead of an array scalar,\n",
      " |      a standard Python scalar is returned. This can be useful for speeding up\n",
      " |      access to elements of the array and doing arithmetic on elements of the\n",
      " |      array using Python's optimized math.\n",
      " |      \n",
      " |      Examples\n",
      " |      --------\n",
      " |      >>> np.random.seed(123)\n",
      " |      >>> x = np.random.randint(9, size=(3, 3))\n",
      " |      >>> x\n",
      " |      array([[2, 2, 6],\n",
      " |             [1, 3, 6],\n",
      " |             [1, 0, 1]])\n",
      " |      >>> x.item(3)\n",
      " |      1\n",
      " |      >>> x.item(7)\n",
      " |      0\n",
      " |      >>> x.item((0, 1))\n",
      " |      2\n",
      " |      >>> x.item((2, 2))\n",
      " |      1\n",
      " |  \n",
      " |  itemset(...)\n",
      " |      a.itemset(*args)\n",
      " |      \n",
      " |      Insert scalar into an array (scalar is cast to array's dtype, if possible)\n",
      " |      \n",
      " |      There must be at least 1 argument, and define the last argument\n",
      " |      as *item*.  Then, ``a.itemset(*args)`` is equivalent to but faster\n",
      " |      than ``a[args] = item``.  The item should be a scalar value and `args`\n",
      " |      must select a single item in the array `a`.\n",
      " |      \n",
      " |      Parameters\n",
      " |      ----------\n",
      " |      \\*args : Arguments\n",
      " |          If one argument: a scalar, only used in case `a` is of size 1.\n",
      " |          If two arguments: the last argument is the value to be set\n",
      " |          and must be a scalar, the first argument specifies a single array\n",
      " |          element location. It is either an int or a tuple.\n",
      " |      \n",
      " |      Notes\n",
      " |      -----\n",
      " |      Compared to indexing syntax, `itemset` provides some speed increase\n",
      " |      for placing a scalar into a particular location in an `ndarray`,\n",
      " |      if you must do this.  However, generally this is discouraged:\n",
      " |      among other problems, it complicates the appearance of the code.\n",
      " |      Also, when using `itemset` (and `item`) inside a loop, be sure\n",
      " |      to assign the methods to a local variable to avoid the attribute\n",
      " |      look-up at each loop iteration.\n",
      " |      \n",
      " |      Examples\n",
      " |      --------\n",
      " |      >>> np.random.seed(123)\n",
      " |      >>> x = np.random.randint(9, size=(3, 3))\n",
      " |      >>> x\n",
      " |      array([[2, 2, 6],\n",
      " |             [1, 3, 6],\n",
      " |             [1, 0, 1]])\n",
      " |      >>> x.itemset(4, 0)\n",
      " |      >>> x.itemset((2, 2), 9)\n",
      " |      >>> x\n",
      " |      array([[2, 2, 6],\n",
      " |             [1, 0, 6],\n",
      " |             [1, 0, 9]])\n",
      " |  \n",
      " |  max(...)\n",
      " |      a.max(axis=None, out=None, keepdims=False, initial=<no value>, where=True)\n",
      " |      \n",
      " |      Return the maximum along a given axis.\n",
      " |      \n",
      " |      Refer to `numpy.amax` for full documentation.\n",
      " |      \n",
      " |      See Also\n",
      " |      --------\n",
      " |      numpy.amax : equivalent function\n",
      " |  \n",
      " |  mean(...)\n",
      " |      a.mean(axis=None, dtype=None, out=None, keepdims=False, *, where=True)\n",
      " |      \n",
      " |      Returns the average of the array elements along given axis.\n",
      " |      \n",
      " |      Refer to `numpy.mean` for full documentation.\n",
      " |      \n",
      " |      See Also\n",
      " |      --------\n",
      " |      numpy.mean : equivalent function\n",
      " |  \n",
      " |  min(...)\n",
      " |      a.min(axis=None, out=None, keepdims=False, initial=<no value>, where=True)\n",
      " |      \n",
      " |      Return the minimum along a given axis.\n",
      " |      \n",
      " |      Refer to `numpy.amin` for full documentation.\n",
      " |      \n",
      " |      See Also\n",
      " |      --------\n",
      " |      numpy.amin : equivalent function\n",
      " |  \n",
      " |  newbyteorder(...)\n",
      " |      arr.newbyteorder(new_order='S', /)\n",
      " |      \n",
      " |      Return the array with the same data viewed with a different byte order.\n",
      " |      \n",
      " |      Equivalent to::\n",
      " |      \n",
      " |          arr.view(arr.dtype.newbytorder(new_order))\n",
      " |      \n",
      " |      Changes are also made in all fields and sub-arrays of the array data\n",
      " |      type.\n",
      " |      \n",
      " |      \n",
      " |      \n",
      " |      Parameters\n",
      " |      ----------\n",
      " |      new_order : string, optional\n",
      " |          Byte order to force; a value from the byte order specifications\n",
      " |          below. `new_order` codes can be any of:\n",
      " |      \n",
      " |          * 'S' - swap dtype from current to opposite endian\n",
      " |          * {'<', 'little'} - little endian\n",
      " |          * {'>', 'big'} - big endian\n",
      " |          * '=' - native order, equivalent to `sys.byteorder`\n",
      " |          * {'|', 'I'} - ignore (no change to byte order)\n",
      " |      \n",
      " |          The default value ('S') results in swapping the current\n",
      " |          byte order.\n",
      " |      \n",
      " |      \n",
      " |      Returns\n",
      " |      -------\n",
      " |      new_arr : array\n",
      " |          New array object with the dtype reflecting given change to the\n",
      " |          byte order.\n",
      " |  \n",
      " |  nonzero(...)\n",
      " |      a.nonzero()\n",
      " |      \n",
      " |      Return the indices of the elements that are non-zero.\n",
      " |      \n",
      " |      Refer to `numpy.nonzero` for full documentation.\n",
      " |      \n",
      " |      See Also\n",
      " |      --------\n",
      " |      numpy.nonzero : equivalent function\n",
      " |  \n",
      " |  partition(...)\n",
      " |      a.partition(kth, axis=-1, kind='introselect', order=None)\n",
      " |      \n",
      " |      Rearranges the elements in the array in such a way that the value of the\n",
      " |      element in kth position is in the position it would be in a sorted array.\n",
      " |      All elements smaller than the kth element are moved before this element and\n",
      " |      all equal or greater are moved behind it. The ordering of the elements in\n",
      " |      the two partitions is undefined.\n",
      " |      \n",
      " |      .. versionadded:: 1.8.0\n",
      " |      \n",
      " |      Parameters\n",
      " |      ----------\n",
      " |      kth : int or sequence of ints\n",
      " |          Element index to partition by. The kth element value will be in its\n",
      " |          final sorted position and all smaller elements will be moved before it\n",
      " |          and all equal or greater elements behind it.\n",
      " |          The order of all elements in the partitions is undefined.\n",
      " |          If provided with a sequence of kth it will partition all elements\n",
      " |          indexed by kth of them into their sorted position at once.\n",
      " |      axis : int, optional\n",
      " |          Axis along which to sort. Default is -1, which means sort along the\n",
      " |          last axis.\n",
      " |      kind : {'introselect'}, optional\n",
      " |          Selection algorithm. Default is 'introselect'.\n",
      " |      order : str or list of str, optional\n",
      " |          When `a` is an array with fields defined, this argument specifies\n",
      " |          which fields to compare first, second, etc. A single field can\n",
      " |          be specified as a string, and not all fields need to be specified,\n",
      " |          but unspecified fields will still be used, in the order in which\n",
      " |          they come up in the dtype, to break ties.\n",
      " |      \n",
      " |      See Also\n",
      " |      --------\n",
      " |      numpy.partition : Return a parititioned copy of an array.\n",
      " |      argpartition : Indirect partition.\n",
      " |      sort : Full sort.\n",
      " |      \n",
      " |      Notes\n",
      " |      -----\n",
      " |      See ``np.partition`` for notes on the different algorithms.\n",
      " |      \n",
      " |      Examples\n",
      " |      --------\n",
      " |      >>> a = np.array([3, 4, 2, 1])\n",
      " |      >>> a.partition(3)\n",
      " |      >>> a\n",
      " |      array([2, 1, 3, 4])\n",
      " |      \n",
      " |      >>> a.partition((1, 3))\n",
      " |      >>> a\n",
      " |      array([1, 2, 3, 4])\n",
      " |  \n",
      " |  prod(...)\n",
      " |      a.prod(axis=None, dtype=None, out=None, keepdims=False, initial=1, where=True)\n",
      " |      \n",
      " |      Return the product of the array elements over the given axis\n",
      " |      \n",
      " |      Refer to `numpy.prod` for full documentation.\n",
      " |      \n",
      " |      See Also\n",
      " |      --------\n",
      " |      numpy.prod : equivalent function\n",
      " |  \n",
      " |  ptp(...)\n",
      " |      a.ptp(axis=None, out=None, keepdims=False)\n",
      " |      \n",
      " |      Peak to peak (maximum - minimum) value along a given axis.\n",
      " |      \n",
      " |      Refer to `numpy.ptp` for full documentation.\n",
      " |      \n",
      " |      See Also\n",
      " |      --------\n",
      " |      numpy.ptp : equivalent function\n",
      " |  \n",
      " |  put(...)\n",
      " |      a.put(indices, values, mode='raise')\n",
      " |      \n",
      " |      Set ``a.flat[n] = values[n]`` for all `n` in indices.\n",
      " |      \n",
      " |      Refer to `numpy.put` for full documentation.\n",
      " |      \n",
      " |      See Also\n",
      " |      --------\n",
      " |      numpy.put : equivalent function\n",
      " |  \n",
      " |  ravel(...)\n",
      " |      a.ravel([order])\n",
      " |      \n",
      " |      Return a flattened array.\n",
      " |      \n",
      " |      Refer to `numpy.ravel` for full documentation.\n",
      " |      \n",
      " |      See Also\n",
      " |      --------\n",
      " |      numpy.ravel : equivalent function\n",
      " |      \n",
      " |      ndarray.flat : a flat iterator on the array.\n",
      " |  \n",
      " |  repeat(...)\n",
      " |      a.repeat(repeats, axis=None)\n",
      " |      \n",
      " |      Repeat elements of an array.\n",
      " |      \n",
      " |      Refer to `numpy.repeat` for full documentation.\n",
      " |      \n",
      " |      See Also\n",
      " |      --------\n",
      " |      numpy.repeat : equivalent function\n",
      " |  \n",
      " |  reshape(...)\n",
      " |      a.reshape(shape, order='C')\n",
      " |      \n",
      " |      Returns an array containing the same data with a new shape.\n",
      " |      \n",
      " |      Refer to `numpy.reshape` for full documentation.\n",
      " |      \n",
      " |      See Also\n",
      " |      --------\n",
      " |      numpy.reshape : equivalent function\n",
      " |      \n",
      " |      Notes\n",
      " |      -----\n",
      " |      Unlike the free function `numpy.reshape`, this method on `ndarray` allows\n",
      " |      the elements of the shape parameter to be passed in as separate arguments.\n",
      " |      For example, ``a.reshape(10, 11)`` is equivalent to\n",
      " |      ``a.reshape((10, 11))``.\n",
      " |  \n",
      " |  resize(...)\n",
      " |      a.resize(new_shape, refcheck=True)\n",
      " |      \n",
      " |      Change shape and size of array in-place.\n",
      " |      \n",
      " |      Parameters\n",
      " |      ----------\n",
      " |      new_shape : tuple of ints, or `n` ints\n",
      " |          Shape of resized array.\n",
      " |      refcheck : bool, optional\n",
      " |          If False, reference count will not be checked. Default is True.\n",
      " |      \n",
      " |      Returns\n",
      " |      -------\n",
      " |      None\n",
      " |      \n",
      " |      Raises\n",
      " |      ------\n",
      " |      ValueError\n",
      " |          If `a` does not own its own data or references or views to it exist,\n",
      " |          and the data memory must be changed.\n",
      " |          PyPy only: will always raise if the data memory must be changed, since\n",
      " |          there is no reliable way to determine if references or views to it\n",
      " |          exist.\n",
      " |      \n",
      " |      SystemError\n",
      " |          If the `order` keyword argument is specified. This behaviour is a\n",
      " |          bug in NumPy.\n",
      " |      \n",
      " |      See Also\n",
      " |      --------\n",
      " |      resize : Return a new array with the specified shape.\n",
      " |      \n",
      " |      Notes\n",
      " |      -----\n",
      " |      This reallocates space for the data area if necessary.\n",
      " |      \n",
      " |      Only contiguous arrays (data elements consecutive in memory) can be\n",
      " |      resized.\n",
      " |      \n",
      " |      The purpose of the reference count check is to make sure you\n",
      " |      do not use this array as a buffer for another Python object and then\n",
      " |      reallocate the memory. However, reference counts can increase in\n",
      " |      other ways so if you are sure that you have not shared the memory\n",
      " |      for this array with another Python object, then you may safely set\n",
      " |      `refcheck` to False.\n",
      " |      \n",
      " |      Examples\n",
      " |      --------\n",
      " |      Shrinking an array: array is flattened (in the order that the data are\n",
      " |      stored in memory), resized, and reshaped:\n",
      " |      \n",
      " |      >>> a = np.array([[0, 1], [2, 3]], order='C')\n",
      " |      >>> a.resize((2, 1))\n",
      " |      >>> a\n",
      " |      array([[0],\n",
      " |             [1]])\n",
      " |      \n",
      " |      >>> a = np.array([[0, 1], [2, 3]], order='F')\n",
      " |      >>> a.resize((2, 1))\n",
      " |      >>> a\n",
      " |      array([[0],\n",
      " |             [2]])\n",
      " |      \n",
      " |      Enlarging an array: as above, but missing entries are filled with zeros:\n",
      " |      \n",
      " |      >>> b = np.array([[0, 1], [2, 3]])\n",
      " |      >>> b.resize(2, 3) # new_shape parameter doesn't have to be a tuple\n",
      " |      >>> b\n",
      " |      array([[0, 1, 2],\n",
      " |             [3, 0, 0]])\n",
      " |      \n",
      " |      Referencing an array prevents resizing...\n",
      " |      \n",
      " |      >>> c = a\n",
      " |      >>> a.resize((1, 1))\n",
      " |      Traceback (most recent call last):\n",
      " |      ...\n",
      " |      ValueError: cannot resize an array that references or is referenced ...\n",
      " |      \n",
      " |      Unless `refcheck` is False:\n",
      " |      \n",
      " |      >>> a.resize((1, 1), refcheck=False)\n",
      " |      >>> a\n",
      " |      array([[0]])\n",
      " |      >>> c\n",
      " |      array([[0]])\n",
      " |  \n",
      " |  round(...)\n",
      " |      a.round(decimals=0, out=None)\n",
      " |      \n",
      " |      Return `a` with each element rounded to the given number of decimals.\n",
      " |      \n",
      " |      Refer to `numpy.around` for full documentation.\n",
      " |      \n",
      " |      See Also\n",
      " |      --------\n",
      " |      numpy.around : equivalent function\n",
      " |  \n",
      " |  searchsorted(...)\n",
      " |      a.searchsorted(v, side='left', sorter=None)\n",
      " |      \n",
      " |      Find indices where elements of v should be inserted in a to maintain order.\n",
      " |      \n",
      " |      For full documentation, see `numpy.searchsorted`\n",
      " |      \n",
      " |      See Also\n",
      " |      --------\n",
      " |      numpy.searchsorted : equivalent function\n",
      " |  \n",
      " |  setfield(...)\n",
      " |      a.setfield(val, dtype, offset=0)\n",
      " |      \n",
      " |      Put a value into a specified place in a field defined by a data-type.\n",
      " |      \n",
      " |      Place `val` into `a`'s field defined by `dtype` and beginning `offset`\n",
      " |      bytes into the field.\n",
      " |      \n",
      " |      Parameters\n",
      " |      ----------\n",
      " |      val : object\n",
      " |          Value to be placed in field.\n",
      " |      dtype : dtype object\n",
      " |          Data-type of the field in which to place `val`.\n",
      " |      offset : int, optional\n",
      " |          The number of bytes into the field at which to place `val`.\n",
      " |      \n",
      " |      Returns\n",
      " |      -------\n",
      " |      None\n",
      " |      \n",
      " |      See Also\n",
      " |      --------\n",
      " |      getfield\n",
      " |      \n",
      " |      Examples\n",
      " |      --------\n",
      " |      >>> x = np.eye(3)\n",
      " |      >>> x.getfield(np.float64)\n",
      " |      array([[1.,  0.,  0.],\n",
      " |             [0.,  1.,  0.],\n",
      " |             [0.,  0.,  1.]])\n",
      " |      >>> x.setfield(3, np.int32)\n",
      " |      >>> x.getfield(np.int32)\n",
      " |      array([[3, 3, 3],\n",
      " |             [3, 3, 3],\n",
      " |             [3, 3, 3]], dtype=int32)\n",
      " |      >>> x\n",
      " |      array([[1.0e+000, 1.5e-323, 1.5e-323],\n",
      " |             [1.5e-323, 1.0e+000, 1.5e-323],\n",
      " |             [1.5e-323, 1.5e-323, 1.0e+000]])\n",
      " |      >>> x.setfield(np.eye(3), np.int32)\n",
      " |      >>> x\n",
      " |      array([[1.,  0.,  0.],\n",
      " |             [0.,  1.,  0.],\n",
      " |             [0.,  0.,  1.]])\n",
      " |  \n",
      " |  setflags(...)\n",
      " |      a.setflags(write=None, align=None, uic=None)\n",
      " |      \n",
      " |      Set array flags WRITEABLE, ALIGNED, (WRITEBACKIFCOPY and UPDATEIFCOPY),\n",
      " |      respectively.\n",
      " |      \n",
      " |      These Boolean-valued flags affect how numpy interprets the memory\n",
      " |      area used by `a` (see Notes below). The ALIGNED flag can only\n",
      " |      be set to True if the data is actually aligned according to the type.\n",
      " |      The WRITEBACKIFCOPY and (deprecated) UPDATEIFCOPY flags can never be set\n",
      " |      to True. The flag WRITEABLE can only be set to True if the array owns its\n",
      " |      own memory, or the ultimate owner of the memory exposes a writeable buffer\n",
      " |      interface, or is a string. (The exception for string is made so that\n",
      " |      unpickling can be done without copying memory.)\n",
      " |      \n",
      " |      Parameters\n",
      " |      ----------\n",
      " |      write : bool, optional\n",
      " |          Describes whether or not `a` can be written to.\n",
      " |      align : bool, optional\n",
      " |          Describes whether or not `a` is aligned properly for its type.\n",
      " |      uic : bool, optional\n",
      " |          Describes whether or not `a` is a copy of another \"base\" array.\n",
      " |      \n",
      " |      Notes\n",
      " |      -----\n",
      " |      Array flags provide information about how the memory area used\n",
      " |      for the array is to be interpreted. There are 7 Boolean flags\n",
      " |      in use, only four of which can be changed by the user:\n",
      " |      WRITEBACKIFCOPY, UPDATEIFCOPY, WRITEABLE, and ALIGNED.\n",
      " |      \n",
      " |      WRITEABLE (W) the data area can be written to;\n",
      " |      \n",
      " |      ALIGNED (A) the data and strides are aligned appropriately for the hardware\n",
      " |      (as determined by the compiler);\n",
      " |      \n",
      " |      UPDATEIFCOPY (U) (deprecated), replaced by WRITEBACKIFCOPY;\n",
      " |      \n",
      " |      WRITEBACKIFCOPY (X) this array is a copy of some other array (referenced\n",
      " |      by .base). When the C-API function PyArray_ResolveWritebackIfCopy is\n",
      " |      called, the base array will be updated with the contents of this array.\n",
      " |      \n",
      " |      All flags can be accessed using the single (upper case) letter as well\n",
      " |      as the full name.\n",
      " |      \n",
      " |      Examples\n",
      " |      --------\n",
      " |      >>> y = np.array([[3, 1, 7],\n",
      " |      ...               [2, 0, 0],\n",
      " |      ...               [8, 5, 9]])\n",
      " |      >>> y\n",
      " |      array([[3, 1, 7],\n",
      " |             [2, 0, 0],\n",
      " |             [8, 5, 9]])\n",
      " |      >>> y.flags\n",
      " |        C_CONTIGUOUS : True\n",
      " |        F_CONTIGUOUS : False\n",
      " |        OWNDATA : True\n",
      " |        WRITEABLE : True\n",
      " |        ALIGNED : True\n",
      " |        WRITEBACKIFCOPY : False\n",
      " |        UPDATEIFCOPY : False\n",
      " |      >>> y.setflags(write=0, align=0)\n",
      " |      >>> y.flags\n",
      " |        C_CONTIGUOUS : True\n",
      " |        F_CONTIGUOUS : False\n",
      " |        OWNDATA : True\n",
      " |        WRITEABLE : False\n",
      " |        ALIGNED : False\n",
      " |        WRITEBACKIFCOPY : False\n",
      " |        UPDATEIFCOPY : False\n",
      " |      >>> y.setflags(uic=1)\n",
      " |      Traceback (most recent call last):\n",
      " |        File \"<stdin>\", line 1, in <module>\n",
      " |      ValueError: cannot set WRITEBACKIFCOPY flag to True\n",
      " |  \n",
      " |  sort(...)\n",
      " |      a.sort(axis=-1, kind=None, order=None)\n",
      " |      \n",
      " |      Sort an array in-place. Refer to `numpy.sort` for full documentation.\n",
      " |      \n",
      " |      Parameters\n",
      " |      ----------\n",
      " |      axis : int, optional\n",
      " |          Axis along which to sort. Default is -1, which means sort along the\n",
      " |          last axis.\n",
      " |      kind : {'quicksort', 'mergesort', 'heapsort', 'stable'}, optional\n",
      " |          Sorting algorithm. The default is 'quicksort'. Note that both 'stable'\n",
      " |          and 'mergesort' use timsort under the covers and, in general, the\n",
      " |          actual implementation will vary with datatype. The 'mergesort' option\n",
      " |          is retained for backwards compatibility.\n",
      " |      \n",
      " |          .. versionchanged:: 1.15.0\n",
      " |             The 'stable' option was added.\n",
      " |      \n",
      " |      order : str or list of str, optional\n",
      " |          When `a` is an array with fields defined, this argument specifies\n",
      " |          which fields to compare first, second, etc.  A single field can\n",
      " |          be specified as a string, and not all fields need be specified,\n",
      " |          but unspecified fields will still be used, in the order in which\n",
      " |          they come up in the dtype, to break ties.\n",
      " |      \n",
      " |      See Also\n",
      " |      --------\n",
      " |      numpy.sort : Return a sorted copy of an array.\n",
      " |      numpy.argsort : Indirect sort.\n",
      " |      numpy.lexsort : Indirect stable sort on multiple keys.\n",
      " |      numpy.searchsorted : Find elements in sorted array.\n",
      " |      numpy.partition: Partial sort.\n",
      " |      \n",
      " |      Notes\n",
      " |      -----\n",
      " |      See `numpy.sort` for notes on the different sorting algorithms.\n",
      " |      \n",
      " |      Examples\n",
      " |      --------\n",
      " |      >>> a = np.array([[1,4], [3,1]])\n",
      " |      >>> a.sort(axis=1)\n",
      " |      >>> a\n",
      " |      array([[1, 4],\n",
      " |             [1, 3]])\n",
      " |      >>> a.sort(axis=0)\n",
      " |      >>> a\n",
      " |      array([[1, 3],\n",
      " |             [1, 4]])\n",
      " |      \n",
      " |      Use the `order` keyword to specify a field to use when sorting a\n",
      " |      structured array:\n",
      " |      \n",
      " |      >>> a = np.array([('a', 2), ('c', 1)], dtype=[('x', 'S1'), ('y', int)])\n",
      " |      >>> a.sort(order='y')\n",
      " |      >>> a\n",
      " |      array([(b'c', 1), (b'a', 2)],\n",
      " |            dtype=[('x', 'S1'), ('y', '<i8')])\n",
      " |  \n",
      " |  squeeze(...)\n",
      " |      a.squeeze(axis=None)\n",
      " |      \n",
      " |      Remove axes of length one from `a`.\n",
      " |      \n",
      " |      Refer to `numpy.squeeze` for full documentation.\n",
      " |      \n",
      " |      See Also\n",
      " |      --------\n",
      " |      numpy.squeeze : equivalent function\n",
      " |  \n",
      " |  std(...)\n",
      " |      a.std(axis=None, dtype=None, out=None, ddof=0, keepdims=False, *, where=True)\n",
      " |      \n",
      " |      Returns the standard deviation of the array elements along given axis.\n",
      " |      \n",
      " |      Refer to `numpy.std` for full documentation.\n",
      " |      \n",
      " |      See Also\n",
      " |      --------\n",
      " |      numpy.std : equivalent function\n",
      " |  \n",
      " |  sum(...)\n",
      " |      a.sum(axis=None, dtype=None, out=None, keepdims=False, initial=0, where=True)\n",
      " |      \n",
      " |      Return the sum of the array elements over the given axis.\n",
      " |      \n",
      " |      Refer to `numpy.sum` for full documentation.\n",
      " |      \n",
      " |      See Also\n",
      " |      --------\n",
      " |      numpy.sum : equivalent function\n",
      " |  \n",
      " |  swapaxes(...)\n",
      " |      a.swapaxes(axis1, axis2)\n",
      " |      \n",
      " |      Return a view of the array with `axis1` and `axis2` interchanged.\n",
      " |      \n",
      " |      Refer to `numpy.swapaxes` for full documentation.\n",
      " |      \n",
      " |      See Also\n",
      " |      --------\n",
      " |      numpy.swapaxes : equivalent function\n",
      " |  \n",
      " |  take(...)\n",
      " |      a.take(indices, axis=None, out=None, mode='raise')\n",
      " |      \n",
      " |      Return an array formed from the elements of `a` at the given indices.\n",
      " |      \n",
      " |      Refer to `numpy.take` for full documentation.\n",
      " |      \n",
      " |      See Also\n",
      " |      --------\n",
      " |      numpy.take : equivalent function\n",
      " |  \n",
      " |  tobytes(...)\n",
      " |      a.tobytes(order='C')\n",
      " |      \n",
      " |      Construct Python bytes containing the raw data bytes in the array.\n",
      " |      \n",
      " |      Constructs Python bytes showing a copy of the raw contents of\n",
      " |      data memory. The bytes object is produced in C-order by default.\n",
      " |      This behavior is controlled by the ``order`` parameter.\n",
      " |      \n",
      " |      .. versionadded:: 1.9.0\n",
      " |      \n",
      " |      Parameters\n",
      " |      ----------\n",
      " |      order : {'C', 'F', 'A'}, optional\n",
      " |          Controls the memory layout of the bytes object. 'C' means C-order,\n",
      " |          'F' means F-order, 'A' (short for *Any*) means 'F' if `a` is\n",
      " |          Fortran contiguous, 'C' otherwise. Default is 'C'.\n",
      " |      \n",
      " |      Returns\n",
      " |      -------\n",
      " |      s : bytes\n",
      " |          Python bytes exhibiting a copy of `a`'s raw data.\n",
      " |      \n",
      " |      Examples\n",
      " |      --------\n",
      " |      >>> x = np.array([[0, 1], [2, 3]], dtype='<u2')\n",
      " |      >>> x.tobytes()\n",
      " |      b'\\x00\\x00\\x01\\x00\\x02\\x00\\x03\\x00'\n",
      " |      >>> x.tobytes('C') == x.tobytes()\n",
      " |      True\n",
      " |      >>> x.tobytes('F')\n",
      " |      b'\\x00\\x00\\x02\\x00\\x01\\x00\\x03\\x00'\n",
      " |  \n",
      " |  tofile(...)\n",
      " |      a.tofile(fid, sep=\"\", format=\"%s\")\n",
      " |      \n",
      " |      Write array to a file as text or binary (default).\n",
      " |      \n",
      " |      Data is always written in 'C' order, independent of the order of `a`.\n",
      " |      The data produced by this method can be recovered using the function\n",
      " |      fromfile().\n",
      " |      \n",
      " |      Parameters\n",
      " |      ----------\n",
      " |      fid : file or str or Path\n",
      " |          An open file object, or a string containing a filename.\n",
      " |      \n",
      " |          .. versionchanged:: 1.17.0\n",
      " |              `pathlib.Path` objects are now accepted.\n",
      " |      \n",
      " |      sep : str\n",
      " |          Separator between array items for text output.\n",
      " |          If \"\" (empty), a binary file is written, equivalent to\n",
      " |          ``file.write(a.tobytes())``.\n",
      " |      format : str\n",
      " |          Format string for text file output.\n",
      " |          Each entry in the array is formatted to text by first converting\n",
      " |          it to the closest Python type, and then using \"format\" % item.\n",
      " |      \n",
      " |      Notes\n",
      " |      -----\n",
      " |      This is a convenience function for quick storage of array data.\n",
      " |      Information on endianness and precision is lost, so this method is not a\n",
      " |      good choice for files intended to archive data or transport data between\n",
      " |      machines with different endianness. Some of these problems can be overcome\n",
      " |      by outputting the data as text files, at the expense of speed and file\n",
      " |      size.\n",
      " |      \n",
      " |      When fid is a file object, array contents are directly written to the\n",
      " |      file, bypassing the file object's ``write`` method. As a result, tofile\n",
      " |      cannot be used with files objects supporting compression (e.g., GzipFile)\n",
      " |      or file-like objects that do not support ``fileno()`` (e.g., BytesIO).\n",
      " |  \n",
      " |  tolist(...)\n",
      " |      a.tolist()\n",
      " |      \n",
      " |      Return the array as an ``a.ndim``-levels deep nested list of Python scalars.\n",
      " |      \n",
      " |      Return a copy of the array data as a (nested) Python list.\n",
      " |      Data items are converted to the nearest compatible builtin Python type, via\n",
      " |      the `~numpy.ndarray.item` function.\n",
      " |      \n",
      " |      If ``a.ndim`` is 0, then since the depth of the nested list is 0, it will\n",
      " |      not be a list at all, but a simple Python scalar.\n",
      " |      \n",
      " |      Parameters\n",
      " |      ----------\n",
      " |      none\n",
      " |      \n",
      " |      Returns\n",
      " |      -------\n",
      " |      y : object, or list of object, or list of list of object, or ...\n",
      " |          The possibly nested list of array elements.\n",
      " |      \n",
      " |      Notes\n",
      " |      -----\n",
      " |      The array may be recreated via ``a = np.array(a.tolist())``, although this\n",
      " |      may sometimes lose precision.\n",
      " |      \n",
      " |      Examples\n",
      " |      --------\n",
      " |      For a 1D array, ``a.tolist()`` is almost the same as ``list(a)``,\n",
      " |      except that ``tolist`` changes numpy scalars to Python scalars:\n",
      " |      \n",
      " |      >>> a = np.uint32([1, 2])\n",
      " |      >>> a_list = list(a)\n",
      " |      >>> a_list\n",
      " |      [1, 2]\n",
      " |      >>> type(a_list[0])\n",
      " |      <class 'numpy.uint32'>\n",
      " |      >>> a_tolist = a.tolist()\n",
      " |      >>> a_tolist\n",
      " |      [1, 2]\n",
      " |      >>> type(a_tolist[0])\n",
      " |      <class 'int'>\n",
      " |      \n",
      " |      Additionally, for a 2D array, ``tolist`` applies recursively:\n",
      " |      \n",
      " |      >>> a = np.array([[1, 2], [3, 4]])\n",
      " |      >>> list(a)\n",
      " |      [array([1, 2]), array([3, 4])]\n",
      " |      >>> a.tolist()\n",
      " |      [[1, 2], [3, 4]]\n",
      " |      \n",
      " |      The base case for this recursion is a 0D array:\n",
      " |      \n",
      " |      >>> a = np.array(1)\n",
      " |      >>> list(a)\n",
      " |      Traceback (most recent call last):\n",
      " |        ...\n",
      " |      TypeError: iteration over a 0-d array\n",
      " |      >>> a.tolist()\n",
      " |      1\n",
      " |  \n",
      " |  tostring(...)\n",
      " |      a.tostring(order='C')\n",
      " |      \n",
      " |      A compatibility alias for `tobytes`, with exactly the same behavior.\n",
      " |      \n",
      " |      Despite its name, it returns `bytes` not `str`\\ s.\n",
      " |      \n",
      " |      .. deprecated:: 1.19.0\n",
      " |  \n",
      " |  trace(...)\n",
      " |      a.trace(offset=0, axis1=0, axis2=1, dtype=None, out=None)\n",
      " |      \n",
      " |      Return the sum along diagonals of the array.\n",
      " |      \n",
      " |      Refer to `numpy.trace` for full documentation.\n",
      " |      \n",
      " |      See Also\n",
      " |      --------\n",
      " |      numpy.trace : equivalent function\n",
      " |  \n",
      " |  transpose(...)\n",
      " |      a.transpose(*axes)\n",
      " |      \n",
      " |      Returns a view of the array with axes transposed.\n",
      " |      \n",
      " |      For a 1-D array this has no effect, as a transposed vector is simply the\n",
      " |      same vector. To convert a 1-D array into a 2D column vector, an additional\n",
      " |      dimension must be added. `np.atleast2d(a).T` achieves this, as does\n",
      " |      `a[:, np.newaxis]`.\n",
      " |      For a 2-D array, this is a standard matrix transpose.\n",
      " |      For an n-D array, if axes are given, their order indicates how the\n",
      " |      axes are permuted (see Examples). If axes are not provided and\n",
      " |      ``a.shape = (i[0], i[1], ... i[n-2], i[n-1])``, then\n",
      " |      ``a.transpose().shape = (i[n-1], i[n-2], ... i[1], i[0])``.\n",
      " |      \n",
      " |      Parameters\n",
      " |      ----------\n",
      " |      axes : None, tuple of ints, or `n` ints\n",
      " |      \n",
      " |       * None or no argument: reverses the order of the axes.\n",
      " |      \n",
      " |       * tuple of ints: `i` in the `j`-th place in the tuple means `a`'s\n",
      " |         `i`-th axis becomes `a.transpose()`'s `j`-th axis.\n",
      " |      \n",
      " |       * `n` ints: same as an n-tuple of the same ints (this form is\n",
      " |         intended simply as a \"convenience\" alternative to the tuple form)\n",
      " |      \n",
      " |      Returns\n",
      " |      -------\n",
      " |      out : ndarray\n",
      " |          View of `a`, with axes suitably permuted.\n",
      " |      \n",
      " |      See Also\n",
      " |      --------\n",
      " |      transpose : Equivalent function\n",
      " |      ndarray.T : Array property returning the array transposed.\n",
      " |      ndarray.reshape : Give a new shape to an array without changing its data.\n",
      " |      \n",
      " |      Examples\n",
      " |      --------\n",
      " |      >>> a = np.array([[1, 2], [3, 4]])\n",
      " |      >>> a\n",
      " |      array([[1, 2],\n",
      " |             [3, 4]])\n",
      " |      >>> a.transpose()\n",
      " |      array([[1, 3],\n",
      " |             [2, 4]])\n",
      " |      >>> a.transpose((1, 0))\n",
      " |      array([[1, 3],\n",
      " |             [2, 4]])\n",
      " |      >>> a.transpose(1, 0)\n",
      " |      array([[1, 3],\n",
      " |             [2, 4]])\n",
      " |  \n",
      " |  var(...)\n",
      " |      a.var(axis=None, dtype=None, out=None, ddof=0, keepdims=False, *, where=True)\n",
      " |      \n",
      " |      Returns the variance of the array elements, along given axis.\n",
      " |      \n",
      " |      Refer to `numpy.var` for full documentation.\n",
      " |      \n",
      " |      See Also\n",
      " |      --------\n",
      " |      numpy.var : equivalent function\n",
      " |  \n",
      " |  view(...)\n",
      " |      a.view([dtype][, type])\n",
      " |      \n",
      " |      New view of array with the same data.\n",
      " |      \n",
      " |      .. note::\n",
      " |          Passing None for ``dtype`` is different from omitting the parameter,\n",
      " |          since the former invokes ``dtype(None)`` which is an alias for\n",
      " |          ``dtype('float_')``.\n",
      " |      \n",
      " |      Parameters\n",
      " |      ----------\n",
      " |      dtype : data-type or ndarray sub-class, optional\n",
      " |          Data-type descriptor of the returned view, e.g., float32 or int16.\n",
      " |          Omitting it results in the view having the same data-type as `a`.\n",
      " |          This argument can also be specified as an ndarray sub-class, which\n",
      " |          then specifies the type of the returned object (this is equivalent to\n",
      " |          setting the ``type`` parameter).\n",
      " |      type : Python type, optional\n",
      " |          Type of the returned view, e.g., ndarray or matrix.  Again, omission\n",
      " |          of the parameter results in type preservation.\n",
      " |      \n",
      " |      Notes\n",
      " |      -----\n",
      " |      ``a.view()`` is used two different ways:\n",
      " |      \n",
      " |      ``a.view(some_dtype)`` or ``a.view(dtype=some_dtype)`` constructs a view\n",
      " |      of the array's memory with a different data-type.  This can cause a\n",
      " |      reinterpretation of the bytes of memory.\n",
      " |      \n",
      " |      ``a.view(ndarray_subclass)`` or ``a.view(type=ndarray_subclass)`` just\n",
      " |      returns an instance of `ndarray_subclass` that looks at the same array\n",
      " |      (same shape, dtype, etc.)  This does not cause a reinterpretation of the\n",
      " |      memory.\n",
      " |      \n",
      " |      For ``a.view(some_dtype)``, if ``some_dtype`` has a different number of\n",
      " |      bytes per entry than the previous dtype (for example, converting a\n",
      " |      regular array to a structured array), then the behavior of the view\n",
      " |      cannot be predicted just from the superficial appearance of ``a`` (shown\n",
      " |      by ``print(a)``). It also depends on exactly how ``a`` is stored in\n",
      " |      memory. Therefore if ``a`` is C-ordered versus fortran-ordered, versus\n",
      " |      defined as a slice or transpose, etc., the view may give different\n",
      " |      results.\n",
      " |      \n",
      " |      \n",
      " |      Examples\n",
      " |      --------\n",
      " |      >>> x = np.array([(1, 2)], dtype=[('a', np.int8), ('b', np.int8)])\n",
      " |      \n",
      " |      Viewing array data using a different type and dtype:\n",
      " |      \n",
      " |      >>> y = x.view(dtype=np.int16, type=np.matrix)\n",
      " |      >>> y\n",
      " |      matrix([[513]], dtype=int16)\n",
      " |      >>> print(type(y))\n",
      " |      <class 'numpy.matrix'>\n",
      " |      \n",
      " |      Creating a view on a structured array so it can be used in calculations\n",
      " |      \n",
      " |      >>> x = np.array([(1, 2),(3,4)], dtype=[('a', np.int8), ('b', np.int8)])\n",
      " |      >>> xv = x.view(dtype=np.int8).reshape(-1,2)\n",
      " |      >>> xv\n",
      " |      array([[1, 2],\n",
      " |             [3, 4]], dtype=int8)\n",
      " |      >>> xv.mean(0)\n",
      " |      array([2.,  3.])\n",
      " |      \n",
      " |      Making changes to the view changes the underlying array\n",
      " |      \n",
      " |      >>> xv[0,1] = 20\n",
      " |      >>> x\n",
      " |      array([(1, 20), (3,  4)], dtype=[('a', 'i1'), ('b', 'i1')])\n",
      " |      \n",
      " |      Using a view to convert an array to a recarray:\n",
      " |      \n",
      " |      >>> z = x.view(np.recarray)\n",
      " |      >>> z.a\n",
      " |      array([1, 3], dtype=int8)\n",
      " |      \n",
      " |      Views share data:\n",
      " |      \n",
      " |      >>> x[0] = (9, 10)\n",
      " |      >>> z[0]\n",
      " |      (9, 10)\n",
      " |      \n",
      " |      Views that change the dtype size (bytes per entry) should normally be\n",
      " |      avoided on arrays defined by slices, transposes, fortran-ordering, etc.:\n",
      " |      \n",
      " |      >>> x = np.array([[1,2,3],[4,5,6]], dtype=np.int16)\n",
      " |      >>> y = x[:, 0:2]\n",
      " |      >>> y\n",
      " |      array([[1, 2],\n",
      " |             [4, 5]], dtype=int16)\n",
      " |      >>> y.view(dtype=[('width', np.int16), ('length', np.int16)])\n",
      " |      Traceback (most recent call last):\n",
      " |          ...\n",
      " |      ValueError: To change to a dtype of a different size, the array must be C-contiguous\n",
      " |      >>> z = y.copy()\n",
      " |      >>> z.view(dtype=[('width', np.int16), ('length', np.int16)])\n",
      " |      array([[(1, 2)],\n",
      " |             [(4, 5)]], dtype=[('width', '<i2'), ('length', '<i2')])\n",
      " |  \n",
      " |  ----------------------------------------------------------------------\n",
      " |  Static methods defined here:\n",
      " |  \n",
      " |  __new__(*args, **kwargs) from builtins.type\n",
      " |      Create and return a new object.  See help(type) for accurate signature.\n",
      " |  \n",
      " |  ----------------------------------------------------------------------\n",
      " |  Data descriptors defined here:\n",
      " |  \n",
      " |  T\n",
      " |      The transposed array.\n",
      " |      \n",
      " |      Same as ``self.transpose()``.\n",
      " |      \n",
      " |      Examples\n",
      " |      --------\n",
      " |      >>> x = np.array([[1.,2.],[3.,4.]])\n",
      " |      >>> x\n",
      " |      array([[ 1.,  2.],\n",
      " |             [ 3.,  4.]])\n",
      " |      >>> x.T\n",
      " |      array([[ 1.,  3.],\n",
      " |             [ 2.,  4.]])\n",
      " |      >>> x = np.array([1.,2.,3.,4.])\n",
      " |      >>> x\n",
      " |      array([ 1.,  2.,  3.,  4.])\n",
      " |      >>> x.T\n",
      " |      array([ 1.,  2.,  3.,  4.])\n",
      " |      \n",
      " |      See Also\n",
      " |      --------\n",
      " |      transpose\n",
      " |  \n",
      " |  __array_finalize__\n",
      " |      None.\n",
      " |  \n",
      " |  __array_interface__\n",
      " |      Array protocol: Python side.\n",
      " |  \n",
      " |  __array_priority__\n",
      " |      Array priority.\n",
      " |  \n",
      " |  __array_struct__\n",
      " |      Array protocol: C-struct side.\n",
      " |  \n",
      " |  base\n",
      " |      Base object if memory is from some other object.\n",
      " |      \n",
      " |      Examples\n",
      " |      --------\n",
      " |      The base of an array that owns its memory is None:\n",
      " |      \n",
      " |      >>> x = np.array([1,2,3,4])\n",
      " |      >>> x.base is None\n",
      " |      True\n",
      " |      \n",
      " |      Slicing creates a view, whose memory is shared with x:\n",
      " |      \n",
      " |      >>> y = x[2:]\n",
      " |      >>> y.base is x\n",
      " |      True\n",
      " |  \n",
      " |  ctypes\n",
      " |      An object to simplify the interaction of the array with the ctypes\n",
      " |      module.\n",
      " |      \n",
      " |      This attribute creates an object that makes it easier to use arrays\n",
      " |      when calling shared libraries with the ctypes module. The returned\n",
      " |      object has, among others, data, shape, and strides attributes (see\n",
      " |      Notes below) which themselves return ctypes objects that can be used\n",
      " |      as arguments to a shared library.\n",
      " |      \n",
      " |      Parameters\n",
      " |      ----------\n",
      " |      None\n",
      " |      \n",
      " |      Returns\n",
      " |      -------\n",
      " |      c : Python object\n",
      " |          Possessing attributes data, shape, strides, etc.\n",
      " |      \n",
      " |      See Also\n",
      " |      --------\n",
      " |      numpy.ctypeslib\n",
      " |      \n",
      " |      Notes\n",
      " |      -----\n",
      " |      Below are the public attributes of this object which were documented\n",
      " |      in \"Guide to NumPy\" (we have omitted undocumented public attributes,\n",
      " |      as well as documented private attributes):\n",
      " |      \n",
      " |      .. autoattribute:: numpy.core._internal._ctypes.data\n",
      " |          :noindex:\n",
      " |      \n",
      " |      .. autoattribute:: numpy.core._internal._ctypes.shape\n",
      " |          :noindex:\n",
      " |      \n",
      " |      .. autoattribute:: numpy.core._internal._ctypes.strides\n",
      " |          :noindex:\n",
      " |      \n",
      " |      .. automethod:: numpy.core._internal._ctypes.data_as\n",
      " |          :noindex:\n",
      " |      \n",
      " |      .. automethod:: numpy.core._internal._ctypes.shape_as\n",
      " |          :noindex:\n",
      " |      \n",
      " |      .. automethod:: numpy.core._internal._ctypes.strides_as\n",
      " |          :noindex:\n",
      " |      \n",
      " |      If the ctypes module is not available, then the ctypes attribute\n",
      " |      of array objects still returns something useful, but ctypes objects\n",
      " |      are not returned and errors may be raised instead. In particular,\n",
      " |      the object will still have the ``as_parameter`` attribute which will\n",
      " |      return an integer equal to the data attribute.\n",
      " |      \n",
      " |      Examples\n",
      " |      --------\n",
      " |      >>> import ctypes\n",
      " |      >>> x = np.array([[0, 1], [2, 3]], dtype=np.int32)\n",
      " |      >>> x\n",
      " |      array([[0, 1],\n",
      " |             [2, 3]], dtype=int32)\n",
      " |      >>> x.ctypes.data\n",
      " |      31962608 # may vary\n",
      " |      >>> x.ctypes.data_as(ctypes.POINTER(ctypes.c_uint32))\n",
      " |      <__main__.LP_c_uint object at 0x7ff2fc1fc200> # may vary\n",
      " |      >>> x.ctypes.data_as(ctypes.POINTER(ctypes.c_uint32)).contents\n",
      " |      c_uint(0)\n",
      " |      >>> x.ctypes.data_as(ctypes.POINTER(ctypes.c_uint64)).contents\n",
      " |      c_ulong(4294967296)\n",
      " |      >>> x.ctypes.shape\n",
      " |      <numpy.core._internal.c_long_Array_2 object at 0x7ff2fc1fce60> # may vary\n",
      " |      >>> x.ctypes.strides\n",
      " |      <numpy.core._internal.c_long_Array_2 object at 0x7ff2fc1ff320> # may vary\n",
      " |  \n",
      " |  data\n",
      " |      Python buffer object pointing to the start of the array's data.\n",
      " |  \n",
      " |  dtype\n",
      " |      Data-type of the array's elements.\n",
      " |      \n",
      " |      Parameters\n",
      " |      ----------\n",
      " |      None\n",
      " |      \n",
      " |      Returns\n",
      " |      -------\n",
      " |      d : numpy dtype object\n",
      " |      \n",
      " |      See Also\n",
      " |      --------\n",
      " |      numpy.dtype\n",
      " |      \n",
      " |      Examples\n",
      " |      --------\n",
      " |      >>> x\n",
      " |      array([[0, 1],\n",
      " |             [2, 3]])\n",
      " |      >>> x.dtype\n",
      " |      dtype('int32')\n",
      " |      >>> type(x.dtype)\n",
      " |      <type 'numpy.dtype'>\n",
      " |  \n",
      " |  flags\n",
      " |      Information about the memory layout of the array.\n",
      " |      \n",
      " |      Attributes\n",
      " |      ----------\n",
      " |      C_CONTIGUOUS (C)\n",
      " |          The data is in a single, C-style contiguous segment.\n",
      " |      F_CONTIGUOUS (F)\n",
      " |          The data is in a single, Fortran-style contiguous segment.\n",
      " |      OWNDATA (O)\n",
      " |          The array owns the memory it uses or borrows it from another object.\n",
      " |      WRITEABLE (W)\n",
      " |          The data area can be written to.  Setting this to False locks\n",
      " |          the data, making it read-only.  A view (slice, etc.) inherits WRITEABLE\n",
      " |          from its base array at creation time, but a view of a writeable\n",
      " |          array may be subsequently locked while the base array remains writeable.\n",
      " |          (The opposite is not true, in that a view of a locked array may not\n",
      " |          be made writeable.  However, currently, locking a base object does not\n",
      " |          lock any views that already reference it, so under that circumstance it\n",
      " |          is possible to alter the contents of a locked array via a previously\n",
      " |          created writeable view onto it.)  Attempting to change a non-writeable\n",
      " |          array raises a RuntimeError exception.\n",
      " |      ALIGNED (A)\n",
      " |          The data and all elements are aligned appropriately for the hardware.\n",
      " |      WRITEBACKIFCOPY (X)\n",
      " |          This array is a copy of some other array. The C-API function\n",
      " |          PyArray_ResolveWritebackIfCopy must be called before deallocating\n",
      " |          to the base array will be updated with the contents of this array.\n",
      " |      UPDATEIFCOPY (U)\n",
      " |          (Deprecated, use WRITEBACKIFCOPY) This array is a copy of some other array.\n",
      " |          When this array is\n",
      " |          deallocated, the base array will be updated with the contents of\n",
      " |          this array.\n",
      " |      FNC\n",
      " |          F_CONTIGUOUS and not C_CONTIGUOUS.\n",
      " |      FORC\n",
      " |          F_CONTIGUOUS or C_CONTIGUOUS (one-segment test).\n",
      " |      BEHAVED (B)\n",
      " |          ALIGNED and WRITEABLE.\n",
      " |      CARRAY (CA)\n",
      " |          BEHAVED and C_CONTIGUOUS.\n",
      " |      FARRAY (FA)\n",
      " |          BEHAVED and F_CONTIGUOUS and not C_CONTIGUOUS.\n",
      " |      \n",
      " |      Notes\n",
      " |      -----\n",
      " |      The `flags` object can be accessed dictionary-like (as in ``a.flags['WRITEABLE']``),\n",
      " |      or by using lowercased attribute names (as in ``a.flags.writeable``). Short flag\n",
      " |      names are only supported in dictionary access.\n",
      " |      \n",
      " |      Only the WRITEBACKIFCOPY, UPDATEIFCOPY, WRITEABLE, and ALIGNED flags can be\n",
      " |      changed by the user, via direct assignment to the attribute or dictionary\n",
      " |      entry, or by calling `ndarray.setflags`.\n",
      " |      \n",
      " |      The array flags cannot be set arbitrarily:\n",
      " |      \n",
      " |      - UPDATEIFCOPY can only be set ``False``.\n",
      " |      - WRITEBACKIFCOPY can only be set ``False``.\n",
      " |      - ALIGNED can only be set ``True`` if the data is truly aligned.\n",
      " |      - WRITEABLE can only be set ``True`` if the array owns its own memory\n",
      " |        or the ultimate owner of the memory exposes a writeable buffer\n",
      " |        interface or is a string.\n",
      " |      \n",
      " |      Arrays can be both C-style and Fortran-style contiguous simultaneously.\n",
      " |      This is clear for 1-dimensional arrays, but can also be true for higher\n",
      " |      dimensional arrays.\n",
      " |      \n",
      " |      Even for contiguous arrays a stride for a given dimension\n",
      " |      ``arr.strides[dim]`` may be *arbitrary* if ``arr.shape[dim] == 1``\n",
      " |      or the array has no elements.\n",
      " |      It does *not* generally hold that ``self.strides[-1] == self.itemsize``\n",
      " |      for C-style contiguous arrays or ``self.strides[0] == self.itemsize`` for\n",
      " |      Fortran-style contiguous arrays is true.\n",
      " |  \n",
      " |  flat\n",
      " |      A 1-D iterator over the array.\n",
      " |      \n",
      " |      This is a `numpy.flatiter` instance, which acts similarly to, but is not\n",
      " |      a subclass of, Python's built-in iterator object.\n",
      " |      \n",
      " |      See Also\n",
      " |      --------\n",
      " |      flatten : Return a copy of the array collapsed into one dimension.\n",
      " |      \n",
      " |      flatiter\n",
      " |      \n",
      " |      Examples\n",
      " |      --------\n",
      " |      >>> x = np.arange(1, 7).reshape(2, 3)\n",
      " |      >>> x\n",
      " |      array([[1, 2, 3],\n",
      " |             [4, 5, 6]])\n",
      " |      >>> x.flat[3]\n",
      " |      4\n",
      " |      >>> x.T\n",
      " |      array([[1, 4],\n",
      " |             [2, 5],\n",
      " |             [3, 6]])\n",
      " |      >>> x.T.flat[3]\n",
      " |      5\n",
      " |      >>> type(x.flat)\n",
      " |      <class 'numpy.flatiter'>\n",
      " |      \n",
      " |      An assignment example:\n",
      " |      \n",
      " |      >>> x.flat = 3; x\n",
      " |      array([[3, 3, 3],\n",
      " |             [3, 3, 3]])\n",
      " |      >>> x.flat[[1,4]] = 1; x\n",
      " |      array([[3, 1, 3],\n",
      " |             [3, 1, 3]])\n",
      " |  \n",
      " |  imag\n",
      " |      The imaginary part of the array.\n",
      " |      \n",
      " |      Examples\n",
      " |      --------\n",
      " |      >>> x = np.sqrt([1+0j, 0+1j])\n",
      " |      >>> x.imag\n",
      " |      array([ 0.        ,  0.70710678])\n",
      " |      >>> x.imag.dtype\n",
      " |      dtype('float64')\n",
      " |  \n",
      " |  itemsize\n",
      " |      Length of one array element in bytes.\n",
      " |      \n",
      " |      Examples\n",
      " |      --------\n",
      " |      >>> x = np.array([1,2,3], dtype=np.float64)\n",
      " |      >>> x.itemsize\n",
      " |      8\n",
      " |      >>> x = np.array([1,2,3], dtype=np.complex128)\n",
      " |      >>> x.itemsize\n",
      " |      16\n",
      " |  \n",
      " |  nbytes\n",
      " |      Total bytes consumed by the elements of the array.\n",
      " |      \n",
      " |      Notes\n",
      " |      -----\n",
      " |      Does not include memory consumed by non-element attributes of the\n",
      " |      array object.\n",
      " |      \n",
      " |      Examples\n",
      " |      --------\n",
      " |      >>> x = np.zeros((3,5,2), dtype=np.complex128)\n",
      " |      >>> x.nbytes\n",
      " |      480\n",
      " |      >>> np.prod(x.shape) * x.itemsize\n",
      " |      480\n",
      " |  \n",
      " |  ndim\n",
      " |      Number of array dimensions.\n",
      " |      \n",
      " |      Examples\n",
      " |      --------\n",
      " |      >>> x = np.array([1, 2, 3])\n",
      " |      >>> x.ndim\n",
      " |      1\n",
      " |      >>> y = np.zeros((2, 3, 4))\n",
      " |      >>> y.ndim\n",
      " |      3\n",
      " |  \n",
      " |  real\n",
      " |      The real part of the array.\n",
      " |      \n",
      " |      Examples\n",
      " |      --------\n",
      " |      >>> x = np.sqrt([1+0j, 0+1j])\n",
      " |      >>> x.real\n",
      " |      array([ 1.        ,  0.70710678])\n",
      " |      >>> x.real.dtype\n",
      " |      dtype('float64')\n",
      " |      \n",
      " |      See Also\n",
      " |      --------\n",
      " |      numpy.real : equivalent function\n",
      " |  \n",
      " |  shape\n",
      " |      Tuple of array dimensions.\n",
      " |      \n",
      " |      The shape property is usually used to get the current shape of an array,\n",
      " |      but may also be used to reshape the array in-place by assigning a tuple of\n",
      " |      array dimensions to it.  As with `numpy.reshape`, one of the new shape\n",
      " |      dimensions can be -1, in which case its value is inferred from the size of\n",
      " |      the array and the remaining dimensions. Reshaping an array in-place will\n",
      " |      fail if a copy is required.\n",
      " |      \n",
      " |      Examples\n",
      " |      --------\n",
      " |      >>> x = np.array([1, 2, 3, 4])\n",
      " |      >>> x.shape\n",
      " |      (4,)\n",
      " |      >>> y = np.zeros((2, 3, 4))\n",
      " |      >>> y.shape\n",
      " |      (2, 3, 4)\n",
      " |      >>> y.shape = (3, 8)\n",
      " |      >>> y\n",
      " |      array([[ 0.,  0.,  0.,  0.,  0.,  0.,  0.,  0.],\n",
      " |             [ 0.,  0.,  0.,  0.,  0.,  0.,  0.,  0.],\n",
      " |             [ 0.,  0.,  0.,  0.,  0.,  0.,  0.,  0.]])\n",
      " |      >>> y.shape = (3, 6)\n",
      " |      Traceback (most recent call last):\n",
      " |        File \"<stdin>\", line 1, in <module>\n",
      " |      ValueError: total size of new array must be unchanged\n",
      " |      >>> np.zeros((4,2))[::2].shape = (-1,)\n",
      " |      Traceback (most recent call last):\n",
      " |        File \"<stdin>\", line 1, in <module>\n",
      " |      AttributeError: Incompatible shape for in-place modification. Use\n",
      " |      `.reshape()` to make a copy with the desired shape.\n",
      " |      \n",
      " |      See Also\n",
      " |      --------\n",
      " |      numpy.reshape : similar function\n",
      " |      ndarray.reshape : similar method\n",
      " |  \n",
      " |  size\n",
      " |      Number of elements in the array.\n",
      " |      \n",
      " |      Equal to ``np.prod(a.shape)``, i.e., the product of the array's\n",
      " |      dimensions.\n",
      " |      \n",
      " |      Notes\n",
      " |      -----\n",
      " |      `a.size` returns a standard arbitrary precision Python integer. This\n",
      " |      may not be the case with other methods of obtaining the same value\n",
      " |      (like the suggested ``np.prod(a.shape)``, which returns an instance\n",
      " |      of ``np.int_``), and may be relevant if the value is used further in\n",
      " |      calculations that may overflow a fixed size integer type.\n",
      " |      \n",
      " |      Examples\n",
      " |      --------\n",
      " |      >>> x = np.zeros((3, 5, 2), dtype=np.complex128)\n",
      " |      >>> x.size\n",
      " |      30\n",
      " |      >>> np.prod(x.shape)\n",
      " |      30\n",
      " |  \n",
      " |  strides\n",
      " |      Tuple of bytes to step in each dimension when traversing an array.\n",
      " |      \n",
      " |      The byte offset of element ``(i[0], i[1], ..., i[n])`` in an array `a`\n",
      " |      is::\n",
      " |      \n",
      " |          offset = sum(np.array(i) * a.strides)\n",
      " |      \n",
      " |      A more detailed explanation of strides can be found in the\n",
      " |      \"ndarray.rst\" file in the NumPy reference guide.\n",
      " |      \n",
      " |      Notes\n",
      " |      -----\n",
      " |      Imagine an array of 32-bit integers (each 4 bytes)::\n",
      " |      \n",
      " |        x = np.array([[0, 1, 2, 3, 4],\n",
      " |                      [5, 6, 7, 8, 9]], dtype=np.int32)\n",
      " |      \n",
      " |      This array is stored in memory as 40 bytes, one after the other\n",
      " |      (known as a contiguous block of memory).  The strides of an array tell\n",
      " |      us how many bytes we have to skip in memory to move to the next position\n",
      " |      along a certain axis.  For example, we have to skip 4 bytes (1 value) to\n",
      " |      move to the next column, but 20 bytes (5 values) to get to the same\n",
      " |      position in the next row.  As such, the strides for the array `x` will be\n",
      " |      ``(20, 4)``.\n",
      " |      \n",
      " |      See Also\n",
      " |      --------\n",
      " |      numpy.lib.stride_tricks.as_strided\n",
      " |      \n",
      " |      Examples\n",
      " |      --------\n",
      " |      >>> y = np.reshape(np.arange(2*3*4), (2,3,4))\n",
      " |      >>> y\n",
      " |      array([[[ 0,  1,  2,  3],\n",
      " |              [ 4,  5,  6,  7],\n",
      " |              [ 8,  9, 10, 11]],\n",
      " |             [[12, 13, 14, 15],\n",
      " |              [16, 17, 18, 19],\n",
      " |              [20, 21, 22, 23]]])\n",
      " |      >>> y.strides\n",
      " |      (48, 16, 4)\n",
      " |      >>> y[1,1,1]\n",
      " |      17\n",
      " |      >>> offset=sum(y.strides * np.array((1,1,1)))\n",
      " |      >>> offset/y.itemsize\n",
      " |      17\n",
      " |      \n",
      " |      >>> x = np.reshape(np.arange(5*6*7*8), (5,6,7,8)).transpose(2,3,1,0)\n",
      " |      >>> x.strides\n",
      " |      (32, 4, 224, 1344)\n",
      " |      >>> i = np.array([3,5,2,2])\n",
      " |      >>> offset = sum(i * x.strides)\n",
      " |      >>> x[3,5,2,2]\n",
      " |      813\n",
      " |      >>> offset / x.itemsize\n",
      " |      813\n",
      " |  \n",
      " |  ----------------------------------------------------------------------\n",
      " |  Data and other attributes defined here:\n",
      " |  \n",
      " |  __hash__ = None\n",
      "\n"
     ]
    }
   ],
   "source": [
    "# Okay, just tell me everything there is to know about numpy.ndarray\n",
    "# (Click the \"output\" button to see the novel-length output)\n",
    "help(rolls)"
   ]
  },
  {
   "cell_type": "markdown",
   "id": "872d2c26",
   "metadata": {
    "papermill": {
     "duration": 0.014207,
     "end_time": "2023-04-21T13:38:19.420438",
     "exception": false,
     "start_time": "2023-04-21T13:38:19.406231",
     "status": "completed"
    },
    "tags": []
   },
   "source": [
    "(Elbette, [çevrimiçi belgelere](https://docs.scipy.org/doc/numpy-1.14.0/reference/generated/numpy.ndarray.html) de göz atmayı tercih edebilirsiniz .)"
   ]
  },
  {
   "cell_type": "markdown",
   "id": "d6386d24",
   "metadata": {
    "papermill": {
     "duration": 0.0144,
     "end_time": "2023-04-21T13:38:19.449806",
     "exception": false,
     "start_time": "2023-04-21T13:38:19.435406",
     "status": "completed"
    },
    "tags": []
   },
   "source": [
    "### Operatör aşırı yüklemesi\n",
    "\n",
    "Aşağıdaki ifadenin değeri nedir?"
   ]
  },
  {
   "cell_type": "code",
   "execution_count": 20,
   "id": "ad802688",
   "metadata": {
    "execution": {
     "iopub.execute_input": "2023-04-21T13:38:19.482221Z",
     "iopub.status.busy": "2023-04-21T13:38:19.481315Z",
     "iopub.status.idle": "2023-04-21T13:38:19.499637Z",
     "shell.execute_reply": "2023-04-21T13:38:19.498349Z"
    },
    "papermill": {
     "duration": 0.037846,
     "end_time": "2023-04-21T13:38:19.502419",
     "exception": false,
     "start_time": "2023-04-21T13:38:19.464573",
     "status": "completed"
    },
    "tags": [
     "raises-exception"
    ]
   },
   "outputs": [
    {
     "ename": "TypeError",
     "evalue": "can only concatenate list (not \"int\") to list",
     "output_type": "error",
     "traceback": [
      "\u001b[0;31m---------------------------------------------------------------------------\u001b[0m",
      "\u001b[0;31mTypeError\u001b[0m                                 Traceback (most recent call last)",
      "\u001b[0;32m/tmp/ipykernel_19/2144087748.py\u001b[0m in \u001b[0;36m<module>\u001b[0;34m\u001b[0m\n\u001b[0;32m----> 1\u001b[0;31m \u001b[0;34m[\u001b[0m\u001b[0;36m3\u001b[0m\u001b[0;34m,\u001b[0m \u001b[0;36m4\u001b[0m\u001b[0;34m,\u001b[0m \u001b[0;36m1\u001b[0m\u001b[0;34m,\u001b[0m \u001b[0;36m2\u001b[0m\u001b[0;34m,\u001b[0m \u001b[0;36m2\u001b[0m\u001b[0;34m,\u001b[0m \u001b[0;36m1\u001b[0m\u001b[0;34m]\u001b[0m \u001b[0;34m+\u001b[0m \u001b[0;36m10\u001b[0m\u001b[0;34m\u001b[0m\u001b[0;34m\u001b[0m\u001b[0m\n\u001b[0m",
      "\u001b[0;31mTypeError\u001b[0m: can only concatenate list (not \"int\") to list"
     ]
    }
   ],
   "source": [
    "[3, 4, 1, 2, 2, 1] + 10"
   ]
  },
  {
   "cell_type": "markdown",
   "id": "8c7273b7",
   "metadata": {
    "papermill": {
     "duration": 0.014553,
     "end_time": "2023-04-21T13:38:19.532533",
     "exception": false,
     "start_time": "2023-04-21T13:38:19.517980",
     "status": "completed"
    },
    "tags": []
   },
   "source": [
    "Ne aptalca bir soru. Tabii ki bu bir hata.\n",
    "\n",
    "Ama ya..."
   ]
  },
  {
   "cell_type": "code",
   "execution_count": 21,
   "id": "74c894ce",
   "metadata": {
    "execution": {
     "iopub.execute_input": "2023-04-21T13:38:19.567807Z",
     "iopub.status.busy": "2023-04-21T13:38:19.566187Z",
     "iopub.status.idle": "2023-04-21T13:38:19.575568Z",
     "shell.execute_reply": "2023-04-21T13:38:19.573972Z"
    },
    "papermill": {
     "duration": 0.029588,
     "end_time": "2023-04-21T13:38:19.578463",
     "exception": false,
     "start_time": "2023-04-21T13:38:19.548875",
     "status": "completed"
    },
    "tags": []
   },
   "outputs": [
    {
     "data": {
      "text/plain": [
       "array([13, 14, 13, 14, 15, 15, 12, 11, 13, 13])"
      ]
     },
     "execution_count": 21,
     "metadata": {},
     "output_type": "execute_result"
    }
   ],
   "source": [
    "rolls + 10"
   ]
  },
  {
   "cell_type": "markdown",
   "id": "e54a6142",
   "metadata": {
    "papermill": {
     "duration": 0.015164,
     "end_time": "2023-04-21T13:38:19.608738",
     "exception": false,
     "start_time": "2023-04-21T13:38:19.593574",
     "status": "completed"
    },
    "tags": []
   },
   "source": [
    "Python'un temel sözdiziminin `+`, `<`, `in`, `==` gibi temel sözdizimi parçalarının nasıl davrandığını veya indeksleme ve dilimleme için köşeli ayraçları kesinlikle denetlediğini düşünebiliriz. Ama aslında, çok hands-off bir yaklaşım gerektiriyor. Yeni bir tür tanımladığınızda, toplamanın onun için nasıl çalıştığını veya bu tür bir nesnenin başka bir şeye eşit olmasının ne anlama geldiğini seçebilirsiniz.\n",
    "\n",
    "Liste tasarımcıları, onları sayılara eklemeye izin verilmediğine karar verdi. `numpy` dizilerinin tasarımcıları farklı bir yoldan gitti (dizinin her bir öğesine sayı ekleyerek).\n",
    "\n",
    "İşte `numpy` dizilerinin Python operatörleriyle (veya en azından listelerden farklı olarak) beklenmedik bir şekilde nasıl etkileşime girdiğine dair birkaç örnek daha."
   ]
  },
  {
   "cell_type": "code",
   "execution_count": 22,
   "id": "5ccdbfd9",
   "metadata": {
    "execution": {
     "iopub.execute_input": "2023-04-21T13:38:19.641529Z",
     "iopub.status.busy": "2023-04-21T13:38:19.641124Z",
     "iopub.status.idle": "2023-04-21T13:38:19.648674Z",
     "shell.execute_reply": "2023-04-21T13:38:19.647605Z"
    },
    "papermill": {
     "duration": 0.027065,
     "end_time": "2023-04-21T13:38:19.651285",
     "exception": false,
     "start_time": "2023-04-21T13:38:19.624220",
     "status": "completed"
    },
    "tags": []
   },
   "outputs": [
    {
     "data": {
      "text/plain": [
       "array([ True, False,  True, False, False, False,  True,  True,  True,\n",
       "        True])"
      ]
     },
     "execution_count": 22,
     "metadata": {},
     "output_type": "execute_result"
    }
   ],
   "source": [
    "# At which indices are the dice less than or equal to 3?\n",
    "rolls <= 3"
   ]
  },
  {
   "cell_type": "code",
   "execution_count": 23,
   "id": "679242b3",
   "metadata": {
    "execution": {
     "iopub.execute_input": "2023-04-21T13:38:19.684551Z",
     "iopub.status.busy": "2023-04-21T13:38:19.684079Z",
     "iopub.status.idle": "2023-04-21T13:38:19.692737Z",
     "shell.execute_reply": "2023-04-21T13:38:19.690632Z"
    },
    "papermill": {
     "duration": 0.028426,
     "end_time": "2023-04-21T13:38:19.695354",
     "exception": false,
     "start_time": "2023-04-21T13:38:19.666928",
     "status": "completed"
    },
    "tags": []
   },
   "outputs": [
    {
     "name": "stdout",
     "output_type": "stream",
     "text": [
      "xlist = [[1, 2, 3], [2, 4, 6]]\n",
      "x =\n",
      "[[1 2 3]\n",
      " [2 4 6]]\n"
     ]
    }
   ],
   "source": [
    "xlist = [[1,2,3],[2,4,6],]\n",
    "# Create a 2-dimensional array\n",
    "x = numpy.asarray(xlist)\n",
    "print(\"xlist = {}\\nx =\\n{}\".format(xlist, x))"
   ]
  },
  {
   "cell_type": "code",
   "execution_count": 24,
   "id": "cdce1479",
   "metadata": {
    "execution": {
     "iopub.execute_input": "2023-04-21T13:38:19.728503Z",
     "iopub.status.busy": "2023-04-21T13:38:19.728001Z",
     "iopub.status.idle": "2023-04-21T13:38:19.737519Z",
     "shell.execute_reply": "2023-04-21T13:38:19.736036Z"
    },
    "papermill": {
     "duration": 0.030177,
     "end_time": "2023-04-21T13:38:19.740685",
     "exception": false,
     "start_time": "2023-04-21T13:38:19.710508",
     "status": "completed"
    },
    "tags": []
   },
   "outputs": [
    {
     "data": {
      "text/plain": [
       "6"
      ]
     },
     "execution_count": 24,
     "metadata": {},
     "output_type": "execute_result"
    }
   ],
   "source": [
    "# Get the last element of the second row of our numpy array\n",
    "x[1,-1]"
   ]
  },
  {
   "cell_type": "code",
   "execution_count": 25,
   "id": "00c64478",
   "metadata": {
    "execution": {
     "iopub.execute_input": "2023-04-21T13:38:19.774335Z",
     "iopub.status.busy": "2023-04-21T13:38:19.773879Z",
     "iopub.status.idle": "2023-04-21T13:38:19.792755Z",
     "shell.execute_reply": "2023-04-21T13:38:19.790953Z"
    },
    "papermill": {
     "duration": 0.039397,
     "end_time": "2023-04-21T13:38:19.795796",
     "exception": false,
     "start_time": "2023-04-21T13:38:19.756399",
     "status": "completed"
    },
    "tags": [
     "raises-exception"
    ]
   },
   "outputs": [
    {
     "ename": "TypeError",
     "evalue": "list indices must be integers or slices, not tuple",
     "output_type": "error",
     "traceback": [
      "\u001b[0;31m---------------------------------------------------------------------------\u001b[0m",
      "\u001b[0;31mTypeError\u001b[0m                                 Traceback (most recent call last)",
      "\u001b[0;32m/tmp/ipykernel_19/3020169379.py\u001b[0m in \u001b[0;36m<module>\u001b[0;34m\u001b[0m\n\u001b[1;32m      1\u001b[0m \u001b[0;31m# Get the last element of the second sublist of our nested list?\u001b[0m\u001b[0;34m\u001b[0m\u001b[0;34m\u001b[0m\u001b[0;34m\u001b[0m\u001b[0m\n\u001b[0;32m----> 2\u001b[0;31m \u001b[0mxlist\u001b[0m\u001b[0;34m[\u001b[0m\u001b[0;36m1\u001b[0m\u001b[0;34m,\u001b[0m\u001b[0;34m-\u001b[0m\u001b[0;36m1\u001b[0m\u001b[0;34m]\u001b[0m\u001b[0;34m\u001b[0m\u001b[0;34m\u001b[0m\u001b[0m\n\u001b[0m",
      "\u001b[0;31mTypeError\u001b[0m: list indices must be integers or slices, not tuple"
     ]
    }
   ],
   "source": [
    "# Get the last element of the second sublist of our nested list?\n",
    "xlist[1,-1]"
   ]
  },
  {
   "cell_type": "markdown",
   "id": "4652fb95",
   "metadata": {
    "papermill": {
     "duration": 0.016121,
     "end_time": "2023-04-21T13:38:19.828477",
     "exception": false,
     "start_time": "2023-04-21T13:38:19.812356",
     "status": "completed"
    },
    "tags": []
   },
   "source": [
    "Numpy'nin `ndarray` türü çok boyutlu verilerle çalışmak için uzmanlaşmıştır, bu nedenle indeksleme için kendi mantığını tanımlar ve her boyuttaki indeksi belirtmek için bir demet ile dizine eklememize olanak tanır.\n",
    "\n",
    "### 1 + 1 ne zaman 2'ye eşit değil?\n",
    "\n",
    "İşler bundan daha tuhaf olabilir. Popüler olarak derin öğrenme için kullanılan bir Python kitaplığı olan tensorflow'u duymuş (hatta kullanmış) olabilirsiniz. Operatör aşırı yüklemesini kapsamlı bir şekilde kullanır."
   ]
  },
  {
   "cell_type": "code",
   "execution_count": 26,
   "id": "bfd68318",
   "metadata": {
    "execution": {
     "iopub.execute_input": "2023-04-21T13:38:19.862586Z",
     "iopub.status.busy": "2023-04-21T13:38:19.862152Z",
     "iopub.status.idle": "2023-04-21T13:38:30.163367Z",
     "shell.execute_reply": "2023-04-21T13:38:30.161964Z"
    },
    "papermill": {
     "duration": 10.321273,
     "end_time": "2023-04-21T13:38:30.165933",
     "exception": false,
     "start_time": "2023-04-21T13:38:19.844660",
     "status": "completed"
    },
    "tags": []
   },
   "outputs": [
    {
     "data": {
      "text/plain": [
       "<tf.Tensor: shape=(), dtype=int32, numpy=2>"
      ]
     },
     "execution_count": 26,
     "metadata": {},
     "output_type": "execute_result"
    }
   ],
   "source": [
    "import tensorflow as tf\n",
    "# Create two constants, each with value 1\n",
    "a = tf.constant(1)\n",
    "b = tf.constant(1)\n",
    "# Add them together to get...\n",
    "a + b"
   ]
  },
  {
   "cell_type": "markdown",
   "id": "891d441b",
   "metadata": {
    "papermill": {
     "duration": 0.015379,
     "end_time": "2023-04-21T13:38:30.196940",
     "exception": false,
     "start_time": "2023-04-21T13:38:30.181561",
     "status": "completed"
    },
    "tags": []
   },
   "source": [
    "`a + b` 2 değil, öyle (tensorflow'un belgelerinden alıntı yapmak gerekirse)...\n",
    "\n",
    "> bir `Operasyon` çıktılarından birine sembolik bir tanıtıcı. Bu işlemin çıktısının değerlerini tutmaz, bunun yerine bu değerleri bir TensorFlow `tf.Session`da hesaplamanın bir yolunu sağlar."
   ]
  },
  {
   "cell_type": "markdown",
   "id": "3683a8b3",
   "metadata": {
    "papermill": {
     "duration": 0.015062,
     "end_time": "2023-04-21T13:38:30.227370",
     "exception": false,
     "start_time": "2023-04-21T13:38:30.212308",
     "status": "completed"
    },
    "tags": []
   },
   "source": [
    "Bu tür şeylerin mümkün olduğunun ve kütüphanelerin genellikle operatör aşırı yüklemesini -bariz olmayan veya sihirli-görünen şekillerde kullanacağının farkında olmak önemlidir.\n",
    "\n",
    "Python'un operatörlerinin ints, dizelere ve listelere uygulandığında nasıl çalıştığını anlamak, bir tensorflow `Tensor`a veya bir numpy `ndarray` veya bir pandas `DataFrame`e uygulandığında ne yaptıklarını hemen anlayabileceğinizin garantisi değildir.\n",
    "\n",
    "Örneğin, DataFrames'i biraz tattıktan sonra, aşağıdaki gibi bir ifade çekici bir şekilde sezgisel görünmeye başlar:\n",
    "\n",
    "```python\n",
    "# Get the rows with population over 1m in South America\n",
    "df[(df['population'] > 10**6) & (df['continent'] == 'South America')]\n",
    "```\n",
    "\n",
    "Ama neden işe yarıyor? Yukarıdaki örnekte **5** farklı aşırı yüklenmiş operatörler gibi bir şey var. Bu operasyonların her biri ne yapıyor? İşler ters gitmeye başladığında cevabı bilmek yardımcı olabilir."
   ]
  },
  {
   "cell_type": "markdown",
   "id": "dd83af20",
   "metadata": {
    "papermill": {
     "duration": 0.015485,
     "end_time": "2023-04-21T13:38:30.258236",
     "exception": false,
     "start_time": "2023-04-21T13:38:30.242751",
     "status": "completed"
    },
    "tags": []
   },
   "source": [
    "#### Hepsinin nasıl çalıştığını merak ediyor musunuz?\n",
    "\n",
    "Hiç bir nesnede `help()` veya `dir()` çağırdınız ve double-underscores ile tüm bu isimlerin ne olduğunu merak ettiniz mi?"
   ]
  },
  {
   "cell_type": "code",
   "execution_count": 27,
   "id": "982fe4ac",
   "metadata": {
    "execution": {
     "iopub.execute_input": "2023-04-21T13:38:30.291985Z",
     "iopub.status.busy": "2023-04-21T13:38:30.291110Z",
     "iopub.status.idle": "2023-04-21T13:38:30.298643Z",
     "shell.execute_reply": "2023-04-21T13:38:30.297190Z"
    },
    "papermill": {
     "duration": 0.02781,
     "end_time": "2023-04-21T13:38:30.301496",
     "exception": false,
     "start_time": "2023-04-21T13:38:30.273686",
     "status": "completed"
    },
    "tags": []
   },
   "outputs": [
    {
     "name": "stdout",
     "output_type": "stream",
     "text": [
      "['__add__', '__class__', '__contains__', '__delattr__', '__delitem__', '__dir__', '__doc__', '__eq__', '__format__', '__ge__', '__getattribute__', '__getitem__', '__gt__', '__hash__', '__iadd__', '__imul__', '__init__', '__init_subclass__', '__iter__', '__le__', '__len__', '__lt__', '__mul__', '__ne__', '__new__', '__reduce__', '__reduce_ex__', '__repr__', '__reversed__', '__rmul__', '__setattr__', '__setitem__', '__sizeof__', '__str__', '__subclasshook__', 'append', 'clear', 'copy', 'count', 'extend', 'index', 'insert', 'pop', 'remove', 'reverse', 'sort']\n"
     ]
    }
   ],
   "source": [
    "print(dir(list))"
   ]
  },
  {
   "cell_type": "markdown",
   "id": "98ca01aa",
   "metadata": {
    "papermill": {
     "duration": 0.015406,
     "end_time": "2023-04-21T13:38:30.332789",
     "exception": false,
     "start_time": "2023-04-21T13:38:30.317383",
     "status": "completed"
    },
    "tags": []
   },
   "source": [
    "Bunun doğrudan operatör aşırı yüklemesi ile ilgili olduğu ortaya çıkıyor.\n",
    "\n",
    "Python programcıları, operatörlerin türleri üzerinde nasıl davrandığını tanımlamak istediklerinde, bunu `__lt__`, `__setattr__` veya `__contains___ gibi 2 alt çizgi ile başlayan ve biten özel adlara sahip yöntemler uygulayarak yaparlar. Genel olarak, bu double-underscore formatını takip eden isimlerin Python için özel bir anlamı vardır.\n",
    "\n",
    "Örneğin, `x in [1, 2, 3]` ifadesi aslında `__contains__` behind-the-scenes liste yöntemini çağırıyor. (Çok daha çirkin) `[1, 2, 3].__contains__(x)` ile eşdeğerdir.\n",
    "\n",
    "Daha fazla bilgi edinmek istiyorsanız, [Python'un resmi belgelerine](https://docs.python.org/3.4/reference/datamodel.html#special-method-names) göz atabilirsiniz, bu da bu özel \"alt çizgi\" yöntemlerinden çok daha fazlasını tanımlar.\n",
    "\n",
    "Bu derslerde kendi türlerimizi tanımlamayacağız (sadece zaman olsaydı!), ama umarım daha sonra kendi harika, garip türlerinizi tanımlamanın zevklerini yaşarsınız."
   ]
  },
  {
   "cell_type": "markdown",
   "id": "32d59c1f",
   "metadata": {
    "papermill": {
     "duration": 0.015309,
     "end_time": "2023-04-21T13:38:30.363647",
     "exception": false,
     "start_time": "2023-04-21T13:38:30.348338",
     "status": "completed"
    },
    "tags": []
   },
   "source": [
    "# Senin sıran!\n",
    "\n",
    "İthalat, alışılmadık nesnelerle çalışma ve tabii ki daha fazla kumar içeren bir tur kodlama sorusu için **[son kodlama alıştırması](https://www.kaggle.com/kernels/fork/1275190)** adresine gidin."
   ]
  },
  {
   "cell_type": "markdown",
   "id": "6b880ca3",
   "metadata": {
    "papermill": {
     "duration": 0.015277,
     "end_time": "2023-04-21T13:38:30.394794",
     "exception": false,
     "start_time": "2023-04-21T13:38:30.379517",
     "status": "completed"
    },
    "tags": []
   },
   "source": [
    "---"
   ]
  }
 ],
 "metadata": {
  "anaconda-cloud": {},
  "celltoolbar": "Edit Metadata",
  "kernelspec": {
   "display_name": "Python 3 (ipykernel)",
   "language": "python",
   "name": "python3"
  },
  "language_info": {
   "codemirror_mode": {
    "name": "ipython",
    "version": 3
   },
   "file_extension": ".py",
   "mimetype": "text/x-python",
   "name": "python",
   "nbconvert_exporter": "python",
   "pygments_lexer": "ipython3",
   "version": "3.11.0"
  },
  "learntools_metadata": {
   "lesson_index": 0,
   "type": "tutorial"
  },
  "papermill": {
   "default_parameters": {},
   "duration": 13.20834,
   "end_time": "2023-04-21T13:38:08.269547",
   "environment_variables": {},
   "exception": null,
   "input_path": "__notebook__.ipynb",
   "output_path": "__notebook__.ipynb",
   "parameters": {},
   "start_time": "2023-04-21T13:37:55.061207",
   "version": "2.4.0"
  }
 },
 "nbformat": 4,
 "nbformat_minor": 5
}
